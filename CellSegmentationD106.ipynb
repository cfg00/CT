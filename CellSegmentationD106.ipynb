{
 "cells": [
  {
   "cell_type": "markdown",
   "id": "b244f367-462b-47b4-90f4-9d1f3e567a47",
   "metadata": {},
   "source": [
    "# D106 baby brain\n"
   ]
  },
  {
   "cell_type": "markdown",
   "id": "f05344cc-c897-4ce0-b1b7-f794af6f8488",
   "metadata": {},
   "source": [
    " This notebook contains the code used for running the single color cy5 cell segmentation, using DAPI staining. \n",
    "\n",
    " * path: \\\\merfish8\\merfish8v2\\20230805_D103_Myh67_d80KO\\DNA_singleCy5\\H1_R1\\\\*zarr\n",
    " * microscope: Lemon\n",
    " * Experiment: Myh 6/7 D103\n"
   ]
  },
  {
   "cell_type": "markdown",
   "id": "759b5427-cf3d-4fa7-b8f7-547bf8f0c8f9",
   "metadata": {},
   "source": [
    "# Get the files associated with the experiment\n",
    "\n",
    " define a segmentation folder, max_image, etc by refering to CellSegmentationClean.ipynb"
   ]
  },
  {
   "cell_type": "code",
   "execution_count": 4,
   "id": "ba1e3377-89bc-4cf0-b7ea-5c5c832acdf6",
   "metadata": {},
   "outputs": [
    {
     "name": "stdout",
     "output_type": "stream",
     "text": [
      "total FOVs: 200\n"
     ]
    }
   ],
   "source": [
    "import glob\n",
    "import sys\n",
    "sys.path.append(r'../')\n",
    "from ioMicro import *\n",
    "path = r'\\\\merfish9.ucsd.edu\\volume1\\20230908_D106Luo\\DNA\\H1_B1_2_3\\*zarr'\n",
    "files = np.sort(glob.glob(path))[926:1126]\n",
    "print(f\"total FOVs: {len(files)}\")"
   ]
  },
  {
   "cell_type": "code",
   "execution_count": 6,
   "id": "a7c51cf9-5e50-45f5-a65d-d8de142c2d5b",
   "metadata": {},
   "outputs": [],
   "source": [
    "#files"
   ]
  },
  {
   "cell_type": "markdown",
   "id": "56e0aa9e-43d0-4f8b-a8f7-5cbdb8a9c3df",
   "metadata": {},
   "source": [
    "getting the folders here:"
   ]
  },
  {
   "cell_type": "code",
   "execution_count": 7,
   "id": "584dbfd8-07b3-4090-9cf8-3e06323bad49",
   "metadata": {},
   "outputs": [],
   "source": [
    "import os\n",
    "#\\\\merfish8\\merfish8v2\\20230801D104Myh67d80\\DNA_singleCy5\\AnalysisDeconvolveCG\\SegmentationDAPI_CG\n",
    "analysis_folder =r'\\\\merfish9.ucsd.edu\\volume1\\20230908_D106Luo\\DNA\\AnalysisDeconvolveCG'\n",
    "segm_folder = analysis_folder + os.sep + \"SegmentationDAPI_CG\"\n"
   ]
  },
  {
   "cell_type": "code",
   "execution_count": 8,
   "id": "fc5574c9-8060-4454-9191-438e66a8795d",
   "metadata": {},
   "outputs": [
    {
     "data": {
      "text/plain": [
       "Viewer(axes=Axes(visible=False, labels=True, colored=True, dashed=False, arrows=True), camera=Camera(center=(0.0, 54.5, 54.5), zoom=4.059090909090909, angles=(0.0, 0.0, 90.0), perspective=0.0, interactive=True), cursor=Cursor(position=(10.0, 1.0, 0.0), scaled=True, size=1, style=<CursorStyle.STANDARD: 'standard'>), dims=Dims(ndim=3, ndisplay=2, last_used=0, range=((0.0, 20.0, 1.0), (0.0, 110.0, 1.0), (0.0, 110.0, 1.0)), current_step=(10, 55, 55), order=(0, 1, 2), axis_labels=('0', '1', '2')), grid=GridCanvas(stride=1, shape=(-1, -1), enabled=False), layers=[<Image layer 'psf' at 0x21f29330400>], scale_bar=ScaleBar(visible=False, colored=False, color=array([1., 0., 1., 1.], dtype=float32), ticks=True, position=<Position.BOTTOM_RIGHT: 'bottom_right'>, font_size=10.0, box=False, box_color=array([0. , 0. , 0. , 0.6], dtype=float32), unit=None), text_overlay=TextOverlay(visible=False, color=array([0.5, 0.5, 0.5, 1. ], dtype=float32), font_size=10.0, position=<TextOverlayPosition.TOP_LEFT: 'top_left'>, text=''), overlays=Overlays(interaction_box=InteractionBox(points=None, show=False, show_handle=False, show_vertices=False, selection_box_drag=None, selection_box_final=None, transform_start=<napari.utils.transforms.transforms.Affine object at 0x0000021F1DEFE3D0>, transform_drag=<napari.utils.transforms.transforms.Affine object at 0x0000021F1DEFE430>, transform_final=<napari.utils.transforms.transforms.Affine object at 0x0000021F1DEFE490>, transform=<napari.utils.transforms.transforms.Affine object at 0x0000021F1DEFE4F0>, allow_new_selection=True, selected_vertex=None)), help='', status='Ready', tooltip=Tooltip(visible=False, text=''), theme='dark', title='napari', mouse_over_canvas=False, mouse_move_callbacks=[<function InteractionBoxMouseBindings.initialize_mouse_events.<locals>.mouse_move at 0x0000021F28C2E160>], mouse_drag_callbacks=[<function InteractionBoxMouseBindings.initialize_mouse_events.<locals>.mouse_drag at 0x0000021F28C18AF0>], mouse_double_click_callbacks=[], mouse_wheel_callbacks=[<function dims_scroll at 0x0000021F1DE43EE0>], _persisted_mouse_event={}, _mouse_drag_gen={}, _mouse_wheel_gen={}, keymap={'Shift': <function InteractionBoxMouseBindings.initialize_key_events.<locals>.hold_to_lock_aspect_ratio at 0x0000021F28C183A0>, 'Control-Shift-R': <function InteractionBoxMouseBindings._reset_active_layer_affine at 0x0000021F2852E4C0>, 'Control-Shift-A': <function InteractionBoxMouseBindings._transform_active_layer at 0x0000021F28889820>})"
      ]
     },
     "execution_count": 8,
     "metadata": {},
     "output_type": "execute_result"
    }
   ],
   "source": [
    "psf = np.load(r'D:\\Carlos\\Scripts/psfs/psf_647_Kiwi.npy')\n",
    "import napari\n",
    "napari.view_image(psf)"
   ]
  },
  {
   "cell_type": "code",
   "execution_count": null,
   "id": "b1eae8a1-8736-4aa3-abd4-5cb6ca3772bc",
   "metadata": {},
   "outputs": [],
   "source": []
  },
  {
   "cell_type": "code",
   "execution_count": 29,
   "id": "ef57f914-4010-4303-b036-017897427637",
   "metadata": {},
   "outputs": [],
   "source": [
    "def compute_mask(model,file,segm_folder,cell_diameter=20,psf = np.load(r'D:\\Carlos\\Scripts/psfs/psf_647_Kiwi.npy'),\n",
    "                 deconvolve=True,save=True,max_image = 10000,snorm=0,\n",
    "                 flat_field_fl = r'D:\\Carlos\\Scripts/flat_field/Kiwi__med_col_raw3.npz',redo=False):\n",
    "    if not os.path.exists(segm_folder): os.makedirs(segm_folder)\n",
    "    save_fl  = segm_folder+os.sep+os.path.basename(file).split('.')[0]+'--'+os.path.basename(os.path.dirname(file))+'--CYTO_segm.npz'\n",
    "    print(\"Working on : \" + save_fl)\n",
    "    masks,tensor,cast = None,None,None\n",
    "    if not os.path.exists(save_fl) or redo:\n",
    "        #load image\n",
    "        load = read_im(file)\n",
    "        #cast image\n",
    "        cast = np.array(load[-1],dtype=np.float32)#####mistake\n",
    "        ### Flat field correct\n",
    "        im_med = np.load(flat_field_fl)['im']\n",
    "        im_med = cv2.blur(im_med,(20,20))\n",
    "        cast = cast/im_med*np.median(im_med)\n",
    "        tensor = cast\n",
    "        if deconvolve:\n",
    "            #using psf and getting tensor\n",
    "            #tensor = full_deconv(cast,s_=500,pad=100,psf=psf,parameters={'method': 'lucy',  'niter': 30},gpu=True,force=False)\n",
    "            tensor = full_deconv(cast,s_=500,pad=100,psf=psf,parameters={'method': 'wiener',  'beta': 0.01},gpu=True,force=False)\n",
    "        if snorm>0:\n",
    "            tensor = norm_slice(cast,snorm)\n",
    "        #running the cellpose:\n",
    "        #step 4 is running the cell i was working with last week.\n",
    "        use_gpu = True\n",
    "        def blur(tensor,s=100):\n",
    "            return np.array([cv2.blur(im_,(s,s)) for im_ in tensor],dtype=np.float32)\n",
    "        from cellpose import models,io,utils\n",
    "        model = models.Cellpose(gpu=use_gpu, model_type=model)\n",
    "        #img = tensor[:,::4,::4]\n",
    "        #img = blur(tensor,2)[::4,::4,::4]\n",
    "        img = tensor[::4,::4,::4]\n",
    "        img_final = np.clip(img/max_image,0,1)\n",
    "    \n",
    "        masks, flows, styles, diams = model.eval(img_final,z_axis=0, diameter=cell_diameter, channels=[0,0],do_3D=False,normalize=False,flow_threshold=0.75,cellprob_threshold=-5,stitch_threshold=0.5) \n",
    "    \n",
    "        shape = np.array(tensor.shape)\n",
    "        if save:\n",
    "            #step 5: saving the mask and shape in the appropriate location\n",
    "            np.savez_compressed(save_fl,segm = masks,shape = shape)\n",
    "    return masks,tensor,cast"
   ]
  },
  {
   "cell_type": "code",
   "execution_count": 35,
   "id": "febcb74b-8bc2-4a32-9b9d-0c5c66411dfb",
   "metadata": {},
   "outputs": [
    {
     "name": "stdout",
     "output_type": "stream",
     "text": [
      "Working on : \\\\merfish9.ucsd.edu\\volume1\\20230908_D106Luo\\DNA\\AnalysisDeconvolveCG\\SegmentationDAPI_CG\\Conv_zscan__1106--H1_B1_2_3--CYTO_segm.npz\n"
     ]
    },
    {
     "name": "stderr",
     "output_type": "stream",
     "text": [
      "100%|██████████████████████████████████████████████████████████████████████████████████| 25/25 [00:02<00:00,  9.74it/s]\n"
     ]
    }
   ],
   "source": [
    "file = files[180]\n",
    "masks,tensor,cast = compute_mask(\"nuclei\",file,segm_folder,cell_diameter=20,\n",
    "                                 deconvolve=True,\n",
    "                                 save=True,\n",
    "                                 max_image = 11000,snorm=0,redo=True)"
   ]
  },
  {
   "cell_type": "code",
   "execution_count": 36,
   "id": "9dda52d6-7b58-442f-b95e-d67711013f8c",
   "metadata": {},
   "outputs": [
    {
     "data": {
      "text/plain": [
       "<Labels layer 'Labels' at 0x223447efbe0>"
      ]
     },
     "execution_count": 36,
     "metadata": {},
     "output_type": "execute_result"
    }
   ],
   "source": [
    "import napari\n",
    "V = napari.view_image(cast)\n",
    "V.add_image(tensor,contrast_limits=[0,11000])\n",
    "V.add_labels(resize(masks,tensor.shape))"
   ]
  },
  {
   "cell_type": "markdown",
   "id": "8d18de5c-79bf-49e7-948f-914ff893951e",
   "metadata": {},
   "source": [
    "### Testing"
   ]
  },
  {
   "cell_type": "code",
   "execution_count": 26,
   "id": "5f38dcee-26b9-48db-9ad7-be7d884331d1",
   "metadata": {},
   "outputs": [],
   "source": [
    "use_gpu = True\n",
    "max_image = 11000\n",
    "def blur(tensor,s=100):\n",
    "    return np.array([cv2.blur(im_,(s,s)) for im_ in tensor],dtype=np.float32)\n",
    "from cellpose import models,io,utils\n",
    "model = 'nuclei'\n",
    "model = models.Cellpose(gpu=True, model_type=model)\n",
    "#img = tensor[:,::4,::4]\n",
    "#img = blur(tensor,2)[::4,::4,::4]\n",
    "img = tensor[::4,::4,::4]\n",
    "img_final = np.clip(img/max_image,0,1)\n",
    "\n",
    "masks, flows, styles, diams = model.eval(img_final,z_axis=0, diameter=20, channels=[0,0],do_3D=False,normalize=False,flow_threshold=0.75,cellprob_threshold=-5,stitch_threshold=0.5) "
   ]
  },
  {
   "cell_type": "code",
   "execution_count": 27,
   "id": "448b5baf-bf4a-4ed7-b38c-a2a1f4b55ee4",
   "metadata": {},
   "outputs": [
    {
     "data": {
      "text/plain": [
       "<Labels layer 'Labels' at 0x222b48ae880>"
      ]
     },
     "execution_count": 27,
     "metadata": {},
     "output_type": "execute_result"
    }
   ],
   "source": [
    "import napari\n",
    "V = napari.view_image(cast)\n",
    "V.add_image(tensor,contrast_limits=[0,11000])\n",
    "V.add_labels(resize(masks,tensor.shape))"
   ]
  },
  {
   "cell_type": "code",
   "execution_count": 33,
   "id": "5252d84f-b1ae-498e-98d8-0044ae414948",
   "metadata": {},
   "outputs": [
    {
     "data": {
      "text/plain": [
       "Viewer(axes=Axes(visible=False, labels=True, colored=True, dashed=False, arrows=True), camera=Camera(center=(0.0, 1023.5, 1023.5), zoom=0.2583740234375, angles=(0.0, 0.0, 90.0), perspective=0.0, interactive=True), cursor=Cursor(position=(25.0, 1.0, 0.0), scaled=True, size=1, style=<CursorStyle.STANDARD: 'standard'>), dims=Dims(ndim=3, ndisplay=2, last_used=0, range=((0.0, 50.0, 1.0), (0.0, 2048.0, 1.0), (0.0, 2048.0, 1.0)), current_step=(25, 1024, 1024), order=(0, 1, 2), axis_labels=('0', '1', '2')), grid=GridCanvas(stride=1, shape=(-1, -1), enabled=False), layers=[<Image layer 'Image' at 0x223447e4e20>], scale_bar=ScaleBar(visible=False, colored=False, color=array([1., 0., 1., 1.], dtype=float32), ticks=True, position=<Position.BOTTOM_RIGHT: 'bottom_right'>, font_size=10.0, box=False, box_color=array([0. , 0. , 0. , 0.6], dtype=float32), unit=None), text_overlay=TextOverlay(visible=False, color=array([0.5, 0.5, 0.5, 1. ], dtype=float32), font_size=10.0, position=<TextOverlayPosition.TOP_LEFT: 'top_left'>, text=''), overlays=Overlays(interaction_box=InteractionBox(points=None, show=False, show_handle=False, show_vertices=False, selection_box_drag=None, selection_box_final=None, transform_start=<napari.utils.transforms.transforms.Affine object at 0x0000022321546070>, transform_drag=<napari.utils.transforms.transforms.Affine object at 0x00000223215460D0>, transform_final=<napari.utils.transforms.transforms.Affine object at 0x0000022321546130>, transform=<napari.utils.transforms.transforms.Affine object at 0x0000022321546190>, allow_new_selection=True, selected_vertex=None)), help='', status='Ready', tooltip=Tooltip(visible=False, text=''), theme='dark', title='napari', mouse_over_canvas=False, mouse_move_callbacks=[<function InteractionBoxMouseBindings.initialize_mouse_events.<locals>.mouse_move at 0x00000223447BE280>], mouse_drag_callbacks=[<function InteractionBoxMouseBindings.initialize_mouse_events.<locals>.mouse_drag at 0x00000223447A8700>], mouse_double_click_callbacks=[], mouse_wheel_callbacks=[<function dims_scroll at 0x0000021F1DE43EE0>], _persisted_mouse_event={}, _mouse_drag_gen={}, _mouse_wheel_gen={}, keymap={'Shift': <function InteractionBoxMouseBindings.initialize_key_events.<locals>.hold_to_lock_aspect_ratio at 0x00000223447A8310>, 'Control-Shift-R': <function InteractionBoxMouseBindings._reset_active_layer_affine at 0x00000223447A8C10>, 'Control-Shift-A': <function InteractionBoxMouseBindings._transform_active_layer at 0x00000223447A84C0>})"
      ]
     },
     "execution_count": 33,
     "metadata": {},
     "output_type": "execute_result"
    }
   ],
   "source": [
    "file = files[180]\n",
    "napari.view_image(read_im(file)[-1])"
   ]
  },
  {
   "cell_type": "code",
   "execution_count": 37,
   "id": "8651e846-5217-48f2-b346-fb817d8373ed",
   "metadata": {},
   "outputs": [
    {
     "data": {
      "text/plain": [
       "4772.5683740234235"
      ]
     },
     "execution_count": 37,
     "metadata": {},
     "output_type": "execute_result"
    }
   ],
   "source": [
    "np.percentile(tensor,99)"
   ]
  },
  {
   "cell_type": "code",
   "execution_count": 38,
   "id": "4f935ce5-973c-4132-bf81-a9d7b45d2b52",
   "metadata": {},
   "outputs": [
    {
     "name": "stderr",
     "output_type": "stream",
     "text": [
      "  0%|                                                                                          | 0/200 [00:00<?, ?it/s]"
     ]
    },
    {
     "name": "stdout",
     "output_type": "stream",
     "text": [
      "Working on : \\\\merfish9.ucsd.edu\\volume1\\20230908_D106Luo\\DNA\\AnalysisDeconvolveCG\\SegmentationDAPI_CG\\Conv_zscan__0926--H1_B1_2_3--CYTO_segm.npz\n"
     ]
    },
    {
     "name": "stderr",
     "output_type": "stream",
     "text": [
      "\n",
      "  0%|                                                                                           | 0/25 [00:00<?, ?it/s]\u001b[A\n",
      "  4%|███▎                                                                               | 1/25 [00:00<00:12,  1.94it/s]\u001b[A\n",
      "  8%|██████▋                                                                            | 2/25 [00:00<00:06,  3.39it/s]\u001b[A\n",
      " 12%|█████████▉                                                                         | 3/25 [00:00<00:04,  4.56it/s]\u001b[A\n",
      " 16%|█████████████▎                                                                     | 4/25 [00:00<00:03,  5.61it/s]\u001b[A\n",
      " 24%|███████████████████▉                                                               | 6/25 [00:01<00:02,  8.20it/s]\u001b[A\n",
      " 28%|███████████████████████▏                                                           | 7/25 [00:01<00:02,  8.11it/s]\u001b[A\n",
      " 32%|██████████████████████████▌                                                        | 8/25 [00:01<00:02,  8.04it/s]\u001b[A\n",
      " 36%|█████████████████████████████▉                                                     | 9/25 [00:01<00:01,  8.22it/s]\u001b[A\n",
      " 44%|████████████████████████████████████                                              | 11/25 [00:01<00:01, 10.14it/s]\u001b[A\n",
      " 52%|██████████████████████████████████████████▋                                       | 13/25 [00:01<00:01,  9.38it/s]\u001b[A\n",
      " 56%|█████████████████████████████████████████████▉                                    | 14/25 [00:01<00:01,  9.34it/s]\u001b[A\n",
      " 64%|████████████████████████████████████████████████████▍                             | 16/25 [00:02<00:00, 11.19it/s]\u001b[A\n",
      " 72%|███████████████████████████████████████████████████████████                       | 18/25 [00:02<00:00, 10.67it/s]\u001b[A\n",
      "100%|██████████████████████████████████████████████████████████████████████████████████| 25/25 [00:02<00:00, 10.40it/s]\u001b[A\n",
      "  0%|▍                                                                                 | 1/200 [00:13<45:29, 13.72s/it]"
     ]
    },
    {
     "name": "stdout",
     "output_type": "stream",
     "text": [
      "Working on : \\\\merfish9.ucsd.edu\\volume1\\20230908_D106Luo\\DNA\\AnalysisDeconvolveCG\\SegmentationDAPI_CG\\Conv_zscan__0927--H1_B1_2_3--CYTO_segm.npz\n"
     ]
    },
    {
     "name": "stderr",
     "output_type": "stream",
     "text": [
      "\n",
      "  0%|                                                                                           | 0/25 [00:00<?, ?it/s]\u001b[A\n",
      "  4%|███▎                                                                               | 1/25 [00:00<00:11,  2.15it/s]\u001b[A\n",
      "  8%|██████▋                                                                            | 2/25 [00:00<00:07,  3.23it/s]\u001b[A\n",
      " 12%|█████████▉                                                                         | 3/25 [00:00<00:05,  4.09it/s]\u001b[A\n",
      " 16%|█████████████▎                                                                     | 4/25 [00:00<00:04,  5.10it/s]\u001b[A\n",
      " 24%|███████████████████▉                                                               | 6/25 [00:01<00:02,  7.61it/s]\u001b[A\n",
      " 28%|███████████████████████▏                                                           | 7/25 [00:01<00:02,  7.68it/s]\u001b[A\n",
      " 32%|██████████████████████████▌                                                        | 8/25 [00:01<00:02,  7.79it/s]\u001b[A\n",
      " 36%|█████████████████████████████▉                                                     | 9/25 [00:01<00:01,  8.04it/s]\u001b[A\n",
      " 44%|████████████████████████████████████                                              | 11/25 [00:01<00:01, 10.11it/s]\u001b[A\n",
      " 52%|██████████████████████████████████████████▋                                       | 13/25 [00:01<00:01,  9.45it/s]\u001b[A\n",
      " 56%|█████████████████████████████████████████████▉                                    | 14/25 [00:01<00:01,  9.41it/s]\u001b[A\n",
      " 64%|████████████████████████████████████████████████████▍                             | 16/25 [00:02<00:00, 11.25it/s]\u001b[A\n",
      " 72%|███████████████████████████████████████████████████████████                       | 18/25 [00:02<00:00, 10.63it/s]\u001b[A\n",
      "100%|██████████████████████████████████████████████████████████████████████████████████| 25/25 [00:02<00:00, 10.22it/s]\u001b[A\n",
      "  1%|▊                                                                                 | 2/200 [00:26<43:16, 13.11s/it]"
     ]
    },
    {
     "name": "stdout",
     "output_type": "stream",
     "text": [
      "Working on : \\\\merfish9.ucsd.edu\\volume1\\20230908_D106Luo\\DNA\\AnalysisDeconvolveCG\\SegmentationDAPI_CG\\Conv_zscan__0928--H1_B1_2_3--CYTO_segm.npz\n"
     ]
    },
    {
     "name": "stderr",
     "output_type": "stream",
     "text": [
      "\n",
      "  0%|                                                                                           | 0/25 [00:00<?, ?it/s]\u001b[A\n",
      "  4%|███▎                                                                               | 1/25 [00:00<00:12,  1.90it/s]\u001b[A\n",
      "  8%|██████▋                                                                            | 2/25 [00:00<00:07,  3.10it/s]\u001b[A\n",
      " 12%|█████████▉                                                                         | 3/25 [00:00<00:05,  4.22it/s]\u001b[A\n",
      " 16%|█████████████▎                                                                     | 4/25 [00:00<00:03,  5.26it/s]\u001b[A\n",
      " 24%|███████████████████▉                                                               | 6/25 [00:01<00:02,  7.86it/s]\u001b[A\n",
      " 28%|███████████████████████▏                                                           | 7/25 [00:01<00:02,  7.91it/s]\u001b[A\n",
      " 32%|██████████████████████████▌                                                        | 8/25 [00:01<00:02,  7.94it/s]\u001b[A\n",
      " 36%|█████████████████████████████▉                                                     | 9/25 [00:01<00:01,  8.14it/s]\u001b[A\n",
      " 44%|████████████████████████████████████                                              | 11/25 [00:01<00:01, 10.17it/s]\u001b[A\n",
      " 52%|██████████████████████████████████████████▋                                       | 13/25 [00:01<00:01,  9.41it/s]\u001b[A\n",
      " 56%|█████████████████████████████████████████████▉                                    | 14/25 [00:01<00:01,  9.36it/s]\u001b[A\n",
      " 64%|████████████████████████████████████████████████████▍                             | 16/25 [00:02<00:00, 11.21it/s]\u001b[A\n",
      " 72%|███████████████████████████████████████████████████████████                       | 18/25 [00:02<00:00, 10.59it/s]\u001b[A\n",
      "100%|██████████████████████████████████████████████████████████████████████████████████| 25/25 [00:02<00:00, 10.21it/s]\u001b[A\n",
      "  2%|█▏                                                                                | 3/200 [00:40<44:29, 13.55s/it]"
     ]
    },
    {
     "name": "stdout",
     "output_type": "stream",
     "text": [
      "Working on : \\\\merfish9.ucsd.edu\\volume1\\20230908_D106Luo\\DNA\\AnalysisDeconvolveCG\\SegmentationDAPI_CG\\Conv_zscan__0929--H1_B1_2_3--CYTO_segm.npz\n"
     ]
    },
    {
     "name": "stderr",
     "output_type": "stream",
     "text": [
      "\n",
      "  0%|                                                                                           | 0/25 [00:00<?, ?it/s]\u001b[A\n",
      "  4%|███▎                                                                               | 1/25 [00:00<00:11,  2.11it/s]\u001b[A\n",
      "  8%|██████▋                                                                            | 2/25 [00:00<00:06,  3.61it/s]\u001b[A\n",
      " 12%|█████████▉                                                                         | 3/25 [00:00<00:04,  4.79it/s]\u001b[A\n",
      " 16%|█████████████▎                                                                     | 4/25 [00:00<00:03,  5.84it/s]\u001b[A\n",
      " 24%|███████████████████▉                                                               | 6/25 [00:00<00:02,  8.49it/s]\u001b[A\n",
      " 28%|███████████████████████▏                                                           | 7/25 [00:01<00:02,  8.37it/s]\u001b[A\n",
      " 32%|██████████████████████████▌                                                        | 8/25 [00:01<00:02,  8.22it/s]\u001b[A\n",
      " 36%|█████████████████████████████▉                                                     | 9/25 [00:01<00:01,  8.35it/s]\u001b[A\n",
      " 44%|████████████████████████████████████                                              | 11/25 [00:01<00:01, 10.27it/s]\u001b[A\n",
      " 52%|██████████████████████████████████████████▋                                       | 13/25 [00:01<00:01,  9.50it/s]\u001b[A\n",
      " 56%|█████████████████████████████████████████████▉                                    | 14/25 [00:01<00:01,  9.47it/s]\u001b[A\n",
      " 64%|████████████████████████████████████████████████████▍                             | 16/25 [00:01<00:00, 11.30it/s]\u001b[A\n",
      " 72%|███████████████████████████████████████████████████████████                       | 18/25 [00:02<00:00, 10.66it/s]\u001b[A\n",
      "100%|██████████████████████████████████████████████████████████████████████████████████| 25/25 [00:02<00:00, 10.67it/s]\u001b[A\n",
      "  2%|█▋                                                                                | 4/200 [00:55<46:17, 14.17s/it]"
     ]
    },
    {
     "name": "stdout",
     "output_type": "stream",
     "text": [
      "Working on : \\\\merfish9.ucsd.edu\\volume1\\20230908_D106Luo\\DNA\\AnalysisDeconvolveCG\\SegmentationDAPI_CG\\Conv_zscan__0930--H1_B1_2_3--CYTO_segm.npz\n"
     ]
    },
    {
     "name": "stderr",
     "output_type": "stream",
     "text": [
      "\n",
      "  0%|                                                                                           | 0/25 [00:00<?, ?it/s]\u001b[A\n",
      "  4%|███▎                                                                               | 1/25 [00:00<00:11,  2.08it/s]\u001b[A\n",
      "  8%|██████▋                                                                            | 2/25 [00:00<00:06,  3.57it/s]\u001b[A\n",
      " 12%|█████████▉                                                                         | 3/25 [00:00<00:04,  4.72it/s]\u001b[A\n",
      " 16%|█████████████▎                                                                     | 4/25 [00:00<00:03,  5.74it/s]\u001b[A\n",
      " 24%|███████████████████▉                                                               | 6/25 [00:01<00:02,  8.06it/s]\u001b[A\n",
      " 28%|███████████████████████▏                                                           | 7/25 [00:01<00:02,  7.97it/s]\u001b[A\n",
      " 32%|██████████████████████████▌                                                        | 8/25 [00:01<00:02,  7.96it/s]\u001b[A\n",
      " 36%|█████████████████████████████▉                                                     | 9/25 [00:01<00:01,  8.16it/s]\u001b[A\n",
      " 44%|████████████████████████████████████                                              | 11/25 [00:01<00:01, 10.11it/s]\u001b[A\n",
      " 52%|██████████████████████████████████████████▋                                       | 13/25 [00:01<00:01,  9.45it/s]\u001b[A\n",
      " 56%|█████████████████████████████████████████████▉                                    | 14/25 [00:01<00:01,  9.39it/s]\u001b[A\n",
      " 64%|████████████████████████████████████████████████████▍                             | 16/25 [00:02<00:00, 11.26it/s]\u001b[A\n",
      " 72%|███████████████████████████████████████████████████████████                       | 18/25 [00:02<00:00, 10.60it/s]\u001b[A\n",
      "100%|██████████████████████████████████████████████████████████████████████████████████| 25/25 [00:02<00:00, 10.52it/s]\u001b[A\n",
      "  2%|██                                                                                | 5/200 [01:09<46:07, 14.19s/it]"
     ]
    },
    {
     "name": "stdout",
     "output_type": "stream",
     "text": [
      "Working on : \\\\merfish9.ucsd.edu\\volume1\\20230908_D106Luo\\DNA\\AnalysisDeconvolveCG\\SegmentationDAPI_CG\\Conv_zscan__0931--H1_B1_2_3--CYTO_segm.npz\n"
     ]
    },
    {
     "name": "stderr",
     "output_type": "stream",
     "text": [
      "\n",
      "  0%|                                                                                           | 0/25 [00:00<?, ?it/s]\u001b[A\n",
      "  4%|███▎                                                                               | 1/25 [00:00<00:11,  2.13it/s]\u001b[A\n",
      "  8%|██████▋                                                                            | 2/25 [00:00<00:07,  3.24it/s]\u001b[A\n",
      " 12%|█████████▉                                                                         | 3/25 [00:00<00:05,  4.26it/s]\u001b[A\n",
      " 16%|█████████████▎                                                                     | 4/25 [00:00<00:04,  5.19it/s]\u001b[A\n",
      " 24%|███████████████████▉                                                               | 6/25 [00:01<00:02,  7.88it/s]\u001b[A\n",
      " 28%|███████████████████████▏                                                           | 7/25 [00:01<00:02,  7.84it/s]\u001b[A\n",
      " 32%|██████████████████████████▌                                                        | 8/25 [00:01<00:02,  7.58it/s]\u001b[A\n",
      " 36%|█████████████████████████████▉                                                     | 9/25 [00:01<00:02,  7.89it/s]\u001b[A\n",
      " 44%|████████████████████████████████████                                              | 11/25 [00:01<00:01,  9.88it/s]\u001b[A\n",
      " 52%|██████████████████████████████████████████▋                                       | 13/25 [00:01<00:01,  9.30it/s]\u001b[A\n",
      " 56%|█████████████████████████████████████████████▉                                    | 14/25 [00:01<00:01,  9.31it/s]\u001b[A\n",
      " 64%|████████████████████████████████████████████████████▍                             | 16/25 [00:02<00:00, 11.19it/s]\u001b[A\n",
      " 72%|███████████████████████████████████████████████████████████                       | 18/25 [00:02<00:00, 10.55it/s]\u001b[A\n",
      "100%|██████████████████████████████████████████████████████████████████████████████████| 25/25 [00:02<00:00, 10.21it/s]\u001b[A\n",
      "  3%|██▍                                                                               | 6/200 [01:24<45:53, 14.19s/it]"
     ]
    },
    {
     "name": "stdout",
     "output_type": "stream",
     "text": [
      "Working on : \\\\merfish9.ucsd.edu\\volume1\\20230908_D106Luo\\DNA\\AnalysisDeconvolveCG\\SegmentationDAPI_CG\\Conv_zscan__0932--H1_B1_2_3--CYTO_segm.npz\n"
     ]
    },
    {
     "name": "stderr",
     "output_type": "stream",
     "text": [
      "\n",
      "  0%|                                                                                           | 0/25 [00:00<?, ?it/s]\u001b[A\n",
      "  4%|███▎                                                                               | 1/25 [00:00<00:11,  2.08it/s]\u001b[A\n",
      "  8%|██████▋                                                                            | 2/25 [00:00<00:06,  3.60it/s]\u001b[A\n",
      " 12%|█████████▉                                                                         | 3/25 [00:00<00:04,  4.74it/s]\u001b[A\n",
      " 16%|█████████████▎                                                                     | 4/25 [00:00<00:03,  5.78it/s]\u001b[A\n",
      " 24%|███████████████████▉                                                               | 6/25 [00:01<00:02,  8.43it/s]\u001b[A\n",
      " 28%|███████████████████████▏                                                           | 7/25 [00:01<00:02,  8.23it/s]\u001b[A\n",
      " 32%|██████████████████████████▌                                                        | 8/25 [00:01<00:02,  8.14it/s]\u001b[A\n",
      " 36%|█████████████████████████████▉                                                     | 9/25 [00:01<00:01,  8.28it/s]\u001b[A\n",
      " 44%|████████████████████████████████████                                              | 11/25 [00:01<00:01, 10.19it/s]\u001b[A\n",
      " 52%|██████████████████████████████████████████▋                                       | 13/25 [00:01<00:01,  9.42it/s]\u001b[A\n",
      " 56%|█████████████████████████████████████████████▉                                    | 14/25 [00:01<00:01,  9.37it/s]\u001b[A\n",
      " 64%|████████████████████████████████████████████████████▍                             | 16/25 [00:01<00:00, 11.22it/s]\u001b[A\n",
      " 72%|███████████████████████████████████████████████████████████                       | 18/25 [00:02<00:00, 10.59it/s]\u001b[A\n",
      "100%|██████████████████████████████████████████████████████████████████████████████████| 25/25 [00:02<00:00, 10.59it/s]\u001b[A\n",
      "  4%|██▊                                                                               | 7/200 [01:36<44:12, 13.74s/it]"
     ]
    },
    {
     "name": "stdout",
     "output_type": "stream",
     "text": [
      "Working on : \\\\merfish9.ucsd.edu\\volume1\\20230908_D106Luo\\DNA\\AnalysisDeconvolveCG\\SegmentationDAPI_CG\\Conv_zscan__0933--H1_B1_2_3--CYTO_segm.npz\n"
     ]
    },
    {
     "name": "stderr",
     "output_type": "stream",
     "text": [
      "\n",
      "  0%|                                                                                           | 0/25 [00:00<?, ?it/s]\u001b[A\n",
      "  4%|███▎                                                                               | 1/25 [00:00<00:12,  1.91it/s]\u001b[A\n",
      "  8%|██████▋                                                                            | 2/25 [00:00<00:07,  3.03it/s]\u001b[A\n",
      " 12%|█████████▉                                                                         | 3/25 [00:00<00:05,  4.07it/s]\u001b[A\n",
      " 16%|█████████████▎                                                                     | 4/25 [00:00<00:04,  5.09it/s]\u001b[A\n",
      " 24%|███████████████████▉                                                               | 6/25 [00:01<00:02,  7.50it/s]\u001b[A\n",
      " 28%|███████████████████████▏                                                           | 7/25 [00:01<00:02,  7.61it/s]\u001b[A\n",
      " 32%|██████████████████████████▌                                                        | 8/25 [00:01<00:02,  7.72it/s]\u001b[A\n",
      " 36%|█████████████████████████████▉                                                     | 9/25 [00:01<00:02,  7.98it/s]\u001b[A\n",
      " 44%|████████████████████████████████████                                              | 11/25 [00:01<00:01,  9.98it/s]\u001b[A\n",
      " 52%|██████████████████████████████████████████▋                                       | 13/25 [00:01<00:01,  9.43it/s]\u001b[A\n",
      " 56%|█████████████████████████████████████████████▉                                    | 14/25 [00:01<00:01,  9.40it/s]\u001b[A\n",
      " 64%|████████████████████████████████████████████████████▍                             | 16/25 [00:02<00:00, 11.29it/s]\u001b[A\n",
      " 72%|███████████████████████████████████████████████████████████                       | 18/25 [00:02<00:00, 10.63it/s]\u001b[A\n",
      "100%|██████████████████████████████████████████████████████████████████████████████████| 25/25 [00:02<00:00, 10.08it/s]\u001b[A\n",
      "  4%|███▎                                                                              | 8/200 [01:49<42:50, 13.39s/it]"
     ]
    },
    {
     "name": "stdout",
     "output_type": "stream",
     "text": [
      "Working on : \\\\merfish9.ucsd.edu\\volume1\\20230908_D106Luo\\DNA\\AnalysisDeconvolveCG\\SegmentationDAPI_CG\\Conv_zscan__0934--H1_B1_2_3--CYTO_segm.npz\n"
     ]
    },
    {
     "name": "stderr",
     "output_type": "stream",
     "text": [
      "\n",
      "  0%|                                                                                           | 0/25 [00:00<?, ?it/s]\u001b[A\n",
      "  4%|███▎                                                                               | 1/25 [00:00<00:08,  2.92it/s]\u001b[A\n",
      "  8%|██████▋                                                                            | 2/25 [00:00<00:05,  4.56it/s]\u001b[A\n",
      " 12%|█████████▉                                                                         | 3/25 [00:00<00:04,  5.29it/s]\u001b[A\n",
      " 16%|█████████████▎                                                                     | 4/25 [00:00<00:03,  6.05it/s]\u001b[A\n",
      " 24%|███████████████████▉                                                               | 6/25 [00:00<00:02,  8.54it/s]\u001b[A\n",
      " 28%|███████████████████████▏                                                           | 7/25 [00:01<00:02,  8.46it/s]\u001b[A\n",
      " 32%|██████████████████████████▌                                                        | 8/25 [00:01<00:02,  8.38it/s]\u001b[A\n",
      " 36%|█████████████████████████████▉                                                     | 9/25 [00:01<00:01,  8.55it/s]\u001b[A\n",
      " 44%|████████████████████████████████████                                              | 11/25 [00:01<00:01, 10.62it/s]\u001b[A\n",
      " 52%|██████████████████████████████████████████▋                                       | 13/25 [00:01<00:01,  9.73it/s]\u001b[A\n",
      " 60%|█████████████████████████████████████████████████▏                                | 15/25 [00:01<00:00, 11.35it/s]\u001b[A\n",
      " 68%|███████████████████████████████████████████████████████▊                          | 17/25 [00:01<00:00, 10.75it/s]\u001b[A\n",
      "100%|██████████████████████████████████████████████████████████████████████████████████| 25/25 [00:02<00:00, 11.20it/s]\u001b[A\n",
      "  4%|███▋                                                                              | 9/200 [02:02<41:54, 13.17s/it]"
     ]
    },
    {
     "name": "stdout",
     "output_type": "stream",
     "text": [
      "Working on : \\\\merfish9.ucsd.edu\\volume1\\20230908_D106Luo\\DNA\\AnalysisDeconvolveCG\\SegmentationDAPI_CG\\Conv_zscan__0935--H1_B1_2_3--CYTO_segm.npz\n"
     ]
    },
    {
     "name": "stderr",
     "output_type": "stream",
     "text": [
      "\n",
      "  0%|                                                                                           | 0/25 [00:00<?, ?it/s]\u001b[A\n",
      "  4%|███▎                                                                               | 1/25 [00:00<00:09,  2.40it/s]\u001b[A\n",
      "  8%|██████▋                                                                            | 2/25 [00:00<00:05,  4.02it/s]\u001b[A\n",
      " 12%|█████████▉                                                                         | 3/25 [00:00<00:04,  5.11it/s]\u001b[A\n",
      " 16%|█████████████▎                                                                     | 4/25 [00:00<00:03,  6.09it/s]\u001b[A\n",
      " 24%|███████████████████▉                                                               | 6/25 [00:00<00:02,  8.71it/s]\u001b[A\n",
      " 28%|███████████████████████▏                                                           | 7/25 [00:01<00:02,  8.47it/s]\u001b[A\n",
      " 32%|██████████████████████████▌                                                        | 8/25 [00:01<00:02,  8.33it/s]\u001b[A\n",
      " 36%|█████████████████████████████▉                                                     | 9/25 [00:01<00:01,  8.41it/s]\u001b[A\n",
      " 44%|████████████████████████████████████                                              | 11/25 [00:01<00:01, 10.32it/s]\u001b[A\n",
      " 52%|██████████████████████████████████████████▋                                       | 13/25 [00:01<00:01,  9.51it/s]\u001b[A\n",
      " 56%|█████████████████████████████████████████████▉                                    | 14/25 [00:01<00:01,  9.51it/s]\u001b[A\n",
      " 64%|████████████████████████████████████████████████████▍                             | 16/25 [00:01<00:00, 11.37it/s]\u001b[A\n",
      " 72%|███████████████████████████████████████████████████████████                       | 18/25 [00:02<00:00, 10.68it/s]\u001b[A\n",
      "100%|██████████████████████████████████████████████████████████████████████████████████| 25/25 [00:02<00:00, 10.95it/s]\u001b[A\n",
      "  5%|████                                                                             | 10/200 [02:13<40:18, 12.73s/it]"
     ]
    },
    {
     "name": "stdout",
     "output_type": "stream",
     "text": [
      "Working on : \\\\merfish9.ucsd.edu\\volume1\\20230908_D106Luo\\DNA\\AnalysisDeconvolveCG\\SegmentationDAPI_CG\\Conv_zscan__0936--H1_B1_2_3--CYTO_segm.npz\n"
     ]
    },
    {
     "name": "stderr",
     "output_type": "stream",
     "text": [
      "\n",
      "  0%|                                                                                           | 0/25 [00:00<?, ?it/s]\u001b[A\n",
      "  4%|███▎                                                                               | 1/25 [00:00<00:11,  2.03it/s]\u001b[A\n",
      "  8%|██████▋                                                                            | 2/25 [00:00<00:07,  3.10it/s]\u001b[A\n",
      " 12%|█████████▉                                                                         | 3/25 [00:00<00:05,  4.03it/s]\u001b[A\n",
      " 16%|█████████████▎                                                                     | 4/25 [00:00<00:04,  5.07it/s]\u001b[A\n",
      " 24%|███████████████████▉                                                               | 6/25 [00:01<00:02,  7.22it/s]\u001b[A\n",
      " 28%|███████████████████████▏                                                           | 7/25 [00:01<00:02,  7.46it/s]\u001b[A\n",
      " 32%|██████████████████████████▌                                                        | 8/25 [00:01<00:02,  7.59it/s]\u001b[A\n",
      " 36%|█████████████████████████████▉                                                     | 9/25 [00:01<00:02,  7.82it/s]\u001b[A\n",
      " 44%|████████████████████████████████████                                              | 11/25 [00:01<00:01,  9.94it/s]\u001b[A\n",
      " 52%|██████████████████████████████████████████▋                                       | 13/25 [00:01<00:01,  9.38it/s]\u001b[A\n",
      " 56%|█████████████████████████████████████████████▉                                    | 14/25 [00:01<00:01,  9.29it/s]\u001b[A\n",
      " 64%|████████████████████████████████████████████████████▍                             | 16/25 [00:02<00:00, 11.20it/s]\u001b[A\n",
      " 72%|███████████████████████████████████████████████████████████                       | 18/25 [00:02<00:00, 10.56it/s]\u001b[A\n",
      "100%|██████████████████████████████████████████████████████████████████████████████████| 25/25 [00:02<00:00, 10.03it/s]\u001b[A\n",
      "  6%|████▍                                                                            | 11/200 [02:22<36:31, 11.60s/it]"
     ]
    },
    {
     "name": "stdout",
     "output_type": "stream",
     "text": [
      "Working on : \\\\merfish9.ucsd.edu\\volume1\\20230908_D106Luo\\DNA\\AnalysisDeconvolveCG\\SegmentationDAPI_CG\\Conv_zscan__0937--H1_B1_2_3--CYTO_segm.npz\n"
     ]
    },
    {
     "name": "stderr",
     "output_type": "stream",
     "text": [
      "\n",
      "  0%|                                                                                           | 0/25 [00:00<?, ?it/s]\u001b[A\n",
      "  4%|███▎                                                                               | 1/25 [00:00<00:08,  2.90it/s]\u001b[A\n",
      "  8%|██████▋                                                                            | 2/25 [00:00<00:05,  4.48it/s]\u001b[A\n",
      " 12%|█████████▉                                                                         | 3/25 [00:00<00:03,  5.56it/s]\u001b[A\n",
      " 16%|█████████████▎                                                                     | 4/25 [00:00<00:03,  6.45it/s]\u001b[A\n",
      " 24%|███████████████████▉                                                               | 6/25 [00:00<00:02,  9.01it/s]\u001b[A\n",
      " 28%|███████████████████████▏                                                           | 7/25 [00:00<00:02,  8.69it/s]\u001b[A\n",
      " 32%|██████████████████████████▌                                                        | 8/25 [00:01<00:02,  8.42it/s]\u001b[A\n",
      " 36%|█████████████████████████████▉                                                     | 9/25 [00:01<00:01,  8.52it/s]\u001b[A\n",
      " 44%|████████████████████████████████████                                              | 11/25 [00:01<00:01, 10.54it/s]\u001b[A\n",
      " 52%|██████████████████████████████████████████▋                                       | 13/25 [00:01<00:01,  9.69it/s]\u001b[A\n",
      " 60%|█████████████████████████████████████████████████▏                                | 15/25 [00:01<00:00, 11.27it/s]\u001b[A\n",
      " 68%|███████████████████████████████████████████████████████▊                          | 17/25 [00:01<00:00, 10.70it/s]\u001b[A\n",
      "100%|██████████████████████████████████████████████████████████████████████████████████| 25/25 [00:02<00:00, 11.31it/s]\u001b[A\n",
      "  6%|████▊                                                                            | 12/200 [02:31<33:18, 10.63s/it]"
     ]
    },
    {
     "name": "stdout",
     "output_type": "stream",
     "text": [
      "Working on : \\\\merfish9.ucsd.edu\\volume1\\20230908_D106Luo\\DNA\\AnalysisDeconvolveCG\\SegmentationDAPI_CG\\Conv_zscan__0938--H1_B1_2_3--CYTO_segm.npz\n"
     ]
    },
    {
     "name": "stderr",
     "output_type": "stream",
     "text": [
      "\n",
      "  0%|                                                                                           | 0/25 [00:00<?, ?it/s]\u001b[A\n",
      "  4%|███▎                                                                               | 1/25 [00:00<00:09,  2.45it/s]\u001b[A\n",
      "  8%|██████▋                                                                            | 2/25 [00:00<00:05,  3.86it/s]\u001b[A\n",
      " 12%|█████████▉                                                                         | 3/25 [00:00<00:04,  5.03it/s]\u001b[A\n",
      " 16%|█████████████▎                                                                     | 4/25 [00:00<00:03,  6.01it/s]\u001b[A\n",
      " 24%|███████████████████▉                                                               | 6/25 [00:00<00:02,  8.61it/s]\u001b[A\n",
      " 28%|███████████████████████▏                                                           | 7/25 [00:01<00:02,  8.49it/s]\u001b[A\n",
      " 32%|██████████████████████████▌                                                        | 8/25 [00:01<00:02,  8.35it/s]\u001b[A\n",
      " 36%|█████████████████████████████▉                                                     | 9/25 [00:01<00:01,  8.44it/s]\u001b[A\n",
      " 44%|████████████████████████████████████                                              | 11/25 [00:01<00:01, 10.40it/s]\u001b[A\n",
      " 52%|██████████████████████████████████████████▋                                       | 13/25 [00:01<00:01,  9.32it/s]\u001b[A\n",
      " 56%|█████████████████████████████████████████████▉                                    | 14/25 [00:01<00:01,  9.41it/s]\u001b[A\n",
      " 64%|████████████████████████████████████████████████████▍                             | 16/25 [00:01<00:00, 11.22it/s]\u001b[A\n",
      " 72%|███████████████████████████████████████████████████████████                       | 18/25 [00:02<00:00, 10.64it/s]\u001b[A\n",
      "100%|██████████████████████████████████████████████████████████████████████████████████| 25/25 [00:02<00:00, 10.86it/s]\u001b[A\n",
      "  6%|█████▎                                                                           | 13/200 [02:39<31:06,  9.98s/it]"
     ]
    },
    {
     "name": "stdout",
     "output_type": "stream",
     "text": [
      "Working on : \\\\merfish9.ucsd.edu\\volume1\\20230908_D106Luo\\DNA\\AnalysisDeconvolveCG\\SegmentationDAPI_CG\\Conv_zscan__0939--H1_B1_2_3--CYTO_segm.npz\n"
     ]
    },
    {
     "name": "stderr",
     "output_type": "stream",
     "text": [
      "\n",
      "  0%|                                                                                           | 0/25 [00:00<?, ?it/s]\u001b[A\n",
      "  4%|███▎                                                                               | 1/25 [00:00<00:09,  2.60it/s]\u001b[A\n",
      "  8%|██████▋                                                                            | 2/25 [00:00<00:06,  3.69it/s]\u001b[A\n",
      " 12%|█████████▉                                                                         | 3/25 [00:00<00:04,  4.76it/s]\u001b[A\n",
      " 16%|█████████████▎                                                                     | 4/25 [00:00<00:03,  5.68it/s]\u001b[A\n",
      " 24%|███████████████████▉                                                               | 6/25 [00:00<00:02,  8.30it/s]\u001b[A\n",
      " 28%|███████████████████████▏                                                           | 7/25 [00:01<00:02,  8.18it/s]\u001b[A\n",
      " 32%|██████████████████████████▌                                                        | 8/25 [00:01<00:02,  8.19it/s]\u001b[A\n",
      " 36%|█████████████████████████████▉                                                     | 9/25 [00:01<00:01,  8.35it/s]\u001b[A\n",
      " 44%|████████████████████████████████████                                              | 11/25 [00:01<00:01, 10.27it/s]\u001b[A\n",
      " 52%|██████████████████████████████████████████▋                                       | 13/25 [00:01<00:01,  9.48it/s]\u001b[A\n",
      " 56%|█████████████████████████████████████████████▉                                    | 14/25 [00:01<00:01,  9.47it/s]\u001b[A\n",
      " 64%|████████████████████████████████████████████████████▍                             | 16/25 [00:01<00:00, 11.33it/s]\u001b[A\n",
      " 72%|███████████████████████████████████████████████████████████                       | 18/25 [00:02<00:00, 10.68it/s]\u001b[A\n",
      "100%|██████████████████████████████████████████████████████████████████████████████████| 25/25 [00:02<00:00, 10.75it/s]\u001b[A\n",
      "  7%|█████▋                                                                           | 14/200 [02:48<30:01,  9.69s/it]"
     ]
    },
    {
     "name": "stdout",
     "output_type": "stream",
     "text": [
      "Working on : \\\\merfish9.ucsd.edu\\volume1\\20230908_D106Luo\\DNA\\AnalysisDeconvolveCG\\SegmentationDAPI_CG\\Conv_zscan__0940--H1_B1_2_3--CYTO_segm.npz\n"
     ]
    },
    {
     "name": "stderr",
     "output_type": "stream",
     "text": [
      "\n",
      "  0%|                                                                                           | 0/25 [00:00<?, ?it/s]\u001b[A\n",
      "  4%|███▎                                                                               | 1/25 [00:00<00:10,  2.27it/s]\u001b[A\n",
      "  8%|██████▋                                                                            | 2/25 [00:00<00:06,  3.81it/s]\u001b[A\n",
      " 12%|█████████▉                                                                         | 3/25 [00:00<00:04,  4.97it/s]\u001b[A\n",
      " 16%|█████████████▎                                                                     | 4/25 [00:00<00:03,  6.00it/s]\u001b[A\n",
      " 24%|███████████████████▉                                                               | 6/25 [00:00<00:02,  8.62it/s]\u001b[A\n",
      " 28%|███████████████████████▏                                                           | 7/25 [00:01<00:02,  8.42it/s]\u001b[A\n",
      " 32%|██████████████████████████▌                                                        | 8/25 [00:01<00:02,  8.26it/s]\u001b[A\n",
      " 36%|█████████████████████████████▉                                                     | 9/25 [00:01<00:01,  8.42it/s]\u001b[A\n",
      " 44%|████████████████████████████████████                                              | 11/25 [00:01<00:01, 10.31it/s]\u001b[A\n",
      " 52%|██████████████████████████████████████████▋                                       | 13/25 [00:01<00:01,  9.61it/s]\u001b[A\n",
      " 56%|█████████████████████████████████████████████▉                                    | 14/25 [00:01<00:01,  9.53it/s]\u001b[A\n",
      " 64%|████████████████████████████████████████████████████▍                             | 16/25 [00:01<00:00, 11.48it/s]\u001b[A\n",
      " 72%|███████████████████████████████████████████████████████████                       | 18/25 [00:02<00:00, 10.79it/s]\u001b[A\n",
      "100%|██████████████████████████████████████████████████████████████████████████████████| 25/25 [00:02<00:00, 10.86it/s]\u001b[A\n",
      "  8%|██████                                                                           | 15/200 [02:57<28:55,  9.38s/it]"
     ]
    },
    {
     "name": "stdout",
     "output_type": "stream",
     "text": [
      "Working on : \\\\merfish9.ucsd.edu\\volume1\\20230908_D106Luo\\DNA\\AnalysisDeconvolveCG\\SegmentationDAPI_CG\\Conv_zscan__0941--H1_B1_2_3--CYTO_segm.npz\n"
     ]
    },
    {
     "name": "stderr",
     "output_type": "stream",
     "text": [
      "\n",
      "  0%|                                                                                           | 0/25 [00:00<?, ?it/s]\u001b[A\n",
      "  4%|███▎                                                                               | 1/25 [00:00<00:09,  2.42it/s]\u001b[A\n",
      "  8%|██████▋                                                                            | 2/25 [00:00<00:05,  3.97it/s]\u001b[A\n",
      " 12%|█████████▉                                                                         | 3/25 [00:00<00:04,  5.15it/s]\u001b[A\n",
      " 16%|█████████████▎                                                                     | 4/25 [00:00<00:03,  6.11it/s]\u001b[A\n",
      " 24%|███████████████████▉                                                               | 6/25 [00:00<00:02,  8.79it/s]\u001b[A\n",
      " 28%|███████████████████████▏                                                           | 7/25 [00:01<00:02,  8.54it/s]\u001b[A\n",
      " 32%|██████████████████████████▌                                                        | 8/25 [00:01<00:02,  8.40it/s]\u001b[A\n",
      " 36%|█████████████████████████████▉                                                     | 9/25 [00:01<00:01,  8.46it/s]\u001b[A\n",
      " 44%|████████████████████████████████████                                              | 11/25 [00:01<00:01, 10.39it/s]\u001b[A\n",
      " 52%|██████████████████████████████████████████▋                                       | 13/25 [00:01<00:01,  9.62it/s]\u001b[A\n",
      " 56%|█████████████████████████████████████████████▉                                    | 14/25 [00:01<00:01,  9.52it/s]\u001b[A\n",
      " 64%|████████████████████████████████████████████████████▍                             | 16/25 [00:01<00:00, 11.37it/s]\u001b[A\n",
      " 72%|███████████████████████████████████████████████████████████                       | 18/25 [00:02<00:00, 10.70it/s]\u001b[A\n",
      "100%|██████████████████████████████████████████████████████████████████████████████████| 25/25 [00:02<00:00, 10.96it/s]\u001b[A\n",
      "  8%|██████▍                                                                          | 16/200 [03:06<28:12,  9.20s/it]"
     ]
    },
    {
     "name": "stdout",
     "output_type": "stream",
     "text": [
      "Working on : \\\\merfish9.ucsd.edu\\volume1\\20230908_D106Luo\\DNA\\AnalysisDeconvolveCG\\SegmentationDAPI_CG\\Conv_zscan__0942--H1_B1_2_3--CYTO_segm.npz\n"
     ]
    },
    {
     "name": "stderr",
     "output_type": "stream",
     "text": [
      "\n",
      "  0%|                                                                                           | 0/25 [00:00<?, ?it/s]\u001b[A\n",
      "  4%|███▎                                                                               | 1/25 [00:00<00:11,  2.17it/s]\u001b[A\n",
      "  8%|██████▋                                                                            | 2/25 [00:00<00:06,  3.69it/s]\u001b[A\n",
      " 12%|█████████▉                                                                         | 3/25 [00:00<00:04,  4.87it/s]\u001b[A\n",
      " 16%|█████████████▎                                                                     | 4/25 [00:00<00:03,  5.89it/s]\u001b[A\n",
      " 24%|███████████████████▉                                                               | 6/25 [00:00<00:02,  8.48it/s]\u001b[A\n",
      " 28%|███████████████████████▏                                                           | 7/25 [00:01<00:02,  8.34it/s]\u001b[A\n",
      " 32%|██████████████████████████▌                                                        | 8/25 [00:01<00:02,  8.24it/s]\u001b[A\n",
      " 36%|█████████████████████████████▉                                                     | 9/25 [00:01<00:01,  8.39it/s]\u001b[A\n",
      " 44%|████████████████████████████████████                                              | 11/25 [00:01<00:01, 10.33it/s]\u001b[A\n",
      " 52%|██████████████████████████████████████████▋                                       | 13/25 [00:01<00:01,  9.50it/s]\u001b[A\n",
      " 56%|█████████████████████████████████████████████▉                                    | 14/25 [00:01<00:01,  9.50it/s]\u001b[A\n",
      " 64%|████████████████████████████████████████████████████▍                             | 16/25 [00:01<00:00, 10.82it/s]\u001b[A\n",
      " 72%|███████████████████████████████████████████████████████████                       | 18/25 [00:02<00:00, 10.38it/s]\u001b[A\n",
      "100%|██████████████████████████████████████████████████████████████████████████████████| 25/25 [00:02<00:00, 10.64it/s]\u001b[A\n",
      "  8%|██████▉                                                                          | 17/200 [03:15<27:43,  9.09s/it]"
     ]
    },
    {
     "name": "stdout",
     "output_type": "stream",
     "text": [
      "Working on : \\\\merfish9.ucsd.edu\\volume1\\20230908_D106Luo\\DNA\\AnalysisDeconvolveCG\\SegmentationDAPI_CG\\Conv_zscan__0943--H1_B1_2_3--CYTO_segm.npz\n"
     ]
    },
    {
     "name": "stderr",
     "output_type": "stream",
     "text": [
      "\n",
      "  0%|                                                                                           | 0/25 [00:00<?, ?it/s]\u001b[A\n",
      "  4%|███▎                                                                               | 1/25 [00:00<00:11,  2.11it/s]\u001b[A\n",
      "  8%|██████▋                                                                            | 2/25 [00:00<00:06,  3.38it/s]\u001b[A\n",
      " 12%|█████████▉                                                                         | 3/25 [00:00<00:04,  4.56it/s]\u001b[A\n",
      " 16%|█████████████▎                                                                     | 4/25 [00:00<00:03,  5.60it/s]\u001b[A\n",
      " 24%|███████████████████▉                                                               | 6/25 [00:01<00:02,  8.25it/s]\u001b[A\n",
      " 28%|███████████████████████▏                                                           | 7/25 [00:01<00:02,  8.12it/s]\u001b[A\n",
      " 32%|██████████████████████████▌                                                        | 8/25 [00:01<00:02,  8.03it/s]\u001b[A\n",
      " 36%|█████████████████████████████▉                                                     | 9/25 [00:01<00:01,  8.19it/s]\u001b[A\n",
      " 44%|████████████████████████████████████                                              | 11/25 [00:01<00:01, 10.12it/s]\u001b[A\n",
      " 52%|██████████████████████████████████████████▋                                       | 13/25 [00:01<00:01,  9.39it/s]\u001b[A\n",
      " 56%|█████████████████████████████████████████████▉                                    | 14/25 [00:01<00:01,  9.36it/s]\u001b[A\n",
      " 64%|████████████████████████████████████████████████████▍                             | 16/25 [00:02<00:00, 11.28it/s]\u001b[A\n",
      " 72%|███████████████████████████████████████████████████████████                       | 18/25 [00:02<00:00, 10.65it/s]\u001b[A\n",
      "100%|██████████████████████████████████████████████████████████████████████████████████| 25/25 [00:02<00:00, 10.49it/s]\u001b[A\n",
      "  9%|███████▎                                                                         | 18/200 [03:24<27:45,  9.15s/it]"
     ]
    },
    {
     "name": "stdout",
     "output_type": "stream",
     "text": [
      "Working on : \\\\merfish9.ucsd.edu\\volume1\\20230908_D106Luo\\DNA\\AnalysisDeconvolveCG\\SegmentationDAPI_CG\\Conv_zscan__0944--H1_B1_2_3--CYTO_segm.npz\n"
     ]
    },
    {
     "name": "stderr",
     "output_type": "stream",
     "text": [
      "\n",
      "  0%|                                                                                           | 0/25 [00:00<?, ?it/s]\u001b[A\n",
      "  4%|███▎                                                                               | 1/25 [00:00<00:09,  2.48it/s]\u001b[A\n",
      "  8%|██████▋                                                                            | 2/25 [00:00<00:05,  4.12it/s]\u001b[A\n",
      " 12%|█████████▉                                                                         | 3/25 [00:00<00:04,  4.99it/s]\u001b[A\n",
      " 16%|█████████████▎                                                                     | 4/25 [00:00<00:03,  5.86it/s]\u001b[A\n",
      " 24%|███████████████████▉                                                               | 6/25 [00:00<00:02,  8.32it/s]\u001b[A\n",
      " 28%|███████████████████████▏                                                           | 7/25 [00:01<00:02,  8.19it/s]\u001b[A\n",
      " 32%|██████████████████████████▌                                                        | 8/25 [00:01<00:02,  8.15it/s]\u001b[A\n",
      " 36%|█████████████████████████████▉                                                     | 9/25 [00:01<00:01,  8.36it/s]\u001b[A\n",
      " 44%|████████████████████████████████████                                              | 11/25 [00:01<00:01, 10.40it/s]\u001b[A\n",
      " 52%|██████████████████████████████████████████▋                                       | 13/25 [00:01<00:01,  9.57it/s]\u001b[A\n",
      " 56%|█████████████████████████████████████████████▉                                    | 14/25 [00:01<00:01,  9.56it/s]\u001b[A\n",
      " 64%|████████████████████████████████████████████████████▍                             | 16/25 [00:01<00:00, 11.48it/s]\u001b[A\n",
      " 72%|███████████████████████████████████████████████████████████                       | 18/25 [00:02<00:00, 10.76it/s]\u001b[A\n",
      "100%|██████████████████████████████████████████████████████████████████████████████████| 25/25 [00:02<00:00, 10.92it/s]\u001b[A\n",
      " 10%|███████▋                                                                         | 19/200 [03:33<27:29,  9.11s/it]"
     ]
    },
    {
     "name": "stdout",
     "output_type": "stream",
     "text": [
      "Working on : \\\\merfish9.ucsd.edu\\volume1\\20230908_D106Luo\\DNA\\AnalysisDeconvolveCG\\SegmentationDAPI_CG\\Conv_zscan__0945--H1_B1_2_3--CYTO_segm.npz\n"
     ]
    },
    {
     "name": "stderr",
     "output_type": "stream",
     "text": [
      "\n",
      "  0%|                                                                                           | 0/25 [00:00<?, ?it/s]\u001b[A\n",
      "  4%|███▎                                                                               | 1/25 [00:00<00:11,  2.12it/s]\u001b[A\n",
      "  8%|██████▋                                                                            | 2/25 [00:00<00:06,  3.60it/s]\u001b[A\n",
      " 12%|█████████▉                                                                         | 3/25 [00:00<00:04,  4.77it/s]\u001b[A\n",
      " 16%|█████████████▎                                                                     | 4/25 [00:00<00:03,  5.84it/s]\u001b[A\n",
      " 24%|███████████████████▉                                                               | 6/25 [00:00<00:02,  8.44it/s]\u001b[A\n",
      " 28%|███████████████████████▏                                                           | 7/25 [00:01<00:02,  8.34it/s]\u001b[A\n",
      " 32%|██████████████████████████▌                                                        | 8/25 [00:01<00:02,  8.20it/s]\u001b[A\n",
      " 36%|█████████████████████████████▉                                                     | 9/25 [00:01<00:01,  8.36it/s]\u001b[A\n",
      " 44%|████████████████████████████████████                                              | 11/25 [00:01<00:01, 10.26it/s]\u001b[A\n",
      " 52%|██████████████████████████████████████████▋                                       | 13/25 [00:01<00:01,  9.51it/s]\u001b[A\n",
      " 56%|█████████████████████████████████████████████▉                                    | 14/25 [00:01<00:01,  9.44it/s]\u001b[A\n",
      " 64%|████████████████████████████████████████████████████▍                             | 16/25 [00:01<00:00, 11.32it/s]\u001b[A\n",
      " 72%|███████████████████████████████████████████████████████████                       | 18/25 [00:02<00:00, 10.63it/s]\u001b[A\n",
      "100%|██████████████████████████████████████████████████████████████████████████████████| 25/25 [00:02<00:00, 10.65it/s]\u001b[A\n",
      " 10%|████████                                                                         | 20/200 [03:41<26:44,  8.92s/it]"
     ]
    },
    {
     "name": "stdout",
     "output_type": "stream",
     "text": [
      "Working on : \\\\merfish9.ucsd.edu\\volume1\\20230908_D106Luo\\DNA\\AnalysisDeconvolveCG\\SegmentationDAPI_CG\\Conv_zscan__0946--H1_B1_2_3--CYTO_segm.npz\n"
     ]
    },
    {
     "name": "stderr",
     "output_type": "stream",
     "text": [
      "\n",
      "  0%|                                                                                           | 0/25 [00:00<?, ?it/s]\u001b[A\n",
      "  4%|███▎                                                                               | 1/25 [00:00<00:11,  2.17it/s]\u001b[A\n",
      "  8%|██████▋                                                                            | 2/25 [00:00<00:06,  3.64it/s]\u001b[A\n",
      " 12%|█████████▉                                                                         | 3/25 [00:00<00:04,  4.78it/s]\u001b[A\n",
      " 16%|█████████████▎                                                                     | 4/25 [00:00<00:03,  5.83it/s]\u001b[A\n",
      " 24%|███████████████████▉                                                               | 6/25 [00:00<00:02,  8.46it/s]\u001b[A\n",
      " 28%|███████████████████████▏                                                           | 7/25 [00:01<00:02,  8.29it/s]\u001b[A\n",
      " 32%|██████████████████████████▌                                                        | 8/25 [00:01<00:02,  8.22it/s]\u001b[A\n",
      " 36%|█████████████████████████████▉                                                     | 9/25 [00:01<00:01,  8.39it/s]\u001b[A\n",
      " 44%|████████████████████████████████████                                              | 11/25 [00:01<00:01, 10.31it/s]\u001b[A\n",
      " 52%|██████████████████████████████████████████▋                                       | 13/25 [00:01<00:01,  9.56it/s]\u001b[A\n",
      " 56%|█████████████████████████████████████████████▉                                    | 14/25 [00:01<00:01,  9.51it/s]\u001b[A\n",
      " 64%|████████████████████████████████████████████████████▍                             | 16/25 [00:01<00:00, 11.24it/s]\u001b[A\n",
      " 72%|███████████████████████████████████████████████████████████                       | 18/25 [00:02<00:00, 10.43it/s]\u001b[A\n",
      "100%|██████████████████████████████████████████████████████████████████████████████████| 25/25 [00:02<00:00, 10.63it/s]\u001b[A\n",
      " 10%|████████▌                                                                        | 21/200 [03:50<26:42,  8.95s/it]"
     ]
    },
    {
     "name": "stdout",
     "output_type": "stream",
     "text": [
      "Working on : \\\\merfish9.ucsd.edu\\volume1\\20230908_D106Luo\\DNA\\AnalysisDeconvolveCG\\SegmentationDAPI_CG\\Conv_zscan__0947--H1_B1_2_3--CYTO_segm.npz\n"
     ]
    },
    {
     "name": "stderr",
     "output_type": "stream",
     "text": [
      "\n",
      "  0%|                                                                                           | 0/25 [00:00<?, ?it/s]\u001b[A\n",
      "  4%|███▎                                                                               | 1/25 [00:00<00:08,  2.89it/s]\u001b[A\n",
      "  8%|██████▋                                                                            | 2/25 [00:00<00:05,  4.01it/s]\u001b[A\n",
      " 12%|█████████▉                                                                         | 3/25 [00:00<00:04,  5.18it/s]\u001b[A\n",
      " 16%|█████████████▎                                                                     | 4/25 [00:00<00:03,  6.13it/s]\u001b[A\n",
      " 24%|███████████████████▉                                                               | 6/25 [00:00<00:02,  8.79it/s]\u001b[A\n",
      " 28%|███████████████████████▏                                                           | 7/25 [00:01<00:02,  8.56it/s]\u001b[A\n",
      " 32%|██████████████████████████▌                                                        | 8/25 [00:01<00:02,  8.39it/s]\u001b[A\n",
      " 36%|█████████████████████████████▉                                                     | 9/25 [00:01<00:01,  8.50it/s]\u001b[A\n",
      " 44%|████████████████████████████████████                                              | 11/25 [00:01<00:01, 10.35it/s]\u001b[A\n",
      " 52%|██████████████████████████████████████████▋                                       | 13/25 [00:01<00:01,  9.54it/s]\u001b[A\n",
      " 56%|█████████████████████████████████████████████▉                                    | 14/25 [00:01<00:01,  9.46it/s]\u001b[A\n",
      " 64%|████████████████████████████████████████████████████▍                             | 16/25 [00:01<00:00, 11.34it/s]\u001b[A\n",
      " 72%|███████████████████████████████████████████████████████████                       | 18/25 [00:02<00:00, 10.64it/s]\u001b[A\n",
      "100%|██████████████████████████████████████████████████████████████████████████████████| 25/25 [00:02<00:00, 11.07it/s]\u001b[A\n",
      " 11%|████████▉                                                                        | 22/200 [03:59<26:19,  8.87s/it]"
     ]
    },
    {
     "name": "stdout",
     "output_type": "stream",
     "text": [
      "Working on : \\\\merfish9.ucsd.edu\\volume1\\20230908_D106Luo\\DNA\\AnalysisDeconvolveCG\\SegmentationDAPI_CG\\Conv_zscan__0948--H1_B1_2_3--CYTO_segm.npz\n"
     ]
    },
    {
     "name": "stderr",
     "output_type": "stream",
     "text": [
      "\n",
      "  0%|                                                                                           | 0/25 [00:00<?, ?it/s]\u001b[A\n",
      "  4%|███▎                                                                               | 1/25 [00:00<00:03,  6.76it/s]\u001b[A\n",
      "  8%|██████▋                                                                            | 2/25 [00:00<00:03,  6.42it/s]\u001b[A\n",
      " 12%|█████████▉                                                                         | 3/25 [00:00<00:03,  6.51it/s]\u001b[A\n",
      " 16%|█████████████▎                                                                     | 4/25 [00:00<00:03,  6.86it/s]\u001b[A\n",
      " 24%|███████████████████▉                                                               | 6/25 [00:00<00:02,  8.87it/s]\u001b[A\n",
      " 28%|███████████████████████▏                                                           | 7/25 [00:00<00:02,  8.24it/s]\u001b[A\n",
      " 32%|██████████████████████████▌                                                        | 8/25 [00:01<00:02,  7.92it/s]\u001b[A\n",
      " 36%|█████████████████████████████▉                                                     | 9/25 [00:01<00:02,  7.82it/s]\u001b[A\n",
      " 44%|████████████████████████████████████                                              | 11/25 [00:01<00:01,  9.30it/s]\u001b[A\n",
      " 48%|███████████████████████████████████████▎                                          | 12/25 [00:01<00:01,  8.59it/s]\u001b[A\n",
      " 52%|██████████████████████████████████████████▋                                       | 13/25 [00:01<00:01,  8.17it/s]\u001b[A\n",
      " 56%|█████████████████████████████████████████████▉                                    | 14/25 [00:01<00:01,  8.10it/s]\u001b[A\n",
      " 64%|████████████████████████████████████████████████████▍                             | 16/25 [00:01<00:00,  9.96it/s]\u001b[A\n",
      " 68%|███████████████████████████████████████████████████████▊                          | 17/25 [00:02<00:00,  9.46it/s]\u001b[A\n",
      " 72%|███████████████████████████████████████████████████████████                       | 18/25 [00:02<00:00,  9.10it/s]\u001b[A\n",
      "100%|██████████████████████████████████████████████████████████████████████████████████| 25/25 [00:02<00:00, 10.71it/s]\u001b[A\n",
      " 12%|█████████▎                                                                       | 23/200 [04:08<26:25,  8.96s/it]"
     ]
    },
    {
     "name": "stdout",
     "output_type": "stream",
     "text": [
      "Working on : \\\\merfish9.ucsd.edu\\volume1\\20230908_D106Luo\\DNA\\AnalysisDeconvolveCG\\SegmentationDAPI_CG\\Conv_zscan__0949--H1_B1_2_3--CYTO_segm.npz\n"
     ]
    },
    {
     "name": "stderr",
     "output_type": "stream",
     "text": [
      "\n",
      "  0%|                                                                                           | 0/25 [00:00<?, ?it/s]\u001b[A\n",
      "  4%|███▎                                                                               | 1/25 [00:00<00:10,  2.31it/s]\u001b[A\n",
      "  8%|██████▋                                                                            | 2/25 [00:00<00:06,  3.73it/s]\u001b[A\n",
      " 12%|█████████▉                                                                         | 3/25 [00:00<00:04,  4.56it/s]\u001b[A\n",
      " 16%|█████████████▎                                                                     | 4/25 [00:00<00:03,  5.27it/s]\u001b[A\n",
      " 24%|███████████████████▉                                                               | 6/25 [00:01<00:02,  7.29it/s]\u001b[A\n",
      " 28%|███████████████████████▏                                                           | 7/25 [00:01<00:02,  7.01it/s]\u001b[A\n",
      " 32%|██████████████████████████▌                                                        | 8/25 [00:01<00:02,  6.83it/s]\u001b[A\n",
      " 36%|█████████████████████████████▉                                                     | 9/25 [00:01<00:02,  6.95it/s]\u001b[A\n",
      " 44%|████████████████████████████████████                                              | 11/25 [00:01<00:01,  8.47it/s]\u001b[A\n",
      " 48%|███████████████████████████████████████▎                                          | 12/25 [00:01<00:01,  7.96it/s]\u001b[A\n",
      " 52%|██████████████████████████████████████████▋                                       | 13/25 [00:01<00:01,  7.61it/s]\u001b[A\n",
      " 56%|█████████████████████████████████████████████▉                                    | 14/25 [00:02<00:01,  7.29it/s]\u001b[A\n",
      " 64%|████████████████████████████████████████████████████▍                             | 16/25 [00:02<00:00,  9.02it/s]\u001b[A\n",
      " 68%|███████████████████████████████████████████████████████▊                          | 17/25 [00:02<00:00,  8.62it/s]\u001b[A\n",
      " 72%|███████████████████████████████████████████████████████████                       | 18/25 [00:02<00:00,  8.34it/s]\u001b[A\n",
      "100%|██████████████████████████████████████████████████████████████████████████████████| 25/25 [00:02<00:00,  8.99it/s]\u001b[A\n",
      " 12%|█████████▋                                                                       | 24/200 [04:18<26:33,  9.06s/it]"
     ]
    },
    {
     "name": "stdout",
     "output_type": "stream",
     "text": [
      "Working on : \\\\merfish9.ucsd.edu\\volume1\\20230908_D106Luo\\DNA\\AnalysisDeconvolveCG\\SegmentationDAPI_CG\\Conv_zscan__0950--H1_B1_2_3--CYTO_segm.npz\n"
     ]
    },
    {
     "name": "stderr",
     "output_type": "stream",
     "text": [
      "\n",
      "  0%|                                                                                           | 0/25 [00:00<?, ?it/s]\u001b[A\n",
      "  4%|███▎                                                                               | 1/25 [00:00<00:09,  2.47it/s]\u001b[A\n",
      "  8%|██████▋                                                                            | 2/25 [00:00<00:08,  2.65it/s]\u001b[A\n",
      " 12%|█████████▉                                                                         | 3/25 [00:00<00:06,  3.30it/s]\u001b[A\n",
      " 16%|█████████████▎                                                                     | 4/25 [00:01<00:05,  3.96it/s]\u001b[A\n",
      " 24%|███████████████████▉                                                               | 6/25 [00:01<00:03,  6.01it/s]\u001b[A\n",
      " 28%|███████████████████████▏                                                           | 7/25 [00:01<00:02,  6.18it/s]\u001b[A\n",
      " 32%|██████████████████████████▌                                                        | 8/25 [00:01<00:02,  6.23it/s]\u001b[A\n",
      " 36%|█████████████████████████████▉                                                     | 9/25 [00:01<00:02,  6.47it/s]\u001b[A\n",
      " 44%|████████████████████████████████████                                              | 11/25 [00:01<00:01,  8.02it/s]\u001b[A\n",
      " 48%|███████████████████████████████████████▎                                          | 12/25 [00:02<00:01,  7.63it/s]\u001b[A\n",
      " 52%|██████████████████████████████████████████▋                                       | 13/25 [00:02<00:01,  7.38it/s]\u001b[A\n",
      " 56%|█████████████████████████████████████████████▉                                    | 14/25 [00:02<00:01,  7.41it/s]\u001b[A\n",
      " 64%|████████████████████████████████████████████████████▍                             | 16/25 [00:02<00:00,  9.13it/s]\u001b[A\n",
      " 68%|███████████████████████████████████████████████████████▊                          | 17/25 [00:02<00:00,  8.69it/s]\u001b[A\n",
      " 72%|███████████████████████████████████████████████████████████                       | 18/25 [00:02<00:00,  8.05it/s]\u001b[A\n",
      "100%|██████████████████████████████████████████████████████████████████████████████████| 25/25 [00:03<00:00,  8.22it/s]\u001b[A\n",
      " 12%|██████████▏                                                                      | 25/200 [04:27<27:08,  9.31s/it]"
     ]
    },
    {
     "name": "stdout",
     "output_type": "stream",
     "text": [
      "Working on : \\\\merfish9.ucsd.edu\\volume1\\20230908_D106Luo\\DNA\\AnalysisDeconvolveCG\\SegmentationDAPI_CG\\Conv_zscan__0951--H1_B1_2_3--CYTO_segm.npz\n"
     ]
    },
    {
     "name": "stderr",
     "output_type": "stream",
     "text": [
      "\n",
      "  0%|                                                                                           | 0/25 [00:00<?, ?it/s]\u001b[A\n",
      "  4%|███▎                                                                               | 1/25 [00:00<00:08,  2.73it/s]\u001b[A\n",
      "  8%|██████▋                                                                            | 2/25 [00:00<00:06,  3.73it/s]\u001b[A\n",
      " 12%|█████████▉                                                                         | 3/25 [00:00<00:04,  4.62it/s]\u001b[A\n",
      " 16%|█████████████▎                                                                     | 4/25 [00:00<00:03,  5.37it/s]\u001b[A\n",
      " 24%|███████████████████▉                                                               | 6/25 [00:01<00:02,  7.41it/s]\u001b[A\n",
      " 28%|███████████████████████▏                                                           | 7/25 [00:01<00:02,  7.12it/s]\u001b[A\n",
      " 32%|██████████████████████████▌                                                        | 8/25 [00:01<00:02,  7.00it/s]\u001b[A\n",
      " 36%|█████████████████████████████▉                                                     | 9/25 [00:01<00:02,  7.16it/s]\u001b[A\n",
      " 44%|████████████████████████████████████                                              | 11/25 [00:01<00:01,  8.74it/s]\u001b[A\n",
      " 48%|███████████████████████████████████████▎                                          | 12/25 [00:01<00:01,  8.14it/s]\u001b[A\n",
      " 52%|██████████████████████████████████████████▋                                       | 13/25 [00:01<00:01,  7.73it/s]\u001b[A\n",
      " 56%|█████████████████████████████████████████████▉                                    | 14/25 [00:02<00:01,  7.67it/s]\u001b[A\n",
      " 64%|████████████████████████████████████████████████████▍                             | 16/25 [00:02<00:00,  9.37it/s]\u001b[A\n",
      " 68%|███████████████████████████████████████████████████████▊                          | 17/25 [00:02<00:00,  8.91it/s]\u001b[A\n",
      " 72%|███████████████████████████████████████████████████████████                       | 18/25 [00:02<00:00,  8.55it/s]\u001b[A\n",
      "100%|██████████████████████████████████████████████████████████████████████████████████| 25/25 [00:02<00:00,  9.26it/s]\u001b[A\n",
      " 13%|██████████▌                                                                      | 26/200 [04:37<27:12,  9.38s/it]"
     ]
    },
    {
     "name": "stdout",
     "output_type": "stream",
     "text": [
      "Working on : \\\\merfish9.ucsd.edu\\volume1\\20230908_D106Luo\\DNA\\AnalysisDeconvolveCG\\SegmentationDAPI_CG\\Conv_zscan__0952--H1_B1_2_3--CYTO_segm.npz\n"
     ]
    },
    {
     "name": "stderr",
     "output_type": "stream",
     "text": [
      "\n",
      "  0%|                                                                                           | 0/25 [00:00<?, ?it/s]\u001b[A\n",
      "  4%|███▎                                                                               | 1/25 [00:00<00:10,  2.40it/s]\u001b[A\n",
      "  8%|██████▋                                                                            | 2/25 [00:00<00:05,  3.85it/s]\u001b[A\n",
      " 12%|█████████▉                                                                         | 3/25 [00:00<00:04,  4.70it/s]\u001b[A\n",
      " 16%|█████████████▎                                                                     | 4/25 [00:00<00:03,  5.42it/s]\u001b[A\n",
      " 24%|███████████████████▉                                                               | 6/25 [00:01<00:02,  7.44it/s]\u001b[A\n",
      " 28%|███████████████████████▏                                                           | 7/25 [00:01<00:02,  7.08it/s]\u001b[A\n",
      " 32%|██████████████████████████▌                                                        | 8/25 [00:01<00:02,  6.91it/s]\u001b[A\n",
      " 36%|█████████████████████████████▉                                                     | 9/25 [00:01<00:02,  7.00it/s]\u001b[A\n",
      " 44%|████████████████████████████████████                                              | 11/25 [00:01<00:01,  8.56it/s]\u001b[A\n",
      " 48%|███████████████████████████████████████▎                                          | 12/25 [00:01<00:01,  8.01it/s]\u001b[A\n",
      " 52%|██████████████████████████████████████████▋                                       | 13/25 [00:01<00:01,  7.60it/s]\u001b[A\n",
      " 56%|█████████████████████████████████████████████▉                                    | 14/25 [00:02<00:01,  7.59it/s]\u001b[A\n",
      " 64%|████████████████████████████████████████████████████▍                             | 16/25 [00:02<00:00,  9.27it/s]\u001b[A\n",
      " 68%|███████████████████████████████████████████████████████▊                          | 17/25 [00:02<00:00,  8.80it/s]\u001b[A\n",
      " 72%|███████████████████████████████████████████████████████████                       | 18/25 [00:02<00:00,  8.47it/s]\u001b[A\n",
      "100%|██████████████████████████████████████████████████████████████████████████████████| 25/25 [00:02<00:00,  9.15it/s]\u001b[A\n",
      " 14%|██████████▉                                                                      | 27/200 [04:46<26:57,  9.35s/it]"
     ]
    },
    {
     "name": "stdout",
     "output_type": "stream",
     "text": [
      "Working on : \\\\merfish9.ucsd.edu\\volume1\\20230908_D106Luo\\DNA\\AnalysisDeconvolveCG\\SegmentationDAPI_CG\\Conv_zscan__0953--H1_B1_2_3--CYTO_segm.npz\n"
     ]
    },
    {
     "name": "stderr",
     "output_type": "stream",
     "text": [
      "\n",
      "  0%|                                                                                           | 0/25 [00:00<?, ?it/s]\u001b[A\n",
      "  4%|███▎                                                                               | 1/25 [00:00<00:09,  2.62it/s]\u001b[A\n",
      "  8%|██████▋                                                                            | 2/25 [00:00<00:06,  3.41it/s]\u001b[A\n",
      " 12%|█████████▉                                                                         | 3/25 [00:00<00:05,  4.01it/s]\u001b[A\n",
      " 16%|█████████████▎                                                                     | 4/25 [00:00<00:04,  4.83it/s]\u001b[A\n",
      " 24%|███████████████████▉                                                               | 6/25 [00:01<00:02,  6.89it/s]\u001b[A\n",
      " 28%|███████████████████████▏                                                           | 7/25 [00:01<00:02,  6.69it/s]\u001b[A\n",
      " 32%|██████████████████████████▌                                                        | 8/25 [00:01<00:02,  6.59it/s]\u001b[A\n",
      " 36%|█████████████████████████████▉                                                     | 9/25 [00:01<00:02,  6.82it/s]\u001b[A\n",
      " 44%|████████████████████████████████████                                              | 11/25 [00:01<00:01,  8.37it/s]\u001b[A\n",
      " 48%|███████████████████████████████████████▎                                          | 12/25 [00:01<00:01,  7.89it/s]\u001b[A\n",
      " 52%|██████████████████████████████████████████▋                                       | 13/25 [00:02<00:01,  7.62it/s]\u001b[A\n",
      " 56%|█████████████████████████████████████████████▉                                    | 14/25 [00:02<00:01,  7.58it/s]\u001b[A\n",
      " 64%|████████████████████████████████████████████████████▍                             | 16/25 [00:02<00:00,  9.26it/s]\u001b[A\n",
      " 68%|███████████████████████████████████████████████████████▊                          | 17/25 [00:02<00:00,  8.79it/s]\u001b[A\n",
      " 72%|███████████████████████████████████████████████████████████                       | 18/25 [00:02<00:00,  8.45it/s]\u001b[A\n",
      "100%|██████████████████████████████████████████████████████████████████████████████████| 25/25 [00:02<00:00,  8.87it/s]\u001b[A\n",
      " 14%|███████████▎                                                                     | 28/200 [04:56<26:50,  9.36s/it]"
     ]
    },
    {
     "name": "stdout",
     "output_type": "stream",
     "text": [
      "Working on : \\\\merfish9.ucsd.edu\\volume1\\20230908_D106Luo\\DNA\\AnalysisDeconvolveCG\\SegmentationDAPI_CG\\Conv_zscan__0954--H1_B1_2_3--CYTO_segm.npz\n"
     ]
    },
    {
     "name": "stderr",
     "output_type": "stream",
     "text": [
      "\n",
      "  0%|                                                                                           | 0/25 [00:00<?, ?it/s]\u001b[A\n",
      "  4%|███▎                                                                               | 1/25 [00:00<00:11,  2.04it/s]\u001b[A\n",
      "  8%|██████▋                                                                            | 2/25 [00:00<00:06,  3.42it/s]\u001b[A\n",
      " 12%|█████████▉                                                                         | 3/25 [00:01<00:07,  2.80it/s]\u001b[A\n",
      " 16%|█████████████▎                                                                     | 4/25 [00:01<00:05,  3.74it/s]\u001b[A\n",
      " 24%|███████████████████▉                                                               | 6/25 [00:01<00:03,  5.86it/s]\u001b[A\n",
      " 28%|███████████████████████▏                                                           | 7/25 [00:01<00:02,  6.09it/s]\u001b[A\n",
      " 32%|██████████████████████████▌                                                        | 8/25 [00:01<00:02,  6.29it/s]\u001b[A\n",
      " 36%|█████████████████████████████▉                                                     | 9/25 [00:01<00:02,  6.61it/s]\u001b[A\n",
      " 44%|████████████████████████████████████                                              | 11/25 [00:01<00:01,  8.12it/s]\u001b[A\n",
      " 48%|███████████████████████████████████████▎                                          | 12/25 [00:02<00:01,  7.66it/s]\u001b[A\n",
      " 52%|██████████████████████████████████████████▋                                       | 13/25 [00:02<00:01,  7.38it/s]\u001b[A\n",
      " 56%|█████████████████████████████████████████████▉                                    | 14/25 [00:02<00:01,  7.40it/s]\u001b[A\n",
      " 64%|████████████████████████████████████████████████████▍                             | 16/25 [00:02<00:00,  9.07it/s]\u001b[A\n",
      " 68%|███████████████████████████████████████████████████████▊                          | 17/25 [00:02<00:00,  8.72it/s]\u001b[A\n",
      " 72%|███████████████████████████████████████████████████████████                       | 18/25 [00:02<00:00,  8.42it/s]\u001b[A\n",
      "100%|██████████████████████████████████████████████████████████████████████████████████| 25/25 [00:03<00:00,  8.20it/s]\u001b[A\n",
      " 14%|███████████▋                                                                     | 29/200 [05:06<27:31,  9.66s/it]"
     ]
    },
    {
     "name": "stdout",
     "output_type": "stream",
     "text": [
      "Working on : \\\\merfish9.ucsd.edu\\volume1\\20230908_D106Luo\\DNA\\AnalysisDeconvolveCG\\SegmentationDAPI_CG\\Conv_zscan__0955--H1_B1_2_3--CYTO_segm.npz\n"
     ]
    },
    {
     "name": "stderr",
     "output_type": "stream",
     "text": [
      "\n",
      "  0%|                                                                                           | 0/25 [00:00<?, ?it/s]\u001b[A\n",
      "  4%|███▎                                                                               | 1/25 [00:00<00:11,  2.11it/s]\u001b[A\n",
      "  8%|██████▋                                                                            | 2/25 [00:00<00:06,  3.49it/s]\u001b[A\n",
      " 12%|█████████▉                                                                         | 3/25 [00:00<00:05,  4.34it/s]\u001b[A\n",
      " 16%|█████████████▎                                                                     | 4/25 [00:00<00:04,  5.15it/s]\u001b[A\n",
      " 24%|███████████████████▉                                                               | 6/25 [00:01<00:02,  7.22it/s]\u001b[A\n",
      " 28%|███████████████████████▏                                                           | 7/25 [00:01<00:02,  6.97it/s]\u001b[A\n",
      " 32%|██████████████████████████▌                                                        | 8/25 [00:01<00:02,  6.79it/s]\u001b[A\n",
      " 36%|█████████████████████████████▉                                                     | 9/25 [00:01<00:02,  6.91it/s]\u001b[A\n",
      " 44%|████████████████████████████████████                                              | 11/25 [00:01<00:01,  8.46it/s]\u001b[A\n",
      " 48%|███████████████████████████████████████▎                                          | 12/25 [00:01<00:01,  7.92it/s]\u001b[A\n",
      " 52%|██████████████████████████████████████████▋                                       | 13/25 [00:02<00:01,  7.59it/s]\u001b[A\n",
      " 56%|█████████████████████████████████████████████▉                                    | 14/25 [00:02<00:01,  7.57it/s]\u001b[A\n",
      " 64%|████████████████████████████████████████████████████▍                             | 16/25 [00:02<00:00,  9.32it/s]\u001b[A\n",
      " 68%|███████████████████████████████████████████████████████▊                          | 17/25 [00:02<00:00,  8.84it/s]\u001b[A\n",
      " 72%|███████████████████████████████████████████████████████████                       | 18/25 [00:02<00:00,  8.50it/s]\u001b[A\n",
      "100%|██████████████████████████████████████████████████████████████████████████████████| 25/25 [00:02<00:00,  8.95it/s]\u001b[A\n",
      " 15%|████████████▏                                                                    | 30/200 [05:16<27:28,  9.69s/it]"
     ]
    },
    {
     "name": "stdout",
     "output_type": "stream",
     "text": [
      "Working on : \\\\merfish9.ucsd.edu\\volume1\\20230908_D106Luo\\DNA\\AnalysisDeconvolveCG\\SegmentationDAPI_CG\\Conv_zscan__0956--H1_B1_2_3--CYTO_segm.npz\n"
     ]
    },
    {
     "name": "stderr",
     "output_type": "stream",
     "text": [
      "\n",
      "  0%|                                                                                           | 0/25 [00:00<?, ?it/s]\u001b[A\n",
      "  4%|███▎                                                                               | 1/25 [00:00<00:09,  2.51it/s]\u001b[A\n",
      "  8%|██████▋                                                                            | 2/25 [00:00<00:08,  2.66it/s]\u001b[A\n",
      " 12%|█████████▉                                                                         | 3/25 [00:00<00:06,  3.41it/s]\u001b[A\n",
      " 16%|█████████████▎                                                                     | 4/25 [00:01<00:04,  4.29it/s]\u001b[A\n",
      " 24%|███████████████████▉                                                               | 6/25 [00:01<00:02,  6.47it/s]\u001b[A\n",
      " 28%|███████████████████████▏                                                           | 7/25 [00:01<00:02,  6.43it/s]\u001b[A\n",
      " 32%|██████████████████████████▌                                                        | 8/25 [00:01<00:02,  6.40it/s]\u001b[A\n",
      " 36%|█████████████████████████████▉                                                     | 9/25 [00:01<00:02,  6.56it/s]\u001b[A\n",
      " 44%|████████████████████████████████████                                              | 11/25 [00:01<00:01,  8.12it/s]\u001b[A\n",
      " 48%|███████████████████████████████████████▎                                          | 12/25 [00:02<00:01,  7.70it/s]\u001b[A\n",
      " 52%|██████████████████████████████████████████▋                                       | 13/25 [00:02<00:01,  7.40it/s]\u001b[A\n",
      " 56%|█████████████████████████████████████████████▉                                    | 14/25 [00:02<00:01,  7.43it/s]\u001b[A\n",
      " 64%|████████████████████████████████████████████████████▍                             | 16/25 [00:02<00:00,  9.15it/s]\u001b[A\n",
      " 68%|███████████████████████████████████████████████████████▊                          | 17/25 [00:02<00:00,  8.74it/s]\u001b[A\n",
      " 72%|███████████████████████████████████████████████████████████                       | 18/25 [00:02<00:00,  8.45it/s]\u001b[A\n",
      " 76%|██████████████████████████████████████████████████████████████▎                   | 19/25 [00:02<00:00,  8.49it/s]\u001b[A\n",
      "100%|██████████████████████████████████████████████████████████████████████████████████| 25/25 [00:02<00:00,  8.43it/s]\u001b[A\n",
      " 16%|████████████▌                                                                    | 31/200 [05:26<27:59,  9.93s/it]"
     ]
    },
    {
     "name": "stdout",
     "output_type": "stream",
     "text": [
      "Working on : \\\\merfish9.ucsd.edu\\volume1\\20230908_D106Luo\\DNA\\AnalysisDeconvolveCG\\SegmentationDAPI_CG\\Conv_zscan__0957--H1_B1_2_3--CYTO_segm.npz\n"
     ]
    },
    {
     "name": "stderr",
     "output_type": "stream",
     "text": [
      "\n",
      "  0%|                                                                                           | 0/25 [00:00<?, ?it/s]\u001b[A\n",
      "  4%|███▎                                                                               | 1/25 [00:00<00:13,  1.83it/s]\u001b[A\n",
      "  8%|██████▋                                                                            | 2/25 [00:01<00:11,  1.97it/s]\u001b[A\n",
      " 12%|█████████▉                                                                         | 3/25 [00:01<00:08,  2.68it/s]\u001b[A\n",
      " 16%|█████████████▎                                                                     | 4/25 [00:01<00:06,  3.35it/s]\u001b[A\n",
      " 24%|███████████████████▉                                                               | 6/25 [00:01<00:03,  5.32it/s]\u001b[A\n",
      " 28%|███████████████████████▏                                                           | 7/25 [00:01<00:03,  5.64it/s]\u001b[A\n",
      " 32%|██████████████████████████▌                                                        | 8/25 [00:01<00:02,  5.89it/s]\u001b[A\n",
      " 36%|█████████████████████████████▉                                                     | 9/25 [00:02<00:02,  6.31it/s]\u001b[A\n",
      " 44%|████████████████████████████████████                                              | 11/25 [00:02<00:01,  7.85it/s]\u001b[A\n",
      " 48%|███████████████████████████████████████▎                                          | 12/25 [00:02<00:01,  7.54it/s]\u001b[A\n",
      " 52%|██████████████████████████████████████████▋                                       | 13/25 [00:02<00:01,  7.30it/s]\u001b[A\n",
      " 56%|█████████████████████████████████████████████▉                                    | 14/25 [00:02<00:01,  7.35it/s]\u001b[A\n",
      " 64%|████████████████████████████████████████████████████▍                             | 16/25 [00:02<00:00,  9.11it/s]\u001b[A\n",
      " 68%|███████████████████████████████████████████████████████▊                          | 17/25 [00:02<00:00,  8.75it/s]\u001b[A\n",
      " 72%|███████████████████████████████████████████████████████████                       | 18/25 [00:03<00:00,  8.40it/s]\u001b[A\n",
      "100%|██████████████████████████████████████████████████████████████████████████████████| 25/25 [00:03<00:00,  7.64it/s]\u001b[A\n",
      " 16%|████████████▉                                                                    | 32/200 [05:37<28:38, 10.23s/it]"
     ]
    },
    {
     "name": "stdout",
     "output_type": "stream",
     "text": [
      "Working on : \\\\merfish9.ucsd.edu\\volume1\\20230908_D106Luo\\DNA\\AnalysisDeconvolveCG\\SegmentationDAPI_CG\\Conv_zscan__0958--H1_B1_2_3--CYTO_segm.npz\n"
     ]
    },
    {
     "name": "stderr",
     "output_type": "stream",
     "text": [
      "\n",
      "  0%|                                                                                           | 0/25 [00:00<?, ?it/s]\u001b[A\n",
      "  4%|███▎                                                                               | 1/25 [00:00<00:12,  1.94it/s]\u001b[A\n",
      "  8%|██████▋                                                                            | 2/25 [00:00<00:08,  2.87it/s]\u001b[A\n",
      " 12%|█████████▉                                                                         | 3/25 [00:00<00:06,  3.59it/s]\u001b[A\n",
      " 16%|█████████████▎                                                                     | 4/25 [00:01<00:04,  4.48it/s]\u001b[A\n",
      " 24%|███████████████████▉                                                               | 6/25 [00:01<00:02,  6.63it/s]\u001b[A\n",
      " 28%|███████████████████████▏                                                           | 7/25 [00:01<00:02,  6.65it/s]\u001b[A\n",
      " 32%|██████████████████████████▌                                                        | 8/25 [00:01<00:02,  6.57it/s]\u001b[A\n",
      " 36%|█████████████████████████████▉                                                     | 9/25 [00:01<00:02,  6.76it/s]\u001b[A\n",
      " 44%|████████████████████████████████████                                              | 11/25 [00:01<00:01,  8.33it/s]\u001b[A\n",
      " 48%|███████████████████████████████████████▎                                          | 12/25 [00:02<00:01,  7.87it/s]\u001b[A\n",
      " 52%|██████████████████████████████████████████▋                                       | 13/25 [00:02<00:01,  7.61it/s]\u001b[A\n",
      " 56%|█████████████████████████████████████████████▉                                    | 14/25 [00:02<00:01,  7.60it/s]\u001b[A\n",
      " 64%|████████████████████████████████████████████████████▍                             | 16/25 [00:02<00:00,  9.31it/s]\u001b[A\n",
      " 68%|███████████████████████████████████████████████████████▊                          | 17/25 [00:02<00:00,  8.85it/s]\u001b[A\n",
      " 72%|███████████████████████████████████████████████████████████                       | 18/25 [00:02<00:00,  8.49it/s]\u001b[A\n",
      " 76%|██████████████████████████████████████████████████████████████▎                   | 19/25 [00:02<00:00,  8.50it/s]\u001b[A\n",
      "100%|██████████████████████████████████████████████████████████████████████████████████| 25/25 [00:02<00:00,  8.54it/s]\u001b[A\n",
      " 16%|█████████████▎                                                                   | 33/200 [05:50<30:54, 11.11s/it]"
     ]
    },
    {
     "name": "stdout",
     "output_type": "stream",
     "text": [
      "Working on : \\\\merfish9.ucsd.edu\\volume1\\20230908_D106Luo\\DNA\\AnalysisDeconvolveCG\\SegmentationDAPI_CG\\Conv_zscan__0959--H1_B1_2_3--CYTO_segm.npz\n"
     ]
    },
    {
     "name": "stderr",
     "output_type": "stream",
     "text": [
      "\n",
      "  0%|                                                                                           | 0/25 [00:00<?, ?it/s]\u001b[A\n",
      "  4%|███▎                                                                               | 1/25 [00:00<00:11,  2.00it/s]\u001b[A\n",
      "  8%|██████▋                                                                            | 2/25 [00:00<00:06,  3.34it/s]\u001b[A\n",
      " 12%|█████████▉                                                                         | 3/25 [00:00<00:05,  4.33it/s]\u001b[A\n",
      " 16%|█████████████▎                                                                     | 4/25 [00:01<00:05,  4.08it/s]\u001b[A\n",
      " 24%|███████████████████▉                                                               | 6/25 [00:01<00:03,  6.16it/s]\u001b[A\n",
      " 28%|███████████████████████▏                                                           | 7/25 [00:01<00:02,  6.23it/s]\u001b[A\n",
      " 32%|██████████████████████████▌                                                        | 8/25 [00:01<00:02,  6.31it/s]\u001b[A\n",
      " 36%|█████████████████████████████▉                                                     | 9/25 [00:01<00:02,  6.60it/s]\u001b[A\n",
      " 44%|████████████████████████████████████                                              | 11/25 [00:01<00:01,  8.23it/s]\u001b[A\n",
      " 48%|███████████████████████████████████████▎                                          | 12/25 [00:02<00:01,  7.83it/s]\u001b[A\n",
      " 52%|██████████████████████████████████████████▋                                       | 13/25 [00:02<00:01,  7.58it/s]\u001b[A\n",
      " 56%|█████████████████████████████████████████████▉                                    | 14/25 [00:02<00:01,  7.56it/s]\u001b[A\n",
      " 64%|████████████████████████████████████████████████████▍                             | 16/25 [00:02<00:00,  9.32it/s]\u001b[A\n",
      " 68%|███████████████████████████████████████████████████████▊                          | 17/25 [00:02<00:00,  8.84it/s]\u001b[A\n",
      " 72%|███████████████████████████████████████████████████████████                       | 18/25 [00:02<00:00,  8.50it/s]\u001b[A\n",
      "100%|██████████████████████████████████████████████████████████████████████████████████| 25/25 [00:02<00:00,  8.56it/s]\u001b[A\n",
      " 17%|█████████████▊                                                                   | 34/200 [06:02<30:45, 11.12s/it]"
     ]
    },
    {
     "name": "stdout",
     "output_type": "stream",
     "text": [
      "Working on : \\\\merfish9.ucsd.edu\\volume1\\20230908_D106Luo\\DNA\\AnalysisDeconvolveCG\\SegmentationDAPI_CG\\Conv_zscan__0960--H1_B1_2_3--CYTO_segm.npz\n"
     ]
    },
    {
     "name": "stderr",
     "output_type": "stream",
     "text": [
      "\n",
      "  0%|                                                                                           | 0/25 [00:00<?, ?it/s]\u001b[A\n",
      "  4%|███▎                                                                               | 1/25 [00:00<00:11,  2.14it/s]\u001b[A\n",
      "  8%|██████▋                                                                            | 2/25 [00:00<00:09,  2.39it/s]\u001b[A\n",
      " 12%|█████████▉                                                                         | 3/25 [00:01<00:06,  3.32it/s]\u001b[A\n",
      " 16%|█████████████▎                                                                     | 4/25 [00:01<00:04,  4.24it/s]\u001b[A\n",
      " 24%|███████████████████▉                                                               | 6/25 [00:01<00:03,  6.31it/s]\u001b[A\n",
      " 28%|███████████████████████▏                                                           | 7/25 [00:01<00:02,  6.30it/s]\u001b[A\n",
      " 32%|██████████████████████████▌                                                        | 8/25 [00:01<00:02,  6.33it/s]\u001b[A\n",
      " 36%|█████████████████████████████▉                                                     | 9/25 [00:01<00:02,  6.56it/s]\u001b[A\n",
      " 44%|████████████████████████████████████                                              | 11/25 [00:01<00:01,  8.09it/s]\u001b[A\n",
      " 48%|███████████████████████████████████████▎                                          | 12/25 [00:02<00:01,  7.70it/s]\u001b[A\n",
      " 52%|██████████████████████████████████████████▋                                       | 13/25 [00:02<00:01,  7.43it/s]\u001b[A\n",
      " 56%|█████████████████████████████████████████████▉                                    | 14/25 [00:02<00:01,  7.43it/s]\u001b[A\n",
      " 64%|████████████████████████████████████████████████████▍                             | 16/25 [00:02<00:00,  9.13it/s]\u001b[A\n",
      " 68%|███████████████████████████████████████████████████████▊                          | 17/25 [00:02<00:00,  8.74it/s]\u001b[A\n",
      " 72%|███████████████████████████████████████████████████████████                       | 18/25 [00:02<00:00,  8.45it/s]\u001b[A\n",
      "100%|██████████████████████████████████████████████████████████████████████████████████| 25/25 [00:03<00:00,  8.28it/s]\u001b[A\n",
      " 18%|██████████████▏                                                                  | 35/200 [06:12<29:58, 10.90s/it]"
     ]
    },
    {
     "name": "stdout",
     "output_type": "stream",
     "text": [
      "Working on : \\\\merfish9.ucsd.edu\\volume1\\20230908_D106Luo\\DNA\\AnalysisDeconvolveCG\\SegmentationDAPI_CG\\Conv_zscan__0961--H1_B1_2_3--CYTO_segm.npz\n"
     ]
    },
    {
     "name": "stderr",
     "output_type": "stream",
     "text": [
      "\n",
      "  0%|                                                                                           | 0/25 [00:00<?, ?it/s]\u001b[A\n",
      "  4%|███▎                                                                               | 1/25 [00:00<00:11,  2.16it/s]\u001b[A\n",
      "  8%|██████▋                                                                            | 2/25 [00:00<00:08,  2.67it/s]\u001b[A\n",
      " 12%|█████████▉                                                                         | 3/25 [00:00<00:05,  3.73it/s]\u001b[A\n",
      " 16%|█████████████▎                                                                     | 4/25 [00:01<00:04,  4.62it/s]\u001b[A\n",
      " 24%|███████████████████▉                                                               | 6/25 [00:01<00:02,  6.76it/s]\u001b[A\n",
      " 28%|███████████████████████▏                                                           | 7/25 [00:01<00:02,  6.78it/s]\u001b[A\n",
      " 32%|██████████████████████████▌                                                        | 8/25 [00:01<00:02,  6.68it/s]\u001b[A\n",
      " 36%|█████████████████████████████▉                                                     | 9/25 [00:01<00:02,  6.85it/s]\u001b[A\n",
      " 44%|████████████████████████████████████                                              | 11/25 [00:01<00:01,  8.44it/s]\u001b[A\n",
      " 48%|███████████████████████████████████████▎                                          | 12/25 [00:01<00:01,  7.91it/s]\u001b[A\n",
      " 52%|██████████████████████████████████████████▋                                       | 13/25 [00:02<00:01,  7.59it/s]\u001b[A\n",
      " 56%|█████████████████████████████████████████████▉                                    | 14/25 [00:02<00:01,  7.56it/s]\u001b[A\n",
      " 64%|████████████████████████████████████████████████████▍                             | 16/25 [00:02<00:00,  9.24it/s]\u001b[A\n",
      " 68%|███████████████████████████████████████████████████████▊                          | 17/25 [00:02<00:00,  8.76it/s]\u001b[A\n",
      " 72%|███████████████████████████████████████████████████████████                       | 18/25 [00:02<00:00,  8.46it/s]\u001b[A\n",
      "100%|██████████████████████████████████████████████████████████████████████████████████| 25/25 [00:02<00:00,  8.61it/s]\u001b[A\n",
      " 18%|██████████████▌                                                                  | 36/200 [06:22<29:04, 10.64s/it]"
     ]
    },
    {
     "name": "stdout",
     "output_type": "stream",
     "text": [
      "Working on : \\\\merfish9.ucsd.edu\\volume1\\20230908_D106Luo\\DNA\\AnalysisDeconvolveCG\\SegmentationDAPI_CG\\Conv_zscan__0962--H1_B1_2_3--CYTO_segm.npz\n"
     ]
    },
    {
     "name": "stderr",
     "output_type": "stream",
     "text": [
      "\n",
      "  0%|                                                                                           | 0/25 [00:00<?, ?it/s]\u001b[A\n",
      "  4%|███▎                                                                               | 1/25 [00:00<00:12,  1.89it/s]\u001b[A\n",
      "  8%|██████▋                                                                            | 2/25 [00:00<00:06,  3.32it/s]\u001b[A\n",
      " 12%|█████████▉                                                                         | 3/25 [00:00<00:06,  3.57it/s]\u001b[A\n",
      " 16%|█████████████▎                                                                     | 4/25 [00:01<00:04,  4.48it/s]\u001b[A\n",
      " 24%|███████████████████▉                                                               | 6/25 [00:01<00:02,  6.62it/s]\u001b[A\n",
      " 28%|███████████████████████▏                                                           | 7/25 [00:01<00:02,  6.55it/s]\u001b[A\n",
      " 32%|██████████████████████████▌                                                        | 8/25 [00:01<00:02,  6.54it/s]\u001b[A\n",
      " 36%|█████████████████████████████▉                                                     | 9/25 [00:01<00:02,  6.81it/s]\u001b[A\n",
      " 44%|████████████████████████████████████                                              | 11/25 [00:01<00:01,  8.36it/s]\u001b[A\n",
      " 48%|███████████████████████████████████████▎                                          | 12/25 [00:01<00:01,  7.92it/s]\u001b[A\n",
      " 52%|██████████████████████████████████████████▋                                       | 13/25 [00:02<00:01,  7.57it/s]\u001b[A\n",
      " 56%|█████████████████████████████████████████████▉                                    | 14/25 [00:02<00:01,  7.52it/s]\u001b[A\n",
      " 64%|████████████████████████████████████████████████████▍                             | 16/25 [00:02<00:00,  9.26it/s]\u001b[A\n",
      " 68%|███████████████████████████████████████████████████████▊                          | 17/25 [00:02<00:00,  8.85it/s]\u001b[A\n",
      " 72%|███████████████████████████████████████████████████████████                       | 18/25 [00:02<00:00,  8.51it/s]\u001b[A\n",
      "100%|██████████████████████████████████████████████████████████████████████████████████| 25/25 [00:02<00:00,  8.59it/s]\u001b[A\n",
      " 18%|██████████████▉                                                                  | 37/200 [06:33<28:55, 10.65s/it]"
     ]
    },
    {
     "name": "stdout",
     "output_type": "stream",
     "text": [
      "Working on : \\\\merfish9.ucsd.edu\\volume1\\20230908_D106Luo\\DNA\\AnalysisDeconvolveCG\\SegmentationDAPI_CG\\Conv_zscan__0963--H1_B1_2_3--CYTO_segm.npz\n"
     ]
    },
    {
     "name": "stderr",
     "output_type": "stream",
     "text": [
      "\n",
      "  0%|                                                                                           | 0/25 [00:00<?, ?it/s]\u001b[A\n",
      "  4%|███▎                                                                               | 1/25 [00:00<00:10,  2.21it/s]\u001b[A\n",
      "  8%|██████▋                                                                            | 2/25 [00:00<00:06,  3.54it/s]\u001b[A\n",
      " 12%|█████████▉                                                                         | 3/25 [00:00<00:04,  4.46it/s]\u001b[A\n",
      " 16%|█████████████▎                                                                     | 4/25 [00:00<00:04,  5.21it/s]\u001b[A\n",
      " 24%|███████████████████▉                                                               | 6/25 [00:01<00:02,  7.24it/s]\u001b[A\n",
      " 28%|███████████████████████▏                                                           | 7/25 [00:01<00:02,  6.98it/s]\u001b[A\n",
      " 32%|██████████████████████████▌                                                        | 8/25 [00:01<00:02,  6.81it/s]\u001b[A\n",
      " 36%|█████████████████████████████▉                                                     | 9/25 [00:01<00:02,  6.97it/s]\u001b[A\n",
      " 44%|████████████████████████████████████                                              | 11/25 [00:01<00:01,  8.52it/s]\u001b[A\n",
      " 48%|███████████████████████████████████████▎                                          | 12/25 [00:01<00:01,  8.00it/s]\u001b[A\n",
      " 52%|██████████████████████████████████████████▋                                       | 13/25 [00:02<00:01,  7.62it/s]\u001b[A\n",
      " 56%|█████████████████████████████████████████████▉                                    | 14/25 [00:02<00:01,  7.61it/s]\u001b[A\n",
      " 64%|████████████████████████████████████████████████████▍                             | 16/25 [00:02<00:00,  9.34it/s]\u001b[A\n",
      " 68%|███████████████████████████████████████████████████████▊                          | 17/25 [00:02<00:00,  8.85it/s]\u001b[A\n",
      " 72%|███████████████████████████████████████████████████████████                       | 18/25 [00:02<00:00,  8.51it/s]\u001b[A\n",
      "100%|██████████████████████████████████████████████████████████████████████████████████| 25/25 [00:02<00:00,  9.01it/s]\u001b[A\n",
      " 19%|███████████████▍                                                                 | 38/200 [06:45<29:55, 11.08s/it]"
     ]
    },
    {
     "name": "stdout",
     "output_type": "stream",
     "text": [
      "Working on : \\\\merfish9.ucsd.edu\\volume1\\20230908_D106Luo\\DNA\\AnalysisDeconvolveCG\\SegmentationDAPI_CG\\Conv_zscan__0964--H1_B1_2_3--CYTO_segm.npz\n"
     ]
    },
    {
     "name": "stderr",
     "output_type": "stream",
     "text": [
      "\n",
      "  0%|                                                                                           | 0/25 [00:00<?, ?it/s]\u001b[A\n",
      "  4%|███▎                                                                               | 1/25 [00:00<00:12,  1.88it/s]\u001b[A\n",
      "  8%|██████▋                                                                            | 2/25 [00:00<00:08,  2.77it/s]\u001b[A\n",
      " 12%|█████████▉                                                                         | 3/25 [00:00<00:06,  3.45it/s]\u001b[A\n",
      " 16%|█████████████▎                                                                     | 4/25 [00:01<00:04,  4.28it/s]\u001b[A\n",
      " 24%|███████████████████▉                                                               | 6/25 [00:01<00:02,  6.34it/s]\u001b[A\n",
      " 28%|███████████████████████▏                                                           | 7/25 [00:01<00:02,  6.35it/s]\u001b[A\n",
      " 32%|██████████████████████████▌                                                        | 8/25 [00:01<00:02,  6.36it/s]\u001b[A\n",
      " 36%|█████████████████████████████▉                                                     | 9/25 [00:01<00:02,  6.54it/s]\u001b[A\n",
      " 44%|████████████████████████████████████                                              | 11/25 [00:01<00:01,  8.20it/s]\u001b[A\n",
      " 48%|███████████████████████████████████████▎                                          | 12/25 [00:02<00:01,  7.78it/s]\u001b[A\n",
      " 52%|██████████████████████████████████████████▋                                       | 13/25 [00:02<00:01,  7.47it/s]\u001b[A\n",
      " 56%|█████████████████████████████████████████████▉                                    | 14/25 [00:02<00:01,  7.54it/s]\u001b[A\n",
      " 64%|████████████████████████████████████████████████████▍                             | 16/25 [00:02<00:00,  9.21it/s]\u001b[A\n",
      " 68%|███████████████████████████████████████████████████████▊                          | 17/25 [00:02<00:00,  8.80it/s]\u001b[A\n",
      " 72%|███████████████████████████████████████████████████████████                       | 18/25 [00:02<00:00,  8.51it/s]\u001b[A\n",
      "100%|██████████████████████████████████████████████████████████████████████████████████| 25/25 [00:02<00:00,  8.37it/s]\u001b[A\n",
      " 20%|███████████████▊                                                                 | 39/200 [07:00<32:51, 12.25s/it]"
     ]
    },
    {
     "name": "stdout",
     "output_type": "stream",
     "text": [
      "Working on : \\\\merfish9.ucsd.edu\\volume1\\20230908_D106Luo\\DNA\\AnalysisDeconvolveCG\\SegmentationDAPI_CG\\Conv_zscan__0965--H1_B1_2_3--CYTO_segm.npz\n"
     ]
    },
    {
     "name": "stderr",
     "output_type": "stream",
     "text": [
      "\n",
      "  0%|                                                                                           | 0/25 [00:00<?, ?it/s]\u001b[A\n",
      "  4%|███▎                                                                               | 1/25 [00:00<00:09,  2.50it/s]\u001b[A\n",
      "  8%|██████▋                                                                            | 2/25 [00:00<00:08,  2.71it/s]\u001b[A\n",
      " 12%|█████████▉                                                                         | 3/25 [00:00<00:05,  3.75it/s]\u001b[A\n",
      " 16%|█████████████▎                                                                     | 4/25 [00:01<00:04,  4.60it/s]\u001b[A\n",
      " 24%|███████████████████▉                                                               | 6/25 [00:01<00:02,  6.70it/s]\u001b[A\n",
      " 28%|███████████████████████▏                                                           | 7/25 [00:01<00:02,  6.61it/s]\u001b[A\n",
      " 32%|██████████████████████████▌                                                        | 8/25 [00:01<00:02,  6.57it/s]\u001b[A\n",
      " 36%|█████████████████████████████▉                                                     | 9/25 [00:01<00:02,  6.75it/s]\u001b[A\n",
      " 44%|████████████████████████████████████                                              | 11/25 [00:01<00:01,  8.31it/s]\u001b[A\n",
      " 48%|███████████████████████████████████████▎                                          | 12/25 [00:01<00:01,  7.85it/s]\u001b[A\n",
      " 52%|██████████████████████████████████████████▋                                       | 13/25 [00:02<00:01,  7.52it/s]\u001b[A\n",
      " 56%|█████████████████████████████████████████████▉                                    | 14/25 [00:02<00:01,  7.43it/s]\u001b[A\n",
      " 64%|████████████████████████████████████████████████████▍                             | 16/25 [00:02<00:00,  9.18it/s]\u001b[A\n",
      " 68%|███████████████████████████████████████████████████████▊                          | 17/25 [00:02<00:00,  8.76it/s]\u001b[A\n",
      " 72%|███████████████████████████████████████████████████████████                       | 18/25 [00:02<00:00,  8.45it/s]\u001b[A\n",
      "100%|██████████████████████████████████████████████████████████████████████████████████| 25/25 [00:02<00:00,  8.63it/s]\u001b[A\n",
      " 20%|████████████████▏                                                                | 40/200 [07:15<35:12, 13.21s/it]"
     ]
    },
    {
     "name": "stdout",
     "output_type": "stream",
     "text": [
      "Working on : \\\\merfish9.ucsd.edu\\volume1\\20230908_D106Luo\\DNA\\AnalysisDeconvolveCG\\SegmentationDAPI_CG\\Conv_zscan__0966--H1_B1_2_3--CYTO_segm.npz\n"
     ]
    },
    {
     "name": "stderr",
     "output_type": "stream",
     "text": [
      "\n",
      "  0%|                                                                                           | 0/25 [00:00<?, ?it/s]\u001b[A\n",
      "  4%|███▎                                                                               | 1/25 [00:00<00:08,  2.71it/s]\u001b[A\n",
      "  8%|██████▋                                                                            | 2/25 [00:00<00:07,  3.03it/s]\u001b[A\n",
      " 12%|█████████▉                                                                         | 3/25 [00:00<00:05,  4.06it/s]\u001b[A\n",
      " 16%|█████████████▎                                                                     | 4/25 [00:00<00:04,  4.88it/s]\u001b[A\n",
      " 24%|███████████████████▉                                                               | 6/25 [00:01<00:02,  7.08it/s]\u001b[A\n",
      " 28%|███████████████████████▏                                                           | 7/25 [00:01<00:02,  6.88it/s]\u001b[A\n",
      " 32%|██████████████████████████▌                                                        | 8/25 [00:01<00:02,  6.78it/s]\u001b[A\n",
      " 36%|█████████████████████████████▉                                                     | 9/25 [00:01<00:02,  6.95it/s]\u001b[A\n",
      " 44%|████████████████████████████████████                                              | 11/25 [00:01<00:01,  8.52it/s]\u001b[A\n",
      " 48%|███████████████████████████████████████▎                                          | 12/25 [00:01<00:01,  7.96it/s]\u001b[A\n",
      " 52%|██████████████████████████████████████████▋                                       | 13/25 [00:02<00:01,  7.66it/s]\u001b[A\n",
      " 56%|█████████████████████████████████████████████▉                                    | 14/25 [00:02<00:01,  7.64it/s]\u001b[A\n",
      " 64%|████████████████████████████████████████████████████▍                             | 16/25 [00:02<00:00,  9.30it/s]\u001b[A\n",
      " 68%|███████████████████████████████████████████████████████▊                          | 17/25 [00:02<00:00,  8.86it/s]\u001b[A\n",
      " 72%|███████████████████████████████████████████████████████████                       | 18/25 [00:02<00:00,  8.50it/s]\u001b[A\n",
      "100%|██████████████████████████████████████████████████████████████████████████████████| 25/25 [00:02<00:00,  8.92it/s]\u001b[A\n",
      " 20%|████████████████▌                                                                | 41/200 [07:28<34:56, 13.18s/it]"
     ]
    },
    {
     "name": "stdout",
     "output_type": "stream",
     "text": [
      "Working on : \\\\merfish9.ucsd.edu\\volume1\\20230908_D106Luo\\DNA\\AnalysisDeconvolveCG\\SegmentationDAPI_CG\\Conv_zscan__0967--H1_B1_2_3--CYTO_segm.npz\n"
     ]
    },
    {
     "name": "stderr",
     "output_type": "stream",
     "text": [
      "\n",
      "  0%|                                                                                           | 0/25 [00:00<?, ?it/s]\u001b[A\n",
      "  4%|███▎                                                                               | 1/25 [00:00<00:11,  2.10it/s]\u001b[A\n",
      "  8%|██████▋                                                                            | 2/25 [00:00<00:07,  2.90it/s]\u001b[A\n",
      " 12%|█████████▉                                                                         | 3/25 [00:00<00:05,  3.84it/s]\u001b[A\n",
      " 16%|█████████████▎                                                                     | 4/25 [00:01<00:04,  4.60it/s]\u001b[A\n",
      " 24%|███████████████████▉                                                               | 6/25 [00:01<00:02,  6.68it/s]\u001b[A\n",
      " 28%|███████████████████████▏                                                           | 7/25 [00:01<00:02,  6.59it/s]\u001b[A\n",
      " 32%|██████████████████████████▌                                                        | 8/25 [00:01<00:02,  6.58it/s]\u001b[A\n",
      " 36%|█████████████████████████████▉                                                     | 9/25 [00:01<00:02,  6.80it/s]\u001b[A\n",
      " 44%|████████████████████████████████████                                              | 11/25 [00:01<00:01,  8.33it/s]\u001b[A\n",
      " 48%|███████████████████████████████████████▎                                          | 12/25 [00:01<00:01,  7.84it/s]\u001b[A\n",
      " 52%|██████████████████████████████████████████▋                                       | 13/25 [00:02<00:01,  7.57it/s]\u001b[A\n",
      " 56%|█████████████████████████████████████████████▉                                    | 14/25 [00:02<00:01,  7.56it/s]\u001b[A\n",
      " 64%|████████████████████████████████████████████████████▍                             | 16/25 [00:02<00:00,  9.26it/s]\u001b[A\n",
      " 68%|███████████████████████████████████████████████████████▊                          | 17/25 [00:02<00:00,  8.81it/s]\u001b[A\n",
      " 72%|███████████████████████████████████████████████████████████                       | 18/25 [00:02<00:00,  8.48it/s]\u001b[A\n",
      "100%|██████████████████████████████████████████████████████████████████████████████████| 25/25 [00:02<00:00,  8.62it/s]\u001b[A\n",
      " 21%|█████████████████                                                                | 42/200 [07:40<33:53, 12.87s/it]"
     ]
    },
    {
     "name": "stdout",
     "output_type": "stream",
     "text": [
      "Working on : \\\\merfish9.ucsd.edu\\volume1\\20230908_D106Luo\\DNA\\AnalysisDeconvolveCG\\SegmentationDAPI_CG\\Conv_zscan__0968--H1_B1_2_3--CYTO_segm.npz\n"
     ]
    },
    {
     "name": "stderr",
     "output_type": "stream",
     "text": [
      "\n",
      "  0%|                                                                                           | 0/25 [00:00<?, ?it/s]\u001b[A\n",
      "  4%|███▎                                                                               | 1/25 [00:00<00:09,  2.52it/s]\u001b[A\n",
      "  8%|██████▋                                                                            | 2/25 [00:00<00:06,  3.37it/s]\u001b[A\n",
      " 12%|█████████▉                                                                         | 3/25 [00:00<00:05,  4.25it/s]\u001b[A\n",
      " 16%|█████████████▎                                                                     | 4/25 [00:00<00:04,  5.03it/s]\u001b[A\n",
      " 24%|███████████████████▉                                                               | 6/25 [00:01<00:02,  6.96it/s]\u001b[A\n",
      " 28%|███████████████████████▏                                                           | 7/25 [00:01<00:02,  6.75it/s]\u001b[A\n",
      " 32%|██████████████████████████▌                                                        | 8/25 [00:01<00:02,  6.68it/s]\u001b[A\n",
      " 36%|█████████████████████████████▉                                                     | 9/25 [00:01<00:02,  6.90it/s]\u001b[A\n",
      " 44%|████████████████████████████████████                                              | 11/25 [00:01<00:01,  8.43it/s]\u001b[A\n",
      " 48%|███████████████████████████████████████▎                                          | 12/25 [00:01<00:01,  7.95it/s]\u001b[A\n",
      " 52%|██████████████████████████████████████████▋                                       | 13/25 [00:02<00:01,  7.59it/s]\u001b[A\n",
      " 56%|█████████████████████████████████████████████▉                                    | 14/25 [00:02<00:01,  7.55it/s]\u001b[A\n",
      " 64%|████████████████████████████████████████████████████▍                             | 16/25 [00:02<00:00,  9.25it/s]\u001b[A\n",
      " 68%|███████████████████████████████████████████████████████▊                          | 17/25 [00:02<00:00,  8.79it/s]\u001b[A\n",
      " 72%|███████████████████████████████████████████████████████████                       | 18/25 [00:02<00:00,  8.47it/s]\u001b[A\n",
      "100%|██████████████████████████████████████████████████████████████████████████████████| 25/25 [00:02<00:00,  8.92it/s]\u001b[A\n",
      " 22%|█████████████████▍                                                               | 43/200 [07:51<32:01, 12.24s/it]"
     ]
    },
    {
     "name": "stdout",
     "output_type": "stream",
     "text": [
      "Working on : \\\\merfish9.ucsd.edu\\volume1\\20230908_D106Luo\\DNA\\AnalysisDeconvolveCG\\SegmentationDAPI_CG\\Conv_zscan__0969--H1_B1_2_3--CYTO_segm.npz\n"
     ]
    },
    {
     "name": "stderr",
     "output_type": "stream",
     "text": [
      "\n",
      "  0%|                                                                                           | 0/25 [00:00<?, ?it/s]\u001b[A\n",
      "  4%|███▎                                                                               | 1/25 [00:00<00:10,  2.19it/s]\u001b[A\n",
      "  8%|██████▋                                                                            | 2/25 [00:00<00:06,  3.43it/s]\u001b[A\n",
      " 12%|█████████▉                                                                         | 3/25 [00:00<00:05,  4.04it/s]\u001b[A\n",
      " 16%|█████████████▎                                                                     | 4/25 [00:00<00:04,  4.80it/s]\u001b[A\n",
      " 24%|███████████████████▉                                                               | 6/25 [00:01<00:02,  6.84it/s]\u001b[A\n",
      " 28%|███████████████████████▏                                                           | 7/25 [00:01<00:02,  6.68it/s]\u001b[A\n",
      " 32%|██████████████████████████▌                                                        | 8/25 [00:01<00:02,  6.54it/s]\u001b[A\n",
      " 36%|█████████████████████████████▉                                                     | 9/25 [00:01<00:02,  6.73it/s]\u001b[A\n",
      " 44%|████████████████████████████████████                                              | 11/25 [00:01<00:01,  8.31it/s]\u001b[A\n",
      " 48%|███████████████████████████████████████▎                                          | 12/25 [00:01<00:01,  7.85it/s]\u001b[A\n",
      " 52%|██████████████████████████████████████████▋                                       | 13/25 [00:02<00:01,  7.52it/s]\u001b[A\n",
      " 56%|█████████████████████████████████████████████▉                                    | 14/25 [00:02<00:01,  7.51it/s]\u001b[A\n",
      " 64%|████████████████████████████████████████████████████▍                             | 16/25 [00:02<00:00,  9.16it/s]\u001b[A\n",
      " 68%|███████████████████████████████████████████████████████▊                          | 17/25 [00:02<00:00,  8.78it/s]\u001b[A\n",
      " 72%|███████████████████████████████████████████████████████████                       | 18/25 [00:02<00:00,  8.44it/s]\u001b[A\n",
      "100%|██████████████████████████████████████████████████████████████████████████████████| 25/25 [00:02<00:00,  8.76it/s]\u001b[A\n",
      " 22%|█████████████████▊                                                               | 44/200 [08:04<32:14, 12.40s/it]"
     ]
    },
    {
     "name": "stdout",
     "output_type": "stream",
     "text": [
      "Working on : \\\\merfish9.ucsd.edu\\volume1\\20230908_D106Luo\\DNA\\AnalysisDeconvolveCG\\SegmentationDAPI_CG\\Conv_zscan__0970--H1_B1_2_3--CYTO_segm.npz\n"
     ]
    },
    {
     "name": "stderr",
     "output_type": "stream",
     "text": [
      "\n",
      "  0%|                                                                                           | 0/25 [00:00<?, ?it/s]\u001b[A\n",
      "  4%|███▎                                                                               | 1/25 [00:00<00:11,  2.05it/s]\u001b[A\n",
      "  8%|██████▋                                                                            | 2/25 [00:00<00:09,  2.48it/s]\u001b[A\n",
      " 12%|█████████▉                                                                         | 3/25 [00:00<00:06,  3.52it/s]\u001b[A\n",
      " 16%|█████████████▎                                                                     | 4/25 [00:01<00:04,  4.38it/s]\u001b[A\n",
      " 24%|███████████████████▉                                                               | 6/25 [00:01<00:02,  6.44it/s]\u001b[A\n",
      " 28%|███████████████████████▏                                                           | 7/25 [00:01<00:02,  6.44it/s]\u001b[A\n",
      " 32%|██████████████████████████▌                                                        | 8/25 [00:01<00:02,  6.43it/s]\u001b[A\n",
      " 36%|█████████████████████████████▉                                                     | 9/25 [00:01<00:02,  6.62it/s]\u001b[A\n",
      " 44%|████████████████████████████████████                                              | 11/25 [00:01<00:01,  8.22it/s]\u001b[A\n",
      " 48%|███████████████████████████████████████▎                                          | 12/25 [00:02<00:01,  7.82it/s]\u001b[A\n",
      " 52%|██████████████████████████████████████████▋                                       | 13/25 [00:02<00:01,  7.49it/s]\u001b[A\n",
      " 56%|█████████████████████████████████████████████▉                                    | 14/25 [00:02<00:01,  7.51it/s]\u001b[A\n",
      " 64%|████████████████████████████████████████████████████▍                             | 16/25 [00:02<00:00,  9.23it/s]\u001b[A\n",
      " 68%|███████████████████████████████████████████████████████▊                          | 17/25 [00:02<00:00,  8.82it/s]\u001b[A\n",
      " 72%|███████████████████████████████████████████████████████████                       | 18/25 [00:02<00:00,  8.50it/s]\u001b[A\n",
      " 76%|██████████████████████████████████████████████████████████████▎                   | 19/25 [00:02<00:00,  8.53it/s]\u001b[A\n",
      "100%|██████████████████████████████████████████████████████████████████████████████████| 25/25 [00:02<00:00,  8.38it/s]\u001b[A\n",
      " 22%|██████████████████▏                                                              | 45/200 [08:18<33:26, 12.94s/it]"
     ]
    },
    {
     "name": "stdout",
     "output_type": "stream",
     "text": [
      "Working on : \\\\merfish9.ucsd.edu\\volume1\\20230908_D106Luo\\DNA\\AnalysisDeconvolveCG\\SegmentationDAPI_CG\\Conv_zscan__0971--H1_B1_2_3--CYTO_segm.npz\n"
     ]
    },
    {
     "name": "stderr",
     "output_type": "stream",
     "text": [
      "\n",
      "  0%|                                                                                           | 0/25 [00:00<?, ?it/s]\u001b[A\n",
      "  4%|███▎                                                                               | 1/25 [00:00<00:10,  2.20it/s]\u001b[A\n",
      "  8%|██████▋                                                                            | 2/25 [00:00<00:06,  3.62it/s]\u001b[A\n",
      " 12%|█████████▉                                                                         | 3/25 [00:00<00:04,  4.49it/s]\u001b[A\n",
      " 16%|█████████████▎                                                                     | 4/25 [00:00<00:04,  5.18it/s]\u001b[A\n",
      " 24%|███████████████████▉                                                               | 6/25 [00:01<00:02,  7.18it/s]\u001b[A\n",
      " 28%|███████████████████████▏                                                           | 7/25 [00:01<00:02,  6.95it/s]\u001b[A\n",
      " 32%|██████████████████████████▌                                                        | 8/25 [00:01<00:02,  6.78it/s]\u001b[A\n",
      " 36%|█████████████████████████████▉                                                     | 9/25 [00:01<00:02,  6.93it/s]\u001b[A\n",
      " 44%|████████████████████████████████████                                              | 11/25 [00:01<00:01,  8.51it/s]\u001b[A\n",
      " 48%|███████████████████████████████████████▎                                          | 12/25 [00:01<00:01,  8.00it/s]\u001b[A\n",
      " 52%|██████████████████████████████████████████▋                                       | 13/25 [00:02<00:01,  7.32it/s]\u001b[A\n",
      " 56%|█████████████████████████████████████████████▉                                    | 14/25 [00:02<00:01,  7.37it/s]\u001b[A\n",
      " 64%|████████████████████████████████████████████████████▍                             | 16/25 [00:02<00:00,  9.12it/s]\u001b[A\n",
      " 68%|███████████████████████████████████████████████████████▊                          | 17/25 [00:02<00:00,  8.68it/s]\u001b[A\n",
      " 72%|███████████████████████████████████████████████████████████                       | 18/25 [00:02<00:00,  8.41it/s]\u001b[A\n",
      "100%|██████████████████████████████████████████████████████████████████████████████████| 25/25 [00:02<00:00,  8.94it/s]\u001b[A\n",
      " 23%|██████████████████▋                                                              | 46/200 [08:32<33:56, 13.23s/it]"
     ]
    },
    {
     "name": "stdout",
     "output_type": "stream",
     "text": [
      "Working on : \\\\merfish9.ucsd.edu\\volume1\\20230908_D106Luo\\DNA\\AnalysisDeconvolveCG\\SegmentationDAPI_CG\\Conv_zscan__0972--H1_B1_2_3--CYTO_segm.npz\n"
     ]
    },
    {
     "name": "stderr",
     "output_type": "stream",
     "text": [
      "\n",
      "  0%|                                                                                           | 0/25 [00:00<?, ?it/s]\u001b[A\n",
      "  4%|███▎                                                                               | 1/25 [00:00<00:08,  2.71it/s]\u001b[A\n",
      "  8%|██████▋                                                                            | 2/25 [00:00<00:05,  4.22it/s]\u001b[A\n",
      " 12%|█████████▉                                                                         | 3/25 [00:00<00:04,  4.96it/s]\u001b[A\n",
      " 16%|█████████████▎                                                                     | 4/25 [00:00<00:03,  5.62it/s]\u001b[A\n",
      " 24%|███████████████████▉                                                               | 6/25 [00:00<00:02,  7.64it/s]\u001b[A\n",
      " 28%|███████████████████████▏                                                           | 7/25 [00:01<00:02,  7.23it/s]\u001b[A\n",
      " 32%|██████████████████████████▌                                                        | 8/25 [00:01<00:02,  7.01it/s]\u001b[A\n",
      " 36%|█████████████████████████████▉                                                     | 9/25 [00:01<00:02,  7.13it/s]\u001b[A\n",
      " 44%|████████████████████████████████████                                              | 11/25 [00:01<00:01,  8.67it/s]\u001b[A\n",
      " 48%|███████████████████████████████████████▎                                          | 12/25 [00:01<00:01,  8.11it/s]\u001b[A\n",
      " 52%|██████████████████████████████████████████▋                                       | 13/25 [00:01<00:01,  7.70it/s]\u001b[A\n",
      " 56%|█████████████████████████████████████████████▉                                    | 14/25 [00:02<00:01,  7.37it/s]\u001b[A\n",
      " 64%|████████████████████████████████████████████████████▍                             | 16/25 [00:02<00:00,  9.10it/s]\u001b[A\n",
      " 68%|███████████████████████████████████████████████████████▊                          | 17/25 [00:02<00:00,  8.70it/s]\u001b[A\n",
      " 72%|███████████████████████████████████████████████████████████                       | 18/25 [00:02<00:00,  8.39it/s]\u001b[A\n",
      " 76%|██████████████████████████████████████████████████████████████▎                   | 19/25 [00:02<00:00,  8.45it/s]\u001b[A\n",
      "100%|██████████████████████████████████████████████████████████████████████████████████| 25/25 [00:02<00:00,  9.29it/s]\u001b[A\n",
      " 24%|███████████████████                                                              | 47/200 [08:46<34:16, 13.44s/it]"
     ]
    },
    {
     "name": "stdout",
     "output_type": "stream",
     "text": [
      "Working on : \\\\merfish9.ucsd.edu\\volume1\\20230908_D106Luo\\DNA\\AnalysisDeconvolveCG\\SegmentationDAPI_CG\\Conv_zscan__0973--H1_B1_2_3--CYTO_segm.npz\n"
     ]
    },
    {
     "name": "stderr",
     "output_type": "stream",
     "text": [
      "\n",
      "  0%|                                                                                           | 0/25 [00:00<?, ?it/s]\u001b[A\n",
      "  4%|███▎                                                                               | 1/25 [00:00<00:11,  2.08it/s]\u001b[A\n",
      "  8%|██████▋                                                                            | 2/25 [00:00<00:06,  3.49it/s]\u001b[A\n",
      " 12%|█████████▉                                                                         | 3/25 [00:00<00:05,  4.29it/s]\u001b[A\n",
      " 16%|█████████████▎                                                                     | 4/25 [00:01<00:05,  4.08it/s]\u001b[A\n",
      " 24%|███████████████████▉                                                               | 6/25 [00:01<00:03,  6.08it/s]\u001b[A\n",
      " 28%|███████████████████████▏                                                           | 7/25 [00:01<00:02,  6.18it/s]\u001b[A\n",
      " 32%|██████████████████████████▌                                                        | 8/25 [00:01<00:02,  6.35it/s]\u001b[A\n",
      " 36%|█████████████████████████████▉                                                     | 9/25 [00:01<00:02,  6.66it/s]\u001b[A\n",
      " 44%|████████████████████████████████████                                              | 11/25 [00:01<00:01,  8.20it/s]\u001b[A\n",
      " 48%|███████████████████████████████████████▎                                          | 12/25 [00:02<00:01,  7.77it/s]\u001b[A\n",
      " 52%|██████████████████████████████████████████▋                                       | 13/25 [00:02<00:01,  7.48it/s]\u001b[A\n",
      " 56%|█████████████████████████████████████████████▉                                    | 14/25 [00:02<00:01,  7.52it/s]\u001b[A\n",
      " 64%|████████████████████████████████████████████████████▍                             | 16/25 [00:02<00:00,  9.22it/s]\u001b[A\n",
      " 68%|███████████████████████████████████████████████████████▊                          | 17/25 [00:02<00:00,  8.77it/s]\u001b[A\n",
      " 72%|███████████████████████████████████████████████████████████                       | 18/25 [00:02<00:00,  8.45it/s]\u001b[A\n",
      "100%|██████████████████████████████████████████████████████████████████████████████████| 25/25 [00:02<00:00,  8.56it/s]\u001b[A\n",
      " 24%|███████████████████▍                                                             | 48/200 [09:00<34:24, 13.58s/it]"
     ]
    },
    {
     "name": "stdout",
     "output_type": "stream",
     "text": [
      "Working on : \\\\merfish9.ucsd.edu\\volume1\\20230908_D106Luo\\DNA\\AnalysisDeconvolveCG\\SegmentationDAPI_CG\\Conv_zscan__0974--H1_B1_2_3--CYTO_segm.npz\n"
     ]
    },
    {
     "name": "stderr",
     "output_type": "stream",
     "text": [
      "\n",
      "  0%|                                                                                           | 0/25 [00:00<?, ?it/s]\u001b[A\n",
      "  4%|███▎                                                                               | 1/25 [00:00<00:09,  2.62it/s]\u001b[A\n",
      "  8%|██████▋                                                                            | 2/25 [00:00<00:08,  2.81it/s]\u001b[A\n",
      " 12%|█████████▉                                                                         | 3/25 [00:00<00:06,  3.45it/s]\u001b[A\n",
      " 16%|█████████████▎                                                                     | 4/25 [00:01<00:05,  4.03it/s]\u001b[A\n",
      " 24%|███████████████████▉                                                               | 6/25 [00:01<00:03,  6.03it/s]\u001b[A\n",
      " 28%|███████████████████████▏                                                           | 7/25 [00:01<00:02,  6.13it/s]\u001b[A\n",
      " 32%|██████████████████████████▌                                                        | 8/25 [00:01<00:02,  6.27it/s]\u001b[A\n",
      " 36%|█████████████████████████████▉                                                     | 9/25 [00:01<00:02,  6.57it/s]\u001b[A\n",
      " 44%|████████████████████████████████████                                              | 11/25 [00:01<00:01,  8.30it/s]\u001b[A\n",
      " 48%|███████████████████████████████████████▎                                          | 12/25 [00:02<00:01,  7.86it/s]\u001b[A\n",
      " 52%|██████████████████████████████████████████▋                                       | 13/25 [00:02<00:01,  7.56it/s]\u001b[A\n",
      " 56%|█████████████████████████████████████████████▉                                    | 14/25 [00:02<00:01,  7.56it/s]\u001b[A\n",
      " 64%|████████████████████████████████████████████████████▍                             | 16/25 [00:02<00:00,  9.28it/s]\u001b[A\n",
      " 68%|███████████████████████████████████████████████████████▊                          | 17/25 [00:02<00:00,  8.81it/s]\u001b[A\n",
      " 72%|███████████████████████████████████████████████████████████                       | 18/25 [00:02<00:00,  8.48it/s]\u001b[A\n",
      "100%|██████████████████████████████████████████████████████████████████████████████████| 25/25 [00:02<00:00,  8.44it/s]\u001b[A\n",
      " 24%|███████████████████▊                                                             | 49/200 [09:14<34:12, 13.60s/it]"
     ]
    },
    {
     "name": "stdout",
     "output_type": "stream",
     "text": [
      "Working on : \\\\merfish9.ucsd.edu\\volume1\\20230908_D106Luo\\DNA\\AnalysisDeconvolveCG\\SegmentationDAPI_CG\\Conv_zscan__0975--H1_B1_2_3--CYTO_segm.npz\n"
     ]
    },
    {
     "name": "stderr",
     "output_type": "stream",
     "text": [
      "\n",
      "  0%|                                                                                           | 0/25 [00:00<?, ?it/s]\u001b[A\n",
      "  4%|███▎                                                                               | 1/25 [00:00<00:11,  2.02it/s]\u001b[A\n",
      "  8%|██████▋                                                                            | 2/25 [00:00<00:06,  3.34it/s]\u001b[A\n",
      " 12%|█████████▉                                                                         | 3/25 [00:00<00:05,  4.26it/s]\u001b[A\n",
      " 16%|█████████████▎                                                                     | 4/25 [00:00<00:04,  5.03it/s]\u001b[A\n",
      " 24%|███████████████████▉                                                               | 6/25 [00:01<00:02,  7.08it/s]\u001b[A\n",
      " 28%|███████████████████████▏                                                           | 7/25 [00:01<00:02,  6.89it/s]\u001b[A\n",
      " 32%|██████████████████████████▌                                                        | 8/25 [00:01<00:02,  6.74it/s]\u001b[A\n",
      " 36%|█████████████████████████████▉                                                     | 9/25 [00:01<00:02,  6.88it/s]\u001b[A\n",
      " 44%|████████████████████████████████████                                              | 11/25 [00:01<00:01,  8.38it/s]\u001b[A\n",
      " 48%|███████████████████████████████████████▎                                          | 12/25 [00:01<00:01,  7.90it/s]\u001b[A\n",
      " 52%|██████████████████████████████████████████▋                                       | 13/25 [00:02<00:01,  7.59it/s]\u001b[A\n",
      " 56%|█████████████████████████████████████████████▉                                    | 14/25 [00:02<00:01,  7.55it/s]\u001b[A\n",
      " 64%|████████████████████████████████████████████████████▍                             | 16/25 [00:02<00:00,  9.25it/s]\u001b[A\n",
      " 68%|███████████████████████████████████████████████████████▊                          | 17/25 [00:02<00:00,  8.83it/s]\u001b[A\n",
      " 72%|███████████████████████████████████████████████████████████                       | 18/25 [00:02<00:00,  8.53it/s]\u001b[A\n",
      "100%|██████████████████████████████████████████████████████████████████████████████████| 25/25 [00:02<00:00,  8.86it/s]\u001b[A\n",
      " 25%|████████████████████▎                                                            | 50/200 [09:27<33:58, 13.59s/it]"
     ]
    },
    {
     "name": "stdout",
     "output_type": "stream",
     "text": [
      "Working on : \\\\merfish9.ucsd.edu\\volume1\\20230908_D106Luo\\DNA\\AnalysisDeconvolveCG\\SegmentationDAPI_CG\\Conv_zscan__0976--H1_B1_2_3--CYTO_segm.npz\n"
     ]
    },
    {
     "name": "stderr",
     "output_type": "stream",
     "text": [
      "\n",
      "  0%|                                                                                           | 0/25 [00:00<?, ?it/s]\u001b[A\n",
      "  4%|███▎                                                                               | 1/25 [00:00<00:12,  1.90it/s]\u001b[A\n",
      "  8%|██████▋                                                                            | 2/25 [00:00<00:08,  2.87it/s]\u001b[A\n",
      " 12%|█████████▉                                                                         | 3/25 [00:00<00:06,  3.50it/s]\u001b[A\n",
      " 16%|█████████████▎                                                                     | 4/25 [00:01<00:04,  4.36it/s]\u001b[A\n",
      " 24%|███████████████████▉                                                               | 6/25 [00:01<00:02,  6.47it/s]\u001b[A\n",
      " 28%|███████████████████████▏                                                           | 7/25 [00:01<00:02,  6.56it/s]\u001b[A\n",
      " 32%|██████████████████████████▌                                                        | 8/25 [00:01<00:02,  6.53it/s]\u001b[A\n",
      " 36%|█████████████████████████████▉                                                     | 9/25 [00:01<00:02,  6.71it/s]\u001b[A\n",
      " 44%|████████████████████████████████████                                              | 11/25 [00:01<00:01,  8.32it/s]\u001b[A\n",
      " 48%|███████████████████████████████████████▎                                          | 12/25 [00:02<00:01,  7.84it/s]\u001b[A\n",
      " 52%|██████████████████████████████████████████▋                                       | 13/25 [00:02<00:01,  7.59it/s]\u001b[A\n",
      " 56%|█████████████████████████████████████████████▉                                    | 14/25 [00:02<00:01,  7.57it/s]\u001b[A\n",
      " 64%|████████████████████████████████████████████████████▍                             | 16/25 [00:02<00:00,  9.27it/s]\u001b[A\n",
      " 68%|███████████████████████████████████████████████████████▊                          | 17/25 [00:02<00:00,  8.84it/s]\u001b[A\n",
      " 72%|███████████████████████████████████████████████████████████                       | 18/25 [00:02<00:00,  8.52it/s]\u001b[A\n",
      "100%|██████████████████████████████████████████████████████████████████████████████████| 25/25 [00:02<00:00,  8.48it/s]\u001b[A\n",
      " 26%|████████████████████▋                                                            | 51/200 [09:40<33:17, 13.41s/it]"
     ]
    },
    {
     "name": "stdout",
     "output_type": "stream",
     "text": [
      "Working on : \\\\merfish9.ucsd.edu\\volume1\\20230908_D106Luo\\DNA\\AnalysisDeconvolveCG\\SegmentationDAPI_CG\\Conv_zscan__0977--H1_B1_2_3--CYTO_segm.npz\n"
     ]
    },
    {
     "name": "stderr",
     "output_type": "stream",
     "text": [
      "\n",
      "  0%|                                                                                           | 0/25 [00:00<?, ?it/s]\u001b[A\n",
      "  4%|███▎                                                                               | 1/25 [00:00<00:12,  1.96it/s]\u001b[A\n",
      "  8%|██████▋                                                                            | 2/25 [00:00<00:07,  3.04it/s]\u001b[A\n",
      " 12%|█████████▉                                                                         | 3/25 [00:00<00:05,  4.01it/s]\u001b[A\n",
      " 16%|█████████████▎                                                                     | 4/25 [00:01<00:04,  4.92it/s]\u001b[A\n",
      " 24%|███████████████████▉                                                               | 6/25 [00:01<00:02,  6.70it/s]\u001b[A\n",
      " 28%|███████████████████████▏                                                           | 7/25 [00:01<00:02,  6.61it/s]\u001b[A\n",
      " 32%|██████████████████████████▌                                                        | 8/25 [00:01<00:02,  6.54it/s]\u001b[A\n",
      " 36%|█████████████████████████████▉                                                     | 9/25 [00:01<00:02,  6.73it/s]\u001b[A\n",
      " 44%|████████████████████████████████████                                              | 11/25 [00:01<00:01,  8.30it/s]\u001b[A\n",
      " 48%|███████████████████████████████████████▎                                          | 12/25 [00:01<00:01,  7.85it/s]\u001b[A\n",
      " 52%|██████████████████████████████████████████▋                                       | 13/25 [00:02<00:01,  7.51it/s]\u001b[A\n",
      " 56%|█████████████████████████████████████████████▉                                    | 14/25 [00:02<00:01,  7.51it/s]\u001b[A\n",
      " 64%|████████████████████████████████████████████████████▍                             | 16/25 [00:02<00:00,  9.20it/s]\u001b[A\n",
      " 68%|███████████████████████████████████████████████████████▊                          | 17/25 [00:02<00:00,  8.77it/s]\u001b[A\n",
      " 72%|███████████████████████████████████████████████████████████                       | 18/25 [00:02<00:00,  8.47it/s]\u001b[A\n",
      "100%|██████████████████████████████████████████████████████████████████████████████████| 25/25 [00:02<00:00,  8.66it/s]\u001b[A\n",
      " 26%|█████████████████████                                                            | 52/200 [09:52<31:38, 12.83s/it]"
     ]
    },
    {
     "name": "stdout",
     "output_type": "stream",
     "text": [
      "Working on : \\\\merfish9.ucsd.edu\\volume1\\20230908_D106Luo\\DNA\\AnalysisDeconvolveCG\\SegmentationDAPI_CG\\Conv_zscan__0978--H1_B1_2_3--CYTO_segm.npz\n"
     ]
    },
    {
     "name": "stderr",
     "output_type": "stream",
     "text": [
      "\n",
      "  0%|                                                                                           | 0/25 [00:00<?, ?it/s]\u001b[A\n",
      "  4%|███▎                                                                               | 1/25 [00:00<00:09,  2.58it/s]\u001b[A\n",
      "  8%|██████▋                                                                            | 2/25 [00:00<00:05,  4.02it/s]\u001b[A\n",
      " 12%|█████████▉                                                                         | 3/25 [00:00<00:04,  4.82it/s]\u001b[A\n",
      " 16%|█████████████▎                                                                     | 4/25 [00:00<00:03,  5.58it/s]\u001b[A\n",
      " 24%|███████████████████▉                                                               | 6/25 [00:01<00:02,  7.78it/s]\u001b[A\n",
      " 28%|███████████████████████▏                                                           | 7/25 [00:01<00:02,  7.44it/s]\u001b[A\n",
      " 32%|██████████████████████████▌                                                        | 8/25 [00:01<00:02,  7.12it/s]\u001b[A\n",
      " 36%|█████████████████████████████▉                                                     | 9/25 [00:01<00:02,  7.16it/s]\u001b[A\n",
      " 44%|████████████████████████████████████                                              | 11/25 [00:01<00:01,  8.69it/s]\u001b[A\n",
      " 48%|███████████████████████████████████████▎                                          | 12/25 [00:01<00:01,  8.14it/s]\u001b[A\n",
      " 52%|██████████████████████████████████████████▋                                       | 13/25 [00:01<00:01,  7.70it/s]\u001b[A\n",
      " 56%|█████████████████████████████████████████████▉                                    | 14/25 [00:02<00:01,  7.65it/s]\u001b[A\n",
      " 64%|████████████████████████████████████████████████████▍                             | 16/25 [00:02<00:00,  9.32it/s]\u001b[A\n",
      " 68%|███████████████████████████████████████████████████████▊                          | 17/25 [00:02<00:00,  8.85it/s]\u001b[A\n",
      " 72%|███████████████████████████████████████████████████████████                       | 18/25 [00:02<00:00,  8.53it/s]\u001b[A\n",
      "100%|██████████████████████████████████████████████████████████████████████████████████| 25/25 [00:02<00:00,  9.35it/s]\u001b[A\n",
      " 26%|█████████████████████▍                                                           | 53/200 [10:02<29:19, 11.97s/it]"
     ]
    },
    {
     "name": "stdout",
     "output_type": "stream",
     "text": [
      "Working on : \\\\merfish9.ucsd.edu\\volume1\\20230908_D106Luo\\DNA\\AnalysisDeconvolveCG\\SegmentationDAPI_CG\\Conv_zscan__0979--H1_B1_2_3--CYTO_segm.npz\n"
     ]
    },
    {
     "name": "stderr",
     "output_type": "stream",
     "text": [
      "\n",
      "  0%|                                                                                           | 0/25 [00:00<?, ?it/s]\u001b[A\n",
      "  4%|███▎                                                                               | 1/25 [00:00<00:12,  1.97it/s]\u001b[A\n",
      "  8%|██████▋                                                                            | 2/25 [00:00<00:06,  3.39it/s]\u001b[A\n",
      " 12%|█████████▉                                                                         | 3/25 [00:00<00:05,  4.09it/s]\u001b[A\n",
      " 16%|█████████████▎                                                                     | 4/25 [00:01<00:04,  4.69it/s]\u001b[A\n",
      " 24%|███████████████████▉                                                               | 6/25 [00:01<00:02,  6.60it/s]\u001b[A\n",
      " 28%|███████████████████████▏                                                           | 7/25 [00:01<00:02,  6.56it/s]\u001b[A\n",
      " 32%|██████████████████████████▌                                                        | 8/25 [00:01<00:02,  6.53it/s]\u001b[A\n",
      " 36%|█████████████████████████████▉                                                     | 9/25 [00:01<00:02,  6.75it/s]\u001b[A\n",
      " 44%|████████████████████████████████████                                              | 11/25 [00:01<00:01,  8.32it/s]\u001b[A\n",
      " 48%|███████████████████████████████████████▎                                          | 12/25 [00:01<00:01,  7.88it/s]\u001b[A\n",
      " 52%|██████████████████████████████████████████▋                                       | 13/25 [00:02<00:01,  7.57it/s]\u001b[A\n",
      " 56%|█████████████████████████████████████████████▉                                    | 14/25 [00:02<00:01,  7.57it/s]\u001b[A\n",
      " 64%|████████████████████████████████████████████████████▍                             | 16/25 [00:02<00:00,  9.28it/s]\u001b[A\n",
      " 68%|███████████████████████████████████████████████████████▊                          | 17/25 [00:02<00:00,  8.83it/s]\u001b[A\n",
      " 72%|███████████████████████████████████████████████████████████                       | 18/25 [00:02<00:00,  8.49it/s]\u001b[A\n",
      "100%|██████████████████████████████████████████████████████████████████████████████████| 25/25 [00:02<00:00,  8.71it/s]\u001b[A\n",
      " 27%|█████████████████████▊                                                           | 54/200 [10:11<27:30, 11.31s/it]"
     ]
    },
    {
     "name": "stdout",
     "output_type": "stream",
     "text": [
      "Working on : \\\\merfish9.ucsd.edu\\volume1\\20230908_D106Luo\\DNA\\AnalysisDeconvolveCG\\SegmentationDAPI_CG\\Conv_zscan__0980--H1_B1_2_3--CYTO_segm.npz\n"
     ]
    },
    {
     "name": "stderr",
     "output_type": "stream",
     "text": [
      "\n",
      "  0%|                                                                                           | 0/25 [00:00<?, ?it/s]\u001b[A\n",
      "  4%|███▎                                                                               | 1/25 [00:00<00:09,  2.51it/s]\u001b[A\n",
      "  8%|██████▋                                                                            | 2/25 [00:00<00:05,  4.11it/s]\u001b[A\n",
      " 12%|█████████▉                                                                         | 3/25 [00:00<00:07,  3.06it/s]\u001b[A\n",
      " 16%|█████████████▎                                                                     | 4/25 [00:01<00:05,  3.93it/s]\u001b[A\n",
      " 24%|███████████████████▉                                                               | 6/25 [00:01<00:03,  6.07it/s]\u001b[A\n",
      " 28%|███████████████████████▏                                                           | 7/25 [00:01<00:02,  6.24it/s]\u001b[A\n",
      " 32%|██████████████████████████▌                                                        | 8/25 [00:01<00:02,  6.36it/s]\u001b[A\n",
      " 36%|█████████████████████████████▉                                                     | 9/25 [00:01<00:02,  6.56it/s]\u001b[A\n",
      " 44%|████████████████████████████████████                                              | 11/25 [00:01<00:01,  8.08it/s]\u001b[A\n",
      " 48%|███████████████████████████████████████▎                                          | 12/25 [00:02<00:01,  7.67it/s]\u001b[A\n",
      " 52%|██████████████████████████████████████████▋                                       | 13/25 [00:02<00:01,  7.40it/s]\u001b[A\n",
      " 56%|█████████████████████████████████████████████▉                                    | 14/25 [00:02<00:01,  7.40it/s]\u001b[A\n",
      " 64%|████████████████████████████████████████████████████▍                             | 16/25 [00:02<00:00,  9.19it/s]\u001b[A\n",
      " 68%|███████████████████████████████████████████████████████▊                          | 17/25 [00:02<00:00,  8.77it/s]\u001b[A\n",
      " 72%|███████████████████████████████████████████████████████████                       | 18/25 [00:02<00:00,  8.43it/s]\u001b[A\n",
      "100%|██████████████████████████████████████████████████████████████████████████████████| 25/25 [00:02<00:00,  8.47it/s]\u001b[A\n",
      " 28%|██████████████████████▎                                                          | 55/200 [10:21<26:22, 10.91s/it]"
     ]
    },
    {
     "name": "stdout",
     "output_type": "stream",
     "text": [
      "Working on : \\\\merfish9.ucsd.edu\\volume1\\20230908_D106Luo\\DNA\\AnalysisDeconvolveCG\\SegmentationDAPI_CG\\Conv_zscan__0981--H1_B1_2_3--CYTO_segm.npz\n"
     ]
    },
    {
     "name": "stderr",
     "output_type": "stream",
     "text": [
      "\n",
      "  0%|                                                                                           | 0/25 [00:00<?, ?it/s]\u001b[A\n",
      "  4%|███▎                                                                               | 1/25 [00:00<00:10,  2.18it/s]\u001b[A\n",
      "  8%|██████▋                                                                            | 2/25 [00:00<00:07,  2.97it/s]\u001b[A\n",
      " 12%|█████████▉                                                                         | 3/25 [00:01<00:07,  3.02it/s]\u001b[A\n",
      " 16%|█████████████▎                                                                     | 4/25 [00:01<00:05,  3.86it/s]\u001b[A\n",
      " 24%|███████████████████▉                                                               | 6/25 [00:01<00:03,  5.89it/s]\u001b[A\n",
      " 28%|███████████████████████▏                                                           | 7/25 [00:01<00:02,  6.01it/s]\u001b[A\n",
      " 32%|██████████████████████████▌                                                        | 8/25 [00:01<00:02,  6.14it/s]\u001b[A\n",
      " 36%|█████████████████████████████▉                                                     | 9/25 [00:01<00:02,  6.47it/s]\u001b[A\n",
      " 44%|████████████████████████████████████                                              | 11/25 [00:01<00:01,  8.10it/s]\u001b[A\n",
      " 48%|███████████████████████████████████████▎                                          | 12/25 [00:02<00:01,  7.77it/s]\u001b[A\n",
      " 52%|██████████████████████████████████████████▋                                       | 13/25 [00:02<00:01,  7.45it/s]\u001b[A\n",
      " 56%|█████████████████████████████████████████████▉                                    | 14/25 [00:02<00:01,  7.47it/s]\u001b[A\n",
      " 64%|████████████████████████████████████████████████████▍                             | 16/25 [00:02<00:00,  9.14it/s]\u001b[A\n",
      " 68%|███████████████████████████████████████████████████████▊                          | 17/25 [00:02<00:00,  8.75it/s]\u001b[A\n",
      " 72%|███████████████████████████████████████████████████████████                       | 18/25 [00:02<00:00,  8.46it/s]\u001b[A\n",
      "100%|██████████████████████████████████████████████████████████████████████████████████| 25/25 [00:03<00:00,  8.23it/s]\u001b[A\n",
      " 28%|██████████████████████▋                                                          | 56/200 [10:32<26:07, 10.88s/it]"
     ]
    },
    {
     "name": "stdout",
     "output_type": "stream",
     "text": [
      "Working on : \\\\merfish9.ucsd.edu\\volume1\\20230908_D106Luo\\DNA\\AnalysisDeconvolveCG\\SegmentationDAPI_CG\\Conv_zscan__0982--H1_B1_2_3--CYTO_segm.npz\n"
     ]
    },
    {
     "name": "stderr",
     "output_type": "stream",
     "text": [
      "\n",
      "  0%|                                                                                           | 0/25 [00:00<?, ?it/s]\u001b[A\n",
      "  4%|███▎                                                                               | 1/25 [00:00<00:10,  2.39it/s]\u001b[A\n",
      "  8%|██████▋                                                                            | 2/25 [00:00<00:06,  3.30it/s]\u001b[A\n",
      " 12%|█████████▉                                                                         | 3/25 [00:00<00:05,  3.90it/s]\u001b[A\n",
      " 16%|█████████████▎                                                                     | 4/25 [00:00<00:04,  4.74it/s]\u001b[A\n",
      " 24%|███████████████████▉                                                               | 6/25 [00:01<00:02,  6.87it/s]\u001b[A\n",
      " 28%|███████████████████████▏                                                           | 7/25 [00:01<00:02,  6.74it/s]\u001b[A\n",
      " 32%|██████████████████████████▌                                                        | 8/25 [00:01<00:02,  6.64it/s]\u001b[A\n",
      " 36%|█████████████████████████████▉                                                     | 9/25 [00:01<00:02,  6.82it/s]\u001b[A\n",
      " 44%|████████████████████████████████████                                              | 11/25 [00:01<00:01,  8.41it/s]\u001b[A\n",
      " 48%|███████████████████████████████████████▎                                          | 12/25 [00:01<00:01,  7.95it/s]\u001b[A\n",
      " 52%|██████████████████████████████████████████▋                                       | 13/25 [00:02<00:01,  7.64it/s]\u001b[A\n",
      " 56%|█████████████████████████████████████████████▉                                    | 14/25 [00:02<00:01,  7.62it/s]\u001b[A\n",
      " 64%|████████████████████████████████████████████████████▍                             | 16/25 [00:02<00:00,  9.27it/s]\u001b[A\n",
      " 68%|███████████████████████████████████████████████████████▊                          | 17/25 [00:02<00:00,  8.82it/s]\u001b[A\n",
      " 72%|███████████████████████████████████████████████████████████                       | 18/25 [00:02<00:00,  8.51it/s]\u001b[A\n",
      "100%|██████████████████████████████████████████████████████████████████████████████████| 25/25 [00:02<00:00,  8.82it/s]\u001b[A\n",
      " 28%|███████████████████████                                                          | 57/200 [10:43<25:45, 10.81s/it]"
     ]
    },
    {
     "name": "stdout",
     "output_type": "stream",
     "text": [
      "Working on : \\\\merfish9.ucsd.edu\\volume1\\20230908_D106Luo\\DNA\\AnalysisDeconvolveCG\\SegmentationDAPI_CG\\Conv_zscan__0983--H1_B1_2_3--CYTO_segm.npz\n"
     ]
    },
    {
     "name": "stderr",
     "output_type": "stream",
     "text": [
      "\n",
      "  0%|                                                                                           | 0/25 [00:00<?, ?it/s]\u001b[A\n",
      "  4%|███▎                                                                               | 1/25 [00:00<00:10,  2.27it/s]\u001b[A\n",
      "  8%|██████▋                                                                            | 2/25 [00:00<00:06,  3.32it/s]\u001b[A\n",
      " 12%|█████████▉                                                                         | 3/25 [00:00<00:05,  4.30it/s]\u001b[A\n",
      " 16%|█████████████▎                                                                     | 4/25 [00:00<00:04,  5.20it/s]\u001b[A\n",
      " 24%|███████████████████▉                                                               | 6/25 [00:01<00:02,  7.24it/s]\u001b[A\n",
      " 28%|███████████████████████▏                                                           | 7/25 [00:01<00:02,  6.98it/s]\u001b[A\n",
      " 32%|██████████████████████████▌                                                        | 8/25 [00:01<00:02,  6.78it/s]\u001b[A\n",
      " 36%|█████████████████████████████▉                                                     | 9/25 [00:01<00:02,  6.87it/s]\u001b[A\n",
      " 44%|████████████████████████████████████                                              | 11/25 [00:01<00:01,  8.41it/s]\u001b[A\n",
      " 48%|███████████████████████████████████████▎                                          | 12/25 [00:01<00:01,  7.90it/s]\u001b[A\n",
      " 52%|██████████████████████████████████████████▋                                       | 13/25 [00:02<00:01,  7.59it/s]\u001b[A\n",
      " 56%|█████████████████████████████████████████████▉                                    | 14/25 [00:02<00:01,  7.49it/s]\u001b[A\n",
      " 64%|████████████████████████████████████████████████████▍                             | 16/25 [00:02<00:00,  9.16it/s]\u001b[A\n",
      " 68%|███████████████████████████████████████████████████████▊                          | 17/25 [00:02<00:00,  8.73it/s]\u001b[A\n",
      " 72%|███████████████████████████████████████████████████████████                       | 18/25 [00:02<00:00,  8.41it/s]\u001b[A\n",
      "100%|██████████████████████████████████████████████████████████████████████████████████| 25/25 [00:02<00:00,  8.92it/s]\u001b[A\n",
      " 29%|███████████████████████▍                                                         | 58/200 [10:56<27:04, 11.44s/it]"
     ]
    },
    {
     "name": "stdout",
     "output_type": "stream",
     "text": [
      "Working on : \\\\merfish9.ucsd.edu\\volume1\\20230908_D106Luo\\DNA\\AnalysisDeconvolveCG\\SegmentationDAPI_CG\\Conv_zscan__0984--H1_B1_2_3--CYTO_segm.npz\n"
     ]
    },
    {
     "name": "stderr",
     "output_type": "stream",
     "text": [
      "\n",
      "  0%|                                                                                           | 0/25 [00:00<?, ?it/s]\u001b[A\n",
      "  4%|███▎                                                                               | 1/25 [00:00<00:09,  2.56it/s]\u001b[A\n",
      "  8%|██████▋                                                                            | 2/25 [00:00<00:06,  3.69it/s]\u001b[A\n",
      " 12%|█████████▉                                                                         | 3/25 [00:00<00:04,  4.60it/s]\u001b[A\n",
      " 16%|█████████████▎                                                                     | 4/25 [00:00<00:03,  5.34it/s]\u001b[A\n",
      " 24%|███████████████████▉                                                               | 6/25 [00:01<00:02,  7.39it/s]\u001b[A\n",
      " 28%|███████████████████████▏                                                           | 7/25 [00:01<00:02,  7.08it/s]\u001b[A\n",
      " 32%|██████████████████████████▌                                                        | 8/25 [00:01<00:02,  6.85it/s]\u001b[A\n",
      " 36%|█████████████████████████████▉                                                     | 9/25 [00:01<00:02,  6.94it/s]\u001b[A\n",
      " 44%|████████████████████████████████████                                              | 11/25 [00:01<00:01,  8.45it/s]\u001b[A\n",
      " 48%|███████████████████████████████████████▎                                          | 12/25 [00:01<00:01,  7.95it/s]\u001b[A\n",
      " 52%|██████████████████████████████████████████▋                                       | 13/25 [00:01<00:01,  7.60it/s]\u001b[A\n",
      " 56%|█████████████████████████████████████████████▉                                    | 14/25 [00:02<00:01,  7.58it/s]\u001b[A\n",
      " 64%|████████████████████████████████████████████████████▍                             | 16/25 [00:02<00:00,  9.29it/s]\u001b[A\n",
      " 68%|███████████████████████████████████████████████████████▊                          | 17/25 [00:02<00:00,  8.84it/s]\u001b[A\n",
      " 72%|███████████████████████████████████████████████████████████                       | 18/25 [00:02<00:00,  8.50it/s]\u001b[A\n",
      "100%|██████████████████████████████████████████████████████████████████████████████████| 25/25 [00:02<00:00,  9.13it/s]\u001b[A\n",
      " 30%|███████████████████████▉                                                         | 59/200 [11:09<28:30, 12.13s/it]"
     ]
    },
    {
     "name": "stdout",
     "output_type": "stream",
     "text": [
      "Working on : \\\\merfish9.ucsd.edu\\volume1\\20230908_D106Luo\\DNA\\AnalysisDeconvolveCG\\SegmentationDAPI_CG\\Conv_zscan__0985--H1_B1_2_3--CYTO_segm.npz\n"
     ]
    },
    {
     "name": "stderr",
     "output_type": "stream",
     "text": [
      "\n",
      "  0%|                                                                                           | 0/25 [00:00<?, ?it/s]\u001b[A\n",
      "  4%|███▎                                                                               | 1/25 [00:00<00:09,  2.65it/s]\u001b[A\n",
      "  8%|██████▋                                                                            | 2/25 [00:00<00:05,  4.11it/s]\u001b[A\n",
      " 12%|█████████▉                                                                         | 3/25 [00:00<00:04,  4.97it/s]\u001b[A\n",
      " 16%|█████████████▎                                                                     | 4/25 [00:00<00:04,  4.31it/s]\u001b[A\n",
      " 24%|███████████████████▉                                                               | 6/25 [00:01<00:02,  6.43it/s]\u001b[A\n",
      " 28%|███████████████████████▏                                                           | 7/25 [00:01<00:02,  6.27it/s]\u001b[A\n",
      " 32%|██████████████████████████▌                                                        | 8/25 [00:01<00:02,  6.34it/s]\u001b[A\n",
      " 36%|█████████████████████████████▉                                                     | 9/25 [00:01<00:02,  6.63it/s]\u001b[A\n",
      " 44%|████████████████████████████████████                                              | 11/25 [00:01<00:01,  8.25it/s]\u001b[A\n",
      " 48%|███████████████████████████████████████▎                                          | 12/25 [00:01<00:01,  7.84it/s]\u001b[A\n",
      " 52%|██████████████████████████████████████████▋                                       | 13/25 [00:02<00:01,  7.56it/s]\u001b[A\n",
      " 56%|█████████████████████████████████████████████▉                                    | 14/25 [00:02<00:01,  7.53it/s]\u001b[A\n",
      " 64%|████████████████████████████████████████████████████▍                             | 16/25 [00:02<00:00,  9.22it/s]\u001b[A\n",
      " 68%|███████████████████████████████████████████████████████▊                          | 17/25 [00:02<00:00,  8.77it/s]\u001b[A\n",
      " 72%|███████████████████████████████████████████████████████████                       | 18/25 [00:02<00:00,  8.43it/s]\u001b[A\n",
      "100%|██████████████████████████████████████████████████████████████████████████████████| 25/25 [00:02<00:00,  8.87it/s]\u001b[A\n",
      " 30%|████████████████████████▎                                                        | 60/200 [11:24<29:48, 12.77s/it]"
     ]
    },
    {
     "name": "stdout",
     "output_type": "stream",
     "text": [
      "Working on : \\\\merfish9.ucsd.edu\\volume1\\20230908_D106Luo\\DNA\\AnalysisDeconvolveCG\\SegmentationDAPI_CG\\Conv_zscan__0986--H1_B1_2_3--CYTO_segm.npz\n"
     ]
    },
    {
     "name": "stderr",
     "output_type": "stream",
     "text": [
      "\n",
      "  0%|                                                                                           | 0/25 [00:00<?, ?it/s]\u001b[A\n",
      "  4%|███▎                                                                               | 1/25 [00:00<00:10,  2.18it/s]\u001b[A\n",
      "  8%|██████▋                                                                            | 2/25 [00:00<00:06,  3.61it/s]\u001b[A\n",
      " 12%|█████████▉                                                                         | 3/25 [00:01<00:07,  2.88it/s]\u001b[A\n",
      " 16%|█████████████▎                                                                     | 4/25 [00:01<00:05,  3.68it/s]\u001b[A\n",
      " 24%|███████████████████▉                                                               | 6/25 [00:01<00:03,  5.72it/s]\u001b[A\n",
      " 28%|███████████████████████▏                                                           | 7/25 [00:01<00:03,  5.98it/s]\u001b[A\n",
      " 32%|██████████████████████████▌                                                        | 8/25 [00:01<00:02,  6.20it/s]\u001b[A\n",
      " 36%|█████████████████████████████▉                                                     | 9/25 [00:01<00:02,  6.52it/s]\u001b[A\n",
      " 44%|████████████████████████████████████                                              | 11/25 [00:01<00:01,  8.05it/s]\u001b[A\n",
      " 48%|███████████████████████████████████████▎                                          | 12/25 [00:02<00:01,  7.61it/s]\u001b[A\n",
      " 52%|██████████████████████████████████████████▋                                       | 13/25 [00:02<00:01,  7.33it/s]\u001b[A\n",
      " 56%|█████████████████████████████████████████████▉                                    | 14/25 [00:02<00:01,  7.38it/s]\u001b[A\n",
      " 64%|████████████████████████████████████████████████████▍                             | 16/25 [00:02<00:00,  9.08it/s]\u001b[A\n",
      " 68%|███████████████████████████████████████████████████████▊                          | 17/25 [00:02<00:00,  8.71it/s]\u001b[A\n",
      " 72%|███████████████████████████████████████████████████████████                       | 18/25 [00:02<00:00,  8.43it/s]\u001b[A\n",
      "100%|██████████████████████████████████████████████████████████████████████████████████| 25/25 [00:03<00:00,  8.21it/s]\u001b[A\n",
      " 30%|████████████████████████▋                                                        | 61/200 [11:38<30:31, 13.17s/it]"
     ]
    },
    {
     "name": "stdout",
     "output_type": "stream",
     "text": [
      "Working on : \\\\merfish9.ucsd.edu\\volume1\\20230908_D106Luo\\DNA\\AnalysisDeconvolveCG\\SegmentationDAPI_CG\\Conv_zscan__0987--H1_B1_2_3--CYTO_segm.npz\n"
     ]
    },
    {
     "name": "stderr",
     "output_type": "stream",
     "text": [
      "\n",
      "  0%|                                                                                           | 0/25 [00:00<?, ?it/s]\u001b[A\n",
      "  4%|███▎                                                                               | 1/25 [00:00<00:10,  2.34it/s]\u001b[A\n",
      "  8%|██████▋                                                                            | 2/25 [00:00<00:06,  3.73it/s]\u001b[A\n",
      " 12%|█████████▉                                                                         | 3/25 [00:00<00:04,  4.59it/s]\u001b[A\n",
      " 16%|█████████████▎                                                                     | 4/25 [00:00<00:03,  5.32it/s]\u001b[A\n",
      " 24%|███████████████████▉                                                               | 6/25 [00:01<00:02,  7.37it/s]\u001b[A\n",
      " 28%|███████████████████████▏                                                           | 7/25 [00:01<00:02,  7.08it/s]\u001b[A\n",
      " 32%|██████████████████████████▌                                                        | 8/25 [00:01<00:02,  6.89it/s]\u001b[A\n",
      " 36%|█████████████████████████████▉                                                     | 9/25 [00:01<00:02,  6.99it/s]\u001b[A\n",
      " 44%|████████████████████████████████████                                              | 11/25 [00:01<00:01,  8.55it/s]\u001b[A\n",
      " 48%|███████████████████████████████████████▎                                          | 12/25 [00:01<00:01,  8.02it/s]\u001b[A\n",
      " 52%|██████████████████████████████████████████▋                                       | 13/25 [00:01<00:01,  7.62it/s]\u001b[A\n",
      " 56%|█████████████████████████████████████████████▉                                    | 14/25 [00:02<00:01,  7.61it/s]\u001b[A\n",
      " 64%|████████████████████████████████████████████████████▍                             | 16/25 [00:02<00:00,  9.32it/s]\u001b[A\n",
      " 68%|███████████████████████████████████████████████████████▊                          | 17/25 [00:02<00:00,  8.84it/s]\u001b[A\n",
      " 72%|███████████████████████████████████████████████████████████                       | 18/25 [00:02<00:00,  8.55it/s]\u001b[A\n",
      "100%|██████████████████████████████████████████████████████████████████████████████████| 25/25 [00:02<00:00,  9.12it/s]\u001b[A\n",
      " 31%|█████████████████████████                                                        | 62/200 [11:51<30:19, 13.19s/it]"
     ]
    },
    {
     "name": "stdout",
     "output_type": "stream",
     "text": [
      "Working on : \\\\merfish9.ucsd.edu\\volume1\\20230908_D106Luo\\DNA\\AnalysisDeconvolveCG\\SegmentationDAPI_CG\\Conv_zscan__0988--H1_B1_2_3--CYTO_segm.npz\n"
     ]
    },
    {
     "name": "stderr",
     "output_type": "stream",
     "text": [
      "\n",
      "  0%|                                                                                           | 0/25 [00:00<?, ?it/s]\u001b[A\n",
      "  4%|███▎                                                                               | 1/25 [00:00<00:10,  2.39it/s]\u001b[A\n",
      "  8%|██████▋                                                                            | 2/25 [00:00<00:07,  3.27it/s]\u001b[A\n",
      " 12%|█████████▉                                                                         | 3/25 [00:00<00:05,  3.85it/s]\u001b[A\n",
      " 16%|█████████████▎                                                                     | 4/25 [00:01<00:04,  4.58it/s]\u001b[A\n",
      " 24%|███████████████████▉                                                               | 6/25 [00:01<00:02,  6.68it/s]\u001b[A\n",
      " 28%|███████████████████████▏                                                           | 7/25 [00:01<00:02,  6.67it/s]\u001b[A\n",
      " 32%|██████████████████████████▌                                                        | 8/25 [00:01<00:02,  6.59it/s]\u001b[A\n",
      " 36%|█████████████████████████████▉                                                     | 9/25 [00:01<00:02,  6.79it/s]\u001b[A\n",
      " 44%|████████████████████████████████████                                              | 11/25 [00:01<00:01,  8.32it/s]\u001b[A\n",
      " 48%|███████████████████████████████████████▎                                          | 12/25 [00:01<00:01,  7.86it/s]\u001b[A\n",
      " 52%|██████████████████████████████████████████▋                                       | 13/25 [00:02<00:01,  7.57it/s]\u001b[A\n",
      " 56%|█████████████████████████████████████████████▉                                    | 14/25 [00:02<00:01,  7.56it/s]\u001b[A\n",
      " 64%|████████████████████████████████████████████████████▍                             | 16/25 [00:02<00:00,  9.26it/s]\u001b[A\n",
      " 68%|███████████████████████████████████████████████████████▊                          | 17/25 [00:02<00:00,  8.81it/s]\u001b[A\n",
      " 72%|███████████████████████████████████████████████████████████                       | 18/25 [00:02<00:00,  8.50it/s]\u001b[A\n",
      "100%|██████████████████████████████████████████████████████████████████████████████████| 25/25 [00:02<00:00,  8.75it/s]\u001b[A\n",
      " 32%|█████████████████████████▌                                                       | 63/200 [12:05<30:43, 13.46s/it]"
     ]
    },
    {
     "name": "stdout",
     "output_type": "stream",
     "text": [
      "Working on : \\\\merfish9.ucsd.edu\\volume1\\20230908_D106Luo\\DNA\\AnalysisDeconvolveCG\\SegmentationDAPI_CG\\Conv_zscan__0989--H1_B1_2_3--CYTO_segm.npz\n"
     ]
    },
    {
     "name": "stderr",
     "output_type": "stream",
     "text": [
      "\n",
      "  0%|                                                                                           | 0/25 [00:00<?, ?it/s]\u001b[A\n",
      "  4%|███▎                                                                               | 1/25 [00:00<00:12,  1.95it/s]\u001b[A\n",
      "  8%|██████▋                                                                            | 2/25 [00:00<00:06,  3.33it/s]\u001b[A\n",
      " 12%|█████████▉                                                                         | 3/25 [00:00<00:06,  3.61it/s]\u001b[A\n",
      " 16%|█████████████▎                                                                     | 4/25 [00:01<00:04,  4.48it/s]\u001b[A\n",
      " 24%|███████████████████▉                                                               | 6/25 [00:01<00:02,  6.59it/s]\u001b[A\n",
      " 28%|███████████████████████▏                                                           | 7/25 [00:01<00:02,  6.52it/s]\u001b[A\n",
      " 32%|██████████████████████████▌                                                        | 8/25 [00:01<00:02,  6.50it/s]\u001b[A\n",
      " 36%|█████████████████████████████▉                                                     | 9/25 [00:01<00:02,  6.76it/s]\u001b[A\n",
      " 44%|████████████████████████████████████                                              | 11/25 [00:01<00:01,  8.30it/s]\u001b[A\n",
      " 48%|███████████████████████████████████████▎                                          | 12/25 [00:02<00:01,  7.86it/s]\u001b[A\n",
      " 52%|██████████████████████████████████████████▋                                       | 13/25 [00:02<00:01,  7.52it/s]\u001b[A\n",
      " 56%|█████████████████████████████████████████████▉                                    | 14/25 [00:02<00:01,  7.55it/s]\u001b[A\n",
      " 64%|████████████████████████████████████████████████████▍                             | 16/25 [00:02<00:00,  9.27it/s]\u001b[A\n",
      " 68%|███████████████████████████████████████████████████████▊                          | 17/25 [00:02<00:00,  8.84it/s]\u001b[A\n",
      " 72%|███████████████████████████████████████████████████████████                       | 18/25 [00:02<00:00,  8.48it/s]\u001b[A\n",
      "100%|██████████████████████████████████████████████████████████████████████████████████| 25/25 [00:02<00:00,  8.59it/s]\u001b[A\n",
      " 32%|█████████████████████████▉                                                       | 64/200 [12:19<30:46, 13.58s/it]"
     ]
    },
    {
     "name": "stdout",
     "output_type": "stream",
     "text": [
      "Working on : \\\\merfish9.ucsd.edu\\volume1\\20230908_D106Luo\\DNA\\AnalysisDeconvolveCG\\SegmentationDAPI_CG\\Conv_zscan__0990--H1_B1_2_3--CYTO_segm.npz\n"
     ]
    },
    {
     "name": "stderr",
     "output_type": "stream",
     "text": [
      "\n",
      "  0%|                                                                                           | 0/25 [00:00<?, ?it/s]\u001b[A\n",
      "  4%|███▎                                                                               | 1/25 [00:00<00:11,  2.01it/s]\u001b[A\n",
      "  8%|██████▋                                                                            | 2/25 [00:00<00:07,  3.09it/s]\u001b[A\n",
      " 12%|█████████▉                                                                         | 3/25 [00:00<00:05,  4.09it/s]\u001b[A\n",
      " 16%|█████████████▎                                                                     | 4/25 [00:00<00:04,  4.98it/s]\u001b[A\n",
      " 24%|███████████████████▉                                                               | 6/25 [00:01<00:02,  7.05it/s]\u001b[A\n",
      " 28%|███████████████████████▏                                                           | 7/25 [00:01<00:02,  6.85it/s]\u001b[A\n",
      " 32%|██████████████████████████▌                                                        | 8/25 [00:01<00:02,  6.71it/s]\u001b[A\n",
      " 36%|█████████████████████████████▉                                                     | 9/25 [00:01<00:02,  6.91it/s]\u001b[A\n",
      " 44%|████████████████████████████████████                                              | 11/25 [00:01<00:01,  8.47it/s]\u001b[A\n",
      " 48%|███████████████████████████████████████▎                                          | 12/25 [00:01<00:01,  7.96it/s]\u001b[A\n",
      " 52%|██████████████████████████████████████████▋                                       | 13/25 [00:02<00:01,  7.61it/s]\u001b[A\n",
      " 56%|█████████████████████████████████████████████▉                                    | 14/25 [00:02<00:01,  7.57it/s]\u001b[A\n",
      " 64%|████████████████████████████████████████████████████▍                             | 16/25 [00:02<00:00,  9.30it/s]\u001b[A\n",
      " 68%|███████████████████████████████████████████████████████▊                          | 17/25 [00:02<00:00,  8.86it/s]\u001b[A\n",
      " 72%|███████████████████████████████████████████████████████████                       | 18/25 [00:02<00:00,  8.50it/s]\u001b[A\n",
      "100%|██████████████████████████████████████████████████████████████████████████████████| 25/25 [00:02<00:00,  8.81it/s]\u001b[A\n",
      " 32%|██████████████████████████▎                                                      | 65/200 [12:33<31:09, 13.85s/it]"
     ]
    },
    {
     "name": "stdout",
     "output_type": "stream",
     "text": [
      "Working on : \\\\merfish9.ucsd.edu\\volume1\\20230908_D106Luo\\DNA\\AnalysisDeconvolveCG\\SegmentationDAPI_CG\\Conv_zscan__0991--H1_B1_2_3--CYTO_segm.npz\n"
     ]
    },
    {
     "name": "stderr",
     "output_type": "stream",
     "text": [
      "\n",
      "  0%|                                                                                           | 0/25 [00:00<?, ?it/s]\u001b[A\n",
      "  4%|███▎                                                                               | 1/25 [00:00<00:11,  2.01it/s]\u001b[A\n",
      "  8%|██████▋                                                                            | 2/25 [00:00<00:06,  3.38it/s]\u001b[A\n",
      " 12%|█████████▉                                                                         | 3/25 [00:00<00:05,  4.35it/s]\u001b[A\n",
      " 16%|█████████████▎                                                                     | 4/25 [00:00<00:04,  5.12it/s]\u001b[A\n",
      " 24%|███████████████████▉                                                               | 6/25 [00:01<00:02,  7.21it/s]\u001b[A\n",
      " 28%|███████████████████████▏                                                           | 7/25 [00:01<00:02,  6.93it/s]\u001b[A\n",
      " 32%|██████████████████████████▌                                                        | 8/25 [00:01<00:02,  6.79it/s]\u001b[A\n",
      " 36%|█████████████████████████████▉                                                     | 9/25 [00:01<00:02,  6.93it/s]\u001b[A\n",
      " 44%|████████████████████████████████████                                              | 11/25 [00:01<00:01,  8.49it/s]\u001b[A\n",
      " 48%|███████████████████████████████████████▎                                          | 12/25 [00:01<00:01,  7.97it/s]\u001b[A\n",
      " 52%|██████████████████████████████████████████▋                                       | 13/25 [00:02<00:01,  7.62it/s]\u001b[A\n",
      " 56%|█████████████████████████████████████████████▉                                    | 14/25 [00:02<00:01,  7.58it/s]\u001b[A\n",
      " 64%|████████████████████████████████████████████████████▍                             | 16/25 [00:02<00:00,  9.31it/s]\u001b[A\n",
      " 68%|███████████████████████████████████████████████████████▊                          | 17/25 [00:02<00:00,  8.83it/s]\u001b[A\n",
      " 72%|███████████████████████████████████████████████████████████                       | 18/25 [00:02<00:00,  8.48it/s]\u001b[A\n",
      "100%|██████████████████████████████████████████████████████████████████████████████████| 25/25 [00:02<00:00,  8.91it/s]\u001b[A\n",
      " 33%|██████████████████████████▋                                                      | 66/200 [12:48<31:21, 14.04s/it]"
     ]
    },
    {
     "name": "stdout",
     "output_type": "stream",
     "text": [
      "Working on : \\\\merfish9.ucsd.edu\\volume1\\20230908_D106Luo\\DNA\\AnalysisDeconvolveCG\\SegmentationDAPI_CG\\Conv_zscan__0992--H1_B1_2_3--CYTO_segm.npz\n"
     ]
    },
    {
     "name": "stderr",
     "output_type": "stream",
     "text": [
      "\n",
      "  0%|                                                                                           | 0/25 [00:00<?, ?it/s]\u001b[A\n",
      "  4%|███▎                                                                               | 1/25 [00:00<00:11,  2.16it/s]\u001b[A\n",
      "  8%|██████▋                                                                            | 2/25 [00:00<00:08,  2.69it/s]\u001b[A\n",
      " 12%|█████████▉                                                                         | 3/25 [00:00<00:06,  3.65it/s]\u001b[A\n",
      " 16%|█████████████▎                                                                     | 4/25 [00:01<00:04,  4.51it/s]\u001b[A\n",
      " 24%|███████████████████▉                                                               | 6/25 [00:01<00:02,  6.72it/s]\u001b[A\n",
      " 28%|███████████████████████▏                                                           | 7/25 [00:01<00:02,  6.68it/s]\u001b[A\n",
      " 32%|██████████████████████████▌                                                        | 8/25 [00:01<00:02,  6.60it/s]\u001b[A\n",
      " 36%|█████████████████████████████▉                                                     | 9/25 [00:01<00:02,  6.72it/s]\u001b[A\n",
      " 44%|████████████████████████████████████                                              | 11/25 [00:01<00:01,  8.19it/s]\u001b[A\n",
      " 48%|███████████████████████████████████████▎                                          | 12/25 [00:02<00:01,  7.72it/s]\u001b[A\n",
      " 52%|██████████████████████████████████████████▋                                       | 13/25 [00:02<00:01,  7.44it/s]\u001b[A\n",
      " 56%|█████████████████████████████████████████████▉                                    | 14/25 [00:02<00:01,  7.49it/s]\u001b[A\n",
      " 64%|████████████████████████████████████████████████████▍                             | 16/25 [00:02<00:00,  9.18it/s]\u001b[A\n",
      " 68%|███████████████████████████████████████████████████████▊                          | 17/25 [00:02<00:00,  8.78it/s]\u001b[A\n",
      " 72%|███████████████████████████████████████████████████████████                       | 18/25 [00:02<00:00,  8.44it/s]\u001b[A\n",
      " 76%|██████████████████████████████████████████████████████████████▎                   | 19/25 [00:02<00:00,  8.51it/s]\u001b[A\n",
      "100%|██████████████████████████████████████████████████████████████████████████████████| 25/25 [00:02<00:00,  8.53it/s]\u001b[A\n",
      " 34%|███████████████████████████▏                                                     | 67/200 [13:03<31:40, 14.29s/it]"
     ]
    },
    {
     "name": "stdout",
     "output_type": "stream",
     "text": [
      "Working on : \\\\merfish9.ucsd.edu\\volume1\\20230908_D106Luo\\DNA\\AnalysisDeconvolveCG\\SegmentationDAPI_CG\\Conv_zscan__0993--H1_B1_2_3--CYTO_segm.npz\n"
     ]
    },
    {
     "name": "stderr",
     "output_type": "stream",
     "text": [
      "\n",
      "  0%|                                                                                           | 0/25 [00:00<?, ?it/s]\u001b[A\n",
      "  4%|███▎                                                                               | 1/25 [00:00<00:09,  2.67it/s]\u001b[A\n",
      "  8%|██████▋                                                                            | 2/25 [00:00<00:05,  4.08it/s]\u001b[A\n",
      " 12%|█████████▉                                                                         | 3/25 [00:00<00:04,  4.89it/s]\u001b[A\n",
      " 16%|█████████████▎                                                                     | 4/25 [00:00<00:03,  5.49it/s]\u001b[A\n",
      " 24%|███████████████████▉                                                               | 6/25 [00:01<00:02,  7.52it/s]\u001b[A\n",
      " 28%|███████████████████████▏                                                           | 7/25 [00:01<00:02,  7.19it/s]\u001b[A\n",
      " 32%|██████████████████████████▌                                                        | 8/25 [00:01<00:02,  6.97it/s]\u001b[A\n",
      " 36%|█████████████████████████████▉                                                     | 9/25 [00:01<00:02,  7.09it/s]\u001b[A\n",
      " 44%|████████████████████████████████████                                              | 11/25 [00:01<00:01,  8.65it/s]\u001b[A\n",
      " 48%|███████████████████████████████████████▎                                          | 12/25 [00:01<00:01,  8.08it/s]\u001b[A\n",
      " 52%|██████████████████████████████████████████▋                                       | 13/25 [00:01<00:01,  7.69it/s]\u001b[A\n",
      " 56%|█████████████████████████████████████████████▉                                    | 14/25 [00:02<00:01,  7.66it/s]\u001b[A\n",
      " 64%|████████████████████████████████████████████████████▍                             | 16/25 [00:02<00:00,  9.32it/s]\u001b[A\n",
      " 68%|███████████████████████████████████████████████████████▊                          | 17/25 [00:02<00:00,  8.86it/s]\u001b[A\n",
      " 72%|███████████████████████████████████████████████████████████                       | 18/25 [00:02<00:00,  8.49it/s]\u001b[A\n",
      "100%|██████████████████████████████████████████████████████████████████████████████████| 25/25 [00:02<00:00,  9.30it/s]\u001b[A\n",
      " 34%|███████████████████████████▌                                                     | 68/200 [13:17<31:06, 14.14s/it]"
     ]
    },
    {
     "name": "stdout",
     "output_type": "stream",
     "text": [
      "Working on : \\\\merfish9.ucsd.edu\\volume1\\20230908_D106Luo\\DNA\\AnalysisDeconvolveCG\\SegmentationDAPI_CG\\Conv_zscan__0994--H1_B1_2_3--CYTO_segm.npz\n"
     ]
    },
    {
     "name": "stderr",
     "output_type": "stream",
     "text": [
      "\n",
      "  0%|                                                                                           | 0/25 [00:00<?, ?it/s]\u001b[A\n",
      "  4%|███▎                                                                               | 1/25 [00:00<00:11,  2.04it/s]\u001b[A\n",
      "  8%|██████▋                                                                            | 2/25 [00:00<00:07,  3.04it/s]\u001b[A\n",
      " 12%|█████████▉                                                                         | 3/25 [00:00<00:05,  3.70it/s]\u001b[A\n",
      " 16%|█████████████▎                                                                     | 4/25 [00:01<00:04,  4.58it/s]\u001b[A\n",
      " 24%|███████████████████▉                                                               | 6/25 [00:01<00:02,  6.59it/s]\u001b[A\n",
      " 28%|███████████████████████▏                                                           | 7/25 [00:01<00:02,  6.53it/s]\u001b[A\n",
      " 32%|██████████████████████████▌                                                        | 8/25 [00:01<00:02,  6.48it/s]\u001b[A\n",
      " 36%|█████████████████████████████▉                                                     | 9/25 [00:01<00:02,  6.71it/s]\u001b[A\n",
      " 44%|████████████████████████████████████                                              | 11/25 [00:01<00:01,  8.31it/s]\u001b[A\n",
      " 48%|███████████████████████████████████████▎                                          | 12/25 [00:01<00:01,  7.90it/s]\u001b[A\n",
      " 52%|██████████████████████████████████████████▋                                       | 13/25 [00:02<00:01,  7.55it/s]\u001b[A\n",
      " 56%|█████████████████████████████████████████████▉                                    | 14/25 [00:02<00:01,  7.54it/s]\u001b[A\n",
      " 64%|████████████████████████████████████████████████████▍                             | 16/25 [00:02<00:00,  9.28it/s]\u001b[A\n",
      " 68%|███████████████████████████████████████████████████████▊                          | 17/25 [00:02<00:00,  8.85it/s]\u001b[A\n",
      " 72%|███████████████████████████████████████████████████████████                       | 18/25 [00:02<00:00,  8.54it/s]\u001b[A\n",
      "100%|██████████████████████████████████████████████████████████████████████████████████| 25/25 [00:02<00:00,  8.61it/s]\u001b[A\n",
      " 34%|███████████████████████████▉                                                     | 69/200 [13:30<30:38, 14.03s/it]"
     ]
    },
    {
     "name": "stdout",
     "output_type": "stream",
     "text": [
      "Working on : \\\\merfish9.ucsd.edu\\volume1\\20230908_D106Luo\\DNA\\AnalysisDeconvolveCG\\SegmentationDAPI_CG\\Conv_zscan__0995--H1_B1_2_3--CYTO_segm.npz\n"
     ]
    },
    {
     "name": "stderr",
     "output_type": "stream",
     "text": [
      "\n",
      "  0%|                                                                                           | 0/25 [00:00<?, ?it/s]\u001b[A\n",
      "  4%|███▎                                                                               | 1/25 [00:00<00:12,  1.97it/s]\u001b[A\n",
      "  8%|██████▋                                                                            | 2/25 [00:00<00:07,  3.09it/s]\u001b[A\n",
      " 12%|█████████▉                                                                         | 3/25 [00:00<00:05,  4.09it/s]\u001b[A\n",
      " 16%|█████████████▎                                                                     | 4/25 [00:00<00:04,  4.91it/s]\u001b[A\n",
      " 24%|███████████████████▉                                                               | 6/25 [00:01<00:02,  7.00it/s]\u001b[A\n",
      " 28%|███████████████████████▏                                                           | 7/25 [00:01<00:02,  6.80it/s]\u001b[A\n",
      " 32%|██████████████████████████▌                                                        | 8/25 [00:01<00:02,  6.70it/s]\u001b[A\n",
      " 36%|█████████████████████████████▉                                                     | 9/25 [00:01<00:02,  6.85it/s]\u001b[A\n",
      " 44%|████████████████████████████████████                                              | 11/25 [00:01<00:01,  8.40it/s]\u001b[A\n",
      " 48%|███████████████████████████████████████▎                                          | 12/25 [00:01<00:01,  7.90it/s]\u001b[A\n",
      " 52%|██████████████████████████████████████████▋                                       | 13/25 [00:02<00:01,  7.48it/s]\u001b[A\n",
      " 56%|█████████████████████████████████████████████▉                                    | 14/25 [00:02<00:01,  7.54it/s]\u001b[A\n",
      " 64%|████████████████████████████████████████████████████▍                             | 16/25 [00:02<00:00,  9.30it/s]\u001b[A\n",
      " 68%|███████████████████████████████████████████████████████▊                          | 17/25 [00:02<00:00,  8.88it/s]\u001b[A\n",
      " 72%|███████████████████████████████████████████████████████████                       | 18/25 [00:02<00:00,  8.53it/s]\u001b[A\n",
      "100%|██████████████████████████████████████████████████████████████████████████████████| 25/25 [00:02<00:00,  8.76it/s]\u001b[A\n",
      " 35%|████████████████████████████▎                                                    | 70/200 [13:44<30:18, 13.99s/it]"
     ]
    },
    {
     "name": "stdout",
     "output_type": "stream",
     "text": [
      "Working on : \\\\merfish9.ucsd.edu\\volume1\\20230908_D106Luo\\DNA\\AnalysisDeconvolveCG\\SegmentationDAPI_CG\\Conv_zscan__0996--H1_B1_2_3--CYTO_segm.npz\n"
     ]
    },
    {
     "name": "stderr",
     "output_type": "stream",
     "text": [
      "\n",
      "  0%|                                                                                           | 0/25 [00:00<?, ?it/s]\u001b[A\n",
      "  4%|███▎                                                                               | 1/25 [00:00<00:12,  1.88it/s]\u001b[A\n",
      "  8%|██████▋                                                                            | 2/25 [00:00<00:07,  3.27it/s]\u001b[A\n",
      " 12%|█████████▉                                                                         | 3/25 [00:01<00:08,  2.74it/s]\u001b[A\n",
      " 16%|█████████████▎                                                                     | 4/25 [00:01<00:06,  3.39it/s]\u001b[A\n",
      " 24%|███████████████████▉                                                               | 6/25 [00:01<00:03,  5.37it/s]\u001b[A\n",
      " 28%|███████████████████████▏                                                           | 7/25 [00:01<00:03,  5.69it/s]\u001b[A\n",
      " 32%|██████████████████████████▌                                                        | 8/25 [00:01<00:02,  5.93it/s]\u001b[A\n",
      " 36%|█████████████████████████████▉                                                     | 9/25 [00:01<00:02,  6.26it/s]\u001b[A\n",
      " 44%|████████████████████████████████████                                              | 11/25 [00:02<00:01,  7.93it/s]\u001b[A\n",
      " 48%|███████████████████████████████████████▎                                          | 12/25 [00:02<00:01,  7.53it/s]\u001b[A\n",
      " 52%|██████████████████████████████████████████▋                                       | 13/25 [00:02<00:01,  7.28it/s]\u001b[A\n",
      " 56%|█████████████████████████████████████████████▉                                    | 14/25 [00:02<00:01,  7.36it/s]\u001b[A\n",
      " 64%|████████████████████████████████████████████████████▍                             | 16/25 [00:02<00:00,  9.11it/s]\u001b[A\n",
      " 68%|███████████████████████████████████████████████████████▊                          | 17/25 [00:02<00:00,  8.69it/s]\u001b[A\n",
      " 72%|███████████████████████████████████████████████████████████                       | 18/25 [00:02<00:00,  8.40it/s]\u001b[A\n",
      "100%|██████████████████████████████████████████████████████████████████████████████████| 25/25 [00:03<00:00,  7.93it/s]\u001b[A\n",
      " 36%|████████████████████████████▊                                                    | 71/200 [13:59<30:28, 14.17s/it]"
     ]
    },
    {
     "name": "stdout",
     "output_type": "stream",
     "text": [
      "Working on : \\\\merfish9.ucsd.edu\\volume1\\20230908_D106Luo\\DNA\\AnalysisDeconvolveCG\\SegmentationDAPI_CG\\Conv_zscan__0997--H1_B1_2_3--CYTO_segm.npz\n"
     ]
    },
    {
     "name": "stderr",
     "output_type": "stream",
     "text": [
      "\n",
      "  0%|                                                                                           | 0/25 [00:00<?, ?it/s]\u001b[A\n",
      "  4%|███▎                                                                               | 1/25 [00:00<00:12,  1.96it/s]\u001b[A\n",
      "  8%|██████▋                                                                            | 2/25 [00:00<00:06,  3.38it/s]\u001b[A\n",
      " 12%|█████████▉                                                                         | 3/25 [00:00<00:06,  3.56it/s]\u001b[A\n",
      " 16%|█████████████▎                                                                     | 4/25 [00:01<00:04,  4.48it/s]\u001b[A\n",
      " 24%|███████████████████▉                                                               | 6/25 [00:01<00:02,  6.61it/s]\u001b[A\n",
      " 28%|███████████████████████▏                                                           | 7/25 [00:01<00:02,  6.51it/s]\u001b[A\n",
      " 32%|██████████████████████████▌                                                        | 8/25 [00:01<00:02,  6.49it/s]\u001b[A\n",
      " 36%|█████████████████████████████▉                                                     | 9/25 [00:01<00:02,  6.74it/s]\u001b[A\n",
      " 44%|████████████████████████████████████                                              | 11/25 [00:01<00:01,  8.33it/s]\u001b[A\n",
      " 48%|███████████████████████████████████████▎                                          | 12/25 [00:01<00:01,  7.93it/s]\u001b[A\n",
      " 52%|██████████████████████████████████████████▋                                       | 13/25 [00:02<00:01,  7.55it/s]\u001b[A\n",
      " 56%|█████████████████████████████████████████████▉                                    | 14/25 [00:02<00:01,  7.55it/s]\u001b[A\n",
      " 64%|████████████████████████████████████████████████████▍                             | 16/25 [00:02<00:00,  9.25it/s]\u001b[A\n",
      " 68%|███████████████████████████████████████████████████████▊                          | 17/25 [00:02<00:00,  8.87it/s]\u001b[A\n",
      " 72%|███████████████████████████████████████████████████████████                       | 18/25 [00:02<00:00,  8.52it/s]\u001b[A\n",
      "100%|██████████████████████████████████████████████████████████████████████████████████| 25/25 [00:02<00:00,  8.61it/s]\u001b[A\n",
      " 36%|█████████████████████████████▏                                                   | 72/200 [14:14<30:35, 14.34s/it]"
     ]
    },
    {
     "name": "stdout",
     "output_type": "stream",
     "text": [
      "Working on : \\\\merfish9.ucsd.edu\\volume1\\20230908_D106Luo\\DNA\\AnalysisDeconvolveCG\\SegmentationDAPI_CG\\Conv_zscan__0998--H1_B1_2_3--CYTO_segm.npz\n"
     ]
    },
    {
     "name": "stderr",
     "output_type": "stream",
     "text": [
      "\n",
      "  0%|                                                                                           | 0/25 [00:00<?, ?it/s]\u001b[A\n",
      "  4%|███▎                                                                               | 1/25 [00:00<00:10,  2.25it/s]\u001b[A\n",
      "  8%|██████▋                                                                            | 2/25 [00:00<00:06,  3.36it/s]\u001b[A\n",
      " 12%|█████████▉                                                                         | 3/25 [00:00<00:05,  4.35it/s]\u001b[A\n",
      " 16%|█████████████▎                                                                     | 4/25 [00:00<00:04,  5.23it/s]\u001b[A\n",
      " 24%|███████████████████▉                                                               | 6/25 [00:01<00:02,  7.27it/s]\u001b[A\n",
      " 28%|███████████████████████▏                                                           | 7/25 [00:01<00:02,  7.00it/s]\u001b[A\n",
      " 32%|██████████████████████████▌                                                        | 8/25 [00:01<00:02,  6.83it/s]\u001b[A\n",
      " 36%|█████████████████████████████▉                                                     | 9/25 [00:01<00:02,  6.96it/s]\u001b[A\n",
      " 44%|████████████████████████████████████                                              | 11/25 [00:01<00:01,  8.53it/s]\u001b[A\n",
      " 48%|███████████████████████████████████████▎                                          | 12/25 [00:01<00:01,  8.00it/s]\u001b[A\n",
      " 52%|██████████████████████████████████████████▋                                       | 13/25 [00:02<00:01,  7.59it/s]\u001b[A\n",
      " 56%|█████████████████████████████████████████████▉                                    | 14/25 [00:02<00:01,  7.57it/s]\u001b[A\n",
      " 64%|████████████████████████████████████████████████████▍                             | 16/25 [00:02<00:00,  9.36it/s]\u001b[A\n",
      " 68%|███████████████████████████████████████████████████████▊                          | 17/25 [00:02<00:00,  8.85it/s]\u001b[A\n",
      " 72%|███████████████████████████████████████████████████████████                       | 18/25 [00:02<00:00,  8.49it/s]\u001b[A\n",
      "100%|██████████████████████████████████████████████████████████████████████████████████| 25/25 [00:02<00:00,  8.99it/s]\u001b[A\n",
      " 36%|█████████████████████████████▌                                                   | 73/200 [14:27<29:52, 14.11s/it]"
     ]
    },
    {
     "name": "stdout",
     "output_type": "stream",
     "text": [
      "Working on : \\\\merfish9.ucsd.edu\\volume1\\20230908_D106Luo\\DNA\\AnalysisDeconvolveCG\\SegmentationDAPI_CG\\Conv_zscan__0999--H1_B1_2_3--CYTO_segm.npz\n"
     ]
    },
    {
     "name": "stderr",
     "output_type": "stream",
     "text": [
      "\n",
      "  0%|                                                                                           | 0/25 [00:00<?, ?it/s]\u001b[A\n",
      "  4%|███▎                                                                               | 1/25 [00:00<00:09,  2.55it/s]\u001b[A\n",
      "  8%|██████▋                                                                            | 2/25 [00:00<00:08,  2.70it/s]\u001b[A\n",
      " 12%|█████████▉                                                                         | 3/25 [00:00<00:06,  3.57it/s]\u001b[A\n",
      " 16%|█████████████▎                                                                     | 4/25 [00:01<00:04,  4.40it/s]\u001b[A\n",
      " 24%|███████████████████▉                                                               | 6/25 [00:01<00:02,  6.42it/s]\u001b[A\n",
      " 28%|███████████████████████▏                                                           | 7/25 [00:01<00:02,  6.42it/s]\u001b[A\n",
      " 32%|██████████████████████████▌                                                        | 8/25 [00:01<00:02,  6.40it/s]\u001b[A\n",
      " 36%|█████████████████████████████▉                                                     | 9/25 [00:01<00:02,  6.59it/s]\u001b[A\n",
      " 44%|████████████████████████████████████                                              | 11/25 [00:01<00:01,  8.13it/s]\u001b[A\n",
      " 48%|███████████████████████████████████████▎                                          | 12/25 [00:02<00:01,  7.42it/s]\u001b[A\n",
      " 52%|██████████████████████████████████████████▋                                       | 13/25 [00:02<00:01,  7.24it/s]\u001b[A\n",
      " 56%|█████████████████████████████████████████████▉                                    | 14/25 [00:02<00:01,  7.30it/s]\u001b[A\n",
      " 64%|████████████████████████████████████████████████████▍                             | 16/25 [00:02<00:01,  9.00it/s]\u001b[A\n",
      " 68%|███████████████████████████████████████████████████████▊                          | 17/25 [00:02<00:00,  8.70it/s]\u001b[A\n",
      " 72%|███████████████████████████████████████████████████████████                       | 18/25 [00:02<00:00,  8.37it/s]\u001b[A\n",
      "100%|██████████████████████████████████████████████████████████████████████████████████| 25/25 [00:02<00:00,  8.44it/s]\u001b[A\n",
      " 37%|█████████████████████████████▉                                                   | 74/200 [14:41<29:48, 14.19s/it]"
     ]
    },
    {
     "name": "stdout",
     "output_type": "stream",
     "text": [
      "Working on : \\\\merfish9.ucsd.edu\\volume1\\20230908_D106Luo\\DNA\\AnalysisDeconvolveCG\\SegmentationDAPI_CG\\Conv_zscan__1000--H1_B1_2_3--CYTO_segm.npz\n"
     ]
    },
    {
     "name": "stderr",
     "output_type": "stream",
     "text": [
      "\n",
      "  0%|                                                                                           | 0/25 [00:00<?, ?it/s]\u001b[A\n",
      "  4%|███▎                                                                               | 1/25 [00:00<00:12,  1.90it/s]\u001b[A\n",
      "  8%|██████▋                                                                            | 2/25 [00:00<00:07,  3.00it/s]\u001b[A\n",
      " 12%|█████████▉                                                                         | 3/25 [00:00<00:05,  3.91it/s]\u001b[A\n",
      " 16%|█████████████▎                                                                     | 4/25 [00:01<00:04,  4.72it/s]\u001b[A\n",
      " 24%|███████████████████▉                                                               | 6/25 [00:01<00:02,  6.81it/s]\u001b[A\n",
      " 28%|███████████████████████▏                                                           | 7/25 [00:01<00:02,  6.71it/s]\u001b[A\n",
      " 32%|██████████████████████████▌                                                        | 8/25 [00:01<00:02,  6.64it/s]\u001b[A\n",
      " 36%|█████████████████████████████▉                                                     | 9/25 [00:01<00:02,  6.78it/s]\u001b[A\n",
      " 44%|████████████████████████████████████                                              | 11/25 [00:01<00:01,  8.40it/s]\u001b[A\n",
      " 48%|███████████████████████████████████████▎                                          | 12/25 [00:01<00:01,  7.88it/s]\u001b[A\n",
      " 52%|██████████████████████████████████████████▋                                       | 13/25 [00:02<00:01,  7.56it/s]\u001b[A\n",
      " 56%|█████████████████████████████████████████████▉                                    | 14/25 [00:02<00:01,  7.52it/s]\u001b[A\n",
      " 64%|████████████████████████████████████████████████████▍                             | 16/25 [00:02<00:00,  9.26it/s]\u001b[A\n",
      " 68%|███████████████████████████████████████████████████████▊                          | 17/25 [00:02<00:00,  8.81it/s]\u001b[A\n",
      " 72%|███████████████████████████████████████████████████████████                       | 18/25 [00:02<00:00,  8.52it/s]\u001b[A\n",
      "100%|██████████████████████████████████████████████████████████████████████████████████| 25/25 [00:02<00:00,  8.65it/s]\u001b[A\n",
      " 38%|██████████████████████████████▍                                                  | 75/200 [14:56<29:32, 14.18s/it]"
     ]
    },
    {
     "name": "stdout",
     "output_type": "stream",
     "text": [
      "Working on : \\\\merfish9.ucsd.edu\\volume1\\20230908_D106Luo\\DNA\\AnalysisDeconvolveCG\\SegmentationDAPI_CG\\Conv_zscan__1001--H1_B1_2_3--CYTO_segm.npz\n"
     ]
    },
    {
     "name": "stderr",
     "output_type": "stream",
     "text": [
      "\n",
      "  0%|                                                                                           | 0/25 [00:00<?, ?it/s]\u001b[A\n",
      "  4%|███▎                                                                               | 1/25 [00:00<00:09,  2.53it/s]\u001b[A\n",
      "  8%|██████▋                                                                            | 2/25 [00:00<00:06,  3.59it/s]\u001b[A\n",
      " 12%|█████████▉                                                                         | 3/25 [00:00<00:04,  4.52it/s]\u001b[A\n",
      " 16%|█████████████▎                                                                     | 4/25 [00:00<00:03,  5.37it/s]\u001b[A\n",
      " 24%|███████████████████▉                                                               | 6/25 [00:01<00:02,  7.33it/s]\u001b[A\n",
      " 28%|███████████████████████▏                                                           | 7/25 [00:01<00:02,  7.05it/s]\u001b[A\n",
      " 32%|██████████████████████████▌                                                        | 8/25 [00:01<00:02,  6.86it/s]\u001b[A\n",
      " 36%|█████████████████████████████▉                                                     | 9/25 [00:01<00:02,  6.97it/s]\u001b[A\n",
      " 44%|████████████████████████████████████                                              | 11/25 [00:01<00:01,  8.57it/s]\u001b[A\n",
      " 48%|███████████████████████████████████████▎                                          | 12/25 [00:01<00:01,  8.01it/s]\u001b[A\n",
      " 52%|██████████████████████████████████████████▋                                       | 13/25 [00:01<00:01,  7.63it/s]\u001b[A\n",
      " 56%|█████████████████████████████████████████████▉                                    | 14/25 [00:02<00:01,  7.62it/s]\u001b[A\n",
      " 64%|████████████████████████████████████████████████████▍                             | 16/25 [00:02<00:00,  9.30it/s]\u001b[A\n",
      " 68%|███████████████████████████████████████████████████████▊                          | 17/25 [00:02<00:00,  8.81it/s]\u001b[A\n",
      " 72%|███████████████████████████████████████████████████████████                       | 18/25 [00:02<00:00,  8.50it/s]\u001b[A\n",
      "100%|██████████████████████████████████████████████████████████████████████████████████| 25/25 [00:02<00:00,  9.12it/s]\u001b[A\n",
      " 38%|██████████████████████████████▊                                                  | 76/200 [15:09<28:54, 13.99s/it]"
     ]
    },
    {
     "name": "stdout",
     "output_type": "stream",
     "text": [
      "Working on : \\\\merfish9.ucsd.edu\\volume1\\20230908_D106Luo\\DNA\\AnalysisDeconvolveCG\\SegmentationDAPI_CG\\Conv_zscan__1002--H1_B1_2_3--CYTO_segm.npz\n"
     ]
    },
    {
     "name": "stderr",
     "output_type": "stream",
     "text": [
      "\n",
      "  0%|                                                                                           | 0/25 [00:00<?, ?it/s]\u001b[A\n",
      "  4%|███▎                                                                               | 1/25 [00:00<00:12,  1.85it/s]\u001b[A\n",
      "  8%|██████▋                                                                            | 2/25 [00:00<00:07,  3.12it/s]\u001b[A\n",
      " 12%|█████████▉                                                                         | 3/25 [00:00<00:05,  4.07it/s]\u001b[A\n",
      " 16%|█████████████▎                                                                     | 4/25 [00:00<00:04,  4.98it/s]\u001b[A\n",
      " 24%|███████████████████▉                                                               | 6/25 [00:01<00:02,  7.04it/s]\u001b[A\n",
      " 28%|███████████████████████▏                                                           | 7/25 [00:01<00:02,  6.83it/s]\u001b[A\n",
      " 32%|██████████████████████████▌                                                        | 8/25 [00:01<00:02,  6.69it/s]\u001b[A\n",
      " 36%|█████████████████████████████▉                                                     | 9/25 [00:01<00:02,  6.86it/s]\u001b[A\n",
      " 44%|████████████████████████████████████                                              | 11/25 [00:01<00:01,  8.07it/s]\u001b[A\n",
      " 48%|███████████████████████████████████████▎                                          | 12/25 [00:01<00:01,  7.71it/s]\u001b[A\n",
      " 52%|██████████████████████████████████████████▋                                       | 13/25 [00:02<00:01,  7.44it/s]\u001b[A\n",
      " 56%|█████████████████████████████████████████████▉                                    | 14/25 [00:02<00:01,  7.46it/s]\u001b[A\n",
      " 64%|████████████████████████████████████████████████████▍                             | 16/25 [00:02<00:00,  9.17it/s]\u001b[A\n",
      " 68%|███████████████████████████████████████████████████████▊                          | 17/25 [00:02<00:00,  8.75it/s]\u001b[A\n",
      " 72%|███████████████████████████████████████████████████████████                       | 18/25 [00:02<00:00,  8.46it/s]\u001b[A\n",
      "100%|██████████████████████████████████████████████████████████████████████████████████| 25/25 [00:02<00:00,  8.69it/s]\u001b[A\n",
      " 38%|███████████████████████████████▏                                                 | 77/200 [15:23<28:22, 13.84s/it]"
     ]
    },
    {
     "name": "stdout",
     "output_type": "stream",
     "text": [
      "Working on : \\\\merfish9.ucsd.edu\\volume1\\20230908_D106Luo\\DNA\\AnalysisDeconvolveCG\\SegmentationDAPI_CG\\Conv_zscan__1003--H1_B1_2_3--CYTO_segm.npz\n"
     ]
    },
    {
     "name": "stderr",
     "output_type": "stream",
     "text": [
      "\n",
      "  0%|                                                                                           | 0/25 [00:00<?, ?it/s]\u001b[A\n",
      "  4%|███▎                                                                               | 1/25 [00:00<00:11,  2.06it/s]\u001b[A\n",
      "  8%|██████▋                                                                            | 2/25 [00:00<00:09,  2.36it/s]\u001b[A\n",
      " 12%|█████████▉                                                                         | 3/25 [00:01<00:07,  3.04it/s]\u001b[A\n",
      " 16%|█████████████▎                                                                     | 4/25 [00:01<00:05,  3.69it/s]\u001b[A\n",
      " 24%|███████████████████▉                                                               | 6/25 [00:01<00:03,  5.72it/s]\u001b[A\n",
      " 28%|███████████████████████▏                                                           | 7/25 [00:01<00:03,  5.88it/s]\u001b[A\n",
      " 32%|██████████████████████████▌                                                        | 8/25 [00:01<00:02,  6.02it/s]\u001b[A\n",
      " 36%|█████████████████████████████▉                                                     | 9/25 [00:01<00:02,  6.33it/s]\u001b[A\n",
      " 44%|████████████████████████████████████                                              | 11/25 [00:02<00:01,  7.91it/s]\u001b[A\n",
      " 48%|███████████████████████████████████████▎                                          | 12/25 [00:02<00:01,  7.56it/s]\u001b[A\n",
      " 52%|██████████████████████████████████████████▋                                       | 13/25 [00:02<00:01,  7.35it/s]\u001b[A\n",
      " 56%|█████████████████████████████████████████████▉                                    | 14/25 [00:02<00:01,  7.44it/s]\u001b[A\n",
      " 64%|████████████████████████████████████████████████████▍                             | 16/25 [00:02<00:00,  9.17it/s]\u001b[A\n",
      " 68%|███████████████████████████████████████████████████████▊                          | 17/25 [00:02<00:00,  8.76it/s]\u001b[A\n",
      " 72%|███████████████████████████████████████████████████████████                       | 18/25 [00:02<00:00,  8.46it/s]\u001b[A\n",
      "100%|██████████████████████████████████████████████████████████████████████████████████| 25/25 [00:03<00:00,  8.00it/s]\u001b[A\n",
      " 39%|███████████████████████████████▌                                                 | 78/200 [15:37<28:24, 13.97s/it]"
     ]
    },
    {
     "name": "stdout",
     "output_type": "stream",
     "text": [
      "Working on : \\\\merfish9.ucsd.edu\\volume1\\20230908_D106Luo\\DNA\\AnalysisDeconvolveCG\\SegmentationDAPI_CG\\Conv_zscan__1004--H1_B1_2_3--CYTO_segm.npz\n"
     ]
    },
    {
     "name": "stderr",
     "output_type": "stream",
     "text": [
      "\n",
      "  0%|                                                                                           | 0/25 [00:00<?, ?it/s]\u001b[A\n",
      "  4%|███▎                                                                               | 1/25 [00:00<00:12,  1.96it/s]\u001b[A\n",
      "  8%|██████▋                                                                            | 2/25 [00:00<00:06,  3.34it/s]\u001b[A\n",
      " 12%|█████████▉                                                                         | 3/25 [00:00<00:05,  4.32it/s]\u001b[A\n",
      " 16%|█████████████▎                                                                     | 4/25 [00:00<00:04,  5.24it/s]\u001b[A\n",
      " 24%|███████████████████▉                                                               | 6/25 [00:01<00:02,  7.43it/s]\u001b[A\n",
      " 28%|███████████████████████▏                                                           | 7/25 [00:01<00:02,  7.22it/s]\u001b[A\n",
      " 32%|██████████████████████████▌                                                        | 8/25 [00:01<00:02,  6.97it/s]\u001b[A\n",
      " 36%|█████████████████████████████▉                                                     | 9/25 [00:01<00:02,  7.05it/s]\u001b[A\n",
      " 44%|████████████████████████████████████                                              | 11/25 [00:01<00:01,  8.55it/s]\u001b[A\n",
      " 48%|███████████████████████████████████████▎                                          | 12/25 [00:01<00:01,  8.06it/s]\u001b[A\n",
      " 52%|██████████████████████████████████████████▋                                       | 13/25 [00:02<00:01,  7.67it/s]\u001b[A\n",
      " 56%|█████████████████████████████████████████████▉                                    | 14/25 [00:02<00:01,  7.63it/s]\u001b[A\n",
      " 64%|████████████████████████████████████████████████████▍                             | 16/25 [00:02<00:00,  9.37it/s]\u001b[A\n",
      " 68%|███████████████████████████████████████████████████████▊                          | 17/25 [00:02<00:00,  8.82it/s]\u001b[A\n",
      " 72%|███████████████████████████████████████████████████████████                       | 18/25 [00:02<00:00,  8.50it/s]\u001b[A\n",
      " 76%|██████████████████████████████████████████████████████████████▎                   | 19/25 [00:02<00:00,  8.53it/s]\u001b[A\n",
      "100%|██████████████████████████████████████████████████████████████████████████████████| 25/25 [00:02<00:00,  8.97it/s]\u001b[A\n",
      " 40%|███████████████████████████████▉                                                 | 79/200 [15:51<28:28, 14.12s/it]"
     ]
    },
    {
     "name": "stdout",
     "output_type": "stream",
     "text": [
      "Working on : \\\\merfish9.ucsd.edu\\volume1\\20230908_D106Luo\\DNA\\AnalysisDeconvolveCG\\SegmentationDAPI_CG\\Conv_zscan__1005--H1_B1_2_3--CYTO_segm.npz\n"
     ]
    },
    {
     "name": "stderr",
     "output_type": "stream",
     "text": [
      "\n",
      "  0%|                                                                                           | 0/25 [00:00<?, ?it/s]\u001b[A\n",
      "  4%|███▎                                                                               | 1/25 [00:00<00:12,  1.90it/s]\u001b[A\n",
      "  8%|██████▋                                                                            | 2/25 [00:00<00:07,  3.02it/s]\u001b[A\n",
      " 12%|█████████▉                                                                         | 3/25 [00:00<00:05,  4.00it/s]\u001b[A\n",
      " 16%|█████████████▎                                                                     | 4/25 [00:01<00:04,  4.84it/s]\u001b[A\n",
      " 24%|███████████████████▉                                                               | 6/25 [00:01<00:02,  6.94it/s]\u001b[A\n",
      " 28%|███████████████████████▏                                                           | 7/25 [00:01<00:02,  6.76it/s]\u001b[A\n",
      " 32%|██████████████████████████▌                                                        | 8/25 [00:01<00:02,  6.67it/s]\u001b[A\n",
      " 36%|█████████████████████████████▉                                                     | 9/25 [00:01<00:02,  6.85it/s]\u001b[A\n",
      " 44%|████████████████████████████████████                                              | 11/25 [00:01<00:01,  8.46it/s]\u001b[A\n",
      " 48%|███████████████████████████████████████▎                                          | 12/25 [00:01<00:01,  7.98it/s]\u001b[A\n",
      " 52%|██████████████████████████████████████████▋                                       | 13/25 [00:02<00:01,  7.64it/s]\u001b[A\n",
      " 56%|█████████████████████████████████████████████▉                                    | 14/25 [00:02<00:01,  7.59it/s]\u001b[A\n",
      " 64%|████████████████████████████████████████████████████▍                             | 16/25 [00:02<00:00,  9.36it/s]\u001b[A\n",
      " 68%|███████████████████████████████████████████████████████▊                          | 17/25 [00:02<00:00,  8.90it/s]\u001b[A\n",
      " 72%|███████████████████████████████████████████████████████████                       | 18/25 [00:02<00:00,  8.54it/s]\u001b[A\n",
      "100%|██████████████████████████████████████████████████████████████████████████████████| 25/25 [00:02<00:00,  8.74it/s]\u001b[A\n",
      " 40%|████████████████████████████████▍                                                | 80/200 [16:06<28:41, 14.34s/it]"
     ]
    },
    {
     "name": "stdout",
     "output_type": "stream",
     "text": [
      "Working on : \\\\merfish9.ucsd.edu\\volume1\\20230908_D106Luo\\DNA\\AnalysisDeconvolveCG\\SegmentationDAPI_CG\\Conv_zscan__1006--H1_B1_2_3--CYTO_segm.npz\n"
     ]
    },
    {
     "name": "stderr",
     "output_type": "stream",
     "text": [
      "\n",
      "  0%|                                                                                           | 0/25 [00:00<?, ?it/s]\u001b[A\n",
      "  4%|███▎                                                                               | 1/25 [00:00<00:11,  2.04it/s]\u001b[A\n",
      "  8%|██████▋                                                                            | 2/25 [00:00<00:06,  3.40it/s]\u001b[A\n",
      " 12%|█████████▉                                                                         | 3/25 [00:00<00:05,  4.36it/s]\u001b[A\n",
      " 16%|█████████████▎                                                                     | 4/25 [00:01<00:05,  4.06it/s]\u001b[A\n",
      " 24%|███████████████████▉                                                               | 6/25 [00:01<00:03,  6.17it/s]\u001b[A\n",
      " 28%|███████████████████████▏                                                           | 7/25 [00:01<00:02,  6.23it/s]\u001b[A\n",
      " 32%|██████████████████████████▌                                                        | 8/25 [00:01<00:02,  6.29it/s]\u001b[A\n",
      " 36%|█████████████████████████████▉                                                     | 9/25 [00:01<00:02,  6.60it/s]\u001b[A\n",
      " 44%|████████████████████████████████████                                              | 11/25 [00:01<00:01,  8.23it/s]\u001b[A\n",
      " 48%|███████████████████████████████████████▎                                          | 12/25 [00:02<00:01,  7.83it/s]\u001b[A\n",
      " 52%|██████████████████████████████████████████▋                                       | 13/25 [00:02<00:01,  7.58it/s]\u001b[A\n",
      " 56%|█████████████████████████████████████████████▉                                    | 14/25 [00:02<00:01,  7.59it/s]\u001b[A\n",
      " 64%|████████████████████████████████████████████████████▍                             | 16/25 [00:02<00:00,  9.27it/s]\u001b[A\n",
      " 68%|███████████████████████████████████████████████████████▊                          | 17/25 [00:02<00:00,  8.82it/s]\u001b[A\n",
      " 72%|███████████████████████████████████████████████████████████                       | 18/25 [00:02<00:00,  8.51it/s]\u001b[A\n",
      "100%|██████████████████████████████████████████████████████████████████████████████████| 25/25 [00:02<00:00,  8.59it/s]\u001b[A\n",
      " 40%|████████████████████████████████▊                                                | 81/200 [16:21<28:26, 14.34s/it]"
     ]
    },
    {
     "name": "stdout",
     "output_type": "stream",
     "text": [
      "Working on : \\\\merfish9.ucsd.edu\\volume1\\20230908_D106Luo\\DNA\\AnalysisDeconvolveCG\\SegmentationDAPI_CG\\Conv_zscan__1007--H1_B1_2_3--CYTO_segm.npz\n"
     ]
    },
    {
     "name": "stderr",
     "output_type": "stream",
     "text": [
      "\n",
      "  0%|                                                                                           | 0/25 [00:00<?, ?it/s]\u001b[A\n",
      "  4%|███▎                                                                               | 1/25 [00:00<00:09,  2.59it/s]\u001b[A\n",
      "  8%|██████▋                                                                            | 2/25 [00:00<00:05,  4.07it/s]\u001b[A\n",
      " 12%|█████████▉                                                                         | 3/25 [00:00<00:05,  4.02it/s]\u001b[A\n",
      " 16%|█████████████▎                                                                     | 4/25 [00:00<00:04,  4.88it/s]\u001b[A\n",
      " 24%|███████████████████▉                                                               | 6/25 [00:01<00:02,  7.03it/s]\u001b[A\n",
      " 28%|███████████████████████▏                                                           | 7/25 [00:01<00:02,  6.83it/s]\u001b[A\n",
      " 32%|██████████████████████████▌                                                        | 8/25 [00:01<00:02,  6.73it/s]\u001b[A\n",
      " 36%|█████████████████████████████▉                                                     | 9/25 [00:01<00:02,  6.97it/s]\u001b[A\n",
      " 44%|████████████████████████████████████                                              | 11/25 [00:01<00:01,  8.52it/s]\u001b[A\n",
      " 48%|███████████████████████████████████████▎                                          | 12/25 [00:01<00:01,  8.00it/s]\u001b[A\n",
      " 52%|██████████████████████████████████████████▋                                       | 13/25 [00:02<00:01,  7.66it/s]\u001b[A\n",
      " 56%|█████████████████████████████████████████████▉                                    | 14/25 [00:02<00:01,  7.64it/s]\u001b[A\n",
      " 64%|████████████████████████████████████████████████████▍                             | 16/25 [00:02<00:00,  9.25it/s]\u001b[A\n",
      " 68%|███████████████████████████████████████████████████████▊                          | 17/25 [00:02<00:00,  8.75it/s]\u001b[A\n",
      " 72%|███████████████████████████████████████████████████████████                       | 18/25 [00:02<00:00,  8.46it/s]\u001b[A\n",
      "100%|██████████████████████████████████████████████████████████████████████████████████| 25/25 [00:02<00:00,  9.02it/s]\u001b[A\n",
      " 41%|█████████████████████████████████▏                                               | 82/200 [16:35<28:28, 14.47s/it]"
     ]
    },
    {
     "name": "stdout",
     "output_type": "stream",
     "text": [
      "Working on : \\\\merfish9.ucsd.edu\\volume1\\20230908_D106Luo\\DNA\\AnalysisDeconvolveCG\\SegmentationDAPI_CG\\Conv_zscan__1008--H1_B1_2_3--CYTO_segm.npz\n"
     ]
    },
    {
     "name": "stderr",
     "output_type": "stream",
     "text": [
      "\n",
      "  0%|                                                                                           | 0/25 [00:00<?, ?it/s]\u001b[A\n",
      "  4%|███▎                                                                               | 1/25 [00:00<00:07,  3.00it/s]\u001b[A\n",
      "  8%|██████▋                                                                            | 2/25 [00:00<00:08,  2.73it/s]\u001b[A\n",
      " 12%|█████████▉                                                                         | 3/25 [00:00<00:05,  3.77it/s]\u001b[A\n",
      " 16%|█████████████▎                                                                     | 4/25 [00:01<00:04,  4.62it/s]\u001b[A\n",
      " 24%|███████████████████▉                                                               | 6/25 [00:01<00:02,  6.68it/s]\u001b[A\n",
      " 28%|███████████████████████▏                                                           | 7/25 [00:01<00:02,  6.60it/s]\u001b[A\n",
      " 32%|██████████████████████████▌                                                        | 8/25 [00:01<00:02,  6.54it/s]\u001b[A\n",
      " 36%|█████████████████████████████▉                                                     | 9/25 [00:01<00:02,  6.74it/s]\u001b[A\n",
      " 44%|████████████████████████████████████                                              | 11/25 [00:01<00:01,  8.33it/s]\u001b[A\n",
      " 48%|███████████████████████████████████████▎                                          | 12/25 [00:01<00:01,  7.87it/s]\u001b[A\n",
      " 52%|██████████████████████████████████████████▋                                       | 13/25 [00:02<00:01,  7.53it/s]\u001b[A\n",
      " 56%|█████████████████████████████████████████████▉                                    | 14/25 [00:02<00:01,  7.53it/s]\u001b[A\n",
      " 64%|████████████████████████████████████████████████████▍                             | 16/25 [00:02<00:00,  9.29it/s]\u001b[A\n",
      " 68%|███████████████████████████████████████████████████████▊                          | 17/25 [00:02<00:00,  8.83it/s]\u001b[A\n",
      " 72%|███████████████████████████████████████████████████████████                       | 18/25 [00:02<00:00,  8.46it/s]\u001b[A\n",
      "100%|██████████████████████████████████████████████████████████████████████████████████| 25/25 [00:02<00:00,  8.70it/s]\u001b[A\n",
      " 42%|█████████████████████████████████▌                                               | 83/200 [16:51<28:45, 14.74s/it]"
     ]
    },
    {
     "name": "stdout",
     "output_type": "stream",
     "text": [
      "Working on : \\\\merfish9.ucsd.edu\\volume1\\20230908_D106Luo\\DNA\\AnalysisDeconvolveCG\\SegmentationDAPI_CG\\Conv_zscan__1009--H1_B1_2_3--CYTO_segm.npz\n"
     ]
    },
    {
     "name": "stderr",
     "output_type": "stream",
     "text": [
      "\n",
      "  0%|                                                                                           | 0/25 [00:00<?, ?it/s]\u001b[A\n",
      "  4%|███▎                                                                               | 1/25 [00:00<00:10,  2.34it/s]\u001b[A\n",
      "  8%|██████▋                                                                            | 2/25 [00:00<00:06,  3.77it/s]\u001b[A\n",
      " 12%|█████████▉                                                                         | 3/25 [00:00<00:04,  4.76it/s]\u001b[A\n",
      " 16%|█████████████▎                                                                     | 4/25 [00:00<00:03,  5.59it/s]\u001b[A\n",
      " 24%|███████████████████▉                                                               | 6/25 [00:01<00:02,  7.77it/s]\u001b[A\n",
      " 28%|███████████████████████▏                                                           | 7/25 [00:01<00:02,  7.36it/s]\u001b[A\n",
      " 32%|██████████████████████████▌                                                        | 8/25 [00:01<00:02,  7.08it/s]\u001b[A\n",
      " 36%|█████████████████████████████▉                                                     | 9/25 [00:01<00:02,  7.11it/s]\u001b[A\n",
      " 44%|████████████████████████████████████                                              | 11/25 [00:01<00:01,  8.62it/s]\u001b[A\n",
      " 48%|███████████████████████████████████████▎                                          | 12/25 [00:01<00:01,  8.06it/s]\u001b[A\n",
      " 52%|██████████████████████████████████████████▋                                       | 13/25 [00:01<00:01,  7.66it/s]\u001b[A\n",
      " 56%|█████████████████████████████████████████████▉                                    | 14/25 [00:02<00:01,  7.66it/s]\u001b[A\n",
      " 64%|████████████████████████████████████████████████████▍                             | 16/25 [00:02<00:00,  9.34it/s]\u001b[A\n",
      " 68%|███████████████████████████████████████████████████████▊                          | 17/25 [00:02<00:00,  8.89it/s]\u001b[A\n",
      " 72%|███████████████████████████████████████████████████████████                       | 18/25 [00:02<00:00,  8.55it/s]\u001b[A\n",
      "100%|██████████████████████████████████████████████████████████████████████████████████| 25/25 [00:02<00:00,  9.26it/s]\u001b[A\n",
      " 42%|██████████████████████████████████                                               | 84/200 [17:05<27:59, 14.48s/it]"
     ]
    },
    {
     "name": "stdout",
     "output_type": "stream",
     "text": [
      "Working on : \\\\merfish9.ucsd.edu\\volume1\\20230908_D106Luo\\DNA\\AnalysisDeconvolveCG\\SegmentationDAPI_CG\\Conv_zscan__1010--H1_B1_2_3--CYTO_segm.npz\n"
     ]
    },
    {
     "name": "stderr",
     "output_type": "stream",
     "text": [
      "\n",
      "  0%|                                                                                           | 0/25 [00:00<?, ?it/s]\u001b[A\n",
      "  4%|███▎                                                                               | 1/25 [00:00<00:10,  2.32it/s]\u001b[A\n",
      "  8%|██████▋                                                                            | 2/25 [00:00<00:07,  3.15it/s]\u001b[A\n",
      " 12%|█████████▉                                                                         | 3/25 [00:00<00:05,  3.91it/s]\u001b[A\n",
      " 16%|█████████████▎                                                                     | 4/25 [00:00<00:04,  4.75it/s]\u001b[A\n",
      " 24%|███████████████████▉                                                               | 6/25 [00:01<00:02,  6.87it/s]\u001b[A\n",
      " 28%|███████████████████████▏                                                           | 7/25 [00:01<00:02,  6.72it/s]\u001b[A\n",
      " 32%|██████████████████████████▌                                                        | 8/25 [00:01<00:02,  6.67it/s]\u001b[A\n",
      " 36%|█████████████████████████████▉                                                     | 9/25 [00:01<00:02,  6.87it/s]\u001b[A\n",
      " 44%|████████████████████████████████████                                              | 11/25 [00:01<00:01,  8.43it/s]\u001b[A\n",
      " 48%|███████████████████████████████████████▎                                          | 12/25 [00:01<00:01,  7.95it/s]\u001b[A\n",
      " 52%|██████████████████████████████████████████▋                                       | 13/25 [00:02<00:01,  7.65it/s]\u001b[A\n",
      " 56%|█████████████████████████████████████████████▉                                    | 14/25 [00:02<00:01,  7.66it/s]\u001b[A\n",
      " 64%|████████████████████████████████████████████████████▍                             | 16/25 [00:02<00:00,  9.32it/s]\u001b[A\n",
      " 68%|███████████████████████████████████████████████████████▊                          | 17/25 [00:02<00:00,  8.90it/s]\u001b[A\n",
      " 72%|███████████████████████████████████████████████████████████                       | 18/25 [00:02<00:00,  8.56it/s]\u001b[A\n",
      "100%|██████████████████████████████████████████████████████████████████████████████████| 25/25 [00:02<00:00,  8.82it/s]\u001b[A\n",
      " 42%|██████████████████████████████████▍                                              | 85/200 [17:19<27:39, 14.43s/it]"
     ]
    },
    {
     "name": "stdout",
     "output_type": "stream",
     "text": [
      "Working on : \\\\merfish9.ucsd.edu\\volume1\\20230908_D106Luo\\DNA\\AnalysisDeconvolveCG\\SegmentationDAPI_CG\\Conv_zscan__1011--H1_B1_2_3--CYTO_segm.npz\n"
     ]
    },
    {
     "name": "stderr",
     "output_type": "stream",
     "text": [
      "\n",
      "  0%|                                                                                           | 0/25 [00:00<?, ?it/s]\u001b[A\n",
      "  4%|███▎                                                                               | 1/25 [00:00<00:11,  2.07it/s]\u001b[A\n",
      "  8%|██████▋                                                                            | 2/25 [00:00<00:09,  2.35it/s]\u001b[A\n",
      " 12%|█████████▉                                                                         | 3/25 [00:01<00:06,  3.38it/s]\u001b[A\n",
      " 16%|█████████████▎                                                                     | 4/25 [00:01<00:05,  4.12it/s]\u001b[A\n",
      " 24%|███████████████████▉                                                               | 6/25 [00:01<00:03,  6.02it/s]\u001b[A\n",
      " 28%|███████████████████████▏                                                           | 7/25 [00:01<00:02,  6.11it/s]\u001b[A\n",
      " 32%|██████████████████████████▌                                                        | 8/25 [00:01<00:02,  6.20it/s]\u001b[A\n",
      " 36%|█████████████████████████████▉                                                     | 9/25 [00:01<00:02,  6.49it/s]\u001b[A\n",
      " 44%|████████████████████████████████████                                              | 11/25 [00:01<00:01,  8.13it/s]\u001b[A\n",
      " 48%|███████████████████████████████████████▎                                          | 12/25 [00:02<00:01,  7.73it/s]\u001b[A\n",
      " 52%|██████████████████████████████████████████▋                                       | 13/25 [00:02<00:01,  7.47it/s]\u001b[A\n",
      " 56%|█████████████████████████████████████████████▉                                    | 14/25 [00:02<00:01,  7.50it/s]\u001b[A\n",
      " 64%|████████████████████████████████████████████████████▍                             | 16/25 [00:02<00:00,  9.21it/s]\u001b[A\n",
      " 68%|███████████████████████████████████████████████████████▊                          | 17/25 [00:02<00:00,  8.80it/s]\u001b[A\n",
      " 72%|███████████████████████████████████████████████████████████                       | 18/25 [00:02<00:00,  8.47it/s]\u001b[A\n",
      "100%|██████████████████████████████████████████████████████████████████████████████████| 25/25 [00:03<00:00,  8.22it/s]\u001b[A\n",
      " 43%|██████████████████████████████████▊                                              | 86/200 [17:35<28:25, 14.96s/it]"
     ]
    },
    {
     "name": "stdout",
     "output_type": "stream",
     "text": [
      "Working on : \\\\merfish9.ucsd.edu\\volume1\\20230908_D106Luo\\DNA\\AnalysisDeconvolveCG\\SegmentationDAPI_CG\\Conv_zscan__1012--H1_B1_2_3--CYTO_segm.npz\n"
     ]
    },
    {
     "name": "stderr",
     "output_type": "stream",
     "text": [
      "\n",
      "  0%|                                                                                           | 0/25 [00:00<?, ?it/s]\u001b[A\n",
      "  4%|███▎                                                                               | 1/25 [00:00<00:12,  1.97it/s]\u001b[A\n",
      "  8%|██████▋                                                                            | 2/25 [00:00<00:07,  3.01it/s]\u001b[A\n",
      " 12%|█████████▉                                                                         | 3/25 [00:00<00:05,  3.78it/s]\u001b[A\n",
      " 16%|█████████████▎                                                                     | 4/25 [00:01<00:04,  4.63it/s]\u001b[A\n",
      " 24%|███████████████████▉                                                               | 6/25 [00:01<00:02,  6.72it/s]\u001b[A\n",
      " 28%|███████████████████████▏                                                           | 7/25 [00:01<00:02,  6.62it/s]\u001b[A\n",
      " 32%|██████████████████████████▌                                                        | 8/25 [00:01<00:02,  6.58it/s]\u001b[A\n",
      " 36%|█████████████████████████████▉                                                     | 9/25 [00:01<00:02,  6.80it/s]\u001b[A\n",
      " 44%|████████████████████████████████████                                              | 11/25 [00:01<00:01,  8.41it/s]\u001b[A\n",
      " 48%|███████████████████████████████████████▎                                          | 12/25 [00:01<00:01,  7.92it/s]\u001b[A\n",
      " 52%|██████████████████████████████████████████▋                                       | 13/25 [00:02<00:01,  7.56it/s]\u001b[A\n",
      " 56%|█████████████████████████████████████████████▉                                    | 14/25 [00:02<00:01,  7.59it/s]\u001b[A\n",
      " 64%|████████████████████████████████████████████████████▍                             | 16/25 [00:02<00:00,  9.30it/s]\u001b[A\n",
      " 68%|███████████████████████████████████████████████████████▊                          | 17/25 [00:02<00:00,  8.88it/s]\u001b[A\n",
      " 72%|███████████████████████████████████████████████████████████                       | 18/25 [00:02<00:00,  8.53it/s]\u001b[A\n",
      "100%|██████████████████████████████████████████████████████████████████████████████████| 25/25 [00:02<00:00,  8.64it/s]\u001b[A\n",
      " 44%|███████████████████████████████████▏                                             | 87/200 [17:51<28:45, 15.27s/it]"
     ]
    },
    {
     "name": "stdout",
     "output_type": "stream",
     "text": [
      "Working on : \\\\merfish9.ucsd.edu\\volume1\\20230908_D106Luo\\DNA\\AnalysisDeconvolveCG\\SegmentationDAPI_CG\\Conv_zscan__1013--H1_B1_2_3--CYTO_segm.npz\n"
     ]
    },
    {
     "name": "stderr",
     "output_type": "stream",
     "text": [
      "\n",
      "  0%|                                                                                           | 0/25 [00:00<?, ?it/s]\u001b[A\n",
      "  4%|███▎                                                                               | 1/25 [00:00<00:09,  2.66it/s]\u001b[A\n",
      "  8%|██████▋                                                                            | 2/25 [00:00<00:07,  3.00it/s]\u001b[A\n",
      " 12%|█████████▉                                                                         | 3/25 [00:00<00:05,  3.96it/s]\u001b[A\n",
      " 16%|█████████████▎                                                                     | 4/25 [00:00<00:04,  4.82it/s]\u001b[A\n",
      " 24%|███████████████████▉                                                               | 6/25 [00:01<00:02,  7.01it/s]\u001b[A\n",
      " 28%|███████████████████████▏                                                           | 7/25 [00:01<00:02,  6.90it/s]\u001b[A\n",
      " 32%|██████████████████████████▌                                                        | 8/25 [00:01<00:02,  6.78it/s]\u001b[A\n",
      " 36%|█████████████████████████████▉                                                     | 9/25 [00:01<00:02,  6.89it/s]\u001b[A\n",
      " 44%|████████████████████████████████████                                              | 11/25 [00:01<00:01,  8.39it/s]\u001b[A\n",
      " 48%|███████████████████████████████████████▎                                          | 12/25 [00:01<00:01,  7.90it/s]\u001b[A\n",
      " 52%|██████████████████████████████████████████▋                                       | 13/25 [00:02<00:01,  7.57it/s]\u001b[A\n",
      " 56%|█████████████████████████████████████████████▉                                    | 14/25 [00:02<00:01,  7.60it/s]\u001b[A\n",
      " 64%|████████████████████████████████████████████████████▍                             | 16/25 [00:02<00:00,  9.33it/s]\u001b[A\n",
      " 68%|███████████████████████████████████████████████████████▊                          | 17/25 [00:02<00:00,  8.90it/s]\u001b[A\n",
      " 72%|███████████████████████████████████████████████████████████                       | 18/25 [00:02<00:00,  8.58it/s]\u001b[A\n",
      "100%|██████████████████████████████████████████████████████████████████████████████████| 25/25 [00:02<00:00,  8.88it/s]\u001b[A\n",
      " 44%|███████████████████████████████████▋                                             | 88/200 [18:05<27:33, 14.77s/it]"
     ]
    },
    {
     "name": "stdout",
     "output_type": "stream",
     "text": [
      "Working on : \\\\merfish9.ucsd.edu\\volume1\\20230908_D106Luo\\DNA\\AnalysisDeconvolveCG\\SegmentationDAPI_CG\\Conv_zscan__1014--H1_B1_2_3--CYTO_segm.npz\n"
     ]
    },
    {
     "name": "stderr",
     "output_type": "stream",
     "text": [
      "\n",
      "  0%|                                                                                           | 0/25 [00:00<?, ?it/s]\u001b[A\n",
      "  4%|███▎                                                                               | 1/25 [00:00<00:12,  1.87it/s]\u001b[A\n",
      "  8%|██████▋                                                                            | 2/25 [00:00<00:09,  2.34it/s]\u001b[A\n",
      " 12%|█████████▉                                                                         | 3/25 [00:01<00:06,  3.24it/s]\u001b[A\n",
      " 16%|█████████████▎                                                                     | 4/25 [00:01<00:05,  4.17it/s]\u001b[A\n",
      " 24%|███████████████████▉                                                               | 6/25 [00:01<00:03,  6.24it/s]\u001b[A\n",
      " 28%|███████████████████████▏                                                           | 7/25 [00:01<00:02,  6.28it/s]\u001b[A\n",
      " 32%|██████████████████████████▌                                                        | 8/25 [00:01<00:02,  6.35it/s]\u001b[A\n",
      " 36%|█████████████████████████████▉                                                     | 9/25 [00:01<00:02,  6.64it/s]\u001b[A\n",
      " 44%|████████████████████████████████████                                              | 11/25 [00:01<00:01,  8.29it/s]\u001b[A\n",
      " 48%|███████████████████████████████████████▎                                          | 12/25 [00:02<00:01,  7.86it/s]\u001b[A\n",
      " 52%|██████████████████████████████████████████▋                                       | 13/25 [00:02<00:01,  7.55it/s]\u001b[A\n",
      " 56%|█████████████████████████████████████████████▉                                    | 14/25 [00:02<00:01,  7.51it/s]\u001b[A\n",
      " 64%|████████████████████████████████████████████████████▍                             | 16/25 [00:02<00:00,  9.26it/s]\u001b[A\n",
      " 68%|███████████████████████████████████████████████████████▊                          | 17/25 [00:02<00:00,  8.83it/s]\u001b[A\n",
      " 72%|███████████████████████████████████████████████████████████                       | 18/25 [00:02<00:00,  8.49it/s]\u001b[A\n",
      "100%|██████████████████████████████████████████████████████████████████████████████████| 25/25 [00:03<00:00,  8.23it/s]\u001b[A\n",
      " 44%|████████████████████████████████████                                             | 89/200 [18:20<27:44, 15.00s/it]"
     ]
    },
    {
     "name": "stdout",
     "output_type": "stream",
     "text": [
      "Working on : \\\\merfish9.ucsd.edu\\volume1\\20230908_D106Luo\\DNA\\AnalysisDeconvolveCG\\SegmentationDAPI_CG\\Conv_zscan__1015--H1_B1_2_3--CYTO_segm.npz\n"
     ]
    },
    {
     "name": "stderr",
     "output_type": "stream",
     "text": [
      "\n",
      "  0%|                                                                                           | 0/25 [00:00<?, ?it/s]\u001b[A\n",
      "  4%|███▎                                                                               | 1/25 [00:00<00:13,  1.83it/s]\u001b[A\n",
      "  8%|██████▋                                                                            | 2/25 [00:00<00:10,  2.25it/s]\u001b[A\n",
      " 12%|█████████▉                                                                         | 3/25 [00:01<00:06,  3.19it/s]\u001b[A\n",
      " 16%|█████████████▎                                                                     | 4/25 [00:01<00:05,  4.08it/s]\u001b[A\n",
      " 24%|███████████████████▉                                                               | 6/25 [00:01<00:03,  6.12it/s]\u001b[A\n",
      " 28%|███████████████████████▏                                                           | 7/25 [00:01<00:02,  6.20it/s]\u001b[A\n",
      " 32%|██████████████████████████▌                                                        | 8/25 [00:01<00:02,  6.24it/s]\u001b[A\n",
      " 36%|█████████████████████████████▉                                                     | 9/25 [00:01<00:02,  6.49it/s]\u001b[A\n",
      " 44%|████████████████████████████████████                                              | 11/25 [00:02<00:01,  8.03it/s]\u001b[A\n",
      " 48%|███████████████████████████████████████▎                                          | 12/25 [00:02<00:01,  7.68it/s]\u001b[A\n",
      " 52%|██████████████████████████████████████████▋                                       | 13/25 [00:02<00:01,  7.40it/s]\u001b[A\n",
      " 56%|█████████████████████████████████████████████▉                                    | 14/25 [00:02<00:01,  7.45it/s]\u001b[A\n",
      " 64%|████████████████████████████████████████████████████▍                             | 16/25 [00:02<00:00,  9.05it/s]\u001b[A\n",
      " 68%|███████████████████████████████████████████████████████▊                          | 17/25 [00:02<00:00,  8.65it/s]\u001b[A\n",
      " 72%|███████████████████████████████████████████████████████████                       | 18/25 [00:02<00:00,  8.37it/s]\u001b[A\n",
      "100%|██████████████████████████████████████████████████████████████████████████████████| 25/25 [00:03<00:00,  8.08it/s]\u001b[A\n",
      " 45%|████████████████████████████████████▍                                            | 90/200 [18:36<27:43, 15.12s/it]"
     ]
    },
    {
     "name": "stdout",
     "output_type": "stream",
     "text": [
      "Working on : \\\\merfish9.ucsd.edu\\volume1\\20230908_D106Luo\\DNA\\AnalysisDeconvolveCG\\SegmentationDAPI_CG\\Conv_zscan__1016--H1_B1_2_3--CYTO_segm.npz\n"
     ]
    },
    {
     "name": "stderr",
     "output_type": "stream",
     "text": [
      "\n",
      "  0%|                                                                                           | 0/25 [00:00<?, ?it/s]\u001b[A\n",
      "  4%|███▎                                                                               | 1/25 [00:00<00:11,  2.17it/s]\u001b[A\n",
      "  8%|██████▋                                                                            | 2/25 [00:00<00:06,  3.37it/s]\u001b[A\n",
      " 12%|█████████▉                                                                         | 3/25 [00:00<00:05,  4.30it/s]\u001b[A\n",
      " 16%|█████████████▎                                                                     | 4/25 [00:00<00:04,  5.08it/s]\u001b[A\n",
      " 24%|███████████████████▉                                                               | 6/25 [00:01<00:02,  7.16it/s]\u001b[A\n",
      " 28%|███████████████████████▏                                                           | 7/25 [00:01<00:02,  6.92it/s]\u001b[A\n",
      " 32%|██████████████████████████▌                                                        | 8/25 [00:01<00:02,  6.80it/s]\u001b[A\n",
      " 36%|█████████████████████████████▉                                                     | 9/25 [00:01<00:02,  6.98it/s]\u001b[A\n",
      " 44%|████████████████████████████████████                                              | 11/25 [00:01<00:01,  8.59it/s]\u001b[A\n",
      " 48%|███████████████████████████████████████▎                                          | 12/25 [00:01<00:01,  8.03it/s]\u001b[A\n",
      " 52%|██████████████████████████████████████████▋                                       | 13/25 [00:02<00:01,  7.64it/s]\u001b[A\n",
      " 56%|█████████████████████████████████████████████▉                                    | 14/25 [00:02<00:01,  7.62it/s]\u001b[A\n",
      " 64%|████████████████████████████████████████████████████▍                             | 16/25 [00:02<00:00,  9.35it/s]\u001b[A\n",
      " 68%|███████████████████████████████████████████████████████▊                          | 17/25 [00:02<00:00,  8.88it/s]\u001b[A\n",
      " 72%|███████████████████████████████████████████████████████████                       | 18/25 [00:02<00:00,  8.54it/s]\u001b[A\n",
      " 76%|██████████████████████████████████████████████████████████████▎                   | 19/25 [00:02<00:00,  8.58it/s]\u001b[A\n",
      "100%|██████████████████████████████████████████████████████████████████████████████████| 25/25 [00:02<00:00,  8.95it/s]\u001b[A\n",
      " 46%|████████████████████████████████████▊                                            | 91/200 [18:51<27:30, 15.15s/it]"
     ]
    },
    {
     "name": "stdout",
     "output_type": "stream",
     "text": [
      "Working on : \\\\merfish9.ucsd.edu\\volume1\\20230908_D106Luo\\DNA\\AnalysisDeconvolveCG\\SegmentationDAPI_CG\\Conv_zscan__1017--H1_B1_2_3--CYTO_segm.npz\n"
     ]
    },
    {
     "name": "stderr",
     "output_type": "stream",
     "text": [
      "\n",
      "  0%|                                                                                           | 0/25 [00:00<?, ?it/s]\u001b[A\n",
      "  4%|███▎                                                                               | 1/25 [00:00<00:12,  1.90it/s]\u001b[A\n",
      "  8%|██████▋                                                                            | 2/25 [00:00<00:07,  3.28it/s]\u001b[A\n",
      " 12%|█████████▉                                                                         | 3/25 [00:00<00:05,  4.11it/s]\u001b[A\n",
      " 16%|█████████████▎                                                                     | 4/25 [00:00<00:04,  4.86it/s]\u001b[A\n",
      " 24%|███████████████████▉                                                               | 6/25 [00:01<00:02,  6.92it/s]\u001b[A\n",
      " 28%|███████████████████████▏                                                           | 7/25 [00:01<00:02,  6.74it/s]\u001b[A\n",
      " 32%|██████████████████████████▌                                                        | 8/25 [00:01<00:02,  6.66it/s]\u001b[A\n",
      " 36%|█████████████████████████████▉                                                     | 9/25 [00:01<00:02,  6.84it/s]\u001b[A\n",
      " 44%|████████████████████████████████████                                              | 11/25 [00:01<00:01,  8.43it/s]\u001b[A\n",
      " 48%|███████████████████████████████████████▎                                          | 12/25 [00:01<00:01,  7.94it/s]\u001b[A\n",
      " 52%|██████████████████████████████████████████▋                                       | 13/25 [00:02<00:01,  7.60it/s]\u001b[A\n",
      " 56%|█████████████████████████████████████████████▉                                    | 14/25 [00:02<00:01,  7.59it/s]\u001b[A\n",
      " 64%|████████████████████████████████████████████████████▍                             | 16/25 [00:02<00:00,  9.28it/s]\u001b[A\n",
      " 68%|███████████████████████████████████████████████████████▊                          | 17/25 [00:02<00:00,  8.83it/s]\u001b[A\n",
      " 72%|███████████████████████████████████████████████████████████                       | 18/25 [00:02<00:00,  8.49it/s]\u001b[A\n",
      "100%|██████████████████████████████████████████████████████████████████████████████████| 25/25 [00:02<00:00,  8.76it/s]\u001b[A\n",
      " 46%|█████████████████████████████████████▎                                           | 92/200 [19:07<27:46, 15.43s/it]"
     ]
    },
    {
     "name": "stdout",
     "output_type": "stream",
     "text": [
      "Working on : \\\\merfish9.ucsd.edu\\volume1\\20230908_D106Luo\\DNA\\AnalysisDeconvolveCG\\SegmentationDAPI_CG\\Conv_zscan__1018--H1_B1_2_3--CYTO_segm.npz\n"
     ]
    },
    {
     "name": "stderr",
     "output_type": "stream",
     "text": [
      "\n",
      "  0%|                                                                                           | 0/25 [00:00<?, ?it/s]\u001b[A\n",
      "  4%|███▎                                                                               | 1/25 [00:00<00:08,  2.83it/s]\u001b[A\n",
      "  8%|██████▋                                                                            | 2/25 [00:00<00:05,  4.32it/s]\u001b[A\n",
      " 12%|█████████▉                                                                         | 3/25 [00:00<00:04,  5.10it/s]\u001b[A\n",
      " 16%|█████████████▎                                                                     | 4/25 [00:00<00:03,  5.73it/s]\u001b[A\n",
      " 24%|███████████████████▉                                                               | 6/25 [00:00<00:02,  7.72it/s]\u001b[A\n",
      " 28%|███████████████████████▏                                                           | 7/25 [00:01<00:02,  7.33it/s]\u001b[A\n",
      " 32%|██████████████████████████▌                                                        | 8/25 [00:01<00:02,  7.11it/s]\u001b[A\n",
      " 36%|█████████████████████████████▉                                                     | 9/25 [00:01<00:02,  7.21it/s]\u001b[A\n",
      " 44%|████████████████████████████████████                                              | 11/25 [00:01<00:01,  8.70it/s]\u001b[A\n",
      " 48%|███████████████████████████████████████▎                                          | 12/25 [00:01<00:01,  8.15it/s]\u001b[A\n",
      " 52%|██████████████████████████████████████████▋                                       | 13/25 [00:01<00:01,  7.74it/s]\u001b[A\n",
      " 56%|█████████████████████████████████████████████▉                                    | 14/25 [00:02<00:01,  7.68it/s]\u001b[A\n",
      " 64%|████████████████████████████████████████████████████▍                             | 16/25 [00:02<00:00,  9.39it/s]\u001b[A\n",
      " 68%|███████████████████████████████████████████████████████▊                          | 17/25 [00:02<00:00,  8.93it/s]\u001b[A\n",
      " 72%|███████████████████████████████████████████████████████████                       | 18/25 [00:02<00:00,  8.54it/s]\u001b[A\n",
      "100%|██████████████████████████████████████████████████████████████████████████████████| 25/25 [00:02<00:00,  9.47it/s]\u001b[A\n",
      " 46%|█████████████████████████████████████▋                                           | 93/200 [19:22<27:05, 15.20s/it]"
     ]
    },
    {
     "name": "stdout",
     "output_type": "stream",
     "text": [
      "Working on : \\\\merfish9.ucsd.edu\\volume1\\20230908_D106Luo\\DNA\\AnalysisDeconvolveCG\\SegmentationDAPI_CG\\Conv_zscan__1019--H1_B1_2_3--CYTO_segm.npz\n"
     ]
    },
    {
     "name": "stderr",
     "output_type": "stream",
     "text": [
      "\n",
      "  0%|                                                                                           | 0/25 [00:00<?, ?it/s]\u001b[A\n",
      "  4%|███▎                                                                               | 1/25 [00:00<00:10,  2.29it/s]\u001b[A\n",
      "  8%|██████▋                                                                            | 2/25 [00:00<00:07,  3.20it/s]\u001b[A\n",
      " 12%|█████████▉                                                                         | 3/25 [00:00<00:05,  3.77it/s]\u001b[A\n",
      " 16%|█████████████▎                                                                     | 4/25 [00:01<00:04,  4.69it/s]\u001b[A\n",
      " 24%|███████████████████▉                                                               | 6/25 [00:01<00:02,  6.82it/s]\u001b[A\n",
      " 28%|███████████████████████▏                                                           | 7/25 [00:01<00:02,  6.63it/s]\u001b[A\n",
      " 32%|██████████████████████████▌                                                        | 8/25 [00:01<00:02,  6.53it/s]\u001b[A\n",
      " 36%|█████████████████████████████▉                                                     | 9/25 [00:01<00:02,  6.72it/s]\u001b[A\n",
      " 44%|████████████████████████████████████                                              | 11/25 [00:01<00:01,  8.28it/s]\u001b[A\n",
      " 48%|███████████████████████████████████████▎                                          | 12/25 [00:01<00:01,  7.82it/s]\u001b[A\n",
      " 52%|██████████████████████████████████████████▋                                       | 13/25 [00:02<00:01,  7.57it/s]\u001b[A\n",
      " 56%|█████████████████████████████████████████████▉                                    | 14/25 [00:02<00:01,  7.54it/s]\u001b[A\n",
      " 64%|████████████████████████████████████████████████████▍                             | 16/25 [00:02<00:00,  9.24it/s]\u001b[A\n",
      " 68%|███████████████████████████████████████████████████████▊                          | 17/25 [00:02<00:00,  8.77it/s]\u001b[A\n",
      " 72%|███████████████████████████████████████████████████████████                       | 18/25 [00:02<00:00,  8.47it/s]\u001b[A\n",
      "100%|██████████████████████████████████████████████████████████████████████████████████| 25/25 [00:02<00:00,  8.71it/s]\u001b[A\n",
      " 47%|██████████████████████████████████████                                           | 94/200 [19:33<25:03, 14.18s/it]"
     ]
    },
    {
     "name": "stdout",
     "output_type": "stream",
     "text": [
      "Working on : \\\\merfish9.ucsd.edu\\volume1\\20230908_D106Luo\\DNA\\AnalysisDeconvolveCG\\SegmentationDAPI_CG\\Conv_zscan__1020--H1_B1_2_3--CYTO_segm.npz\n"
     ]
    },
    {
     "name": "stderr",
     "output_type": "stream",
     "text": [
      "\n",
      "  0%|                                                                                           | 0/25 [00:00<?, ?it/s]\u001b[A\n",
      "  4%|███▎                                                                               | 1/25 [00:00<00:12,  1.88it/s]\u001b[A\n",
      "  8%|██████▋                                                                            | 2/25 [00:00<00:06,  3.31it/s]\u001b[A\n",
      " 12%|█████████▉                                                                         | 3/25 [00:00<00:05,  4.05it/s]\u001b[A\n",
      " 16%|█████████████▎                                                                     | 4/25 [00:01<00:04,  4.68it/s]\u001b[A\n",
      " 24%|███████████████████▉                                                               | 6/25 [00:01<00:02,  6.64it/s]\u001b[A\n",
      " 28%|███████████████████████▏                                                           | 7/25 [00:01<00:02,  6.57it/s]\u001b[A\n",
      " 32%|██████████████████████████▌                                                        | 8/25 [00:01<00:02,  6.52it/s]\u001b[A\n",
      " 36%|█████████████████████████████▉                                                     | 9/25 [00:01<00:02,  6.77it/s]\u001b[A\n",
      " 44%|████████████████████████████████████                                              | 11/25 [00:01<00:01,  8.42it/s]\u001b[A\n",
      " 48%|███████████████████████████████████████▎                                          | 12/25 [00:01<00:01,  7.94it/s]\u001b[A\n",
      " 52%|██████████████████████████████████████████▋                                       | 13/25 [00:02<00:01,  7.63it/s]\u001b[A\n",
      " 56%|█████████████████████████████████████████████▉                                    | 14/25 [00:02<00:01,  7.60it/s]\u001b[A\n",
      " 64%|████████████████████████████████████████████████████▍                             | 16/25 [00:02<00:00,  9.37it/s]\u001b[A\n",
      " 68%|███████████████████████████████████████████████████████▊                          | 17/25 [00:02<00:00,  8.87it/s]\u001b[A\n",
      " 72%|███████████████████████████████████████████████████████████                       | 18/25 [00:02<00:00,  8.54it/s]\u001b[A\n",
      "100%|██████████████████████████████████████████████████████████████████████████████████| 25/25 [00:02<00:00,  8.70it/s]\u001b[A\n",
      " 48%|██████████████████████████████████████▍                                          | 95/200 [19:45<23:28, 13.42s/it]"
     ]
    },
    {
     "name": "stdout",
     "output_type": "stream",
     "text": [
      "Working on : \\\\merfish9.ucsd.edu\\volume1\\20230908_D106Luo\\DNA\\AnalysisDeconvolveCG\\SegmentationDAPI_CG\\Conv_zscan__1021--H1_B1_2_3--CYTO_segm.npz\n"
     ]
    },
    {
     "name": "stderr",
     "output_type": "stream",
     "text": [
      "\n",
      "  0%|                                                                                           | 0/25 [00:00<?, ?it/s]\u001b[A\n",
      "  4%|███▎                                                                               | 1/25 [00:00<00:08,  2.72it/s]\u001b[A\n",
      "  8%|██████▋                                                                            | 2/25 [00:00<00:08,  2.77it/s]\u001b[A\n",
      " 12%|█████████▉                                                                         | 3/25 [00:00<00:05,  3.75it/s]\u001b[A\n",
      " 16%|█████████████▎                                                                     | 4/25 [00:01<00:04,  4.63it/s]\u001b[A\n",
      " 24%|███████████████████▉                                                               | 6/25 [00:01<00:02,  6.84it/s]\u001b[A\n",
      " 28%|███████████████████████▏                                                           | 7/25 [00:01<00:02,  6.83it/s]\u001b[A\n",
      " 32%|██████████████████████████▌                                                        | 8/25 [00:01<00:02,  6.78it/s]\u001b[A\n",
      " 36%|█████████████████████████████▉                                                     | 9/25 [00:01<00:02,  6.87it/s]\u001b[A\n",
      " 44%|████████████████████████████████████                                              | 11/25 [00:01<00:01,  8.41it/s]\u001b[A\n",
      " 48%|███████████████████████████████████████▎                                          | 12/25 [00:01<00:01,  7.95it/s]\u001b[A\n",
      " 52%|██████████████████████████████████████████▋                                       | 13/25 [00:02<00:01,  7.60it/s]\u001b[A\n",
      " 56%|█████████████████████████████████████████████▉                                    | 14/25 [00:02<00:01,  7.61it/s]\u001b[A\n",
      " 64%|████████████████████████████████████████████████████▍                             | 16/25 [00:02<00:00,  9.30it/s]\u001b[A\n",
      " 68%|███████████████████████████████████████████████████████▊                          | 17/25 [00:02<00:00,  8.73it/s]\u001b[A\n",
      " 72%|███████████████████████████████████████████████████████████                       | 18/25 [00:02<00:00,  8.41it/s]\u001b[A\n",
      "100%|██████████████████████████████████████████████████████████████████████████████████| 25/25 [00:02<00:00,  8.74it/s]\u001b[A\n",
      " 48%|██████████████████████████████████████▉                                          | 96/200 [19:59<23:22, 13.49s/it]"
     ]
    },
    {
     "name": "stdout",
     "output_type": "stream",
     "text": [
      "Working on : \\\\merfish9.ucsd.edu\\volume1\\20230908_D106Luo\\DNA\\AnalysisDeconvolveCG\\SegmentationDAPI_CG\\Conv_zscan__1022--H1_B1_2_3--CYTO_segm.npz\n"
     ]
    },
    {
     "name": "stderr",
     "output_type": "stream",
     "text": [
      "\n",
      "  0%|                                                                                           | 0/25 [00:00<?, ?it/s]\u001b[A\n",
      "  4%|███▎                                                                               | 1/25 [00:00<00:12,  1.94it/s]\u001b[A\n",
      "  8%|██████▋                                                                            | 2/25 [00:00<00:07,  3.00it/s]\u001b[A\n",
      " 12%|█████████▉                                                                         | 3/25 [00:00<00:05,  3.90it/s]\u001b[A\n",
      " 16%|█████████████▎                                                                     | 4/25 [00:01<00:04,  4.76it/s]\u001b[A\n",
      " 24%|███████████████████▉                                                               | 6/25 [00:01<00:02,  6.86it/s]\u001b[A\n",
      " 28%|███████████████████████▏                                                           | 7/25 [00:01<00:02,  6.71it/s]\u001b[A\n",
      " 32%|██████████████████████████▌                                                        | 8/25 [00:01<00:02,  6.64it/s]\u001b[A\n",
      " 36%|█████████████████████████████▉                                                     | 9/25 [00:01<00:02,  6.82it/s]\u001b[A\n",
      " 44%|████████████████████████████████████                                              | 11/25 [00:01<00:01,  8.35it/s]\u001b[A\n",
      " 48%|███████████████████████████████████████▎                                          | 12/25 [00:01<00:01,  7.86it/s]\u001b[A\n",
      " 52%|██████████████████████████████████████████▋                                       | 13/25 [00:02<00:01,  7.56it/s]\u001b[A\n",
      " 56%|█████████████████████████████████████████████▉                                    | 14/25 [00:02<00:01,  7.49it/s]\u001b[A\n",
      " 64%|████████████████████████████████████████████████████▍                             | 16/25 [00:02<00:00,  9.20it/s]\u001b[A\n",
      " 68%|███████████████████████████████████████████████████████▊                          | 17/25 [00:02<00:00,  8.77it/s]\u001b[A\n",
      " 72%|███████████████████████████████████████████████████████████                       | 18/25 [00:02<00:00,  8.45it/s]\u001b[A\n",
      "100%|██████████████████████████████████████████████████████████████████████████████████| 25/25 [00:02<00:00,  8.65it/s]\u001b[A\n",
      " 48%|███████████████████████████████████████▎                                         | 97/200 [20:12<22:57, 13.38s/it]"
     ]
    },
    {
     "name": "stdout",
     "output_type": "stream",
     "text": [
      "Working on : \\\\merfish9.ucsd.edu\\volume1\\20230908_D106Luo\\DNA\\AnalysisDeconvolveCG\\SegmentationDAPI_CG\\Conv_zscan__1023--H1_B1_2_3--CYTO_segm.npz\n"
     ]
    },
    {
     "name": "stderr",
     "output_type": "stream",
     "text": [
      "\n",
      "  0%|                                                                                           | 0/25 [00:00<?, ?it/s]\u001b[A\n",
      "  4%|███▎                                                                               | 1/25 [00:00<00:08,  2.72it/s]\u001b[A\n",
      "  8%|██████▋                                                                            | 2/25 [00:00<00:06,  3.77it/s]\u001b[A\n",
      " 12%|█████████▉                                                                         | 3/25 [00:00<00:05,  4.11it/s]\u001b[A\n",
      " 16%|█████████████▎                                                                     | 4/25 [00:00<00:04,  4.87it/s]\u001b[A\n",
      " 24%|███████████████████▉                                                               | 6/25 [00:01<00:02,  6.89it/s]\u001b[A\n",
      " 28%|███████████████████████▏                                                           | 7/25 [00:01<00:02,  6.72it/s]\u001b[A\n",
      " 32%|██████████████████████████▌                                                        | 8/25 [00:01<00:02,  6.64it/s]\u001b[A\n",
      " 36%|█████████████████████████████▉                                                     | 9/25 [00:01<00:02,  6.83it/s]\u001b[A\n",
      " 44%|████████████████████████████████████                                              | 11/25 [00:01<00:01,  8.42it/s]\u001b[A\n",
      " 48%|███████████████████████████████████████▎                                          | 12/25 [00:01<00:01,  7.96it/s]\u001b[A\n",
      " 52%|██████████████████████████████████████████▋                                       | 13/25 [00:02<00:01,  7.60it/s]\u001b[A\n",
      " 56%|█████████████████████████████████████████████▉                                    | 14/25 [00:02<00:01,  7.54it/s]\u001b[A\n",
      " 64%|████████████████████████████████████████████████████▍                             | 16/25 [00:02<00:00,  9.28it/s]\u001b[A\n",
      " 68%|███████████████████████████████████████████████████████▊                          | 17/25 [00:02<00:00,  8.83it/s]\u001b[A\n",
      " 72%|███████████████████████████████████████████████████████████                       | 18/25 [00:02<00:00,  8.51it/s]\u001b[A\n",
      "100%|██████████████████████████████████████████████████████████████████████████████████| 25/25 [00:02<00:00,  8.97it/s]\u001b[A\n",
      " 49%|███████████████████████████████████████▋                                         | 98/200 [20:26<23:11, 13.64s/it]"
     ]
    },
    {
     "name": "stdout",
     "output_type": "stream",
     "text": [
      "Working on : \\\\merfish9.ucsd.edu\\volume1\\20230908_D106Luo\\DNA\\AnalysisDeconvolveCG\\SegmentationDAPI_CG\\Conv_zscan__1024--H1_B1_2_3--CYTO_segm.npz\n"
     ]
    },
    {
     "name": "stderr",
     "output_type": "stream",
     "text": [
      "\n",
      "  0%|                                                                                           | 0/25 [00:00<?, ?it/s]\u001b[A\n",
      "  4%|███▎                                                                               | 1/25 [00:00<00:12,  1.98it/s]\u001b[A\n",
      "  8%|██████▋                                                                            | 2/25 [00:00<00:06,  3.34it/s]\u001b[A\n",
      " 12%|█████████▉                                                                         | 3/25 [00:00<00:06,  3.59it/s]\u001b[A\n",
      " 16%|█████████████▎                                                                     | 4/25 [00:01<00:04,  4.47it/s]\u001b[A\n",
      " 24%|███████████████████▉                                                               | 6/25 [00:01<00:02,  6.58it/s]\u001b[A\n",
      " 28%|███████████████████████▏                                                           | 7/25 [00:01<00:02,  6.50it/s]\u001b[A\n",
      " 32%|██████████████████████████▌                                                        | 8/25 [00:01<00:02,  6.51it/s]\u001b[A\n",
      " 36%|█████████████████████████████▉                                                     | 9/25 [00:01<00:02,  6.76it/s]\u001b[A\n",
      " 44%|████████████████████████████████████                                              | 11/25 [00:01<00:01,  8.36it/s]\u001b[A\n",
      " 48%|███████████████████████████████████████▎                                          | 12/25 [00:01<00:01,  7.93it/s]\u001b[A\n",
      " 52%|██████████████████████████████████████████▋                                       | 13/25 [00:02<00:01,  7.59it/s]\u001b[A\n",
      " 56%|█████████████████████████████████████████████▉                                    | 14/25 [00:02<00:01,  7.54it/s]\u001b[A\n",
      " 64%|████████████████████████████████████████████████████▍                             | 16/25 [00:02<00:00,  9.24it/s]\u001b[A\n",
      " 68%|███████████████████████████████████████████████████████▊                          | 17/25 [00:02<00:00,  8.73it/s]\u001b[A\n",
      " 72%|███████████████████████████████████████████████████████████                       | 18/25 [00:02<00:00,  8.41it/s]\u001b[A\n",
      "100%|██████████████████████████████████████████████████████████████████████████████████| 25/25 [00:02<00:00,  8.59it/s]\u001b[A\n",
      " 50%|████████████████████████████████████████                                         | 99/200 [20:42<23:56, 14.23s/it]"
     ]
    },
    {
     "name": "stdout",
     "output_type": "stream",
     "text": [
      "Working on : \\\\merfish9.ucsd.edu\\volume1\\20230908_D106Luo\\DNA\\AnalysisDeconvolveCG\\SegmentationDAPI_CG\\Conv_zscan__1025--H1_B1_2_3--CYTO_segm.npz\n"
     ]
    },
    {
     "name": "stderr",
     "output_type": "stream",
     "text": [
      "\n",
      "  0%|                                                                                           | 0/25 [00:00<?, ?it/s]\u001b[A\n",
      "  4%|███▎                                                                               | 1/25 [00:00<00:10,  2.25it/s]\u001b[A\n",
      "  8%|██████▋                                                                            | 2/25 [00:00<00:08,  2.63it/s]\u001b[A\n",
      " 12%|█████████▉                                                                         | 3/25 [00:00<00:06,  3.33it/s]\u001b[A\n",
      " 16%|█████████████▎                                                                     | 4/25 [00:01<00:05,  4.18it/s]\u001b[A\n",
      " 24%|███████████████████▉                                                               | 6/25 [00:01<00:03,  6.28it/s]\u001b[A\n",
      " 28%|███████████████████████▏                                                           | 7/25 [00:01<00:02,  6.41it/s]\u001b[A\n",
      " 32%|██████████████████████████▌                                                        | 8/25 [00:01<00:02,  6.51it/s]\u001b[A\n",
      " 36%|█████████████████████████████▉                                                     | 9/25 [00:01<00:02,  6.76it/s]\u001b[A\n",
      " 44%|████████████████████████████████████                                              | 11/25 [00:01<00:01,  8.29it/s]\u001b[A\n",
      " 48%|███████████████████████████████████████▎                                          | 12/25 [00:02<00:01,  7.81it/s]\u001b[A\n",
      " 52%|██████████████████████████████████████████▋                                       | 13/25 [00:02<00:01,  7.52it/s]\u001b[A\n",
      " 56%|█████████████████████████████████████████████▉                                    | 14/25 [00:02<00:01,  7.52it/s]\u001b[A\n",
      " 64%|████████████████████████████████████████████████████▍                             | 16/25 [00:02<00:00,  9.28it/s]\u001b[A\n",
      " 68%|███████████████████████████████████████████████████████▊                          | 17/25 [00:02<00:00,  8.83it/s]\u001b[A\n",
      " 72%|███████████████████████████████████████████████████████████                       | 18/25 [00:02<00:00,  8.51it/s]\u001b[A\n",
      "100%|██████████████████████████████████████████████████████████████████████████████████| 25/25 [00:02<00:00,  8.42it/s]\u001b[A\n",
      " 50%|████████████████████████████████████████                                        | 100/200 [20:57<24:15, 14.55s/it]"
     ]
    },
    {
     "name": "stdout",
     "output_type": "stream",
     "text": [
      "Working on : \\\\merfish9.ucsd.edu\\volume1\\20230908_D106Luo\\DNA\\AnalysisDeconvolveCG\\SegmentationDAPI_CG\\Conv_zscan__1026--H1_B1_2_3--CYTO_segm.npz\n"
     ]
    },
    {
     "name": "stderr",
     "output_type": "stream",
     "text": [
      "\n",
      "  0%|                                                                                           | 0/25 [00:00<?, ?it/s]\u001b[A\n",
      "  4%|███▎                                                                               | 1/25 [00:00<00:10,  2.29it/s]\u001b[A\n",
      "  8%|██████▋                                                                            | 2/25 [00:00<00:06,  3.41it/s]\u001b[A\n",
      " 12%|█████████▉                                                                         | 3/25 [00:01<00:07,  3.03it/s]\u001b[A\n",
      " 16%|█████████████▎                                                                     | 4/25 [00:01<00:05,  3.85it/s]\u001b[A\n",
      " 24%|███████████████████▉                                                               | 6/25 [00:01<00:03,  5.53it/s]\u001b[A\n",
      " 28%|███████████████████████▏                                                           | 7/25 [00:01<00:03,  5.58it/s]\u001b[A\n",
      " 32%|██████████████████████████▌                                                        | 8/25 [00:01<00:02,  5.74it/s]\u001b[A\n",
      " 36%|█████████████████████████████▉                                                     | 9/25 [00:01<00:02,  6.08it/s]\u001b[A\n",
      " 44%|████████████████████████████████████                                              | 11/25 [00:02<00:01,  7.70it/s]\u001b[A\n",
      " 48%|███████████████████████████████████████▎                                          | 12/25 [00:02<00:01,  7.34it/s]\u001b[A\n",
      " 52%|██████████████████████████████████████████▋                                       | 13/25 [00:02<00:01,  7.18it/s]\u001b[A\n",
      " 56%|█████████████████████████████████████████████▉                                    | 14/25 [00:02<00:01,  7.26it/s]\u001b[A\n",
      " 64%|████████████████████████████████████████████████████▍                             | 16/25 [00:02<00:01,  8.89it/s]\u001b[A\n",
      " 68%|███████████████████████████████████████████████████████▊                          | 17/25 [00:02<00:00,  8.56it/s]\u001b[A\n",
      " 72%|███████████████████████████████████████████████████████████                       | 18/25 [00:02<00:00,  8.32it/s]\u001b[A\n",
      "100%|██████████████████████████████████████████████████████████████████████████████████| 25/25 [00:03<00:00,  8.06it/s]\u001b[A\n",
      " 50%|████████████████████████████████████████▍                                       | 101/200 [21:12<24:17, 14.73s/it]"
     ]
    },
    {
     "name": "stdout",
     "output_type": "stream",
     "text": [
      "Working on : \\\\merfish9.ucsd.edu\\volume1\\20230908_D106Luo\\DNA\\AnalysisDeconvolveCG\\SegmentationDAPI_CG\\Conv_zscan__1027--H1_B1_2_3--CYTO_segm.npz\n"
     ]
    },
    {
     "name": "stderr",
     "output_type": "stream",
     "text": [
      "\n",
      "  0%|                                                                                           | 0/25 [00:00<?, ?it/s]\u001b[A\n",
      "  4%|███▎                                                                               | 1/25 [00:00<00:10,  2.30it/s]\u001b[A\n",
      "  8%|██████▋                                                                            | 2/25 [00:00<00:06,  3.82it/s]\u001b[A\n",
      " 12%|█████████▉                                                                         | 3/25 [00:00<00:04,  4.42it/s]\u001b[A\n",
      " 16%|█████████████▎                                                                     | 4/25 [00:00<00:04,  4.92it/s]\u001b[A\n",
      " 24%|███████████████████▉                                                               | 6/25 [00:01<00:02,  6.93it/s]\u001b[A\n",
      " 28%|███████████████████████▏                                                           | 7/25 [00:01<00:02,  6.79it/s]\u001b[A\n",
      " 32%|██████████████████████████▌                                                        | 8/25 [00:01<00:02,  6.71it/s]\u001b[A\n",
      " 36%|█████████████████████████████▉                                                     | 9/25 [00:01<00:02,  6.87it/s]\u001b[A\n",
      " 44%|████████████████████████████████████                                              | 11/25 [00:01<00:01,  8.40it/s]\u001b[A\n",
      " 48%|███████████████████████████████████████▎                                          | 12/25 [00:01<00:01,  7.92it/s]\u001b[A\n",
      " 52%|██████████████████████████████████████████▋                                       | 13/25 [00:02<00:01,  7.61it/s]\u001b[A\n",
      " 56%|█████████████████████████████████████████████▉                                    | 14/25 [00:02<00:01,  7.59it/s]\u001b[A\n",
      " 64%|████████████████████████████████████████████████████▍                             | 16/25 [00:02<00:00,  9.34it/s]\u001b[A\n",
      " 68%|███████████████████████████████████████████████████████▊                          | 17/25 [00:02<00:00,  8.89it/s]\u001b[A\n",
      " 72%|███████████████████████████████████████████████████████████                       | 18/25 [00:02<00:00,  8.57it/s]\u001b[A\n",
      "100%|██████████████████████████████████████████████████████████████████████████████████| 25/25 [00:02<00:00,  8.99it/s]\u001b[A\n",
      " 51%|████████████████████████████████████████▊                                       | 102/200 [21:27<24:00, 14.70s/it]"
     ]
    },
    {
     "name": "stdout",
     "output_type": "stream",
     "text": [
      "Working on : \\\\merfish9.ucsd.edu\\volume1\\20230908_D106Luo\\DNA\\AnalysisDeconvolveCG\\SegmentationDAPI_CG\\Conv_zscan__1028--H1_B1_2_3--CYTO_segm.npz\n"
     ]
    },
    {
     "name": "stderr",
     "output_type": "stream",
     "text": [
      "\n",
      "  0%|                                                                                           | 0/25 [00:00<?, ?it/s]\u001b[A\n",
      "  4%|███▎                                                                               | 1/25 [00:00<00:11,  2.18it/s]\u001b[A\n",
      "  8%|██████▋                                                                            | 2/25 [00:00<00:06,  3.55it/s]\u001b[A\n",
      " 12%|█████████▉                                                                         | 3/25 [00:00<00:04,  4.42it/s]\u001b[A\n",
      " 16%|█████████████▎                                                                     | 4/25 [00:00<00:04,  5.21it/s]\u001b[A\n",
      " 24%|███████████████████▉                                                               | 6/25 [00:01<00:02,  7.25it/s]\u001b[A\n",
      " 28%|███████████████████████▏                                                           | 7/25 [00:01<00:02,  7.01it/s]\u001b[A\n",
      " 32%|██████████████████████████▌                                                        | 8/25 [00:01<00:02,  6.75it/s]\u001b[A\n",
      " 36%|█████████████████████████████▉                                                     | 9/25 [00:01<00:02,  6.87it/s]\u001b[A\n",
      " 44%|████████████████████████████████████                                              | 11/25 [00:01<00:01,  8.43it/s]\u001b[A\n",
      " 48%|███████████████████████████████████████▎                                          | 12/25 [00:01<00:01,  7.95it/s]\u001b[A\n",
      " 52%|██████████████████████████████████████████▋                                       | 13/25 [00:02<00:01,  7.59it/s]\u001b[A\n",
      " 56%|█████████████████████████████████████████████▉                                    | 14/25 [00:02<00:01,  7.52it/s]\u001b[A\n",
      " 64%|████████████████████████████████████████████████████▍                             | 16/25 [00:02<00:00,  9.26it/s]\u001b[A\n",
      " 68%|███████████████████████████████████████████████████████▊                          | 17/25 [00:02<00:00,  8.78it/s]\u001b[A\n",
      " 72%|███████████████████████████████████████████████████████████                       | 18/25 [00:02<00:00,  8.50it/s]\u001b[A\n",
      "100%|██████████████████████████████████████████████████████████████████████████████████| 25/25 [00:02<00:00,  8.98it/s]\u001b[A\n",
      " 52%|█████████████████████████████████████████▏                                      | 103/200 [21:43<24:39, 15.25s/it]"
     ]
    },
    {
     "name": "stdout",
     "output_type": "stream",
     "text": [
      "Working on : \\\\merfish9.ucsd.edu\\volume1\\20230908_D106Luo\\DNA\\AnalysisDeconvolveCG\\SegmentationDAPI_CG\\Conv_zscan__1029--H1_B1_2_3--CYTO_segm.npz\n"
     ]
    },
    {
     "name": "stderr",
     "output_type": "stream",
     "text": [
      "\n",
      "  0%|                                                                                           | 0/25 [00:00<?, ?it/s]\u001b[A\n",
      "  4%|███▎                                                                               | 1/25 [00:00<00:09,  2.45it/s]\u001b[A\n",
      "  8%|██████▋                                                                            | 2/25 [00:00<00:06,  3.71it/s]\u001b[A\n",
      " 12%|█████████▉                                                                         | 3/25 [00:00<00:04,  4.55it/s]\u001b[A\n",
      " 16%|█████████████▎                                                                     | 4/25 [00:00<00:03,  5.28it/s]\u001b[A\n",
      " 24%|███████████████████▉                                                               | 6/25 [00:01<00:02,  7.32it/s]\u001b[A\n",
      " 28%|███████████████████████▏                                                           | 7/25 [00:01<00:02,  7.03it/s]\u001b[A\n",
      " 32%|██████████████████████████▌                                                        | 8/25 [00:01<00:02,  6.84it/s]\u001b[A\n",
      " 36%|█████████████████████████████▉                                                     | 9/25 [00:01<00:02,  6.93it/s]\u001b[A\n",
      " 44%|████████████████████████████████████                                              | 11/25 [00:01<00:01,  8.47it/s]\u001b[A\n",
      " 48%|███████████████████████████████████████▎                                          | 12/25 [00:01<00:01,  7.99it/s]\u001b[A\n",
      " 52%|██████████████████████████████████████████▋                                       | 13/25 [00:01<00:01,  7.62it/s]\u001b[A\n",
      " 56%|█████████████████████████████████████████████▉                                    | 14/25 [00:02<00:01,  7.61it/s]\u001b[A\n",
      " 64%|████████████████████████████████████████████████████▍                             | 16/25 [00:02<00:00,  9.33it/s]\u001b[A\n",
      " 68%|███████████████████████████████████████████████████████▊                          | 17/25 [00:02<00:00,  8.85it/s]\u001b[A\n",
      " 72%|███████████████████████████████████████████████████████████                       | 18/25 [00:02<00:00,  8.52it/s]\u001b[A\n",
      "100%|██████████████████████████████████████████████████████████████████████████████████| 25/25 [00:02<00:00,  9.10it/s]\u001b[A\n",
      " 52%|█████████████████████████████████████████▌                                      | 104/200 [21:57<23:50, 14.90s/it]"
     ]
    },
    {
     "name": "stdout",
     "output_type": "stream",
     "text": [
      "Working on : \\\\merfish9.ucsd.edu\\volume1\\20230908_D106Luo\\DNA\\AnalysisDeconvolveCG\\SegmentationDAPI_CG\\Conv_zscan__1030--H1_B1_2_3--CYTO_segm.npz\n"
     ]
    },
    {
     "name": "stderr",
     "output_type": "stream",
     "text": [
      "\n",
      "  0%|                                                                                           | 0/25 [00:00<?, ?it/s]\u001b[A\n",
      "  4%|███▎                                                                               | 1/25 [00:00<00:12,  1.87it/s]\u001b[A\n",
      "  8%|██████▋                                                                            | 2/25 [00:00<00:10,  2.28it/s]\u001b[A\n",
      " 12%|█████████▉                                                                         | 3/25 [00:01<00:06,  3.22it/s]\u001b[A\n",
      " 16%|█████████████▎                                                                     | 4/25 [00:01<00:05,  4.15it/s]\u001b[A\n",
      " 24%|███████████████████▉                                                               | 6/25 [00:01<00:03,  6.23it/s]\u001b[A\n",
      " 28%|███████████████████████▏                                                           | 7/25 [00:01<00:02,  6.28it/s]\u001b[A\n",
      " 32%|██████████████████████████▌                                                        | 8/25 [00:01<00:02,  6.31it/s]\u001b[A\n",
      " 36%|█████████████████████████████▉                                                     | 9/25 [00:01<00:02,  6.51it/s]\u001b[A\n",
      " 44%|████████████████████████████████████                                              | 11/25 [00:02<00:01,  8.06it/s]\u001b[A\n",
      " 48%|███████████████████████████████████████▎                                          | 12/25 [00:02<00:01,  7.67it/s]\u001b[A\n",
      " 52%|██████████████████████████████████████████▋                                       | 13/25 [00:02<00:01,  7.42it/s]\u001b[A\n",
      " 56%|█████████████████████████████████████████████▉                                    | 14/25 [00:02<00:01,  7.48it/s]\u001b[A\n",
      " 64%|████████████████████████████████████████████████████▍                             | 16/25 [00:02<00:00,  9.17it/s]\u001b[A\n",
      " 68%|███████████████████████████████████████████████████████▊                          | 17/25 [00:02<00:00,  8.72it/s]\u001b[A\n",
      " 72%|███████████████████████████████████████████████████████████                       | 18/25 [00:02<00:00,  8.43it/s]\u001b[A\n",
      "100%|██████████████████████████████████████████████████████████████████████████████████| 25/25 [00:03<00:00,  8.15it/s]\u001b[A\n",
      " 52%|██████████████████████████████████████████                                      | 105/200 [22:12<23:28, 14.82s/it]"
     ]
    },
    {
     "name": "stdout",
     "output_type": "stream",
     "text": [
      "Working on : \\\\merfish9.ucsd.edu\\volume1\\20230908_D106Luo\\DNA\\AnalysisDeconvolveCG\\SegmentationDAPI_CG\\Conv_zscan__1031--H1_B1_2_3--CYTO_segm.npz\n"
     ]
    },
    {
     "name": "stderr",
     "output_type": "stream",
     "text": [
      "\n",
      "  0%|                                                                                           | 0/25 [00:00<?, ?it/s]\u001b[A\n",
      "  4%|███▎                                                                               | 1/25 [00:00<00:12,  1.87it/s]\u001b[A\n",
      "  8%|██████▋                                                                            | 2/25 [00:00<00:09,  2.41it/s]\u001b[A\n",
      " 12%|█████████▉                                                                         | 3/25 [00:01<00:06,  3.35it/s]\u001b[A\n",
      " 16%|█████████████▎                                                                     | 4/25 [00:01<00:04,  4.21it/s]\u001b[A\n",
      " 24%|███████████████████▉                                                               | 6/25 [00:01<00:03,  6.31it/s]\u001b[A\n",
      " 28%|███████████████████████▏                                                           | 7/25 [00:01<00:02,  6.30it/s]\u001b[A\n",
      " 32%|██████████████████████████▌                                                        | 8/25 [00:01<00:02,  6.37it/s]\u001b[A\n",
      " 36%|█████████████████████████████▉                                                     | 9/25 [00:01<00:02,  6.65it/s]\u001b[A\n",
      " 44%|████████████████████████████████████                                              | 11/25 [00:01<00:01,  8.24it/s]\u001b[A\n",
      " 48%|███████████████████████████████████████▎                                          | 12/25 [00:02<00:01,  7.82it/s]\u001b[A\n",
      " 52%|██████████████████████████████████████████▋                                       | 13/25 [00:02<00:01,  7.53it/s]\u001b[A\n",
      " 56%|█████████████████████████████████████████████▉                                    | 14/25 [00:02<00:01,  7.54it/s]\u001b[A\n",
      " 64%|████████████████████████████████████████████████████▍                             | 16/25 [00:02<00:00,  9.30it/s]\u001b[A\n",
      " 68%|███████████████████████████████████████████████████████▊                          | 17/25 [00:02<00:00,  8.86it/s]\u001b[A\n",
      " 72%|███████████████████████████████████████████████████████████                       | 18/25 [00:02<00:00,  8.51it/s]\u001b[A\n",
      "100%|██████████████████████████████████████████████████████████████████████████████████| 25/25 [00:03<00:00,  8.29it/s]\u001b[A\n",
      " 53%|██████████████████████████████████████████▍                                     | 106/200 [22:27<23:13, 14.83s/it]"
     ]
    },
    {
     "name": "stdout",
     "output_type": "stream",
     "text": [
      "Working on : \\\\merfish9.ucsd.edu\\volume1\\20230908_D106Luo\\DNA\\AnalysisDeconvolveCG\\SegmentationDAPI_CG\\Conv_zscan__1032--H1_B1_2_3--CYTO_segm.npz\n"
     ]
    },
    {
     "name": "stderr",
     "output_type": "stream",
     "text": [
      "\n",
      "  0%|                                                                                           | 0/25 [00:00<?, ?it/s]\u001b[A\n",
      "  4%|███▎                                                                               | 1/25 [00:00<00:08,  2.77it/s]\u001b[A\n",
      "  8%|██████▋                                                                            | 2/25 [00:00<00:06,  3.54it/s]\u001b[A\n",
      " 12%|█████████▉                                                                         | 3/25 [00:00<00:05,  4.00it/s]\u001b[A\n",
      " 16%|█████████████▎                                                                     | 4/25 [00:00<00:04,  4.81it/s]\u001b[A\n",
      " 24%|███████████████████▉                                                               | 6/25 [00:01<00:02,  6.88it/s]\u001b[A\n",
      " 28%|███████████████████████▏                                                           | 7/25 [00:01<00:02,  6.73it/s]\u001b[A\n",
      " 32%|██████████████████████████▌                                                        | 8/25 [00:01<00:02,  6.65it/s]\u001b[A\n",
      " 36%|█████████████████████████████▉                                                     | 9/25 [00:01<00:02,  6.80it/s]\u001b[A\n",
      " 44%|████████████████████████████████████                                              | 11/25 [00:01<00:01,  8.33it/s]\u001b[A\n",
      " 48%|███████████████████████████████████████▎                                          | 12/25 [00:01<00:01,  7.87it/s]\u001b[A\n",
      " 52%|██████████████████████████████████████████▋                                       | 13/25 [00:02<00:01,  7.59it/s]\u001b[A\n",
      " 56%|█████████████████████████████████████████████▉                                    | 14/25 [00:02<00:01,  7.60it/s]\u001b[A\n",
      " 64%|████████████████████████████████████████████████████▍                             | 16/25 [00:02<00:00,  9.33it/s]\u001b[A\n",
      " 68%|███████████████████████████████████████████████████████▊                          | 17/25 [00:02<00:00,  8.85it/s]\u001b[A\n",
      " 72%|███████████████████████████████████████████████████████████                       | 18/25 [00:02<00:00,  8.54it/s]\u001b[A\n",
      "100%|██████████████████████████████████████████████████████████████████████████████████| 25/25 [00:02<00:00,  8.90it/s]\u001b[A\n",
      " 54%|██████████████████████████████████████████▊                                     | 107/200 [22:41<22:42, 14.65s/it]"
     ]
    },
    {
     "name": "stdout",
     "output_type": "stream",
     "text": [
      "Working on : \\\\merfish9.ucsd.edu\\volume1\\20230908_D106Luo\\DNA\\AnalysisDeconvolveCG\\SegmentationDAPI_CG\\Conv_zscan__1033--H1_B1_2_3--CYTO_segm.npz\n"
     ]
    },
    {
     "name": "stderr",
     "output_type": "stream",
     "text": [
      "\n",
      "  0%|                                                                                           | 0/25 [00:00<?, ?it/s]\u001b[A\n",
      "  4%|███▎                                                                               | 1/25 [00:00<00:12,  1.92it/s]\u001b[A\n",
      "  8%|██████▋                                                                            | 2/25 [00:00<00:06,  3.32it/s]\u001b[A\n",
      " 12%|█████████▉                                                                         | 3/25 [00:00<00:05,  4.31it/s]\u001b[A\n",
      " 16%|█████████████▎                                                                     | 4/25 [00:00<00:04,  5.21it/s]\u001b[A\n",
      " 24%|███████████████████▉                                                               | 6/25 [00:01<00:02,  7.37it/s]\u001b[A\n",
      " 28%|███████████████████████▏                                                           | 7/25 [00:01<00:02,  7.18it/s]\u001b[A\n",
      " 32%|██████████████████████████▌                                                        | 8/25 [00:01<00:02,  6.93it/s]\u001b[A\n",
      " 36%|█████████████████████████████▉                                                     | 9/25 [00:01<00:02,  7.05it/s]\u001b[A\n",
      " 44%|████████████████████████████████████                                              | 11/25 [00:01<00:01,  8.62it/s]\u001b[A\n",
      " 48%|███████████████████████████████████████▎                                          | 12/25 [00:01<00:01,  8.04it/s]\u001b[A\n",
      " 52%|██████████████████████████████████████████▋                                       | 13/25 [00:02<00:01,  7.67it/s]\u001b[A\n",
      " 56%|█████████████████████████████████████████████▉                                    | 14/25 [00:02<00:01,  7.60it/s]\u001b[A\n",
      " 64%|████████████████████████████████████████████████████▍                             | 16/25 [00:02<00:00,  9.29it/s]\u001b[A\n",
      " 68%|███████████████████████████████████████████████████████▊                          | 17/25 [00:02<00:00,  8.82it/s]\u001b[A\n",
      " 72%|███████████████████████████████████████████████████████████                       | 18/25 [00:02<00:00,  8.56it/s]\u001b[A\n",
      "100%|██████████████████████████████████████████████████████████████████████████████████| 25/25 [00:02<00:00,  8.96it/s]\u001b[A\n",
      " 54%|███████████████████████████████████████████▏                                    | 108/200 [22:55<21:57, 14.32s/it]"
     ]
    },
    {
     "name": "stdout",
     "output_type": "stream",
     "text": [
      "Working on : \\\\merfish9.ucsd.edu\\volume1\\20230908_D106Luo\\DNA\\AnalysisDeconvolveCG\\SegmentationDAPI_CG\\Conv_zscan__1034--H1_B1_2_3--CYTO_segm.npz\n"
     ]
    },
    {
     "name": "stderr",
     "output_type": "stream",
     "text": [
      "\n",
      "  0%|                                                                                           | 0/25 [00:00<?, ?it/s]\u001b[A\n",
      "  4%|███▎                                                                               | 1/25 [00:00<00:09,  2.42it/s]\u001b[A\n",
      "  8%|██████▋                                                                            | 2/25 [00:00<00:05,  3.87it/s]\u001b[A\n",
      " 12%|█████████▉                                                                         | 3/25 [00:00<00:04,  4.67it/s]\u001b[A\n",
      " 16%|█████████████▎                                                                     | 4/25 [00:00<00:03,  5.38it/s]\u001b[A\n",
      " 24%|███████████████████▉                                                               | 6/25 [00:01<00:02,  7.44it/s]\u001b[A\n",
      " 28%|███████████████████████▏                                                           | 7/25 [00:01<00:02,  7.07it/s]\u001b[A\n",
      " 32%|██████████████████████████▌                                                        | 8/25 [00:01<00:02,  6.88it/s]\u001b[A\n",
      " 36%|█████████████████████████████▉                                                     | 9/25 [00:01<00:02,  7.01it/s]\u001b[A\n",
      " 44%|████████████████████████████████████                                              | 11/25 [00:01<00:01,  8.54it/s]\u001b[A\n",
      " 48%|███████████████████████████████████████▎                                          | 12/25 [00:01<00:01,  7.99it/s]\u001b[A\n",
      " 52%|██████████████████████████████████████████▋                                       | 13/25 [00:01<00:01,  7.60it/s]\u001b[A\n",
      " 56%|█████████████████████████████████████████████▉                                    | 14/25 [00:02<00:01,  7.60it/s]\u001b[A\n",
      " 64%|████████████████████████████████████████████████████▍                             | 16/25 [00:02<00:00,  9.29it/s]\u001b[A\n",
      " 68%|███████████████████████████████████████████████████████▊                          | 17/25 [00:02<00:00,  8.82it/s]\u001b[A\n",
      " 72%|███████████████████████████████████████████████████████████                       | 18/25 [00:02<00:00,  8.48it/s]\u001b[A\n",
      "100%|██████████████████████████████████████████████████████████████████████████████████| 25/25 [00:02<00:00,  9.15it/s]\u001b[A\n",
      " 55%|███████████████████████████████████████████▌                                    | 109/200 [23:08<21:13, 13.99s/it]"
     ]
    },
    {
     "name": "stdout",
     "output_type": "stream",
     "text": [
      "Working on : \\\\merfish9.ucsd.edu\\volume1\\20230908_D106Luo\\DNA\\AnalysisDeconvolveCG\\SegmentationDAPI_CG\\Conv_zscan__1035--H1_B1_2_3--CYTO_segm.npz\n"
     ]
    },
    {
     "name": "stderr",
     "output_type": "stream",
     "text": [
      "\n",
      "  0%|                                                                                           | 0/25 [00:00<?, ?it/s]\u001b[A\n",
      "  4%|███▎                                                                               | 1/25 [00:00<00:09,  2.50it/s]\u001b[A\n",
      "  8%|██████▋                                                                            | 2/25 [00:00<00:06,  3.46it/s]\u001b[A\n",
      " 12%|█████████▉                                                                         | 3/25 [00:00<00:05,  4.30it/s]\u001b[A\n",
      " 16%|█████████████▎                                                                     | 4/25 [00:00<00:04,  5.11it/s]\u001b[A\n",
      " 24%|███████████████████▉                                                               | 6/25 [00:01<00:02,  7.15it/s]\u001b[A\n",
      " 28%|███████████████████████▏                                                           | 7/25 [00:01<00:02,  6.90it/s]\u001b[A\n",
      " 32%|██████████████████████████▌                                                        | 8/25 [00:01<00:02,  6.72it/s]\u001b[A\n",
      " 36%|█████████████████████████████▉                                                     | 9/25 [00:01<00:02,  6.89it/s]\u001b[A\n",
      " 44%|████████████████████████████████████                                              | 11/25 [00:01<00:01,  8.45it/s]\u001b[A\n",
      " 48%|███████████████████████████████████████▎                                          | 12/25 [00:01<00:01,  7.98it/s]\u001b[A\n",
      " 52%|██████████████████████████████████████████▋                                       | 13/25 [00:02<00:01,  7.64it/s]\u001b[A\n",
      " 56%|█████████████████████████████████████████████▉                                    | 14/25 [00:02<00:01,  7.59it/s]\u001b[A\n",
      " 64%|████████████████████████████████████████████████████▍                             | 16/25 [00:02<00:00,  9.30it/s]\u001b[A\n",
      " 68%|███████████████████████████████████████████████████████▊                          | 17/25 [00:02<00:00,  8.84it/s]\u001b[A\n",
      " 72%|███████████████████████████████████████████████████████████                       | 18/25 [00:02<00:00,  8.49it/s]\u001b[A\n",
      "100%|██████████████████████████████████████████████████████████████████████████████████| 25/25 [00:02<00:00,  9.00it/s]\u001b[A\n",
      " 55%|████████████████████████████████████████████                                    | 110/200 [23:21<20:40, 13.78s/it]"
     ]
    },
    {
     "name": "stdout",
     "output_type": "stream",
     "text": [
      "Working on : \\\\merfish9.ucsd.edu\\volume1\\20230908_D106Luo\\DNA\\AnalysisDeconvolveCG\\SegmentationDAPI_CG\\Conv_zscan__1036--H1_B1_2_3--CYTO_segm.npz\n"
     ]
    },
    {
     "name": "stderr",
     "output_type": "stream",
     "text": [
      "\n",
      "  0%|                                                                                           | 0/25 [00:00<?, ?it/s]\u001b[A\n",
      "  4%|███▎                                                                               | 1/25 [00:00<00:11,  2.15it/s]\u001b[A\n",
      "  8%|██████▋                                                                            | 2/25 [00:00<00:09,  2.43it/s]\u001b[A\n",
      " 12%|█████████▉                                                                         | 3/25 [00:00<00:06,  3.40it/s]\u001b[A\n",
      " 16%|█████████████▎                                                                     | 4/25 [00:01<00:04,  4.34it/s]\u001b[A\n",
      " 24%|███████████████████▉                                                               | 6/25 [00:01<00:02,  6.55it/s]\u001b[A\n",
      " 28%|███████████████████████▏                                                           | 7/25 [00:01<00:02,  6.62it/s]\u001b[A\n",
      " 32%|██████████████████████████▌                                                        | 8/25 [00:01<00:02,  6.65it/s]\u001b[A\n",
      " 36%|█████████████████████████████▉                                                     | 9/25 [00:01<00:02,  6.82it/s]\u001b[A\n",
      " 44%|████████████████████████████████████                                              | 11/25 [00:01<00:01,  8.40it/s]\u001b[A\n",
      " 48%|███████████████████████████████████████▎                                          | 12/25 [00:02<00:01,  7.88it/s]\u001b[A\n",
      " 52%|██████████████████████████████████████████▋                                       | 13/25 [00:02<00:01,  7.59it/s]\u001b[A\n",
      " 56%|█████████████████████████████████████████████▉                                    | 14/25 [00:02<00:01,  7.57it/s]\u001b[A\n",
      " 64%|████████████████████████████████████████████████████▍                             | 16/25 [00:02<00:00,  9.27it/s]\u001b[A\n",
      " 68%|███████████████████████████████████████████████████████▊                          | 17/25 [00:02<00:00,  8.78it/s]\u001b[A\n",
      " 72%|███████████████████████████████████████████████████████████                       | 18/25 [00:02<00:00,  8.46it/s]\u001b[A\n",
      "100%|██████████████████████████████████████████████████████████████████████████████████| 25/25 [00:02<00:00,  8.45it/s]\u001b[A\n",
      " 56%|████████████████████████████████████████████▍                                   | 111/200 [23:34<19:57, 13.46s/it]"
     ]
    },
    {
     "name": "stdout",
     "output_type": "stream",
     "text": [
      "Working on : \\\\merfish9.ucsd.edu\\volume1\\20230908_D106Luo\\DNA\\AnalysisDeconvolveCG\\SegmentationDAPI_CG\\Conv_zscan__1037--H1_B1_2_3--CYTO_segm.npz\n"
     ]
    },
    {
     "name": "stderr",
     "output_type": "stream",
     "text": [
      "\n",
      "  0%|                                                                                           | 0/25 [00:00<?, ?it/s]\u001b[A\n",
      "  4%|███▎                                                                               | 1/25 [00:00<00:11,  2.03it/s]\u001b[A\n",
      "  8%|██████▋                                                                            | 2/25 [00:00<00:09,  2.45it/s]\u001b[A\n",
      " 12%|█████████▉                                                                         | 3/25 [00:01<00:06,  3.17it/s]\u001b[A\n",
      " 16%|█████████████▎                                                                     | 4/25 [00:01<00:05,  4.01it/s]\u001b[A\n",
      " 24%|███████████████████▉                                                               | 6/25 [00:01<00:03,  6.01it/s]\u001b[A\n",
      " 28%|███████████████████████▏                                                           | 7/25 [00:01<00:02,  6.11it/s]\u001b[A\n",
      " 32%|██████████████████████████▌                                                        | 8/25 [00:01<00:02,  6.19it/s]\u001b[A\n",
      " 36%|█████████████████████████████▉                                                     | 9/25 [00:01<00:02,  6.43it/s]\u001b[A\n",
      " 44%|████████████████████████████████████                                              | 11/25 [00:02<00:01,  8.02it/s]\u001b[A\n",
      " 48%|███████████████████████████████████████▎                                          | 12/25 [00:02<00:01,  7.66it/s]\u001b[A\n",
      " 52%|██████████████████████████████████████████▋                                       | 13/25 [00:02<00:01,  7.42it/s]\u001b[A\n",
      " 56%|█████████████████████████████████████████████▉                                    | 14/25 [00:02<00:01,  7.44it/s]\u001b[A\n",
      " 64%|████████████████████████████████████████████████████▍                             | 16/25 [00:02<00:00,  9.16it/s]\u001b[A\n",
      " 68%|███████████████████████████████████████████████████████▊                          | 17/25 [00:02<00:00,  8.73it/s]\u001b[A\n",
      " 72%|███████████████████████████████████████████████████████████                       | 18/25 [00:02<00:00,  8.44it/s]\u001b[A\n",
      "100%|██████████████████████████████████████████████████████████████████████████████████| 25/25 [00:03<00:00,  8.16it/s]\u001b[A\n",
      " 56%|████████████████████████████████████████████▊                                   | 112/200 [23:47<19:35, 13.36s/it]"
     ]
    },
    {
     "name": "stdout",
     "output_type": "stream",
     "text": [
      "Working on : \\\\merfish9.ucsd.edu\\volume1\\20230908_D106Luo\\DNA\\AnalysisDeconvolveCG\\SegmentationDAPI_CG\\Conv_zscan__1038--H1_B1_2_3--CYTO_segm.npz\n"
     ]
    },
    {
     "name": "stderr",
     "output_type": "stream",
     "text": [
      "\n",
      "  0%|                                                                                           | 0/25 [00:00<?, ?it/s]\u001b[A\n",
      "  4%|███▎                                                                               | 1/25 [00:00<00:12,  1.91it/s]\u001b[A\n",
      "  8%|██████▋                                                                            | 2/25 [00:00<00:08,  2.82it/s]\u001b[A\n",
      " 12%|█████████▉                                                                         | 3/25 [00:00<00:05,  3.70it/s]\u001b[A\n",
      " 16%|█████████████▎                                                                     | 4/25 [00:01<00:04,  4.53it/s]\u001b[A\n",
      " 24%|███████████████████▉                                                               | 6/25 [00:01<00:02,  6.48it/s]\u001b[A\n",
      " 28%|███████████████████████▏                                                           | 7/25 [00:01<00:02,  6.47it/s]\u001b[A\n",
      " 32%|██████████████████████████▌                                                        | 8/25 [00:01<00:02,  6.46it/s]\u001b[A\n",
      " 36%|█████████████████████████████▉                                                     | 9/25 [00:01<00:02,  6.69it/s]\u001b[A\n",
      " 44%|████████████████████████████████████                                              | 11/25 [00:01<00:01,  8.29it/s]\u001b[A\n",
      " 48%|███████████████████████████████████████▎                                          | 12/25 [00:02<00:01,  7.86it/s]\u001b[A\n",
      " 52%|██████████████████████████████████████████▋                                       | 13/25 [00:02<00:01,  7.55it/s]\u001b[A\n",
      " 56%|█████████████████████████████████████████████▉                                    | 14/25 [00:02<00:01,  7.53it/s]\u001b[A\n",
      " 64%|████████████████████████████████████████████████████▍                             | 16/25 [00:02<00:00,  9.25it/s]\u001b[A\n",
      " 68%|███████████████████████████████████████████████████████▊                          | 17/25 [00:02<00:00,  8.79it/s]\u001b[A\n",
      " 72%|███████████████████████████████████████████████████████████                       | 18/25 [00:02<00:00,  8.52it/s]\u001b[A\n",
      "100%|██████████████████████████████████████████████████████████████████████████████████| 25/25 [00:02<00:00,  8.51it/s]\u001b[A\n",
      " 56%|█████████████████████████████████████████████▏                                  | 113/200 [24:01<19:35, 13.51s/it]"
     ]
    },
    {
     "name": "stdout",
     "output_type": "stream",
     "text": [
      "Working on : \\\\merfish9.ucsd.edu\\volume1\\20230908_D106Luo\\DNA\\AnalysisDeconvolveCG\\SegmentationDAPI_CG\\Conv_zscan__1039--H1_B1_2_3--CYTO_segm.npz\n"
     ]
    },
    {
     "name": "stderr",
     "output_type": "stream",
     "text": [
      "\n",
      "  0%|                                                                                           | 0/25 [00:00<?, ?it/s]\u001b[A\n",
      "  4%|███▎                                                                               | 1/25 [00:00<00:11,  2.18it/s]\u001b[A\n",
      "  8%|██████▋                                                                            | 2/25 [00:00<00:07,  3.04it/s]\u001b[A\n",
      " 12%|█████████▉                                                                         | 3/25 [00:00<00:05,  3.70it/s]\u001b[A\n",
      " 16%|█████████████▎                                                                     | 4/25 [00:01<00:04,  4.61it/s]\u001b[A\n",
      " 24%|███████████████████▉                                                               | 6/25 [00:01<00:02,  6.80it/s]\u001b[A\n",
      " 28%|███████████████████████▏                                                           | 7/25 [00:01<00:02,  6.83it/s]\u001b[A\n",
      " 32%|██████████████████████████▌                                                        | 8/25 [00:01<00:02,  6.65it/s]\u001b[A\n",
      " 36%|█████████████████████████████▉                                                     | 9/25 [00:01<00:02,  6.79it/s]\u001b[A\n",
      " 44%|████████████████████████████████████                                              | 11/25 [00:01<00:01,  8.32it/s]\u001b[A\n",
      " 48%|███████████████████████████████████████▎                                          | 12/25 [00:01<00:01,  7.88it/s]\u001b[A\n",
      " 52%|██████████████████████████████████████████▋                                       | 13/25 [00:02<00:01,  7.58it/s]\u001b[A\n",
      " 56%|█████████████████████████████████████████████▉                                    | 14/25 [00:02<00:01,  7.55it/s]\u001b[A\n",
      " 64%|████████████████████████████████████████████████████▍                             | 16/25 [00:02<00:00,  9.27it/s]\u001b[A\n",
      " 68%|███████████████████████████████████████████████████████▊                          | 17/25 [00:02<00:00,  8.84it/s]\u001b[A\n",
      " 72%|███████████████████████████████████████████████████████████                       | 18/25 [00:02<00:00,  8.50it/s]\u001b[A\n",
      "100%|██████████████████████████████████████████████████████████████████████████████████| 25/25 [00:02<00:00,  8.69it/s]\u001b[A\n",
      " 57%|█████████████████████████████████████████████▌                                  | 114/200 [24:15<19:28, 13.58s/it]"
     ]
    },
    {
     "name": "stdout",
     "output_type": "stream",
     "text": [
      "Working on : \\\\merfish9.ucsd.edu\\volume1\\20230908_D106Luo\\DNA\\AnalysisDeconvolveCG\\SegmentationDAPI_CG\\Conv_zscan__1040--H1_B1_2_3--CYTO_segm.npz\n"
     ]
    },
    {
     "name": "stderr",
     "output_type": "stream",
     "text": [
      "\n",
      "  0%|                                                                                           | 0/25 [00:00<?, ?it/s]\u001b[A\n",
      "  4%|███▎                                                                               | 1/25 [00:00<00:09,  2.41it/s]\u001b[A\n",
      "  8%|██████▋                                                                            | 2/25 [00:00<00:06,  3.49it/s]\u001b[A\n",
      " 12%|█████████▉                                                                         | 3/25 [00:00<00:07,  3.01it/s]\u001b[A\n",
      " 16%|█████████████▎                                                                     | 4/25 [00:01<00:05,  3.97it/s]\u001b[A\n",
      " 24%|███████████████████▉                                                               | 6/25 [00:01<00:03,  5.97it/s]\u001b[A\n",
      " 28%|███████████████████████▏                                                           | 7/25 [00:01<00:03,  5.97it/s]\u001b[A\n",
      " 32%|██████████████████████████▌                                                        | 8/25 [00:01<00:02,  6.09it/s]\u001b[A\n",
      " 36%|█████████████████████████████▉                                                     | 9/25 [00:01<00:02,  6.35it/s]\u001b[A\n",
      " 44%|████████████████████████████████████                                              | 11/25 [00:01<00:01,  7.90it/s]\u001b[A\n",
      " 48%|███████████████████████████████████████▎                                          | 12/25 [00:02<00:01,  7.56it/s]\u001b[A\n",
      " 52%|██████████████████████████████████████████▋                                       | 13/25 [00:02<00:01,  7.28it/s]\u001b[A\n",
      " 56%|█████████████████████████████████████████████▉                                    | 14/25 [00:02<00:01,  7.40it/s]\u001b[A\n",
      " 64%|████████████████████████████████████████████████████▍                             | 16/25 [00:02<00:00,  9.12it/s]\u001b[A\n",
      " 68%|███████████████████████████████████████████████████████▊                          | 17/25 [00:02<00:00,  8.75it/s]\u001b[A\n",
      " 72%|███████████████████████████████████████████████████████████                       | 18/25 [00:02<00:00,  8.44it/s]\u001b[A\n",
      "100%|██████████████████████████████████████████████████████████████████████████████████| 25/25 [00:03<00:00,  8.29it/s]\u001b[A\n",
      " 57%|██████████████████████████████████████████████                                  | 115/200 [24:28<19:06, 13.49s/it]"
     ]
    },
    {
     "name": "stdout",
     "output_type": "stream",
     "text": [
      "Working on : \\\\merfish9.ucsd.edu\\volume1\\20230908_D106Luo\\DNA\\AnalysisDeconvolveCG\\SegmentationDAPI_CG\\Conv_zscan__1041--H1_B1_2_3--CYTO_segm.npz\n"
     ]
    },
    {
     "name": "stderr",
     "output_type": "stream",
     "text": [
      "\n",
      "  0%|                                                                                           | 0/25 [00:00<?, ?it/s]\u001b[A\n",
      "  4%|███▎                                                                               | 1/25 [00:00<00:08,  2.76it/s]\u001b[A\n",
      "  8%|██████▋                                                                            | 2/25 [00:00<00:06,  3.55it/s]\u001b[A\n",
      " 12%|█████████▉                                                                         | 3/25 [00:00<00:05,  4.03it/s]\u001b[A\n",
      " 16%|█████████████▎                                                                     | 4/25 [00:00<00:04,  4.82it/s]\u001b[A\n",
      " 24%|███████████████████▉                                                               | 6/25 [00:01<00:02,  6.85it/s]\u001b[A\n",
      " 28%|███████████████████████▏                                                           | 7/25 [00:01<00:02,  6.76it/s]\u001b[A\n",
      " 32%|██████████████████████████▌                                                        | 8/25 [00:01<00:02,  6.67it/s]\u001b[A\n",
      " 36%|█████████████████████████████▉                                                     | 9/25 [00:01<00:02,  6.85it/s]\u001b[A\n",
      " 44%|████████████████████████████████████                                              | 11/25 [00:01<00:01,  8.44it/s]\u001b[A\n",
      " 48%|███████████████████████████████████████▎                                          | 12/25 [00:01<00:01,  7.96it/s]\u001b[A\n",
      " 52%|██████████████████████████████████████████▋                                       | 13/25 [00:02<00:01,  7.59it/s]\u001b[A\n",
      " 56%|█████████████████████████████████████████████▉                                    | 14/25 [00:02<00:01,  7.59it/s]\u001b[A\n",
      " 64%|████████████████████████████████████████████████████▍                             | 16/25 [00:02<00:00,  9.13it/s]\u001b[A\n",
      " 68%|███████████████████████████████████████████████████████▊                          | 17/25 [00:02<00:00,  8.75it/s]\u001b[A\n",
      " 72%|███████████████████████████████████████████████████████████                       | 18/25 [00:02<00:00,  8.43it/s]\u001b[A\n",
      "100%|██████████████████████████████████████████████████████████████████████████████████| 25/25 [00:02<00:00,  8.92it/s]\u001b[A\n",
      " 58%|██████████████████████████████████████████████▍                                 | 116/200 [24:41<18:40, 13.34s/it]"
     ]
    },
    {
     "name": "stdout",
     "output_type": "stream",
     "text": [
      "Working on : \\\\merfish9.ucsd.edu\\volume1\\20230908_D106Luo\\DNA\\AnalysisDeconvolveCG\\SegmentationDAPI_CG\\Conv_zscan__1042--H1_B1_2_3--CYTO_segm.npz\n"
     ]
    },
    {
     "name": "stderr",
     "output_type": "stream",
     "text": [
      "\n",
      "  0%|                                                                                           | 0/25 [00:00<?, ?it/s]\u001b[A\n",
      "  4%|███▎                                                                               | 1/25 [00:00<00:10,  2.29it/s]\u001b[A\n",
      "  8%|██████▋                                                                            | 2/25 [00:00<00:07,  3.15it/s]\u001b[A\n",
      " 12%|█████████▉                                                                         | 3/25 [00:00<00:05,  3.81it/s]\u001b[A\n",
      " 16%|█████████████▎                                                                     | 4/25 [00:01<00:04,  4.63it/s]\u001b[A\n",
      " 24%|███████████████████▉                                                               | 6/25 [00:01<00:02,  6.85it/s]\u001b[A\n",
      " 28%|███████████████████████▏                                                           | 7/25 [00:01<00:02,  6.82it/s]\u001b[A\n",
      " 32%|██████████████████████████▌                                                        | 8/25 [00:01<00:02,  6.68it/s]\u001b[A\n",
      " 36%|█████████████████████████████▉                                                     | 9/25 [00:01<00:02,  6.73it/s]\u001b[A\n",
      " 44%|████████████████████████████████████                                              | 11/25 [00:01<00:01,  8.21it/s]\u001b[A\n",
      " 48%|███████████████████████████████████████▎                                          | 12/25 [00:01<00:01,  7.73it/s]\u001b[A\n",
      " 52%|██████████████████████████████████████████▋                                       | 13/25 [00:02<00:01,  7.48it/s]\u001b[A\n",
      " 56%|█████████████████████████████████████████████▉                                    | 14/25 [00:02<00:01,  7.49it/s]\u001b[A\n",
      " 64%|████████████████████████████████████████████████████▍                             | 16/25 [00:02<00:00,  9.18it/s]\u001b[A\n",
      " 68%|███████████████████████████████████████████████████████▊                          | 17/25 [00:02<00:00,  8.78it/s]\u001b[A\n",
      " 72%|███████████████████████████████████████████████████████████                       | 18/25 [00:02<00:00,  8.46it/s]\u001b[A\n",
      "100%|██████████████████████████████████████████████████████████████████████████████████| 25/25 [00:02<00:00,  8.71it/s]\u001b[A\n",
      " 58%|██████████████████████████████████████████████▊                                 | 117/200 [24:56<19:17, 13.94s/it]"
     ]
    },
    {
     "name": "stdout",
     "output_type": "stream",
     "text": [
      "Working on : \\\\merfish9.ucsd.edu\\volume1\\20230908_D106Luo\\DNA\\AnalysisDeconvolveCG\\SegmentationDAPI_CG\\Conv_zscan__1043--H1_B1_2_3--CYTO_segm.npz\n"
     ]
    },
    {
     "name": "stderr",
     "output_type": "stream",
     "text": [
      "\n",
      "  0%|                                                                                           | 0/25 [00:00<?, ?it/s]\u001b[A\n",
      "  4%|███▎                                                                               | 1/25 [00:00<00:12,  1.95it/s]\u001b[A\n",
      "  8%|██████▋                                                                            | 2/25 [00:00<00:07,  3.03it/s]\u001b[A\n",
      " 12%|█████████▉                                                                         | 3/25 [00:00<00:05,  4.00it/s]\u001b[A\n",
      " 16%|█████████████▎                                                                     | 4/25 [00:01<00:04,  4.82it/s]\u001b[A\n",
      " 24%|███████████████████▉                                                               | 6/25 [00:01<00:02,  6.98it/s]\u001b[A\n",
      " 28%|███████████████████████▏                                                           | 7/25 [00:01<00:02,  6.78it/s]\u001b[A\n",
      " 32%|██████████████████████████▌                                                        | 8/25 [00:01<00:02,  6.67it/s]\u001b[A\n",
      " 36%|█████████████████████████████▉                                                     | 9/25 [00:01<00:02,  6.80it/s]\u001b[A\n",
      " 44%|████████████████████████████████████                                              | 11/25 [00:01<00:01,  8.39it/s]\u001b[A\n",
      " 48%|███████████████████████████████████████▎                                          | 12/25 [00:01<00:01,  7.94it/s]\u001b[A\n",
      " 52%|██████████████████████████████████████████▋                                       | 13/25 [00:02<00:01,  7.58it/s]\u001b[A\n",
      " 56%|█████████████████████████████████████████████▉                                    | 14/25 [00:02<00:01,  7.57it/s]\u001b[A\n",
      " 64%|████████████████████████████████████████████████████▍                             | 16/25 [00:02<00:00,  9.28it/s]\u001b[A\n",
      " 68%|███████████████████████████████████████████████████████▊                          | 17/25 [00:02<00:00,  8.81it/s]\u001b[A\n",
      " 72%|███████████████████████████████████████████████████████████                       | 18/25 [00:02<00:00,  8.50it/s]\u001b[A\n",
      "100%|██████████████████████████████████████████████████████████████████████████████████| 25/25 [00:02<00:00,  8.73it/s]\u001b[A\n",
      " 59%|███████████████████████████████████████████████▏                                | 118/200 [25:10<19:07, 13.99s/it]"
     ]
    },
    {
     "name": "stdout",
     "output_type": "stream",
     "text": [
      "Working on : \\\\merfish9.ucsd.edu\\volume1\\20230908_D106Luo\\DNA\\AnalysisDeconvolveCG\\SegmentationDAPI_CG\\Conv_zscan__1044--H1_B1_2_3--CYTO_segm.npz\n"
     ]
    },
    {
     "name": "stderr",
     "output_type": "stream",
     "text": [
      "\n",
      "  0%|                                                                                           | 0/25 [00:00<?, ?it/s]\u001b[A\n",
      "  4%|███▎                                                                               | 1/25 [00:00<00:10,  2.22it/s]\u001b[A\n",
      "  8%|██████▋                                                                            | 2/25 [00:00<00:07,  2.98it/s]\u001b[A\n",
      " 12%|█████████▉                                                                         | 3/25 [00:01<00:07,  2.97it/s]\u001b[A\n",
      " 16%|█████████████▎                                                                     | 4/25 [00:01<00:05,  3.95it/s]\u001b[A\n",
      " 24%|███████████████████▉                                                               | 6/25 [00:01<00:03,  6.10it/s]\u001b[A\n",
      " 28%|███████████████████████▏                                                           | 7/25 [00:01<00:02,  6.28it/s]\u001b[A\n",
      " 32%|██████████████████████████▌                                                        | 8/25 [00:01<00:02,  6.43it/s]\u001b[A\n",
      " 36%|█████████████████████████████▉                                                     | 9/25 [00:01<00:02,  6.45it/s]\u001b[A\n",
      " 44%|████████████████████████████████████                                              | 11/25 [00:01<00:01,  8.01it/s]\u001b[A\n",
      " 48%|███████████████████████████████████████▎                                          | 12/25 [00:02<00:01,  7.65it/s]\u001b[A\n",
      " 52%|██████████████████████████████████████████▋                                       | 13/25 [00:02<00:01,  7.40it/s]\u001b[A\n",
      " 56%|█████████████████████████████████████████████▉                                    | 14/25 [00:02<00:01,  7.38it/s]\u001b[A\n",
      " 64%|████████████████████████████████████████████████████▍                             | 16/25 [00:02<00:00,  9.14it/s]\u001b[A\n",
      " 68%|███████████████████████████████████████████████████████▊                          | 17/25 [00:02<00:00,  8.72it/s]\u001b[A\n",
      " 72%|███████████████████████████████████████████████████████████                       | 18/25 [00:02<00:00,  8.41it/s]\u001b[A\n",
      "100%|██████████████████████████████████████████████████████████████████████████████████| 25/25 [00:03<00:00,  8.27it/s]\u001b[A\n",
      " 60%|███████████████████████████████████████████████▌                                | 119/200 [25:24<18:42, 13.86s/it]"
     ]
    },
    {
     "name": "stdout",
     "output_type": "stream",
     "text": [
      "Working on : \\\\merfish9.ucsd.edu\\volume1\\20230908_D106Luo\\DNA\\AnalysisDeconvolveCG\\SegmentationDAPI_CG\\Conv_zscan__1045--H1_B1_2_3--CYTO_segm.npz\n"
     ]
    },
    {
     "name": "stderr",
     "output_type": "stream",
     "text": [
      "\n",
      "  0%|                                                                                           | 0/25 [00:00<?, ?it/s]\u001b[A\n",
      "  4%|███▎                                                                               | 1/25 [00:00<00:13,  1.80it/s]\u001b[A\n",
      "  8%|██████▋                                                                            | 2/25 [00:00<00:10,  2.26it/s]\u001b[A\n",
      " 12%|█████████▉                                                                         | 3/25 [00:01<00:07,  2.93it/s]\u001b[A\n",
      " 16%|█████████████▎                                                                     | 4/25 [00:01<00:05,  3.76it/s]\u001b[A\n",
      " 24%|███████████████████▉                                                               | 6/25 [00:01<00:03,  5.86it/s]\u001b[A\n",
      " 28%|███████████████████████▏                                                           | 7/25 [00:01<00:02,  6.06it/s]\u001b[A\n",
      " 32%|██████████████████████████▌                                                        | 8/25 [00:01<00:02,  6.16it/s]\u001b[A\n",
      " 36%|█████████████████████████████▉                                                     | 9/25 [00:01<00:02,  6.42it/s]\u001b[A\n",
      " 44%|████████████████████████████████████                                              | 11/25 [00:02<00:01,  8.03it/s]\u001b[A\n",
      " 48%|███████████████████████████████████████▎                                          | 12/25 [00:02<00:01,  7.65it/s]\u001b[A\n",
      " 52%|██████████████████████████████████████████▋                                       | 13/25 [00:02<00:01,  7.47it/s]\u001b[A\n",
      " 56%|█████████████████████████████████████████████▉                                    | 14/25 [00:02<00:01,  7.47it/s]\u001b[A\n",
      " 64%|████████████████████████████████████████████████████▍                             | 16/25 [00:02<00:00,  9.18it/s]\u001b[A\n",
      " 68%|███████████████████████████████████████████████████████▊                          | 17/25 [00:02<00:00,  8.79it/s]\u001b[A\n",
      " 72%|███████████████████████████████████████████████████████████                       | 18/25 [00:02<00:00,  8.45it/s]\u001b[A\n",
      "100%|██████████████████████████████████████████████████████████████████████████████████| 25/25 [00:03<00:00,  7.97it/s]\u001b[A\n",
      " 60%|████████████████████████████████████████████████                                | 120/200 [25:38<18:28, 13.86s/it]"
     ]
    },
    {
     "name": "stdout",
     "output_type": "stream",
     "text": [
      "Working on : \\\\merfish9.ucsd.edu\\volume1\\20230908_D106Luo\\DNA\\AnalysisDeconvolveCG\\SegmentationDAPI_CG\\Conv_zscan__1046--H1_B1_2_3--CYTO_segm.npz\n"
     ]
    },
    {
     "name": "stderr",
     "output_type": "stream",
     "text": [
      "\n",
      "  0%|                                                                                           | 0/25 [00:00<?, ?it/s]\u001b[A\n",
      "  4%|███▎                                                                               | 1/25 [00:00<00:11,  2.08it/s]\u001b[A\n",
      "  8%|██████▋                                                                            | 2/25 [00:00<00:09,  2.35it/s]\u001b[A\n",
      " 12%|█████████▉                                                                         | 3/25 [00:01<00:06,  3.36it/s]\u001b[A\n",
      " 16%|█████████████▎                                                                     | 4/25 [00:01<00:05,  4.06it/s]\u001b[A\n",
      " 24%|███████████████████▉                                                               | 6/25 [00:01<00:03,  6.03it/s]\u001b[A\n",
      " 28%|███████████████████████▏                                                           | 7/25 [00:01<00:02,  6.11it/s]\u001b[A\n",
      " 32%|██████████████████████████▌                                                        | 8/25 [00:01<00:02,  6.19it/s]\u001b[A\n",
      " 36%|█████████████████████████████▉                                                     | 9/25 [00:01<00:02,  6.45it/s]\u001b[A\n",
      " 44%|████████████████████████████████████                                              | 11/25 [00:01<00:01,  8.07it/s]\u001b[A\n",
      " 48%|███████████████████████████████████████▎                                          | 12/25 [00:02<00:01,  7.72it/s]\u001b[A\n",
      " 52%|██████████████████████████████████████████▋                                       | 13/25 [00:02<00:01,  7.42it/s]\u001b[A\n",
      " 56%|█████████████████████████████████████████████▉                                    | 14/25 [00:02<00:01,  7.46it/s]\u001b[A\n",
      " 64%|████████████████████████████████████████████████████▍                             | 16/25 [00:02<00:00,  9.15it/s]\u001b[A\n",
      " 68%|███████████████████████████████████████████████████████▊                          | 17/25 [00:02<00:00,  8.76it/s]\u001b[A\n",
      " 72%|███████████████████████████████████████████████████████████                       | 18/25 [00:02<00:00,  8.43it/s]\u001b[A\n",
      "100%|██████████████████████████████████████████████████████████████████████████████████| 25/25 [00:03<00:00,  8.19it/s]\u001b[A\n",
      " 60%|████████████████████████████████████████████████▍                               | 121/200 [25:52<18:13, 13.84s/it]"
     ]
    },
    {
     "name": "stdout",
     "output_type": "stream",
     "text": [
      "Working on : \\\\merfish9.ucsd.edu\\volume1\\20230908_D106Luo\\DNA\\AnalysisDeconvolveCG\\SegmentationDAPI_CG\\Conv_zscan__1047--H1_B1_2_3--CYTO_segm.npz\n"
     ]
    },
    {
     "name": "stderr",
     "output_type": "stream",
     "text": [
      "\n",
      "  0%|                                                                                           | 0/25 [00:00<?, ?it/s]\u001b[A\n",
      "  4%|███▎                                                                               | 1/25 [00:00<00:11,  2.11it/s]\u001b[A\n",
      "  8%|██████▋                                                                            | 2/25 [00:00<00:06,  3.35it/s]\u001b[A\n",
      " 12%|█████████▉                                                                         | 3/25 [00:00<00:05,  3.97it/s]\u001b[A\n",
      " 16%|█████████████▎                                                                     | 4/25 [00:00<00:04,  4.84it/s]\u001b[A\n",
      " 24%|███████████████████▉                                                               | 6/25 [00:01<00:02,  7.00it/s]\u001b[A\n",
      " 28%|███████████████████████▏                                                           | 7/25 [00:01<00:02,  6.93it/s]\u001b[A\n",
      " 32%|██████████████████████████▌                                                        | 8/25 [00:01<00:02,  6.91it/s]\u001b[A\n",
      " 36%|█████████████████████████████▉                                                     | 9/25 [00:01<00:02,  7.16it/s]\u001b[A\n",
      " 44%|████████████████████████████████████                                              | 11/25 [00:01<00:01,  8.66it/s]\u001b[A\n",
      " 48%|███████████████████████████████████████▎                                          | 12/25 [00:01<00:01,  8.10it/s]\u001b[A\n",
      " 52%|██████████████████████████████████████████▋                                       | 13/25 [00:02<00:01,  7.72it/s]\u001b[A\n",
      " 56%|█████████████████████████████████████████████▉                                    | 14/25 [00:02<00:01,  7.62it/s]\u001b[A\n",
      " 64%|████████████████████████████████████████████████████▍                             | 16/25 [00:02<00:00,  9.29it/s]\u001b[A\n",
      " 68%|███████████████████████████████████████████████████████▊                          | 17/25 [00:02<00:00,  8.83it/s]\u001b[A\n",
      " 72%|███████████████████████████████████████████████████████████                       | 18/25 [00:02<00:00,  8.51it/s]\u001b[A\n",
      " 76%|██████████████████████████████████████████████████████████████▎                   | 19/25 [00:02<00:00,  8.41it/s]\u001b[A\n",
      "100%|██████████████████████████████████████████████████████████████████████████████████| 25/25 [00:02<00:00,  8.86it/s]\u001b[A\n",
      " 61%|████████████████████████████████████████████████▊                               | 122/200 [26:05<17:45, 13.66s/it]"
     ]
    },
    {
     "name": "stdout",
     "output_type": "stream",
     "text": [
      "Working on : \\\\merfish9.ucsd.edu\\volume1\\20230908_D106Luo\\DNA\\AnalysisDeconvolveCG\\SegmentationDAPI_CG\\Conv_zscan__1048--H1_B1_2_3--CYTO_segm.npz\n"
     ]
    },
    {
     "name": "stderr",
     "output_type": "stream",
     "text": [
      "\n",
      "  0%|                                                                                           | 0/25 [00:00<?, ?it/s]\u001b[A\n",
      "  4%|███▎                                                                               | 1/25 [00:00<00:09,  2.46it/s]\u001b[A\n",
      "  8%|██████▋                                                                            | 2/25 [00:00<00:06,  3.46it/s]\u001b[A\n",
      " 12%|█████████▉                                                                         | 3/25 [00:00<00:07,  3.08it/s]\u001b[A\n",
      " 16%|█████████████▎                                                                     | 4/25 [00:01<00:05,  3.79it/s]\u001b[A\n",
      " 24%|███████████████████▉                                                               | 6/25 [00:01<00:03,  5.33it/s]\u001b[A\n",
      " 28%|███████████████████████▏                                                           | 7/25 [00:01<00:03,  5.51it/s]\u001b[A\n",
      " 32%|██████████████████████████▌                                                        | 8/25 [00:01<00:02,  5.73it/s]\u001b[A\n",
      " 36%|█████████████████████████████▉                                                     | 9/25 [00:01<00:02,  6.07it/s]\u001b[A\n",
      " 44%|████████████████████████████████████                                              | 11/25 [00:02<00:01,  7.73it/s]\u001b[A\n",
      " 48%|███████████████████████████████████████▎                                          | 12/25 [00:02<00:01,  7.43it/s]\u001b[A\n",
      " 52%|██████████████████████████████████████████▋                                       | 13/25 [00:02<00:01,  7.20it/s]\u001b[A\n",
      " 56%|█████████████████████████████████████████████▉                                    | 14/25 [00:02<00:01,  7.30it/s]\u001b[A\n",
      " 64%|████████████████████████████████████████████████████▍                             | 16/25 [00:02<00:00,  9.03it/s]\u001b[A\n",
      " 68%|███████████████████████████████████████████████████████▊                          | 17/25 [00:02<00:00,  8.67it/s]\u001b[A\n",
      " 72%|███████████████████████████████████████████████████████████                       | 18/25 [00:02<00:00,  8.40it/s]\u001b[A\n",
      "100%|██████████████████████████████████████████████████████████████████████████████████| 25/25 [00:03<00:00,  8.10it/s]\u001b[A\n",
      " 62%|█████████████████████████████████████████████████▏                              | 123/200 [26:18<17:13, 13.42s/it]"
     ]
    },
    {
     "name": "stdout",
     "output_type": "stream",
     "text": [
      "Working on : \\\\merfish9.ucsd.edu\\volume1\\20230908_D106Luo\\DNA\\AnalysisDeconvolveCG\\SegmentationDAPI_CG\\Conv_zscan__1049--H1_B1_2_3--CYTO_segm.npz\n"
     ]
    },
    {
     "name": "stderr",
     "output_type": "stream",
     "text": [
      "\n",
      "  0%|                                                                                           | 0/25 [00:00<?, ?it/s]\u001b[A\n",
      "  4%|███▎                                                                               | 1/25 [00:00<00:11,  2.05it/s]\u001b[A\n",
      "  8%|██████▋                                                                            | 2/25 [00:00<00:07,  3.00it/s]\u001b[A\n",
      " 12%|█████████▉                                                                         | 3/25 [00:00<00:06,  3.65it/s]\u001b[A\n",
      " 16%|█████████████▎                                                                     | 4/25 [00:01<00:04,  4.48it/s]\u001b[A\n",
      " 24%|███████████████████▉                                                               | 6/25 [00:01<00:02,  6.65it/s]\u001b[A\n",
      " 28%|███████████████████████▏                                                           | 7/25 [00:01<00:02,  6.57it/s]\u001b[A\n",
      " 32%|██████████████████████████▌                                                        | 8/25 [00:01<00:02,  6.53it/s]\u001b[A\n",
      " 36%|█████████████████████████████▉                                                     | 9/25 [00:01<00:02,  6.74it/s]\u001b[A\n",
      " 44%|████████████████████████████████████                                              | 11/25 [00:01<00:01,  8.33it/s]\u001b[A\n",
      " 48%|███████████████████████████████████████▎                                          | 12/25 [00:02<00:01,  7.89it/s]\u001b[A\n",
      " 52%|██████████████████████████████████████████▋                                       | 13/25 [00:02<00:01,  7.60it/s]\u001b[A\n",
      " 56%|█████████████████████████████████████████████▉                                    | 14/25 [00:02<00:01,  7.60it/s]\u001b[A\n",
      " 64%|████████████████████████████████████████████████████▍                             | 16/25 [00:02<00:00,  9.25it/s]\u001b[A\n",
      " 68%|███████████████████████████████████████████████████████▊                          | 17/25 [00:02<00:00,  8.81it/s]\u001b[A\n",
      " 72%|███████████████████████████████████████████████████████████                       | 18/25 [00:02<00:00,  8.50it/s]\u001b[A\n",
      " 76%|██████████████████████████████████████████████████████████████▎                   | 19/25 [00:02<00:00,  8.51it/s]\u001b[A\n",
      "100%|██████████████████████████████████████████████████████████████████████████████████| 25/25 [00:02<00:00,  8.58it/s]\u001b[A\n",
      " 62%|█████████████████████████████████████████████████▌                              | 124/200 [26:30<16:36, 13.11s/it]"
     ]
    },
    {
     "name": "stdout",
     "output_type": "stream",
     "text": [
      "Working on : \\\\merfish9.ucsd.edu\\volume1\\20230908_D106Luo\\DNA\\AnalysisDeconvolveCG\\SegmentationDAPI_CG\\Conv_zscan__1050--H1_B1_2_3--CYTO_segm.npz\n"
     ]
    },
    {
     "name": "stderr",
     "output_type": "stream",
     "text": [
      "\n",
      "  0%|                                                                                           | 0/25 [00:00<?, ?it/s]\u001b[A\n",
      "  4%|███▎                                                                               | 1/25 [00:00<00:11,  2.16it/s]\u001b[A\n",
      "  8%|██████▋                                                                            | 2/25 [00:00<00:06,  3.61it/s]\u001b[A\n",
      " 12%|█████████▉                                                                         | 3/25 [00:00<00:05,  3.78it/s]\u001b[A\n",
      " 16%|█████████████▎                                                                     | 4/25 [00:00<00:04,  4.66it/s]\u001b[A\n",
      " 24%|███████████████████▉                                                               | 6/25 [00:01<00:02,  6.82it/s]\u001b[A\n",
      " 28%|███████████████████████▏                                                           | 7/25 [00:01<00:02,  6.73it/s]\u001b[A\n",
      " 32%|██████████████████████████▌                                                        | 8/25 [00:01<00:02,  6.71it/s]\u001b[A\n",
      " 36%|█████████████████████████████▉                                                     | 9/25 [00:01<00:02,  6.92it/s]\u001b[A\n",
      " 44%|████████████████████████████████████                                              | 11/25 [00:01<00:01,  8.50it/s]\u001b[A\n",
      " 48%|███████████████████████████████████████▎                                          | 12/25 [00:01<00:01,  7.98it/s]\u001b[A\n",
      " 52%|██████████████████████████████████████████▋                                       | 13/25 [00:02<00:01,  7.62it/s]\u001b[A\n",
      " 56%|█████████████████████████████████████████████▉                                    | 14/25 [00:02<00:01,  7.60it/s]\u001b[A\n",
      " 64%|████████████████████████████████████████████████████▍                             | 16/25 [00:02<00:00,  9.29it/s]\u001b[A\n",
      " 68%|███████████████████████████████████████████████████████▊                          | 17/25 [00:02<00:00,  8.83it/s]\u001b[A\n",
      " 72%|███████████████████████████████████████████████████████████                       | 18/25 [00:02<00:00,  8.46it/s]\u001b[A\n",
      "100%|██████████████████████████████████████████████████████████████████████████████████| 25/25 [00:02<00:00,  8.81it/s]\u001b[A\n",
      " 62%|██████████████████████████████████████████████████                              | 125/200 [26:40<15:21, 12.28s/it]"
     ]
    },
    {
     "name": "stdout",
     "output_type": "stream",
     "text": [
      "Working on : \\\\merfish9.ucsd.edu\\volume1\\20230908_D106Luo\\DNA\\AnalysisDeconvolveCG\\SegmentationDAPI_CG\\Conv_zscan__1051--H1_B1_2_3--CYTO_segm.npz\n"
     ]
    },
    {
     "name": "stderr",
     "output_type": "stream",
     "text": [
      "\n",
      "  0%|                                                                                           | 0/25 [00:00<?, ?it/s]\u001b[A\n",
      "  4%|███▎                                                                               | 1/25 [00:00<00:08,  2.75it/s]\u001b[A\n",
      "  8%|██████▋                                                                            | 2/25 [00:00<00:08,  2.60it/s]\u001b[A\n",
      " 12%|█████████▉                                                                         | 3/25 [00:00<00:06,  3.57it/s]\u001b[A\n",
      " 16%|█████████████▎                                                                     | 4/25 [00:01<00:04,  4.52it/s]\u001b[A\n",
      " 24%|███████████████████▉                                                               | 6/25 [00:01<00:02,  6.59it/s]\u001b[A\n",
      " 28%|███████████████████████▏                                                           | 7/25 [00:01<00:02,  6.53it/s]\u001b[A\n",
      " 32%|██████████████████████████▌                                                        | 8/25 [00:01<00:02,  6.47it/s]\u001b[A\n",
      " 36%|█████████████████████████████▉                                                     | 9/25 [00:01<00:02,  6.70it/s]\u001b[A\n",
      " 44%|████████████████████████████████████                                              | 11/25 [00:01<00:01,  8.25it/s]\u001b[A\n",
      " 48%|███████████████████████████████████████▎                                          | 12/25 [00:02<00:01,  7.85it/s]\u001b[A\n",
      " 52%|██████████████████████████████████████████▋                                       | 13/25 [00:02<00:01,  7.53it/s]\u001b[A\n",
      " 56%|█████████████████████████████████████████████▉                                    | 14/25 [00:02<00:01,  7.51it/s]\u001b[A\n",
      " 64%|████████████████████████████████████████████████████▍                             | 16/25 [00:02<00:00,  9.24it/s]\u001b[A\n",
      " 68%|███████████████████████████████████████████████████████▊                          | 17/25 [00:02<00:00,  8.82it/s]\u001b[A\n",
      " 72%|███████████████████████████████████████████████████████████                       | 18/25 [00:02<00:00,  8.48it/s]\u001b[A\n",
      "100%|██████████████████████████████████████████████████████████████████████████████████| 25/25 [00:02<00:00,  8.59it/s]\u001b[A\n",
      " 63%|██████████████████████████████████████████████████▍                             | 126/200 [26:52<14:52, 12.05s/it]"
     ]
    },
    {
     "name": "stdout",
     "output_type": "stream",
     "text": [
      "Working on : \\\\merfish9.ucsd.edu\\volume1\\20230908_D106Luo\\DNA\\AnalysisDeconvolveCG\\SegmentationDAPI_CG\\Conv_zscan__1052--H1_B1_2_3--CYTO_segm.npz\n"
     ]
    },
    {
     "name": "stderr",
     "output_type": "stream",
     "text": [
      "\n",
      "  0%|                                                                                           | 0/25 [00:00<?, ?it/s]\u001b[A\n",
      "  4%|███▎                                                                               | 1/25 [00:00<00:10,  2.27it/s]\u001b[A\n",
      "  8%|██████▋                                                                            | 2/25 [00:00<00:06,  3.75it/s]\u001b[A\n",
      " 12%|█████████▉                                                                         | 3/25 [00:00<00:04,  4.58it/s]\u001b[A\n",
      " 16%|█████████████▎                                                                     | 4/25 [00:00<00:04,  5.16it/s]\u001b[A\n",
      " 24%|███████████████████▉                                                               | 6/25 [00:01<00:02,  7.13it/s]\u001b[A\n",
      " 28%|███████████████████████▏                                                           | 7/25 [00:01<00:02,  6.91it/s]\u001b[A\n",
      " 32%|██████████████████████████▌                                                        | 8/25 [00:01<00:02,  6.78it/s]\u001b[A\n",
      " 36%|█████████████████████████████▉                                                     | 9/25 [00:01<00:02,  6.93it/s]\u001b[A\n",
      " 44%|████████████████████████████████████                                              | 11/25 [00:01<00:01,  8.51it/s]\u001b[A\n",
      " 48%|███████████████████████████████████████▎                                          | 12/25 [00:01<00:01,  8.00it/s]\u001b[A\n",
      " 52%|██████████████████████████████████████████▋                                       | 13/25 [00:02<00:01,  7.59it/s]\u001b[A\n",
      " 56%|█████████████████████████████████████████████▉                                    | 14/25 [00:02<00:01,  7.59it/s]\u001b[A\n",
      " 64%|████████████████████████████████████████████████████▍                             | 16/25 [00:02<00:00,  9.32it/s]\u001b[A\n",
      " 68%|███████████████████████████████████████████████████████▊                          | 17/25 [00:02<00:00,  8.89it/s]\u001b[A\n",
      " 72%|███████████████████████████████████████████████████████████                       | 18/25 [00:02<00:00,  8.52it/s]\u001b[A\n",
      "100%|██████████████████████████████████████████████████████████████████████████████████| 25/25 [00:02<00:00,  9.05it/s]\u001b[A\n",
      " 64%|██████████████████████████████████████████████████▊                             | 127/200 [27:05<15:10, 12.47s/it]"
     ]
    },
    {
     "name": "stdout",
     "output_type": "stream",
     "text": [
      "Working on : \\\\merfish9.ucsd.edu\\volume1\\20230908_D106Luo\\DNA\\AnalysisDeconvolveCG\\SegmentationDAPI_CG\\Conv_zscan__1053--H1_B1_2_3--CYTO_segm.npz\n"
     ]
    },
    {
     "name": "stderr",
     "output_type": "stream",
     "text": [
      "\n",
      "  0%|                                                                                           | 0/25 [00:00<?, ?it/s]\u001b[A\n",
      "  4%|███▎                                                                               | 1/25 [00:00<00:10,  2.39it/s]\u001b[A\n",
      "  8%|██████▋                                                                            | 2/25 [00:00<00:07,  3.28it/s]\u001b[A\n",
      " 12%|█████████▉                                                                         | 3/25 [00:00<00:05,  3.97it/s]\u001b[A\n",
      " 16%|█████████████▎                                                                     | 4/25 [00:00<00:04,  4.85it/s]\u001b[A\n",
      " 24%|███████████████████▉                                                               | 6/25 [00:01<00:02,  7.05it/s]\u001b[A\n",
      " 28%|███████████████████████▏                                                           | 7/25 [00:01<00:02,  6.79it/s]\u001b[A\n",
      " 32%|██████████████████████████▌                                                        | 8/25 [00:01<00:02,  6.68it/s]\u001b[A\n",
      " 36%|█████████████████████████████▉                                                     | 9/25 [00:01<00:02,  6.82it/s]\u001b[A\n",
      " 44%|████████████████████████████████████                                              | 11/25 [00:01<00:01,  8.38it/s]\u001b[A\n",
      " 48%|███████████████████████████████████████▎                                          | 12/25 [00:01<00:01,  7.89it/s]\u001b[A\n",
      " 52%|██████████████████████████████████████████▋                                       | 13/25 [00:02<00:01,  7.56it/s]\u001b[A\n",
      " 56%|█████████████████████████████████████████████▉                                    | 14/25 [00:02<00:01,  7.58it/s]\u001b[A\n",
      " 64%|████████████████████████████████████████████████████▍                             | 16/25 [00:02<00:00,  9.27it/s]\u001b[A\n",
      " 68%|███████████████████████████████████████████████████████▊                          | 17/25 [00:02<00:00,  8.81it/s]\u001b[A\n",
      " 72%|███████████████████████████████████████████████████████████                       | 18/25 [00:02<00:00,  8.51it/s]\u001b[A\n",
      "100%|██████████████████████████████████████████████████████████████████████████████████| 25/25 [00:02<00:00,  8.86it/s]\u001b[A\n",
      " 64%|███████████████████████████████████████████████████▏                            | 128/200 [27:19<15:16, 12.73s/it]"
     ]
    },
    {
     "name": "stdout",
     "output_type": "stream",
     "text": [
      "Working on : \\\\merfish9.ucsd.edu\\volume1\\20230908_D106Luo\\DNA\\AnalysisDeconvolveCG\\SegmentationDAPI_CG\\Conv_zscan__1054--H1_B1_2_3--CYTO_segm.npz\n"
     ]
    },
    {
     "name": "stderr",
     "output_type": "stream",
     "text": [
      "\n",
      "  0%|                                                                                           | 0/25 [00:00<?, ?it/s]\u001b[A\n",
      "  4%|███▎                                                                               | 1/25 [00:00<00:10,  2.40it/s]\u001b[A\n",
      "  8%|██████▋                                                                            | 2/25 [00:00<00:06,  3.78it/s]\u001b[A\n",
      " 12%|█████████▉                                                                         | 3/25 [00:00<00:04,  4.73it/s]\u001b[A\n",
      " 16%|█████████████▎                                                                     | 4/25 [00:00<00:03,  5.44it/s]\u001b[A\n",
      " 24%|███████████████████▉                                                               | 6/25 [00:01<00:02,  7.47it/s]\u001b[A\n",
      " 28%|███████████████████████▏                                                           | 7/25 [00:01<00:02,  7.10it/s]\u001b[A\n",
      " 32%|██████████████████████████▌                                                        | 8/25 [00:01<00:02,  6.88it/s]\u001b[A\n",
      " 36%|█████████████████████████████▉                                                     | 9/25 [00:01<00:02,  6.98it/s]\u001b[A\n",
      " 44%|████████████████████████████████████                                              | 11/25 [00:01<00:01,  8.55it/s]\u001b[A\n",
      " 48%|███████████████████████████████████████▎                                          | 12/25 [00:01<00:01,  7.94it/s]\u001b[A\n",
      " 52%|██████████████████████████████████████████▋                                       | 13/25 [00:01<00:01,  7.61it/s]\u001b[A\n",
      " 56%|█████████████████████████████████████████████▉                                    | 14/25 [00:02<00:01,  7.58it/s]\u001b[A\n",
      " 64%|████████████████████████████████████████████████████▍                             | 16/25 [00:02<00:00,  9.30it/s]\u001b[A\n",
      " 68%|███████████████████████████████████████████████████████▊                          | 17/25 [00:02<00:00,  8.84it/s]\u001b[A\n",
      " 72%|███████████████████████████████████████████████████████████                       | 18/25 [00:02<00:00,  8.50it/s]\u001b[A\n",
      "100%|██████████████████████████████████████████████████████████████████████████████████| 25/25 [00:02<00:00,  9.15it/s]\u001b[A\n",
      " 64%|███████████████████████████████████████████████████▌                            | 129/200 [27:33<15:39, 13.24s/it]"
     ]
    },
    {
     "name": "stdout",
     "output_type": "stream",
     "text": [
      "Working on : \\\\merfish9.ucsd.edu\\volume1\\20230908_D106Luo\\DNA\\AnalysisDeconvolveCG\\SegmentationDAPI_CG\\Conv_zscan__1055--H1_B1_2_3--CYTO_segm.npz\n"
     ]
    },
    {
     "name": "stderr",
     "output_type": "stream",
     "text": [
      "\n",
      "  0%|                                                                                           | 0/25 [00:00<?, ?it/s]\u001b[A\n",
      "  4%|███▎                                                                               | 1/25 [00:00<00:12,  1.91it/s]\u001b[A\n",
      "  8%|██████▋                                                                            | 2/25 [00:00<00:07,  3.28it/s]\u001b[A\n",
      " 12%|█████████▉                                                                         | 3/25 [00:00<00:05,  4.19it/s]\u001b[A\n",
      " 16%|█████████████▎                                                                     | 4/25 [00:00<00:04,  5.01it/s]\u001b[A\n",
      " 24%|███████████████████▉                                                               | 6/25 [00:01<00:02,  7.05it/s]\u001b[A\n",
      " 28%|███████████████████████▏                                                           | 7/25 [00:01<00:02,  6.85it/s]\u001b[A\n",
      " 32%|██████████████████████████▌                                                        | 8/25 [00:01<00:02,  6.70it/s]\u001b[A\n",
      " 36%|█████████████████████████████▉                                                     | 9/25 [00:01<00:02,  6.86it/s]\u001b[A\n",
      " 44%|████████████████████████████████████                                              | 11/25 [00:01<00:01,  8.37it/s]\u001b[A\n",
      " 48%|███████████████████████████████████████▎                                          | 12/25 [00:01<00:01,  7.89it/s]\u001b[A\n",
      " 52%|██████████████████████████████████████████▋                                       | 13/25 [00:02<00:01,  7.48it/s]\u001b[A\n",
      " 56%|█████████████████████████████████████████████▉                                    | 14/25 [00:02<00:01,  7.41it/s]\u001b[A\n",
      " 64%|████████████████████████████████████████████████████▍                             | 16/25 [00:02<00:00,  9.15it/s]\u001b[A\n",
      " 68%|███████████████████████████████████████████████████████▊                          | 17/25 [00:02<00:00,  8.72it/s]\u001b[A\n",
      " 72%|███████████████████████████████████████████████████████████                       | 18/25 [00:02<00:00,  8.42it/s]\u001b[A\n",
      "100%|██████████████████████████████████████████████████████████████████████████████████| 25/25 [00:02<00:00,  8.76it/s]\u001b[A\n",
      " 65%|████████████████████████████████████████████████████                            | 130/200 [27:47<15:41, 13.45s/it]"
     ]
    },
    {
     "name": "stdout",
     "output_type": "stream",
     "text": [
      "Working on : \\\\merfish9.ucsd.edu\\volume1\\20230908_D106Luo\\DNA\\AnalysisDeconvolveCG\\SegmentationDAPI_CG\\Conv_zscan__1056--H1_B1_2_3--CYTO_segm.npz\n"
     ]
    },
    {
     "name": "stderr",
     "output_type": "stream",
     "text": [
      "\n",
      "  0%|                                                                                           | 0/25 [00:00<?, ?it/s]\u001b[A\n",
      "  4%|███▎                                                                               | 1/25 [00:00<00:10,  2.39it/s]\u001b[A\n",
      "  8%|██████▋                                                                            | 2/25 [00:00<00:07,  3.25it/s]\u001b[A\n",
      " 12%|█████████▉                                                                         | 3/25 [00:00<00:05,  4.03it/s]\u001b[A\n",
      " 16%|█████████████▎                                                                     | 4/25 [00:00<00:04,  4.92it/s]\u001b[A\n",
      " 24%|███████████████████▉                                                               | 6/25 [00:01<00:02,  6.99it/s]\u001b[A\n",
      " 28%|███████████████████████▏                                                           | 7/25 [00:01<00:02,  6.82it/s]\u001b[A\n",
      " 32%|██████████████████████████▌                                                        | 8/25 [00:01<00:02,  6.71it/s]\u001b[A\n",
      " 36%|█████████████████████████████▉                                                     | 9/25 [00:01<00:02,  6.87it/s]\u001b[A\n",
      " 44%|████████████████████████████████████                                              | 11/25 [00:01<00:01,  8.47it/s]\u001b[A\n",
      " 48%|███████████████████████████████████████▎                                          | 12/25 [00:01<00:01,  7.98it/s]\u001b[A\n",
      " 52%|██████████████████████████████████████████▋                                       | 13/25 [00:02<00:01,  7.61it/s]\u001b[A\n",
      " 56%|█████████████████████████████████████████████▉                                    | 14/25 [00:02<00:01,  7.63it/s]\u001b[A\n",
      " 64%|████████████████████████████████████████████████████▍                             | 16/25 [00:02<00:00,  9.36it/s]\u001b[A\n",
      " 68%|███████████████████████████████████████████████████████▊                          | 17/25 [00:02<00:00,  8.94it/s]\u001b[A\n",
      " 72%|███████████████████████████████████████████████████████████                       | 18/25 [00:02<00:00,  8.57it/s]\u001b[A\n",
      "100%|██████████████████████████████████████████████████████████████████████████████████| 25/25 [00:02<00:00,  8.90it/s]\u001b[A\n",
      " 66%|████████████████████████████████████████████████████▍                           | 131/200 [28:02<16:03, 13.97s/it]"
     ]
    },
    {
     "name": "stdout",
     "output_type": "stream",
     "text": [
      "Working on : \\\\merfish9.ucsd.edu\\volume1\\20230908_D106Luo\\DNA\\AnalysisDeconvolveCG\\SegmentationDAPI_CG\\Conv_zscan__1057--H1_B1_2_3--CYTO_segm.npz\n"
     ]
    },
    {
     "name": "stderr",
     "output_type": "stream",
     "text": [
      "\n",
      "  0%|                                                                                           | 0/25 [00:00<?, ?it/s]\u001b[A\n",
      "  4%|███▎                                                                               | 1/25 [00:00<00:12,  1.99it/s]\u001b[A\n",
      "  8%|██████▋                                                                            | 2/25 [00:00<00:07,  2.98it/s]\u001b[A\n",
      " 12%|█████████▉                                                                         | 3/25 [00:00<00:05,  3.93it/s]\u001b[A\n",
      " 16%|█████████████▎                                                                     | 4/25 [00:01<00:04,  4.75it/s]\u001b[A\n",
      " 24%|███████████████████▉                                                               | 6/25 [00:01<00:02,  6.98it/s]\u001b[A\n",
      " 28%|███████████████████████▏                                                           | 7/25 [00:01<00:02,  6.90it/s]\u001b[A\n",
      " 32%|██████████████████████████▌                                                        | 8/25 [00:01<00:02,  6.89it/s]\u001b[A\n",
      " 36%|█████████████████████████████▉                                                     | 9/25 [00:01<00:02,  7.12it/s]\u001b[A\n",
      " 44%|████████████████████████████████████                                              | 11/25 [00:01<00:01,  8.62it/s]\u001b[A\n",
      " 48%|███████████████████████████████████████▎                                          | 12/25 [00:01<00:01,  8.08it/s]\u001b[A\n",
      " 52%|██████████████████████████████████████████▋                                       | 13/25 [00:02<00:01,  7.71it/s]\u001b[A\n",
      " 56%|█████████████████████████████████████████████▉                                    | 14/25 [00:02<00:01,  7.64it/s]\u001b[A\n",
      " 64%|████████████████████████████████████████████████████▍                             | 16/25 [00:02<00:00,  9.38it/s]\u001b[A\n",
      " 68%|███████████████████████████████████████████████████████▊                          | 17/25 [00:02<00:00,  8.90it/s]\u001b[A\n",
      " 72%|███████████████████████████████████████████████████████████                       | 18/25 [00:02<00:00,  8.54it/s]\u001b[A\n",
      "100%|██████████████████████████████████████████████████████████████████████████████████| 25/25 [00:02<00:00,  8.80it/s]\u001b[A\n",
      " 66%|████████████████████████████████████████████████████▊                           | 132/200 [28:18<16:18, 14.39s/it]"
     ]
    },
    {
     "name": "stdout",
     "output_type": "stream",
     "text": [
      "Working on : \\\\merfish9.ucsd.edu\\volume1\\20230908_D106Luo\\DNA\\AnalysisDeconvolveCG\\SegmentationDAPI_CG\\Conv_zscan__1058--H1_B1_2_3--CYTO_segm.npz\n"
     ]
    },
    {
     "name": "stderr",
     "output_type": "stream",
     "text": [
      "\n",
      "  0%|                                                                                           | 0/25 [00:00<?, ?it/s]\u001b[A\n",
      "  4%|███▎                                                                               | 1/25 [00:00<00:12,  1.88it/s]\u001b[A\n",
      "  8%|██████▋                                                                            | 2/25 [00:00<00:07,  3.28it/s]\u001b[A\n",
      " 12%|█████████▉                                                                         | 3/25 [00:00<00:05,  4.20it/s]\u001b[A\n",
      " 16%|█████████████▎                                                                     | 4/25 [00:00<00:04,  5.03it/s]\u001b[A\n",
      " 24%|███████████████████▉                                                               | 6/25 [00:01<00:02,  7.06it/s]\u001b[A\n",
      " 28%|███████████████████████▏                                                           | 7/25 [00:01<00:02,  6.86it/s]\u001b[A\n",
      " 32%|██████████████████████████▌                                                        | 8/25 [00:01<00:02,  6.73it/s]\u001b[A\n",
      " 36%|█████████████████████████████▉                                                     | 9/25 [00:01<00:02,  6.91it/s]\u001b[A\n",
      " 44%|████████████████████████████████████                                              | 11/25 [00:01<00:01,  8.45it/s]\u001b[A\n",
      " 48%|███████████████████████████████████████▎                                          | 12/25 [00:01<00:01,  7.97it/s]\u001b[A\n",
      " 52%|██████████████████████████████████████████▋                                       | 13/25 [00:02<00:01,  7.63it/s]\u001b[A\n",
      " 56%|█████████████████████████████████████████████▉                                    | 14/25 [00:02<00:01,  7.69it/s]\u001b[A\n",
      " 64%|████████████████████████████████████████████████████▍                             | 16/25 [00:02<00:00,  9.45it/s]\u001b[A\n",
      " 68%|███████████████████████████████████████████████████████▊                          | 17/25 [00:02<00:00,  8.94it/s]\u001b[A\n",
      " 72%|███████████████████████████████████████████████████████████                       | 18/25 [00:02<00:00,  8.57it/s]\u001b[A\n",
      "100%|██████████████████████████████████████████████████████████████████████████████████| 25/25 [00:02<00:00,  8.85it/s]\u001b[A\n",
      " 66%|█████████████████████████████████████████████████████▏                          | 133/200 [28:32<15:55, 14.27s/it]"
     ]
    },
    {
     "name": "stdout",
     "output_type": "stream",
     "text": [
      "Working on : \\\\merfish9.ucsd.edu\\volume1\\20230908_D106Luo\\DNA\\AnalysisDeconvolveCG\\SegmentationDAPI_CG\\Conv_zscan__1059--H1_B1_2_3--CYTO_segm.npz\n"
     ]
    },
    {
     "name": "stderr",
     "output_type": "stream",
     "text": [
      "\n",
      "  0%|                                                                                           | 0/25 [00:00<?, ?it/s]\u001b[A\n",
      "  4%|███▎                                                                               | 1/25 [00:00<00:08,  2.72it/s]\u001b[A\n",
      "  8%|██████▋                                                                            | 2/25 [00:00<00:08,  2.60it/s]\u001b[A\n",
      " 12%|█████████▉                                                                         | 3/25 [00:00<00:06,  3.21it/s]\u001b[A\n",
      " 16%|█████████████▎                                                                     | 4/25 [00:01<00:05,  3.98it/s]\u001b[A\n",
      " 24%|███████████████████▉                                                               | 6/25 [00:01<00:03,  6.09it/s]\u001b[A\n",
      " 28%|███████████████████████▏                                                           | 7/25 [00:01<00:02,  6.26it/s]\u001b[A\n",
      " 32%|██████████████████████████▌                                                        | 8/25 [00:01<00:02,  6.31it/s]\u001b[A\n",
      " 36%|█████████████████████████████▉                                                     | 9/25 [00:01<00:02,  6.53it/s]\u001b[A\n",
      " 44%|████████████████████████████████████                                              | 11/25 [00:01<00:01,  8.12it/s]\u001b[A\n",
      " 48%|███████████████████████████████████████▎                                          | 12/25 [00:02<00:01,  7.74it/s]\u001b[A\n",
      " 52%|██████████████████████████████████████████▋                                       | 13/25 [00:02<00:01,  7.50it/s]\u001b[A\n",
      " 56%|█████████████████████████████████████████████▉                                    | 14/25 [00:02<00:01,  7.51it/s]\u001b[A\n",
      " 64%|████████████████████████████████████████████████████▍                             | 16/25 [00:02<00:00,  9.23it/s]\u001b[A\n",
      " 68%|███████████████████████████████████████████████████████▊                          | 17/25 [00:02<00:00,  8.80it/s]\u001b[A\n",
      " 72%|███████████████████████████████████████████████████████████                       | 18/25 [00:02<00:00,  8.45it/s]\u001b[A\n",
      "100%|██████████████████████████████████████████████████████████████████████████████████| 25/25 [00:02<00:00,  8.35it/s]\u001b[A\n",
      " 67%|█████████████████████████████████████████████████████▌                          | 134/200 [28:47<16:02, 14.58s/it]"
     ]
    },
    {
     "name": "stdout",
     "output_type": "stream",
     "text": [
      "Working on : \\\\merfish9.ucsd.edu\\volume1\\20230908_D106Luo\\DNA\\AnalysisDeconvolveCG\\SegmentationDAPI_CG\\Conv_zscan__1060--H1_B1_2_3--CYTO_segm.npz\n"
     ]
    },
    {
     "name": "stderr",
     "output_type": "stream",
     "text": [
      "\n",
      "  0%|                                                                                           | 0/25 [00:00<?, ?it/s]\u001b[A\n",
      "  4%|███▎                                                                               | 1/25 [00:00<00:09,  2.45it/s]\u001b[A\n",
      "  8%|██████▋                                                                            | 2/25 [00:00<00:06,  3.34it/s]\u001b[A\n",
      " 12%|█████████▉                                                                         | 3/25 [00:00<00:05,  3.94it/s]\u001b[A\n",
      " 16%|█████████████▎                                                                     | 4/25 [00:00<00:04,  4.77it/s]\u001b[A\n",
      " 24%|███████████████████▉                                                               | 6/25 [00:01<00:02,  6.94it/s]\u001b[A\n",
      " 28%|███████████████████████▏                                                           | 7/25 [00:01<00:02,  6.82it/s]\u001b[A\n",
      " 32%|██████████████████████████▌                                                        | 8/25 [00:01<00:02,  6.69it/s]\u001b[A\n",
      " 36%|█████████████████████████████▉                                                     | 9/25 [00:01<00:02,  6.88it/s]\u001b[A\n",
      " 44%|████████████████████████████████████                                              | 11/25 [00:01<00:01,  8.48it/s]\u001b[A\n",
      " 48%|███████████████████████████████████████▎                                          | 12/25 [00:01<00:01,  8.00it/s]\u001b[A\n",
      " 52%|██████████████████████████████████████████▋                                       | 13/25 [00:02<00:01,  7.70it/s]\u001b[A\n",
      " 56%|█████████████████████████████████████████████▉                                    | 14/25 [00:02<00:01,  7.65it/s]\u001b[A\n",
      " 64%|████████████████████████████████████████████████████▍                             | 16/25 [00:02<00:00,  9.31it/s]\u001b[A\n",
      " 68%|███████████████████████████████████████████████████████▊                          | 17/25 [00:02<00:00,  8.89it/s]\u001b[A\n",
      " 72%|███████████████████████████████████████████████████████████                       | 18/25 [00:02<00:00,  8.55it/s]\u001b[A\n",
      " 76%|██████████████████████████████████████████████████████████████▎                   | 19/25 [00:02<00:00,  8.55it/s]\u001b[A\n",
      "100%|██████████████████████████████████████████████████████████████████████████████████| 25/25 [00:02<00:00,  8.86it/s]\u001b[A\n",
      " 68%|██████████████████████████████████████████████████████                          | 135/200 [29:01<15:30, 14.32s/it]"
     ]
    },
    {
     "name": "stdout",
     "output_type": "stream",
     "text": [
      "Working on : \\\\merfish9.ucsd.edu\\volume1\\20230908_D106Luo\\DNA\\AnalysisDeconvolveCG\\SegmentationDAPI_CG\\Conv_zscan__1061--H1_B1_2_3--CYTO_segm.npz\n"
     ]
    },
    {
     "name": "stderr",
     "output_type": "stream",
     "text": [
      "\n",
      "  0%|                                                                                           | 0/25 [00:00<?, ?it/s]\u001b[A\n",
      "  4%|███▎                                                                               | 1/25 [00:00<00:12,  1.97it/s]\u001b[A\n",
      "  8%|██████▋                                                                            | 2/25 [00:00<00:06,  3.29it/s]\u001b[A\n",
      " 12%|█████████▉                                                                         | 3/25 [00:00<00:05,  4.20it/s]\u001b[A\n",
      " 16%|█████████████▎                                                                     | 4/25 [00:00<00:04,  5.02it/s]\u001b[A\n",
      " 24%|███████████████████▉                                                               | 6/25 [00:01<00:02,  7.18it/s]\u001b[A\n",
      " 28%|███████████████████████▏                                                           | 7/25 [00:01<00:02,  6.95it/s]\u001b[A\n",
      " 32%|██████████████████████████▌                                                        | 8/25 [00:01<00:02,  6.75it/s]\u001b[A\n",
      " 36%|█████████████████████████████▉                                                     | 9/25 [00:01<00:02,  6.90it/s]\u001b[A\n",
      " 44%|████████████████████████████████████                                              | 11/25 [00:01<00:01,  8.53it/s]\u001b[A\n",
      " 48%|███████████████████████████████████████▎                                          | 12/25 [00:01<00:01,  8.02it/s]\u001b[A\n",
      " 52%|██████████████████████████████████████████▋                                       | 13/25 [00:02<00:01,  7.63it/s]\u001b[A\n",
      " 56%|█████████████████████████████████████████████▉                                    | 14/25 [00:02<00:01,  7.60it/s]\u001b[A\n",
      " 64%|████████████████████████████████████████████████████▍                             | 16/25 [00:02<00:00,  9.37it/s]\u001b[A\n",
      " 68%|███████████████████████████████████████████████████████▊                          | 17/25 [00:02<00:00,  8.89it/s]\u001b[A\n",
      " 72%|███████████████████████████████████████████████████████████                       | 18/25 [00:02<00:00,  8.52it/s]\u001b[A\n",
      "100%|██████████████████████████████████████████████████████████████████████████████████| 25/25 [00:02<00:00,  8.88it/s]\u001b[A\n",
      " 68%|██████████████████████████████████████████████████████▍                         | 136/200 [29:15<15:10, 14.23s/it]"
     ]
    },
    {
     "name": "stdout",
     "output_type": "stream",
     "text": [
      "Working on : \\\\merfish9.ucsd.edu\\volume1\\20230908_D106Luo\\DNA\\AnalysisDeconvolveCG\\SegmentationDAPI_CG\\Conv_zscan__1062--H1_B1_2_3--CYTO_segm.npz\n"
     ]
    },
    {
     "name": "stderr",
     "output_type": "stream",
     "text": [
      "\n",
      "  0%|                                                                                           | 0/25 [00:00<?, ?it/s]\u001b[A\n",
      "  4%|███▎                                                                               | 1/25 [00:00<00:09,  2.42it/s]\u001b[A\n",
      "  8%|██████▋                                                                            | 2/25 [00:00<00:06,  3.82it/s]\u001b[A\n",
      " 12%|█████████▉                                                                         | 3/25 [00:00<00:04,  4.76it/s]\u001b[A\n",
      " 16%|█████████████▎                                                                     | 4/25 [00:00<00:03,  5.47it/s]\u001b[A\n",
      " 24%|███████████████████▉                                                               | 6/25 [00:01<00:02,  7.51it/s]\u001b[A\n",
      " 28%|███████████████████████▏                                                           | 7/25 [00:01<00:02,  7.16it/s]\u001b[A\n",
      " 32%|██████████████████████████▌                                                        | 8/25 [00:01<00:02,  6.94it/s]\u001b[A\n",
      " 36%|█████████████████████████████▉                                                     | 9/25 [00:01<00:02,  7.07it/s]\u001b[A\n",
      " 44%|████████████████████████████████████                                              | 11/25 [00:01<00:01,  8.59it/s]\u001b[A\n",
      " 48%|███████████████████████████████████████▎                                          | 12/25 [00:01<00:01,  8.01it/s]\u001b[A\n",
      " 52%|██████████████████████████████████████████▋                                       | 13/25 [00:01<00:01,  7.66it/s]\u001b[A\n",
      " 56%|█████████████████████████████████████████████▉                                    | 14/25 [00:02<00:01,  7.62it/s]\u001b[A\n",
      " 64%|████████████████████████████████████████████████████▍                             | 16/25 [00:02<00:00,  9.33it/s]\u001b[A\n",
      " 68%|███████████████████████████████████████████████████████▊                          | 17/25 [00:02<00:00,  8.86it/s]\u001b[A\n",
      " 72%|███████████████████████████████████████████████████████████                       | 18/25 [00:02<00:00,  8.53it/s]\u001b[A\n",
      "100%|██████████████████████████████████████████████████████████████████████████████████| 25/25 [00:02<00:00,  9.21it/s]\u001b[A\n",
      " 68%|██████████████████████████████████████████████████████▊                         | 137/200 [29:25<13:36, 12.95s/it]"
     ]
    },
    {
     "name": "stdout",
     "output_type": "stream",
     "text": [
      "Working on : \\\\merfish9.ucsd.edu\\volume1\\20230908_D106Luo\\DNA\\AnalysisDeconvolveCG\\SegmentationDAPI_CG\\Conv_zscan__1063--H1_B1_2_3--CYTO_segm.npz\n"
     ]
    },
    {
     "name": "stderr",
     "output_type": "stream",
     "text": [
      "\n",
      "  0%|                                                                                           | 0/25 [00:00<?, ?it/s]\u001b[A\n",
      "  4%|███▎                                                                               | 1/25 [00:00<00:10,  2.29it/s]\u001b[A\n",
      "  8%|██████▋                                                                            | 2/25 [00:00<00:06,  3.41it/s]\u001b[A\n",
      " 12%|█████████▉                                                                         | 3/25 [00:00<00:05,  4.02it/s]\u001b[A\n",
      " 16%|█████████████▎                                                                     | 4/25 [00:01<00:04,  4.28it/s]\u001b[A\n",
      " 24%|███████████████████▉                                                               | 6/25 [00:01<00:02,  6.39it/s]\u001b[A\n",
      " 28%|███████████████████████▏                                                           | 7/25 [00:01<00:02,  6.40it/s]\u001b[A\n",
      " 32%|██████████████████████████▌                                                        | 8/25 [00:01<00:02,  6.45it/s]\u001b[A\n",
      " 36%|█████████████████████████████▉                                                     | 9/25 [00:01<00:02,  6.68it/s]\u001b[A\n",
      " 44%|████████████████████████████████████                                              | 11/25 [00:01<00:01,  8.28it/s]\u001b[A\n",
      " 48%|███████████████████████████████████████▎                                          | 12/25 [00:01<00:01,  7.85it/s]\u001b[A\n",
      " 52%|██████████████████████████████████████████▋                                       | 13/25 [00:02<00:01,  7.57it/s]\u001b[A\n",
      " 56%|█████████████████████████████████████████████▉                                    | 14/25 [00:02<00:01,  7.54it/s]\u001b[A\n",
      " 64%|████████████████████████████████████████████████████▍                             | 16/25 [00:02<00:00,  9.24it/s]\u001b[A\n",
      " 68%|███████████████████████████████████████████████████████▊                          | 17/25 [00:02<00:00,  8.82it/s]\u001b[A\n",
      " 72%|███████████████████████████████████████████████████████████                       | 18/25 [00:02<00:00,  8.52it/s]\u001b[A\n",
      "100%|██████████████████████████████████████████████████████████████████████████████████| 25/25 [00:02<00:00,  8.68it/s]\u001b[A\n",
      " 69%|███████████████████████████████████████████████████████▏                        | 138/200 [29:34<12:15, 11.86s/it]"
     ]
    },
    {
     "name": "stdout",
     "output_type": "stream",
     "text": [
      "Working on : \\\\merfish9.ucsd.edu\\volume1\\20230908_D106Luo\\DNA\\AnalysisDeconvolveCG\\SegmentationDAPI_CG\\Conv_zscan__1064--H1_B1_2_3--CYTO_segm.npz\n"
     ]
    },
    {
     "name": "stderr",
     "output_type": "stream",
     "text": [
      "\n",
      "  0%|                                                                                           | 0/25 [00:00<?, ?it/s]\u001b[A\n",
      "  4%|███▎                                                                               | 1/25 [00:00<00:10,  2.19it/s]\u001b[A\n",
      "  8%|██████▋                                                                            | 2/25 [00:00<00:07,  3.18it/s]\u001b[A\n",
      " 12%|█████████▉                                                                         | 3/25 [00:00<00:05,  3.84it/s]\u001b[A\n",
      " 16%|█████████████▎                                                                     | 4/25 [00:01<00:04,  4.61it/s]\u001b[A\n",
      " 24%|███████████████████▉                                                               | 6/25 [00:01<00:02,  6.70it/s]\u001b[A\n",
      " 28%|███████████████████████▏                                                           | 7/25 [00:01<00:02,  6.61it/s]\u001b[A\n",
      " 32%|██████████████████████████▌                                                        | 8/25 [00:01<00:02,  6.56it/s]\u001b[A\n",
      " 36%|█████████████████████████████▉                                                     | 9/25 [00:01<00:02,  6.78it/s]\u001b[A\n",
      " 44%|████████████████████████████████████                                              | 11/25 [00:01<00:01,  8.35it/s]\u001b[A\n",
      " 48%|███████████████████████████████████████▎                                          | 12/25 [00:01<00:01,  7.91it/s]\u001b[A\n",
      " 52%|██████████████████████████████████████████▋                                       | 13/25 [00:02<00:01,  7.58it/s]\u001b[A\n",
      " 56%|█████████████████████████████████████████████▉                                    | 14/25 [00:02<00:01,  7.55it/s]\u001b[A\n",
      " 64%|████████████████████████████████████████████████████▍                             | 16/25 [00:02<00:00,  9.26it/s]\u001b[A\n",
      " 68%|███████████████████████████████████████████████████████▊                          | 17/25 [00:02<00:00,  8.87it/s]\u001b[A\n",
      " 72%|███████████████████████████████████████████████████████████                       | 18/25 [00:02<00:00,  8.50it/s]\u001b[A\n",
      "100%|██████████████████████████████████████████████████████████████████████████████████| 25/25 [00:02<00:00,  8.71it/s]\u001b[A\n",
      " 70%|███████████████████████████████████████████████████████▌                        | 139/200 [29:45<11:43, 11.53s/it]"
     ]
    },
    {
     "name": "stdout",
     "output_type": "stream",
     "text": [
      "Working on : \\\\merfish9.ucsd.edu\\volume1\\20230908_D106Luo\\DNA\\AnalysisDeconvolveCG\\SegmentationDAPI_CG\\Conv_zscan__1065--H1_B1_2_3--CYTO_segm.npz\n"
     ]
    },
    {
     "name": "stderr",
     "output_type": "stream",
     "text": [
      "\n",
      "  0%|                                                                                           | 0/25 [00:00<?, ?it/s]\u001b[A\n",
      "  4%|███▎                                                                               | 1/25 [00:00<00:08,  2.71it/s]\u001b[A\n",
      "  8%|██████▋                                                                            | 2/25 [00:00<00:07,  3.03it/s]\u001b[A\n",
      " 12%|█████████▉                                                                         | 3/25 [00:00<00:05,  3.83it/s]\u001b[A\n",
      " 16%|█████████████▎                                                                     | 4/25 [00:01<00:04,  4.38it/s]\u001b[A\n",
      " 24%|███████████████████▉                                                               | 6/25 [00:01<00:02,  6.42it/s]\u001b[A\n",
      " 28%|███████████████████████▏                                                           | 7/25 [00:01<00:02,  6.48it/s]\u001b[A\n",
      " 32%|██████████████████████████▌                                                        | 8/25 [00:01<00:02,  6.55it/s]\u001b[A\n",
      " 36%|█████████████████████████████▉                                                     | 9/25 [00:01<00:02,  6.85it/s]\u001b[A\n",
      " 44%|████████████████████████████████████                                              | 11/25 [00:01<00:01,  8.41it/s]\u001b[A\n",
      " 48%|███████████████████████████████████████▎                                          | 12/25 [00:01<00:01,  7.89it/s]\u001b[A\n",
      " 52%|██████████████████████████████████████████▋                                       | 13/25 [00:02<00:01,  7.53it/s]\u001b[A\n",
      " 56%|█████████████████████████████████████████████▉                                    | 14/25 [00:02<00:01,  7.51it/s]\u001b[A\n",
      " 64%|████████████████████████████████████████████████████▍                             | 16/25 [00:02<00:00,  9.22it/s]\u001b[A\n",
      " 68%|███████████████████████████████████████████████████████▊                          | 17/25 [00:02<00:00,  8.80it/s]\u001b[A\n",
      " 72%|███████████████████████████████████████████████████████████                       | 18/25 [00:02<00:00,  8.48it/s]\u001b[A\n",
      "100%|██████████████████████████████████████████████████████████████████████████████████| 25/25 [00:02<00:00,  8.66it/s]\u001b[A\n",
      " 70%|████████████████████████████████████████████████████████                        | 140/200 [29:54<10:58, 10.98s/it]"
     ]
    },
    {
     "name": "stdout",
     "output_type": "stream",
     "text": [
      "Working on : \\\\merfish9.ucsd.edu\\volume1\\20230908_D106Luo\\DNA\\AnalysisDeconvolveCG\\SegmentationDAPI_CG\\Conv_zscan__1066--H1_B1_2_3--CYTO_segm.npz\n"
     ]
    },
    {
     "name": "stderr",
     "output_type": "stream",
     "text": [
      "\n",
      "  0%|                                                                                           | 0/25 [00:00<?, ?it/s]\u001b[A\n",
      "  4%|███▎                                                                               | 1/25 [00:00<00:11,  2.02it/s]\u001b[A\n",
      "  8%|██████▋                                                                            | 2/25 [00:00<00:09,  2.42it/s]\u001b[A\n",
      " 12%|█████████▉                                                                         | 3/25 [00:01<00:06,  3.20it/s]\u001b[A\n",
      " 16%|█████████████▎                                                                     | 4/25 [00:01<00:05,  4.07it/s]\u001b[A\n",
      " 24%|███████████████████▉                                                               | 6/25 [00:01<00:03,  6.00it/s]\u001b[A\n",
      " 28%|███████████████████████▏                                                           | 7/25 [00:01<00:02,  6.08it/s]\u001b[A\n",
      " 32%|██████████████████████████▌                                                        | 8/25 [00:01<00:02,  6.16it/s]\u001b[A\n",
      " 36%|█████████████████████████████▉                                                     | 9/25 [00:01<00:02,  6.45it/s]\u001b[A\n",
      " 44%|████████████████████████████████████                                              | 11/25 [00:02<00:01,  8.01it/s]\u001b[A\n",
      " 48%|███████████████████████████████████████▎                                          | 12/25 [00:02<00:01,  7.66it/s]\u001b[A\n",
      " 52%|██████████████████████████████████████████▋                                       | 13/25 [00:02<00:01,  7.38it/s]\u001b[A\n",
      " 56%|█████████████████████████████████████████████▉                                    | 14/25 [00:02<00:01,  7.43it/s]\u001b[A\n",
      " 64%|████████████████████████████████████████████████████▍                             | 16/25 [00:02<00:00,  9.13it/s]\u001b[A\n",
      " 68%|███████████████████████████████████████████████████████▊                          | 17/25 [00:02<00:00,  8.78it/s]\u001b[A\n",
      " 72%|███████████████████████████████████████████████████████████                       | 18/25 [00:02<00:00,  8.46it/s]\u001b[A\n",
      " 76%|██████████████████████████████████████████████████████████████▎                   | 19/25 [00:02<00:00,  8.50it/s]\u001b[A\n",
      "100%|██████████████████████████████████████████████████████████████████████████████████| 25/25 [00:03<00:00,  8.12it/s]\u001b[A\n",
      " 70%|████████████████████████████████████████████████████████▍                       | 141/200 [30:08<11:32, 11.73s/it]"
     ]
    },
    {
     "name": "stdout",
     "output_type": "stream",
     "text": [
      "Working on : \\\\merfish9.ucsd.edu\\volume1\\20230908_D106Luo\\DNA\\AnalysisDeconvolveCG\\SegmentationDAPI_CG\\Conv_zscan__1067--H1_B1_2_3--CYTO_segm.npz\n"
     ]
    },
    {
     "name": "stderr",
     "output_type": "stream",
     "text": [
      "\n",
      "  0%|                                                                                           | 0/25 [00:00<?, ?it/s]\u001b[A\n",
      "  4%|███▎                                                                               | 1/25 [00:00<00:10,  2.35it/s]\u001b[A\n",
      "  8%|██████▋                                                                            | 2/25 [00:00<00:06,  3.51it/s]\u001b[A\n",
      " 12%|█████████▉                                                                         | 3/25 [00:00<00:04,  4.49it/s]\u001b[A\n",
      " 16%|█████████████▎                                                                     | 4/25 [00:00<00:04,  5.24it/s]\u001b[A\n",
      " 24%|███████████████████▉                                                               | 6/25 [00:01<00:02,  7.26it/s]\u001b[A\n",
      " 28%|███████████████████████▏                                                           | 7/25 [00:01<00:02,  7.01it/s]\u001b[A\n",
      " 32%|██████████████████████████▌                                                        | 8/25 [00:01<00:02,  6.85it/s]\u001b[A\n",
      " 36%|█████████████████████████████▉                                                     | 9/25 [00:01<00:02,  6.99it/s]\u001b[A\n",
      " 44%|████████████████████████████████████                                              | 11/25 [00:01<00:01,  8.59it/s]\u001b[A\n",
      " 48%|███████████████████████████████████████▎                                          | 12/25 [00:01<00:01,  8.09it/s]\u001b[A\n",
      " 52%|██████████████████████████████████████████▋                                       | 13/25 [00:01<00:01,  7.70it/s]\u001b[A\n",
      " 56%|█████████████████████████████████████████████▉                                    | 14/25 [00:02<00:01,  7.63it/s]\u001b[A\n",
      " 64%|████████████████████████████████████████████████████▍                             | 16/25 [00:02<00:00,  9.39it/s]\u001b[A\n",
      " 68%|███████████████████████████████████████████████████████▊                          | 17/25 [00:02<00:00,  8.91it/s]\u001b[A\n",
      " 72%|███████████████████████████████████████████████████████████                       | 18/25 [00:02<00:00,  8.57it/s]\u001b[A\n",
      "100%|██████████████████████████████████████████████████████████████████████████████████| 25/25 [00:02<00:00,  9.09it/s]\u001b[A\n",
      " 71%|████████████████████████████████████████████████████████▊                       | 142/200 [30:22<11:59, 12.40s/it]"
     ]
    },
    {
     "name": "stdout",
     "output_type": "stream",
     "text": [
      "Working on : \\\\merfish9.ucsd.edu\\volume1\\20230908_D106Luo\\DNA\\AnalysisDeconvolveCG\\SegmentationDAPI_CG\\Conv_zscan__1068--H1_B1_2_3--CYTO_segm.npz\n"
     ]
    },
    {
     "name": "stderr",
     "output_type": "stream",
     "text": [
      "\n",
      "  0%|                                                                                           | 0/25 [00:00<?, ?it/s]\u001b[A\n",
      "  4%|███▎                                                                               | 1/25 [00:00<00:09,  2.53it/s]\u001b[A\n",
      "  8%|██████▋                                                                            | 2/25 [00:00<00:06,  3.45it/s]\u001b[A\n",
      " 12%|█████████▉                                                                         | 3/25 [00:00<00:05,  4.19it/s]\u001b[A\n",
      " 16%|█████████████▎                                                                     | 4/25 [00:00<00:04,  5.01it/s]\u001b[A\n",
      " 24%|███████████████████▉                                                               | 6/25 [00:01<00:02,  7.03it/s]\u001b[A\n",
      " 28%|███████████████████████▏                                                           | 7/25 [00:01<00:02,  6.82it/s]\u001b[A\n",
      " 32%|██████████████████████████▌                                                        | 8/25 [00:01<00:02,  6.71it/s]\u001b[A\n",
      " 36%|█████████████████████████████▉                                                     | 9/25 [00:01<00:02,  6.88it/s]\u001b[A\n",
      " 44%|████████████████████████████████████                                              | 11/25 [00:01<00:01,  8.43it/s]\u001b[A\n",
      " 48%|███████████████████████████████████████▎                                          | 12/25 [00:01<00:01,  7.98it/s]\u001b[A\n",
      " 52%|██████████████████████████████████████████▋                                       | 13/25 [00:02<00:01,  7.61it/s]\u001b[A\n",
      " 56%|█████████████████████████████████████████████▉                                    | 14/25 [00:02<00:01,  7.62it/s]\u001b[A\n",
      " 64%|████████████████████████████████████████████████████▍                             | 16/25 [00:02<00:00,  9.33it/s]\u001b[A\n",
      " 68%|███████████████████████████████████████████████████████▊                          | 17/25 [00:02<00:00,  8.80it/s]\u001b[A\n",
      " 72%|███████████████████████████████████████████████████████████                       | 18/25 [00:02<00:00,  8.49it/s]\u001b[A\n",
      "100%|██████████████████████████████████████████████████████████████████████████████████| 25/25 [00:02<00:00,  8.96it/s]\u001b[A\n",
      " 72%|█████████████████████████████████████████████████████████▏                      | 143/200 [30:34<11:47, 12.41s/it]"
     ]
    },
    {
     "name": "stdout",
     "output_type": "stream",
     "text": [
      "Working on : \\\\merfish9.ucsd.edu\\volume1\\20230908_D106Luo\\DNA\\AnalysisDeconvolveCG\\SegmentationDAPI_CG\\Conv_zscan__1069--H1_B1_2_3--CYTO_segm.npz\n"
     ]
    },
    {
     "name": "stderr",
     "output_type": "stream",
     "text": [
      "\n",
      "  0%|                                                                                           | 0/25 [00:00<?, ?it/s]\u001b[A\n",
      "  4%|███▎                                                                               | 1/25 [00:00<00:12,  1.86it/s]\u001b[A\n",
      "  8%|██████▋                                                                            | 2/25 [00:00<00:10,  2.29it/s]\u001b[A\n",
      " 12%|█████████▉                                                                         | 3/25 [00:01<00:06,  3.27it/s]\u001b[A\n",
      " 16%|█████████████▎                                                                     | 4/25 [00:01<00:05,  4.11it/s]\u001b[A\n",
      " 24%|███████████████████▉                                                               | 6/25 [00:01<00:03,  6.30it/s]\u001b[A\n",
      " 28%|███████████████████████▏                                                           | 7/25 [00:01<00:02,  6.42it/s]\u001b[A\n",
      " 32%|██████████████████████████▌                                                        | 8/25 [00:01<00:02,  6.51it/s]\u001b[A\n",
      " 36%|█████████████████████████████▉                                                     | 9/25 [00:01<00:02,  6.77it/s]\u001b[A\n",
      " 44%|████████████████████████████████████                                              | 11/25 [00:01<00:01,  8.31it/s]\u001b[A\n",
      " 48%|███████████████████████████████████████▎                                          | 12/25 [00:02<00:01,  7.84it/s]\u001b[A\n",
      " 52%|██████████████████████████████████████████▋                                       | 13/25 [00:02<00:01,  7.25it/s]\u001b[A\n",
      " 56%|█████████████████████████████████████████████▉                                    | 14/25 [00:02<00:01,  7.32it/s]\u001b[A\n",
      " 64%|████████████████████████████████████████████████████▍                             | 16/25 [00:02<00:00,  9.09it/s]\u001b[A\n",
      " 68%|███████████████████████████████████████████████████████▊                          | 17/25 [00:02<00:00,  8.69it/s]\u001b[A\n",
      " 72%|███████████████████████████████████████████████████████████                       | 18/25 [00:02<00:00,  8.38it/s]\u001b[A\n",
      "100%|██████████████████████████████████████████████████████████████████████████████████| 25/25 [00:03<00:00,  8.19it/s]\u001b[A\n",
      " 72%|█████████████████████████████████████████████████████████▌                      | 144/200 [30:44<10:52, 11.64s/it]"
     ]
    },
    {
     "name": "stdout",
     "output_type": "stream",
     "text": [
      "Working on : \\\\merfish9.ucsd.edu\\volume1\\20230908_D106Luo\\DNA\\AnalysisDeconvolveCG\\SegmentationDAPI_CG\\Conv_zscan__1070--H1_B1_2_3--CYTO_segm.npz\n"
     ]
    },
    {
     "name": "stderr",
     "output_type": "stream",
     "text": [
      "\n",
      "  0%|                                                                                           | 0/25 [00:00<?, ?it/s]\u001b[A\n",
      "  4%|███▎                                                                               | 1/25 [00:00<00:12,  1.94it/s]\u001b[A\n",
      "  8%|██████▋                                                                            | 2/25 [00:00<00:10,  2.30it/s]\u001b[A\n",
      " 12%|█████████▉                                                                         | 3/25 [00:01<00:07,  2.95it/s]\u001b[A\n",
      " 16%|█████████████▎                                                                     | 4/25 [00:01<00:05,  3.75it/s]\u001b[A\n",
      " 24%|███████████████████▉                                                               | 6/25 [00:01<00:03,  5.80it/s]\u001b[A\n",
      " 28%|███████████████████████▏                                                           | 7/25 [00:01<00:03,  6.00it/s]\u001b[A\n",
      " 32%|██████████████████████████▌                                                        | 8/25 [00:01<00:02,  6.11it/s]\u001b[A\n",
      " 36%|█████████████████████████████▉                                                     | 9/25 [00:01<00:02,  6.38it/s]\u001b[A\n",
      " 44%|████████████████████████████████████                                              | 11/25 [00:02<00:01,  7.93it/s]\u001b[A\n",
      " 48%|███████████████████████████████████████▎                                          | 12/25 [00:02<00:01,  7.58it/s]\u001b[A\n",
      " 52%|██████████████████████████████████████████▋                                       | 13/25 [00:02<00:01,  7.36it/s]\u001b[A\n",
      " 56%|█████████████████████████████████████████████▉                                    | 14/25 [00:02<00:01,  7.42it/s]\u001b[A\n",
      " 64%|████████████████████████████████████████████████████▍                             | 16/25 [00:02<00:00,  9.12it/s]\u001b[A\n",
      " 68%|███████████████████████████████████████████████████████▊                          | 17/25 [00:02<00:00,  8.72it/s]\u001b[A\n",
      " 72%|███████████████████████████████████████████████████████████                       | 18/25 [00:02<00:00,  8.47it/s]\u001b[A\n",
      "100%|██████████████████████████████████████████████████████████████████████████████████| 25/25 [00:03<00:00,  7.98it/s]\u001b[A\n",
      " 72%|██████████████████████████████████████████████████████████                      | 145/200 [30:57<10:57, 11.95s/it]"
     ]
    },
    {
     "name": "stdout",
     "output_type": "stream",
     "text": [
      "Working on : \\\\merfish9.ucsd.edu\\volume1\\20230908_D106Luo\\DNA\\AnalysisDeconvolveCG\\SegmentationDAPI_CG\\Conv_zscan__1071--H1_B1_2_3--CYTO_segm.npz\n"
     ]
    },
    {
     "name": "stderr",
     "output_type": "stream",
     "text": [
      "\n",
      "  0%|                                                                                           | 0/25 [00:00<?, ?it/s]\u001b[A\n",
      "  4%|███▎                                                                               | 1/25 [00:00<00:09,  2.59it/s]\u001b[A\n",
      "  8%|██████▋                                                                            | 2/25 [00:00<00:06,  3.58it/s]\u001b[A\n",
      " 12%|█████████▉                                                                         | 3/25 [00:00<00:07,  3.13it/s]\u001b[A\n",
      " 16%|█████████████▎                                                                     | 4/25 [00:01<00:05,  3.98it/s]\u001b[A\n",
      " 24%|███████████████████▉                                                               | 6/25 [00:01<00:03,  6.01it/s]\u001b[A\n",
      " 28%|███████████████████████▏                                                           | 7/25 [00:01<00:02,  6.08it/s]\u001b[A\n",
      " 32%|██████████████████████████▌                                                        | 8/25 [00:01<00:02,  6.18it/s]\u001b[A\n",
      " 36%|█████████████████████████████▉                                                     | 9/25 [00:01<00:02,  6.43it/s]\u001b[A\n",
      " 44%|████████████████████████████████████                                              | 11/25 [00:01<00:01,  8.02it/s]\u001b[A\n",
      " 48%|███████████████████████████████████████▎                                          | 12/25 [00:02<00:01,  7.66it/s]\u001b[A\n",
      " 52%|██████████████████████████████████████████▋                                       | 13/25 [00:02<00:01,  7.38it/s]\u001b[A\n",
      " 56%|█████████████████████████████████████████████▉                                    | 14/25 [00:02<00:01,  7.38it/s]\u001b[A\n",
      " 64%|████████████████████████████████████████████████████▍                             | 16/25 [00:02<00:00,  9.13it/s]\u001b[A\n",
      " 68%|███████████████████████████████████████████████████████▊                          | 17/25 [00:02<00:00,  8.74it/s]\u001b[A\n",
      " 72%|███████████████████████████████████████████████████████████                       | 18/25 [00:02<00:00,  8.45it/s]\u001b[A\n",
      "100%|██████████████████████████████████████████████████████████████████████████████████| 25/25 [00:02<00:00,  8.40it/s]\u001b[A\n",
      " 73%|██████████████████████████████████████████████████████████▍                     | 146/200 [31:10<11:11, 12.44s/it]"
     ]
    },
    {
     "name": "stdout",
     "output_type": "stream",
     "text": [
      "Working on : \\\\merfish9.ucsd.edu\\volume1\\20230908_D106Luo\\DNA\\AnalysisDeconvolveCG\\SegmentationDAPI_CG\\Conv_zscan__1072--H1_B1_2_3--CYTO_segm.npz\n"
     ]
    },
    {
     "name": "stderr",
     "output_type": "stream",
     "text": [
      "\n",
      "  0%|                                                                                           | 0/25 [00:00<?, ?it/s]\u001b[A\n",
      "  4%|███▎                                                                               | 1/25 [00:00<00:08,  2.68it/s]\u001b[A\n",
      "  8%|██████▋                                                                            | 2/25 [00:00<00:06,  3.53it/s]\u001b[A\n",
      " 12%|█████████▉                                                                         | 3/25 [00:00<00:05,  4.09it/s]\u001b[A\n",
      " 16%|█████████████▎                                                                     | 4/25 [00:00<00:04,  4.87it/s]\u001b[A\n",
      " 24%|███████████████████▉                                                               | 6/25 [00:01<00:02,  7.04it/s]\u001b[A\n",
      " 28%|███████████████████████▏                                                           | 7/25 [00:01<00:02,  6.83it/s]\u001b[A\n",
      " 32%|██████████████████████████▌                                                        | 8/25 [00:01<00:02,  6.69it/s]\u001b[A\n",
      " 36%|█████████████████████████████▉                                                     | 9/25 [00:01<00:02,  6.88it/s]\u001b[A\n",
      " 44%|████████████████████████████████████                                              | 11/25 [00:01<00:01,  8.42it/s]\u001b[A\n",
      " 48%|███████████████████████████████████████▎                                          | 12/25 [00:01<00:01,  7.94it/s]\u001b[A\n",
      " 52%|██████████████████████████████████████████▋                                       | 13/25 [00:02<00:01,  7.60it/s]\u001b[A\n",
      " 56%|█████████████████████████████████████████████▉                                    | 14/25 [00:02<00:01,  7.59it/s]\u001b[A\n",
      " 64%|████████████████████████████████████████████████████▍                             | 16/25 [00:02<00:00,  9.30it/s]\u001b[A\n",
      " 68%|███████████████████████████████████████████████████████▊                          | 17/25 [00:02<00:00,  8.85it/s]\u001b[A\n",
      " 72%|███████████████████████████████████████████████████████████                       | 18/25 [00:02<00:00,  8.50it/s]\u001b[A\n",
      "100%|██████████████████████████████████████████████████████████████████████████████████| 25/25 [00:02<00:00,  8.97it/s]\u001b[A\n",
      " 74%|██████████████████████████████████████████████████████████▊                     | 147/200 [31:25<11:27, 12.97s/it]"
     ]
    },
    {
     "name": "stdout",
     "output_type": "stream",
     "text": [
      "Working on : \\\\merfish9.ucsd.edu\\volume1\\20230908_D106Luo\\DNA\\AnalysisDeconvolveCG\\SegmentationDAPI_CG\\Conv_zscan__1073--H1_B1_2_3--CYTO_segm.npz\n"
     ]
    },
    {
     "name": "stderr",
     "output_type": "stream",
     "text": [
      "\n",
      "  0%|                                                                                           | 0/25 [00:00<?, ?it/s]\u001b[A\n",
      "  4%|███▎                                                                               | 1/25 [00:00<00:12,  1.90it/s]\u001b[A\n",
      "  8%|██████▋                                                                            | 2/25 [00:00<00:07,  3.24it/s]\u001b[A\n",
      " 12%|█████████▉                                                                         | 3/25 [00:00<00:05,  4.20it/s]\u001b[A\n",
      " 16%|█████████████▎                                                                     | 4/25 [00:00<00:04,  5.07it/s]\u001b[A\n",
      " 24%|███████████████████▉                                                               | 6/25 [00:01<00:02,  7.26it/s]\u001b[A\n",
      " 28%|███████████████████████▏                                                           | 7/25 [00:01<00:02,  7.09it/s]\u001b[A\n",
      " 32%|██████████████████████████▌                                                        | 8/25 [00:01<00:02,  6.88it/s]\u001b[A\n",
      " 36%|█████████████████████████████▉                                                     | 9/25 [00:01<00:02,  6.98it/s]\u001b[A\n",
      " 44%|████████████████████████████████████                                              | 11/25 [00:01<00:01,  8.52it/s]\u001b[A\n",
      " 48%|███████████████████████████████████████▎                                          | 12/25 [00:01<00:01,  7.99it/s]\u001b[A\n",
      " 52%|██████████████████████████████████████████▋                                       | 13/25 [00:02<00:01,  7.60it/s]\u001b[A\n",
      " 56%|█████████████████████████████████████████████▉                                    | 14/25 [00:02<00:01,  7.55it/s]\u001b[A\n",
      " 64%|████████████████████████████████████████████████████▍                             | 16/25 [00:02<00:00,  9.32it/s]\u001b[A\n",
      " 68%|███████████████████████████████████████████████████████▊                          | 17/25 [00:02<00:00,  8.84it/s]\u001b[A\n",
      " 72%|███████████████████████████████████████████████████████████                       | 18/25 [00:02<00:00,  8.54it/s]\u001b[A\n",
      "100%|██████████████████████████████████████████████████████████████████████████████████| 25/25 [00:02<00:00,  8.88it/s]\u001b[A\n",
      " 74%|███████████████████████████████████████████████████████████▏                    | 148/200 [31:39<11:43, 13.53s/it]"
     ]
    },
    {
     "name": "stdout",
     "output_type": "stream",
     "text": [
      "Working on : \\\\merfish9.ucsd.edu\\volume1\\20230908_D106Luo\\DNA\\AnalysisDeconvolveCG\\SegmentationDAPI_CG\\Conv_zscan__1074--H1_B1_2_3--CYTO_segm.npz\n"
     ]
    },
    {
     "name": "stderr",
     "output_type": "stream",
     "text": [
      "\n",
      "  0%|                                                                                           | 0/25 [00:00<?, ?it/s]\u001b[A\n",
      "  4%|███▎                                                                               | 1/25 [00:00<00:11,  2.02it/s]\u001b[A\n",
      "  8%|██████▋                                                                            | 2/25 [00:00<00:07,  2.95it/s]\u001b[A\n",
      " 12%|█████████▉                                                                         | 3/25 [00:01<00:07,  2.87it/s]\u001b[A\n",
      " 16%|█████████████▎                                                                     | 4/25 [00:01<00:05,  3.81it/s]\u001b[A\n",
      " 24%|███████████████████▉                                                               | 6/25 [00:01<00:03,  5.83it/s]\u001b[A\n",
      " 28%|███████████████████████▏                                                           | 7/25 [00:01<00:03,  5.95it/s]\u001b[A\n",
      " 32%|██████████████████████████▌                                                        | 8/25 [00:01<00:02,  6.04it/s]\u001b[A\n",
      " 36%|█████████████████████████████▉                                                     | 9/25 [00:01<00:02,  6.31it/s]\u001b[A\n",
      " 44%|████████████████████████████████████                                              | 11/25 [00:02<00:01,  7.89it/s]\u001b[A\n",
      " 48%|███████████████████████████████████████▎                                          | 12/25 [00:02<00:01,  7.55it/s]\u001b[A\n",
      " 52%|██████████████████████████████████████████▋                                       | 13/25 [00:02<00:01,  7.33it/s]\u001b[A\n",
      " 56%|█████████████████████████████████████████████▉                                    | 14/25 [00:02<00:01,  7.39it/s]\u001b[A\n",
      " 64%|████████████████████████████████████████████████████▍                             | 16/25 [00:02<00:00,  9.15it/s]\u001b[A\n",
      " 68%|███████████████████████████████████████████████████████▊                          | 17/25 [00:02<00:00,  8.74it/s]\u001b[A\n",
      " 72%|███████████████████████████████████████████████████████████                       | 18/25 [00:02<00:00,  8.40it/s]\u001b[A\n",
      "100%|██████████████████████████████████████████████████████████████████████████████████| 25/25 [00:03<00:00,  8.08it/s]\u001b[A\n",
      " 74%|███████████████████████████████████████████████████████████▌                    | 149/200 [31:54<11:47, 13.88s/it]"
     ]
    },
    {
     "name": "stdout",
     "output_type": "stream",
     "text": [
      "Working on : \\\\merfish9.ucsd.edu\\volume1\\20230908_D106Luo\\DNA\\AnalysisDeconvolveCG\\SegmentationDAPI_CG\\Conv_zscan__1075--H1_B1_2_3--CYTO_segm.npz\n"
     ]
    },
    {
     "name": "stderr",
     "output_type": "stream",
     "text": [
      "\n",
      "  0%|                                                                                           | 0/25 [00:00<?, ?it/s]\u001b[A\n",
      "  4%|███▎                                                                               | 1/25 [00:00<00:12,  1.96it/s]\u001b[A\n",
      "  8%|██████▋                                                                            | 2/25 [00:00<00:09,  2.42it/s]\u001b[A\n",
      " 12%|█████████▉                                                                         | 3/25 [00:01<00:06,  3.40it/s]\u001b[A\n",
      " 16%|█████████████▎                                                                     | 4/25 [00:01<00:04,  4.26it/s]\u001b[A\n",
      " 24%|███████████████████▉                                                               | 6/25 [00:01<00:02,  6.36it/s]\u001b[A\n",
      " 28%|███████████████████████▏                                                           | 7/25 [00:01<00:02,  6.36it/s]\u001b[A\n",
      " 32%|██████████████████████████▌                                                        | 8/25 [00:01<00:02,  6.38it/s]\u001b[A\n",
      " 36%|█████████████████████████████▉                                                     | 9/25 [00:01<00:02,  6.59it/s]\u001b[A\n",
      " 44%|████████████████████████████████████                                              | 11/25 [00:01<00:01,  8.19it/s]\u001b[A\n",
      " 48%|███████████████████████████████████████▎                                          | 12/25 [00:02<00:01,  7.80it/s]\u001b[A\n",
      " 52%|██████████████████████████████████████████▋                                       | 13/25 [00:02<00:01,  7.52it/s]\u001b[A\n",
      " 56%|█████████████████████████████████████████████▉                                    | 14/25 [00:02<00:01,  7.53it/s]\u001b[A\n",
      " 64%|████████████████████████████████████████████████████▍                             | 16/25 [00:02<00:00,  9.23it/s]\u001b[A\n",
      " 68%|███████████████████████████████████████████████████████▊                          | 17/25 [00:02<00:00,  8.78it/s]\u001b[A\n",
      " 72%|███████████████████████████████████████████████████████████                       | 18/25 [00:02<00:00,  8.44it/s]\u001b[A\n",
      "100%|██████████████████████████████████████████████████████████████████████████████████| 25/25 [00:03<00:00,  8.31it/s]\u001b[A\n",
      " 75%|████████████████████████████████████████████████████████████                    | 150/200 [32:09<11:46, 14.13s/it]"
     ]
    },
    {
     "name": "stdout",
     "output_type": "stream",
     "text": [
      "Working on : \\\\merfish9.ucsd.edu\\volume1\\20230908_D106Luo\\DNA\\AnalysisDeconvolveCG\\SegmentationDAPI_CG\\Conv_zscan__1076--H1_B1_2_3--CYTO_segm.npz\n"
     ]
    },
    {
     "name": "stderr",
     "output_type": "stream",
     "text": [
      "\n",
      "  0%|                                                                                           | 0/25 [00:00<?, ?it/s]\u001b[A\n",
      "  4%|███▎                                                                               | 1/25 [00:00<00:12,  1.88it/s]\u001b[A\n",
      "  8%|██████▋                                                                            | 2/25 [00:00<00:06,  3.30it/s]\u001b[A\n",
      " 12%|█████████▉                                                                         | 3/25 [00:01<00:08,  2.74it/s]\u001b[A\n",
      " 16%|█████████████▎                                                                     | 4/25 [00:01<00:05,  3.67it/s]\u001b[A\n",
      " 24%|███████████████████▉                                                               | 6/25 [00:01<00:03,  5.76it/s]\u001b[A\n",
      " 28%|███████████████████████▏                                                           | 7/25 [00:01<00:02,  6.01it/s]\u001b[A\n",
      " 32%|██████████████████████████▌                                                        | 8/25 [00:01<00:02,  6.21it/s]\u001b[A\n",
      " 36%|█████████████████████████████▉                                                     | 9/25 [00:01<00:02,  6.52it/s]\u001b[A\n",
      " 44%|████████████████████████████████████                                              | 11/25 [00:02<00:01,  8.09it/s]\u001b[A\n",
      " 48%|███████████████████████████████████████▎                                          | 12/25 [00:02<00:01,  7.69it/s]\u001b[A\n",
      " 52%|██████████████████████████████████████████▋                                       | 13/25 [00:02<00:01,  7.42it/s]\u001b[A\n",
      " 56%|█████████████████████████████████████████████▉                                    | 14/25 [00:02<00:01,  7.45it/s]\u001b[A\n",
      " 64%|████████████████████████████████████████████████████▍                             | 16/25 [00:02<00:00,  9.22it/s]\u001b[A\n",
      " 68%|███████████████████████████████████████████████████████▊                          | 17/25 [00:02<00:00,  8.77it/s]\u001b[A\n",
      " 72%|███████████████████████████████████████████████████████████                       | 18/25 [00:02<00:00,  8.47it/s]\u001b[A\n",
      "100%|██████████████████████████████████████████████████████████████████████████████████| 25/25 [00:03<00:00,  8.13it/s]\u001b[A\n",
      " 76%|████████████████████████████████████████████████████████████▍                   | 151/200 [32:23<11:39, 14.28s/it]"
     ]
    },
    {
     "name": "stdout",
     "output_type": "stream",
     "text": [
      "Working on : \\\\merfish9.ucsd.edu\\volume1\\20230908_D106Luo\\DNA\\AnalysisDeconvolveCG\\SegmentationDAPI_CG\\Conv_zscan__1077--H1_B1_2_3--CYTO_segm.npz\n"
     ]
    },
    {
     "name": "stderr",
     "output_type": "stream",
     "text": [
      "\n",
      "  0%|                                                                                           | 0/25 [00:00<?, ?it/s]\u001b[A\n",
      "  4%|███▎                                                                               | 1/25 [00:00<00:10,  2.26it/s]\u001b[A\n",
      "  8%|██████▋                                                                            | 2/25 [00:00<00:06,  3.53it/s]\u001b[A\n",
      " 12%|█████████▉                                                                         | 3/25 [00:00<00:05,  4.37it/s]\u001b[A\n",
      " 16%|█████████████▎                                                                     | 4/25 [00:00<00:04,  5.06it/s]\u001b[A\n",
      " 24%|███████████████████▉                                                               | 6/25 [00:01<00:02,  7.15it/s]\u001b[A\n",
      " 28%|███████████████████████▏                                                           | 7/25 [00:01<00:02,  6.94it/s]\u001b[A\n",
      " 32%|██████████████████████████▌                                                        | 8/25 [00:01<00:02,  6.77it/s]\u001b[A\n",
      " 36%|█████████████████████████████▉                                                     | 9/25 [00:01<00:02,  6.92it/s]\u001b[A\n",
      " 44%|████████████████████████████████████                                              | 11/25 [00:01<00:01,  8.54it/s]\u001b[A\n",
      " 48%|███████████████████████████████████████▎                                          | 12/25 [00:01<00:01,  8.06it/s]\u001b[A\n",
      " 52%|██████████████████████████████████████████▋                                       | 13/25 [00:02<00:01,  7.65it/s]\u001b[A\n",
      " 56%|█████████████████████████████████████████████▉                                    | 14/25 [00:02<00:01,  7.63it/s]\u001b[A\n",
      " 64%|████████████████████████████████████████████████████▍                             | 16/25 [00:02<00:00,  9.39it/s]\u001b[A\n",
      " 68%|███████████████████████████████████████████████████████▊                          | 17/25 [00:02<00:00,  8.89it/s]\u001b[A\n",
      " 72%|███████████████████████████████████████████████████████████                       | 18/25 [00:02<00:00,  8.55it/s]\u001b[A\n",
      "100%|██████████████████████████████████████████████████████████████████████████████████| 25/25 [00:02<00:00,  9.02it/s]\u001b[A\n",
      " 76%|████████████████████████████████████████████████████████████▊                   | 152/200 [32:39<11:43, 14.65s/it]"
     ]
    },
    {
     "name": "stdout",
     "output_type": "stream",
     "text": [
      "Working on : \\\\merfish9.ucsd.edu\\volume1\\20230908_D106Luo\\DNA\\AnalysisDeconvolveCG\\SegmentationDAPI_CG\\Conv_zscan__1078--H1_B1_2_3--CYTO_segm.npz\n"
     ]
    },
    {
     "name": "stderr",
     "output_type": "stream",
     "text": [
      "\n",
      "  0%|                                                                                           | 0/25 [00:00<?, ?it/s]\u001b[A\n",
      "  4%|███▎                                                                               | 1/25 [00:00<00:08,  2.84it/s]\u001b[A\n",
      "  8%|██████▋                                                                            | 2/25 [00:00<00:07,  2.95it/s]\u001b[A\n",
      " 12%|█████████▉                                                                         | 3/25 [00:00<00:05,  3.92it/s]\u001b[A\n",
      " 16%|█████████████▎                                                                     | 4/25 [00:00<00:04,  4.78it/s]\u001b[A\n",
      " 24%|███████████████████▉                                                               | 6/25 [00:01<00:02,  7.00it/s]\u001b[A\n",
      " 28%|███████████████████████▏                                                           | 7/25 [00:01<00:02,  6.93it/s]\u001b[A\n",
      " 32%|██████████████████████████▌                                                        | 8/25 [00:01<00:02,  6.88it/s]\u001b[A\n",
      " 36%|█████████████████████████████▉                                                     | 9/25 [00:01<00:02,  6.95it/s]\u001b[A\n",
      " 44%|████████████████████████████████████                                              | 11/25 [00:01<00:01,  8.41it/s]\u001b[A\n",
      " 48%|███████████████████████████████████████▎                                          | 12/25 [00:01<00:01,  7.88it/s]\u001b[A\n",
      " 52%|██████████████████████████████████████████▋                                       | 13/25 [00:02<00:01,  7.57it/s]\u001b[A\n",
      " 56%|█████████████████████████████████████████████▉                                    | 14/25 [00:02<00:01,  7.60it/s]\u001b[A\n",
      " 64%|████████████████████████████████████████████████████▍                             | 16/25 [00:02<00:00,  9.33it/s]\u001b[A\n",
      " 68%|███████████████████████████████████████████████████████▊                          | 17/25 [00:02<00:00,  8.86it/s]\u001b[A\n",
      " 72%|███████████████████████████████████████████████████████████                       | 18/25 [00:02<00:00,  8.52it/s]\u001b[A\n",
      "100%|██████████████████████████████████████████████████████████████████████████████████| 25/25 [00:02<00:00,  8.88it/s]\u001b[A\n",
      " 76%|█████████████████████████████████████████████████████████████▏                  | 153/200 [32:49<10:30, 13.41s/it]"
     ]
    },
    {
     "name": "stdout",
     "output_type": "stream",
     "text": [
      "Working on : \\\\merfish9.ucsd.edu\\volume1\\20230908_D106Luo\\DNA\\AnalysisDeconvolveCG\\SegmentationDAPI_CG\\Conv_zscan__1079--H1_B1_2_3--CYTO_segm.npz\n"
     ]
    },
    {
     "name": "stderr",
     "output_type": "stream",
     "text": [
      "\n",
      "  0%|                                                                                           | 0/25 [00:00<?, ?it/s]\u001b[A\n",
      "  4%|███▎                                                                               | 1/25 [00:00<00:12,  1.96it/s]\u001b[A\n",
      "  8%|██████▋                                                                            | 2/25 [00:00<00:09,  2.39it/s]\u001b[A\n",
      " 12%|█████████▉                                                                         | 3/25 [00:01<00:07,  3.07it/s]\u001b[A\n",
      " 16%|█████████████▎                                                                     | 4/25 [00:01<00:05,  3.73it/s]\u001b[A\n",
      " 24%|███████████████████▉                                                               | 6/25 [00:01<00:03,  5.69it/s]\u001b[A\n",
      " 28%|███████████████████████▏                                                           | 7/25 [00:01<00:03,  5.95it/s]\u001b[A\n",
      " 32%|██████████████████████████▌                                                        | 8/25 [00:01<00:02,  6.04it/s]\u001b[A\n",
      " 36%|█████████████████████████████▉                                                     | 9/25 [00:01<00:02,  6.34it/s]\u001b[A\n",
      " 44%|████████████████████████████████████                                              | 11/25 [00:02<00:01,  7.94it/s]\u001b[A\n",
      " 48%|███████████████████████████████████████▎                                          | 12/25 [00:02<00:01,  7.62it/s]\u001b[A\n",
      " 52%|██████████████████████████████████████████▋                                       | 13/25 [00:02<00:01,  7.42it/s]\u001b[A\n",
      " 56%|█████████████████████████████████████████████▉                                    | 14/25 [00:02<00:01,  7.44it/s]\u001b[A\n",
      " 64%|████████████████████████████████████████████████████▍                             | 16/25 [00:02<00:00,  9.21it/s]\u001b[A\n",
      " 68%|███████████████████████████████████████████████████████▊                          | 17/25 [00:02<00:00,  8.78it/s]\u001b[A\n",
      " 72%|███████████████████████████████████████████████████████████                       | 18/25 [00:02<00:00,  8.48it/s]\u001b[A\n",
      "100%|██████████████████████████████████████████████████████████████████████████████████| 25/25 [00:03<00:00,  8.02it/s]\u001b[A\n",
      " 77%|█████████████████████████████████████████████████████████████▌                  | 154/200 [33:00<09:38, 12.58s/it]"
     ]
    },
    {
     "name": "stdout",
     "output_type": "stream",
     "text": [
      "Working on : \\\\merfish9.ucsd.edu\\volume1\\20230908_D106Luo\\DNA\\AnalysisDeconvolveCG\\SegmentationDAPI_CG\\Conv_zscan__1080--H1_B1_2_3--CYTO_segm.npz\n"
     ]
    },
    {
     "name": "stderr",
     "output_type": "stream",
     "text": [
      "\n",
      "  0%|                                                                                           | 0/25 [00:00<?, ?it/s]\u001b[A\n",
      "  4%|███▎                                                                               | 1/25 [00:00<00:09,  2.54it/s]\u001b[A\n",
      "  8%|██████▋                                                                            | 2/25 [00:00<00:06,  3.60it/s]\u001b[A\n",
      " 12%|█████████▉                                                                         | 3/25 [00:00<00:04,  4.55it/s]\u001b[A\n",
      " 16%|█████████████▎                                                                     | 4/25 [00:00<00:04,  5.23it/s]\u001b[A\n",
      " 24%|███████████████████▉                                                               | 6/25 [00:01<00:02,  7.34it/s]\u001b[A\n",
      " 28%|███████████████████████▏                                                           | 7/25 [00:01<00:02,  6.99it/s]\u001b[A\n",
      " 32%|██████████████████████████▌                                                        | 8/25 [00:01<00:02,  6.81it/s]\u001b[A\n",
      " 36%|█████████████████████████████▉                                                     | 9/25 [00:01<00:02,  6.97it/s]\u001b[A\n",
      " 44%|████████████████████████████████████                                              | 11/25 [00:01<00:01,  8.60it/s]\u001b[A\n",
      " 48%|███████████████████████████████████████▎                                          | 12/25 [00:01<00:01,  8.03it/s]\u001b[A\n",
      " 52%|██████████████████████████████████████████▋                                       | 13/25 [00:01<00:01,  7.68it/s]\u001b[A\n",
      " 56%|█████████████████████████████████████████████▉                                    | 14/25 [00:02<00:01,  7.63it/s]\u001b[A\n",
      " 64%|████████████████████████████████████████████████████▍                             | 16/25 [00:02<00:00,  9.38it/s]\u001b[A\n",
      " 68%|███████████████████████████████████████████████████████▊                          | 17/25 [00:02<00:00,  8.89it/s]\u001b[A\n",
      " 72%|███████████████████████████████████████████████████████████                       | 18/25 [00:02<00:00,  8.50it/s]\u001b[A\n",
      "100%|██████████████████████████████████████████████████████████████████████████████████| 25/25 [00:02<00:00,  9.12it/s]\u001b[A\n",
      " 78%|██████████████████████████████████████████████████████████████                  | 155/200 [33:10<08:55, 11.90s/it]"
     ]
    },
    {
     "name": "stdout",
     "output_type": "stream",
     "text": [
      "Working on : \\\\merfish9.ucsd.edu\\volume1\\20230908_D106Luo\\DNA\\AnalysisDeconvolveCG\\SegmentationDAPI_CG\\Conv_zscan__1081--H1_B1_2_3--CYTO_segm.npz\n"
     ]
    },
    {
     "name": "stderr",
     "output_type": "stream",
     "text": [
      "\n",
      "  0%|                                                                                           | 0/25 [00:00<?, ?it/s]\u001b[A\n",
      "  4%|███▎                                                                               | 1/25 [00:00<00:10,  2.33it/s]\u001b[A\n",
      "  8%|██████▋                                                                            | 2/25 [00:00<00:05,  3.87it/s]\u001b[A\n",
      " 12%|█████████▉                                                                         | 3/25 [00:00<00:07,  2.98it/s]\u001b[A\n",
      " 16%|█████████████▎                                                                     | 4/25 [00:01<00:05,  3.88it/s]\u001b[A\n",
      " 24%|███████████████████▉                                                               | 6/25 [00:01<00:03,  6.02it/s]\u001b[A\n",
      " 28%|███████████████████████▏                                                           | 7/25 [00:01<00:02,  6.22it/s]\u001b[A\n",
      " 32%|██████████████████████████▌                                                        | 8/25 [00:01<00:02,  6.36it/s]\u001b[A\n",
      " 36%|█████████████████████████████▉                                                     | 9/25 [00:01<00:02,  6.64it/s]\u001b[A\n",
      " 44%|████████████████████████████████████                                              | 11/25 [00:01<00:01,  8.13it/s]\u001b[A\n",
      " 48%|███████████████████████████████████████▎                                          | 12/25 [00:02<00:01,  7.66it/s]\u001b[A\n",
      " 52%|██████████████████████████████████████████▋                                       | 13/25 [00:02<00:01,  7.38it/s]\u001b[A\n",
      " 56%|█████████████████████████████████████████████▉                                    | 14/25 [00:02<00:01,  7.46it/s]\u001b[A\n",
      " 64%|████████████████████████████████████████████████████▍                             | 16/25 [00:02<00:00,  9.21it/s]\u001b[A\n",
      " 68%|███████████████████████████████████████████████████████▊                          | 17/25 [00:02<00:00,  8.78it/s]\u001b[A\n",
      " 72%|███████████████████████████████████████████████████████████                       | 18/25 [00:02<00:00,  8.46it/s]\u001b[A\n",
      "100%|██████████████████████████████████████████████████████████████████████████████████| 25/25 [00:02<00:00,  8.41it/s]\u001b[A\n",
      " 78%|██████████████████████████████████████████████████████████████▍                 | 156/200 [33:21<08:26, 11.51s/it]"
     ]
    },
    {
     "name": "stdout",
     "output_type": "stream",
     "text": [
      "Working on : \\\\merfish9.ucsd.edu\\volume1\\20230908_D106Luo\\DNA\\AnalysisDeconvolveCG\\SegmentationDAPI_CG\\Conv_zscan__1082--H1_B1_2_3--CYTO_segm.npz\n"
     ]
    },
    {
     "name": "stderr",
     "output_type": "stream",
     "text": [
      "\n",
      "  0%|                                                                                           | 0/25 [00:00<?, ?it/s]\u001b[A\n",
      "  4%|███▎                                                                               | 1/25 [00:00<00:12,  1.90it/s]\u001b[A\n",
      "  8%|██████▋                                                                            | 2/25 [00:00<00:07,  3.18it/s]\u001b[A\n",
      " 12%|█████████▉                                                                         | 3/25 [00:00<00:06,  3.58it/s]\u001b[A\n",
      " 16%|█████████████▎                                                                     | 4/25 [00:01<00:04,  4.47it/s]\u001b[A\n",
      " 24%|███████████████████▉                                                               | 6/25 [00:01<00:02,  6.58it/s]\u001b[A\n",
      " 28%|███████████████████████▏                                                           | 7/25 [00:01<00:02,  6.51it/s]\u001b[A\n",
      " 32%|██████████████████████████▌                                                        | 8/25 [00:01<00:02,  6.49it/s]\u001b[A\n",
      " 36%|█████████████████████████████▉                                                     | 9/25 [00:01<00:02,  6.75it/s]\u001b[A\n",
      " 44%|████████████████████████████████████                                              | 11/25 [00:01<00:01,  8.34it/s]\u001b[A\n",
      " 48%|███████████████████████████████████████▎                                          | 12/25 [00:02<00:01,  7.87it/s]\u001b[A\n",
      " 52%|██████████████████████████████████████████▋                                       | 13/25 [00:02<00:01,  7.54it/s]\u001b[A\n",
      " 56%|█████████████████████████████████████████████▉                                    | 14/25 [00:02<00:01,  7.53it/s]\u001b[A\n",
      " 64%|████████████████████████████████████████████████████▍                             | 16/25 [00:02<00:00,  9.25it/s]\u001b[A\n",
      " 68%|███████████████████████████████████████████████████████▊                          | 17/25 [00:02<00:00,  8.83it/s]\u001b[A\n",
      " 72%|███████████████████████████████████████████████████████████                       | 18/25 [00:02<00:00,  8.24it/s]\u001b[A\n",
      "100%|██████████████████████████████████████████████████████████████████████████████████| 25/25 [00:02<00:00,  8.52it/s]\u001b[A\n",
      " 78%|██████████████████████████████████████████████████████████████▊                 | 157/200 [33:32<08:11, 11.42s/it]"
     ]
    },
    {
     "name": "stdout",
     "output_type": "stream",
     "text": [
      "Working on : \\\\merfish9.ucsd.edu\\volume1\\20230908_D106Luo\\DNA\\AnalysisDeconvolveCG\\SegmentationDAPI_CG\\Conv_zscan__1083--H1_B1_2_3--CYTO_segm.npz\n"
     ]
    },
    {
     "name": "stderr",
     "output_type": "stream",
     "text": [
      "\n",
      "  0%|                                                                                           | 0/25 [00:00<?, ?it/s]\u001b[A\n",
      "  4%|███▎                                                                               | 1/25 [00:00<00:11,  2.10it/s]\u001b[A\n",
      "  8%|██████▋                                                                            | 2/25 [00:00<00:06,  3.52it/s]\u001b[A\n",
      " 12%|█████████▉                                                                         | 3/25 [00:00<00:05,  4.38it/s]\u001b[A\n",
      " 16%|█████████████▎                                                                     | 4/25 [00:00<00:04,  5.17it/s]\u001b[A\n",
      " 24%|███████████████████▉                                                               | 6/25 [00:01<00:02,  7.20it/s]\u001b[A\n",
      " 28%|███████████████████████▏                                                           | 7/25 [00:01<00:02,  6.91it/s]\u001b[A\n",
      " 32%|██████████████████████████▌                                                        | 8/25 [00:01<00:02,  6.80it/s]\u001b[A\n",
      " 36%|█████████████████████████████▉                                                     | 9/25 [00:01<00:02,  7.01it/s]\u001b[A\n",
      " 44%|████████████████████████████████████                                              | 11/25 [00:01<00:01,  8.55it/s]\u001b[A\n",
      " 48%|███████████████████████████████████████▎                                          | 12/25 [00:01<00:01,  8.03it/s]\u001b[A\n",
      " 52%|██████████████████████████████████████████▋                                       | 13/25 [00:02<00:01,  7.63it/s]\u001b[A\n",
      " 56%|█████████████████████████████████████████████▉                                    | 14/25 [00:02<00:01,  7.66it/s]\u001b[A\n",
      " 64%|████████████████████████████████████████████████████▍                             | 16/25 [00:02<00:00,  9.34it/s]\u001b[A\n",
      " 68%|███████████████████████████████████████████████████████▊                          | 17/25 [00:02<00:00,  8.82it/s]\u001b[A\n",
      " 72%|███████████████████████████████████████████████████████████                       | 18/25 [00:02<00:00,  8.45it/s]\u001b[A\n",
      "100%|██████████████████████████████████████████████████████████████████████████████████| 25/25 [00:02<00:00,  8.98it/s]\u001b[A\n",
      " 79%|███████████████████████████████████████████████████████████████▏                | 158/200 [33:42<07:40, 10.97s/it]"
     ]
    },
    {
     "name": "stdout",
     "output_type": "stream",
     "text": [
      "Working on : \\\\merfish9.ucsd.edu\\volume1\\20230908_D106Luo\\DNA\\AnalysisDeconvolveCG\\SegmentationDAPI_CG\\Conv_zscan__1084--H1_B1_2_3--CYTO_segm.npz\n"
     ]
    },
    {
     "name": "stderr",
     "output_type": "stream",
     "text": [
      "\n",
      "  0%|                                                                                           | 0/25 [00:00<?, ?it/s]\u001b[A\n",
      "  4%|███▎                                                                               | 1/25 [00:00<00:11,  2.04it/s]\u001b[A\n",
      "  8%|██████▋                                                                            | 2/25 [00:00<00:06,  3.45it/s]\u001b[A\n",
      " 12%|█████████▉                                                                         | 3/25 [00:00<00:06,  3.57it/s]\u001b[A\n",
      " 16%|█████████████▎                                                                     | 4/25 [00:01<00:04,  4.36it/s]\u001b[A\n",
      " 24%|███████████████████▉                                                               | 6/25 [00:01<00:02,  6.42it/s]\u001b[A\n",
      " 28%|███████████████████████▏                                                           | 7/25 [00:01<00:02,  6.40it/s]\u001b[A\n",
      " 32%|██████████████████████████▌                                                        | 8/25 [00:01<00:02,  6.45it/s]\u001b[A\n",
      " 36%|█████████████████████████████▉                                                     | 9/25 [00:01<00:02,  6.70it/s]\u001b[A\n",
      " 44%|████████████████████████████████████                                              | 11/25 [00:01<00:01,  8.31it/s]\u001b[A\n",
      " 48%|███████████████████████████████████████▎                                          | 12/25 [00:02<00:01,  7.84it/s]\u001b[A\n",
      " 52%|██████████████████████████████████████████▋                                       | 13/25 [00:02<00:01,  7.59it/s]\u001b[A\n",
      " 56%|█████████████████████████████████████████████▉                                    | 14/25 [00:02<00:01,  7.54it/s]\u001b[A\n",
      " 64%|████████████████████████████████████████████████████▍                             | 16/25 [00:02<00:00,  9.24it/s]\u001b[A\n",
      " 68%|███████████████████████████████████████████████████████▊                          | 17/25 [00:02<00:00,  8.82it/s]\u001b[A\n",
      " 72%|███████████████████████████████████████████████████████████                       | 18/25 [00:02<00:00,  8.50it/s]\u001b[A\n",
      "100%|██████████████████████████████████████████████████████████████████████████████████| 25/25 [00:02<00:00,  8.59it/s]\u001b[A\n",
      " 80%|███████████████████████████████████████████████████████████████▌                | 159/200 [33:52<07:20, 10.74s/it]"
     ]
    },
    {
     "name": "stdout",
     "output_type": "stream",
     "text": [
      "Working on : \\\\merfish9.ucsd.edu\\volume1\\20230908_D106Luo\\DNA\\AnalysisDeconvolveCG\\SegmentationDAPI_CG\\Conv_zscan__1085--H1_B1_2_3--CYTO_segm.npz\n"
     ]
    },
    {
     "name": "stderr",
     "output_type": "stream",
     "text": [
      "\n",
      "  0%|                                                                                           | 0/25 [00:00<?, ?it/s]\u001b[A\n",
      "  4%|███▎                                                                               | 1/25 [00:00<00:12,  1.90it/s]\u001b[A\n",
      "  8%|██████▋                                                                            | 2/25 [00:00<00:06,  3.30it/s]\u001b[A\n",
      " 12%|█████████▉                                                                         | 3/25 [00:00<00:05,  4.28it/s]\u001b[A\n",
      " 16%|█████████████▎                                                                     | 4/25 [00:00<00:04,  5.17it/s]\u001b[A\n",
      " 24%|███████████████████▉                                                               | 6/25 [00:01<00:02,  7.37it/s]\u001b[A\n",
      " 28%|███████████████████████▏                                                           | 7/25 [00:01<00:02,  7.16it/s]\u001b[A\n",
      " 32%|██████████████████████████▌                                                        | 8/25 [00:01<00:02,  6.93it/s]\u001b[A\n",
      " 36%|█████████████████████████████▉                                                     | 9/25 [00:01<00:02,  7.01it/s]\u001b[A\n",
      " 44%|████████████████████████████████████                                              | 11/25 [00:01<00:01,  8.55it/s]\u001b[A\n",
      " 48%|███████████████████████████████████████▎                                          | 12/25 [00:01<00:01,  8.02it/s]\u001b[A\n",
      " 52%|██████████████████████████████████████████▋                                       | 13/25 [00:02<00:01,  7.63it/s]\u001b[A\n",
      " 56%|█████████████████████████████████████████████▉                                    | 14/25 [00:02<00:01,  7.62it/s]\u001b[A\n",
      " 64%|████████████████████████████████████████████████████▍                             | 16/25 [00:02<00:00,  9.29it/s]\u001b[A\n",
      " 68%|███████████████████████████████████████████████████████▊                          | 17/25 [00:02<00:00,  8.85it/s]\u001b[A\n",
      " 72%|███████████████████████████████████████████████████████████                       | 18/25 [00:02<00:00,  8.51it/s]\u001b[A\n",
      " 76%|██████████████████████████████████████████████████████████████▎                   | 19/25 [00:02<00:00,  8.52it/s]\u001b[A\n",
      "100%|██████████████████████████████████████████████████████████████████████████████████| 25/25 [00:02<00:00,  8.91it/s]\u001b[A\n",
      " 80%|████████████████████████████████████████████████████████████████                | 160/200 [34:03<07:09, 10.73s/it]"
     ]
    },
    {
     "name": "stdout",
     "output_type": "stream",
     "text": [
      "Working on : \\\\merfish9.ucsd.edu\\volume1\\20230908_D106Luo\\DNA\\AnalysisDeconvolveCG\\SegmentationDAPI_CG\\Conv_zscan__1086--H1_B1_2_3--CYTO_segm.npz\n"
     ]
    },
    {
     "name": "stderr",
     "output_type": "stream",
     "text": [
      "\n",
      "  0%|                                                                                           | 0/25 [00:00<?, ?it/s]\u001b[A\n",
      "  4%|███▎                                                                               | 1/25 [00:00<00:12,  1.90it/s]\u001b[A\n",
      "  8%|██████▋                                                                            | 2/25 [00:00<00:07,  3.05it/s]\u001b[A\n",
      " 12%|█████████▉                                                                         | 3/25 [00:00<00:05,  4.06it/s]\u001b[A\n",
      " 16%|█████████████▎                                                                     | 4/25 [00:01<00:04,  4.90it/s]\u001b[A\n",
      " 24%|███████████████████▉                                                               | 6/25 [00:01<00:02,  6.96it/s]\u001b[A\n",
      " 28%|███████████████████████▏                                                           | 7/25 [00:01<00:02,  6.83it/s]\u001b[A\n",
      " 32%|██████████████████████████▌                                                        | 8/25 [00:01<00:02,  6.69it/s]\u001b[A\n",
      " 36%|█████████████████████████████▉                                                     | 9/25 [00:01<00:02,  6.87it/s]\u001b[A\n",
      " 44%|████████████████████████████████████                                              | 11/25 [00:01<00:01,  8.45it/s]\u001b[A\n",
      " 48%|███████████████████████████████████████▎                                          | 12/25 [00:01<00:01,  7.97it/s]\u001b[A\n",
      " 52%|██████████████████████████████████████████▋                                       | 13/25 [00:02<00:01,  7.63it/s]\u001b[A\n",
      " 56%|█████████████████████████████████████████████▉                                    | 14/25 [00:02<00:01,  7.57it/s]\u001b[A\n",
      " 64%|████████████████████████████████████████████████████▍                             | 16/25 [00:02<00:00,  9.28it/s]\u001b[A\n",
      " 68%|███████████████████████████████████████████████████████▊                          | 17/25 [00:02<00:00,  8.83it/s]\u001b[A\n",
      " 72%|███████████████████████████████████████████████████████████                       | 18/25 [00:02<00:00,  8.51it/s]\u001b[A\n",
      "100%|██████████████████████████████████████████████████████████████████████████████████| 25/25 [00:02<00:00,  8.74it/s]\u001b[A\n",
      " 80%|████████████████████████████████████████████████████████████████▍               | 161/200 [34:13<06:54, 10.63s/it]"
     ]
    },
    {
     "name": "stdout",
     "output_type": "stream",
     "text": [
      "Working on : \\\\merfish9.ucsd.edu\\volume1\\20230908_D106Luo\\DNA\\AnalysisDeconvolveCG\\SegmentationDAPI_CG\\Conv_zscan__1087--H1_B1_2_3--CYTO_segm.npz\n"
     ]
    },
    {
     "name": "stderr",
     "output_type": "stream",
     "text": [
      "\n",
      "  0%|                                                                                           | 0/25 [00:00<?, ?it/s]\u001b[A\n",
      "  4%|███▎                                                                               | 1/25 [00:00<00:09,  2.59it/s]\u001b[A\n",
      "  8%|██████▋                                                                            | 2/25 [00:00<00:08,  2.64it/s]\u001b[A\n",
      " 12%|█████████▉                                                                         | 3/25 [00:00<00:06,  3.62it/s]\u001b[A\n",
      " 16%|█████████████▎                                                                     | 4/25 [00:01<00:04,  4.36it/s]\u001b[A\n",
      " 24%|███████████████████▉                                                               | 6/25 [00:01<00:02,  6.53it/s]\u001b[A\n",
      " 28%|███████████████████████▏                                                           | 7/25 [00:01<00:02,  6.48it/s]\u001b[A\n",
      " 32%|██████████████████████████▌                                                        | 8/25 [00:01<00:02,  6.46it/s]\u001b[A\n",
      " 36%|█████████████████████████████▉                                                     | 9/25 [00:01<00:02,  6.64it/s]\u001b[A\n",
      " 44%|████████████████████████████████████                                              | 11/25 [00:01<00:01,  8.22it/s]\u001b[A\n",
      " 48%|███████████████████████████████████████▎                                          | 12/25 [00:02<00:01,  7.82it/s]\u001b[A\n",
      " 52%|██████████████████████████████████████████▋                                       | 13/25 [00:02<00:01,  7.55it/s]\u001b[A\n",
      " 56%|█████████████████████████████████████████████▉                                    | 14/25 [00:02<00:01,  7.52it/s]\u001b[A\n",
      " 64%|████████████████████████████████████████████████████▍                             | 16/25 [00:02<00:00,  9.25it/s]\u001b[A\n",
      " 68%|███████████████████████████████████████████████████████▊                          | 17/25 [00:02<00:00,  8.82it/s]\u001b[A\n",
      " 72%|███████████████████████████████████████████████████████████                       | 18/25 [00:02<00:00,  8.49it/s]\u001b[A\n",
      "100%|██████████████████████████████████████████████████████████████████████████████████| 25/25 [00:02<00:00,  8.56it/s]\u001b[A\n",
      " 81%|████████████████████████████████████████████████████████████████▊               | 162/200 [34:24<06:41, 10.57s/it]"
     ]
    },
    {
     "name": "stdout",
     "output_type": "stream",
     "text": [
      "Working on : \\\\merfish9.ucsd.edu\\volume1\\20230908_D106Luo\\DNA\\AnalysisDeconvolveCG\\SegmentationDAPI_CG\\Conv_zscan__1088--H1_B1_2_3--CYTO_segm.npz\n"
     ]
    },
    {
     "name": "stderr",
     "output_type": "stream",
     "text": [
      "\n",
      "  0%|                                                                                           | 0/25 [00:00<?, ?it/s]\u001b[A\n",
      "  4%|███▎                                                                               | 1/25 [00:00<00:12,  1.99it/s]\u001b[A\n",
      "  8%|██████▋                                                                            | 2/25 [00:00<00:07,  3.09it/s]\u001b[A\n",
      " 12%|█████████▉                                                                         | 3/25 [00:00<00:05,  4.04it/s]\u001b[A\n",
      " 16%|█████████████▎                                                                     | 4/25 [00:00<00:04,  4.97it/s]\u001b[A\n",
      " 24%|███████████████████▉                                                               | 6/25 [00:01<00:02,  7.04it/s]\u001b[A\n",
      " 28%|███████████████████████▏                                                           | 7/25 [00:01<00:02,  6.82it/s]\u001b[A\n",
      " 32%|██████████████████████████▌                                                        | 8/25 [00:01<00:02,  6.71it/s]\u001b[A\n",
      " 36%|█████████████████████████████▉                                                     | 9/25 [00:01<00:02,  6.84it/s]\u001b[A\n",
      " 44%|████████████████████████████████████                                              | 11/25 [00:01<00:01,  8.43it/s]\u001b[A\n",
      " 48%|███████████████████████████████████████▎                                          | 12/25 [00:01<00:01,  7.95it/s]\u001b[A\n",
      " 52%|██████████████████████████████████████████▋                                       | 13/25 [00:02<00:01,  7.63it/s]\u001b[A\n",
      " 56%|█████████████████████████████████████████████▉                                    | 14/25 [00:02<00:01,  7.33it/s]\u001b[A\n",
      " 64%|████████████████████████████████████████████████████▍                             | 16/25 [00:02<00:00,  9.10it/s]\u001b[A\n",
      " 68%|███████████████████████████████████████████████████████▊                          | 17/25 [00:02<00:00,  8.70it/s]\u001b[A\n",
      " 72%|███████████████████████████████████████████████████████████                       | 18/25 [00:02<00:00,  8.44it/s]\u001b[A\n",
      "100%|██████████████████████████████████████████████████████████████████████████████████| 25/25 [00:02<00:00,  8.74it/s]\u001b[A\n",
      " 82%|█████████████████████████████████████████████████████████████████▏              | 163/200 [34:35<06:32, 10.60s/it]"
     ]
    },
    {
     "name": "stdout",
     "output_type": "stream",
     "text": [
      "Working on : \\\\merfish9.ucsd.edu\\volume1\\20230908_D106Luo\\DNA\\AnalysisDeconvolveCG\\SegmentationDAPI_CG\\Conv_zscan__1089--H1_B1_2_3--CYTO_segm.npz\n"
     ]
    },
    {
     "name": "stderr",
     "output_type": "stream",
     "text": [
      "\n",
      "  0%|                                                                                           | 0/25 [00:00<?, ?it/s]\u001b[A\n",
      "  4%|███▎                                                                               | 1/25 [00:00<00:09,  2.49it/s]\u001b[A\n",
      "  8%|██████▋                                                                            | 2/25 [00:00<00:05,  3.90it/s]\u001b[A\n",
      " 12%|█████████▉                                                                         | 3/25 [00:00<00:04,  4.72it/s]\u001b[A\n",
      " 16%|█████████████▎                                                                     | 4/25 [00:00<00:03,  5.44it/s]\u001b[A\n",
      " 24%|███████████████████▉                                                               | 6/25 [00:01<00:02,  7.47it/s]\u001b[A\n",
      " 28%|███████████████████████▏                                                           | 7/25 [00:01<00:02,  7.15it/s]\u001b[A\n",
      " 32%|██████████████████████████▌                                                        | 8/25 [00:01<00:02,  6.92it/s]\u001b[A\n",
      " 36%|█████████████████████████████▉                                                     | 9/25 [00:01<00:02,  7.03it/s]\u001b[A\n",
      " 44%|████████████████████████████████████                                              | 11/25 [00:01<00:01,  8.57it/s]\u001b[A\n",
      " 48%|███████████████████████████████████████▎                                          | 12/25 [00:01<00:01,  8.03it/s]\u001b[A\n",
      " 52%|██████████████████████████████████████████▋                                       | 13/25 [00:01<00:01,  7.64it/s]\u001b[A\n",
      " 56%|█████████████████████████████████████████████▉                                    | 14/25 [00:02<00:01,  7.59it/s]\u001b[A\n",
      " 64%|████████████████████████████████████████████████████▍                             | 16/25 [00:02<00:00,  9.44it/s]\u001b[A\n",
      " 68%|███████████████████████████████████████████████████████▊                          | 17/25 [00:02<00:00,  8.94it/s]\u001b[A\n",
      " 72%|███████████████████████████████████████████████████████████                       | 18/25 [00:02<00:00,  8.59it/s]\u001b[A\n",
      "100%|██████████████████████████████████████████████████████████████████████████████████| 25/25 [00:02<00:00,  9.24it/s]\u001b[A\n",
      " 82%|█████████████████████████████████████████████████████████████████▌              | 164/200 [34:45<06:16, 10.46s/it]"
     ]
    },
    {
     "name": "stdout",
     "output_type": "stream",
     "text": [
      "Working on : \\\\merfish9.ucsd.edu\\volume1\\20230908_D106Luo\\DNA\\AnalysisDeconvolveCG\\SegmentationDAPI_CG\\Conv_zscan__1090--H1_B1_2_3--CYTO_segm.npz\n"
     ]
    },
    {
     "name": "stderr",
     "output_type": "stream",
     "text": [
      "\n",
      "  0%|                                                                                           | 0/25 [00:00<?, ?it/s]\u001b[A\n",
      "  4%|███▎                                                                               | 1/25 [00:00<00:08,  2.70it/s]\u001b[A\n",
      "  8%|██████▋                                                                            | 2/25 [00:00<00:05,  4.17it/s]\u001b[A\n",
      " 12%|█████████▉                                                                         | 3/25 [00:00<00:04,  4.95it/s]\u001b[A\n",
      " 16%|█████████████▎                                                                     | 4/25 [00:00<00:03,  5.61it/s]\u001b[A\n",
      " 24%|███████████████████▉                                                               | 6/25 [00:00<00:02,  7.63it/s]\u001b[A\n",
      " 28%|███████████████████████▏                                                           | 7/25 [00:01<00:02,  7.27it/s]\u001b[A\n",
      " 32%|██████████████████████████▌                                                        | 8/25 [00:01<00:02,  7.05it/s]\u001b[A\n",
      " 36%|█████████████████████████████▉                                                     | 9/25 [00:01<00:02,  7.16it/s]\u001b[A\n",
      " 44%|████████████████████████████████████                                              | 11/25 [00:01<00:01,  8.66it/s]\u001b[A\n",
      " 48%|███████████████████████████████████████▎                                          | 12/25 [00:01<00:01,  8.12it/s]\u001b[A\n",
      " 52%|██████████████████████████████████████████▋                                       | 13/25 [00:01<00:01,  7.73it/s]\u001b[A\n",
      " 56%|█████████████████████████████████████████████▉                                    | 14/25 [00:02<00:01,  7.66it/s]\u001b[A\n",
      " 64%|████████████████████████████████████████████████████▍                             | 16/25 [00:02<00:00,  9.38it/s]\u001b[A\n",
      " 68%|███████████████████████████████████████████████████████▊                          | 17/25 [00:02<00:00,  8.90it/s]\u001b[A\n",
      " 72%|███████████████████████████████████████████████████████████                       | 18/25 [00:02<00:00,  8.54it/s]\u001b[A\n",
      "100%|██████████████████████████████████████████████████████████████████████████████████| 25/25 [00:02<00:00,  9.38it/s]\u001b[A\n",
      " 82%|██████████████████████████████████████████████████████████████████              | 165/200 [34:55<06:04, 10.42s/it]"
     ]
    },
    {
     "name": "stdout",
     "output_type": "stream",
     "text": [
      "Working on : \\\\merfish9.ucsd.edu\\volume1\\20230908_D106Luo\\DNA\\AnalysisDeconvolveCG\\SegmentationDAPI_CG\\Conv_zscan__1091--H1_B1_2_3--CYTO_segm.npz\n"
     ]
    },
    {
     "name": "stderr",
     "output_type": "stream",
     "text": [
      "\n",
      "  0%|                                                                                           | 0/25 [00:00<?, ?it/s]\u001b[A\n",
      "  4%|███▎                                                                               | 1/25 [00:00<00:12,  1.91it/s]\u001b[A\n",
      "  8%|██████▋                                                                            | 2/25 [00:00<00:07,  3.01it/s]\u001b[A\n",
      " 12%|█████████▉                                                                         | 3/25 [00:00<00:06,  3.53it/s]\u001b[A\n",
      " 16%|█████████████▎                                                                     | 4/25 [00:01<00:04,  4.41it/s]\u001b[A\n",
      " 24%|███████████████████▉                                                               | 6/25 [00:01<00:02,  6.55it/s]\u001b[A\n",
      " 28%|███████████████████████▏                                                           | 7/25 [00:01<00:02,  6.49it/s]\u001b[A\n",
      " 32%|██████████████████████████▌                                                        | 8/25 [00:01<00:02,  6.52it/s]\u001b[A\n",
      " 36%|█████████████████████████████▉                                                     | 9/25 [00:01<00:02,  6.78it/s]\u001b[A\n",
      " 44%|████████████████████████████████████                                              | 11/25 [00:01<00:01,  8.38it/s]\u001b[A\n",
      " 48%|███████████████████████████████████████▎                                          | 12/25 [00:02<00:01,  7.95it/s]\u001b[A\n",
      " 52%|██████████████████████████████████████████▋                                       | 13/25 [00:02<00:01,  7.60it/s]\u001b[A\n",
      " 56%|█████████████████████████████████████████████▉                                    | 14/25 [00:02<00:01,  7.63it/s]\u001b[A\n",
      " 64%|████████████████████████████████████████████████████▍                             | 16/25 [00:02<00:00,  9.31it/s]\u001b[A\n",
      " 68%|███████████████████████████████████████████████████████▊                          | 17/25 [00:02<00:00,  8.89it/s]\u001b[A\n",
      " 72%|███████████████████████████████████████████████████████████                       | 18/25 [00:02<00:00,  8.52it/s]\u001b[A\n",
      "100%|██████████████████████████████████████████████████████████████████████████████████| 25/25 [00:02<00:00,  8.55it/s]\u001b[A\n",
      " 83%|██████████████████████████████████████████████████████████████████▍             | 166/200 [35:06<05:58, 10.56s/it]"
     ]
    },
    {
     "name": "stdout",
     "output_type": "stream",
     "text": [
      "Working on : \\\\merfish9.ucsd.edu\\volume1\\20230908_D106Luo\\DNA\\AnalysisDeconvolveCG\\SegmentationDAPI_CG\\Conv_zscan__1092--H1_B1_2_3--CYTO_segm.npz\n"
     ]
    },
    {
     "name": "stderr",
     "output_type": "stream",
     "text": [
      "\n",
      "  0%|                                                                                           | 0/25 [00:00<?, ?it/s]\u001b[A\n",
      "  4%|███▎                                                                               | 1/25 [00:00<00:11,  2.06it/s]\u001b[A\n",
      "  8%|██████▋                                                                            | 2/25 [00:00<00:06,  3.53it/s]\u001b[A\n",
      " 12%|█████████▉                                                                         | 3/25 [00:01<00:07,  2.89it/s]\u001b[A\n",
      " 16%|█████████████▎                                                                     | 4/25 [00:01<00:05,  3.66it/s]\u001b[A\n",
      " 24%|███████████████████▉                                                               | 6/25 [00:01<00:03,  5.64it/s]\u001b[A\n",
      " 28%|███████████████████████▏                                                           | 7/25 [00:01<00:03,  5.95it/s]\u001b[A\n",
      " 32%|██████████████████████████▌                                                        | 8/25 [00:01<00:02,  6.15it/s]\u001b[A\n",
      " 36%|█████████████████████████████▉                                                     | 9/25 [00:01<00:02,  6.56it/s]\u001b[A\n",
      " 44%|████████████████████████████████████                                              | 11/25 [00:01<00:01,  8.04it/s]\u001b[A\n",
      " 48%|███████████████████████████████████████▎                                          | 12/25 [00:02<00:01,  7.62it/s]\u001b[A\n",
      " 52%|██████████████████████████████████████████▋                                       | 13/25 [00:02<00:01,  7.36it/s]\u001b[A\n",
      " 56%|█████████████████████████████████████████████▉                                    | 14/25 [00:02<00:01,  7.40it/s]\u001b[A\n",
      " 64%|████████████████████████████████████████████████████▍                             | 16/25 [00:02<00:00,  9.16it/s]\u001b[A\n",
      " 68%|███████████████████████████████████████████████████████▊                          | 17/25 [00:02<00:00,  8.78it/s]\u001b[A\n",
      " 72%|███████████████████████████████████████████████████████████                       | 18/25 [00:02<00:00,  8.48it/s]\u001b[A\n",
      "100%|██████████████████████████████████████████████████████████████████████████████████| 25/25 [00:03<00:00,  8.19it/s]\u001b[A\n",
      " 84%|██████████████████████████████████████████████████████████████████▊             | 167/200 [35:17<05:50, 10.62s/it]"
     ]
    },
    {
     "name": "stdout",
     "output_type": "stream",
     "text": [
      "Working on : \\\\merfish9.ucsd.edu\\volume1\\20230908_D106Luo\\DNA\\AnalysisDeconvolveCG\\SegmentationDAPI_CG\\Conv_zscan__1093--H1_B1_2_3--CYTO_segm.npz\n"
     ]
    },
    {
     "name": "stderr",
     "output_type": "stream",
     "text": [
      "\n",
      "  0%|                                                                                           | 0/25 [00:00<?, ?it/s]\u001b[A\n",
      "  4%|███▎                                                                               | 1/25 [00:00<00:12,  1.94it/s]\u001b[A\n",
      "  8%|██████▋                                                                            | 2/25 [00:00<00:07,  2.94it/s]\u001b[A\n",
      " 12%|█████████▉                                                                         | 3/25 [00:00<00:05,  3.84it/s]\u001b[A\n",
      " 16%|█████████████▎                                                                     | 4/25 [00:01<00:04,  4.67it/s]\u001b[A\n",
      " 24%|███████████████████▉                                                               | 6/25 [00:01<00:02,  6.79it/s]\u001b[A\n",
      " 28%|███████████████████████▏                                                           | 7/25 [00:01<00:02,  6.78it/s]\u001b[A\n",
      " 32%|██████████████████████████▌                                                        | 8/25 [00:01<00:02,  6.66it/s]\u001b[A\n",
      " 36%|█████████████████████████████▉                                                     | 9/25 [00:01<00:02,  6.85it/s]\u001b[A\n",
      " 44%|████████████████████████████████████                                              | 11/25 [00:01<00:01,  8.40it/s]\u001b[A\n",
      " 48%|███████████████████████████████████████▎                                          | 12/25 [00:01<00:01,  7.92it/s]\u001b[A\n",
      " 52%|██████████████████████████████████████████▋                                       | 13/25 [00:02<00:01,  7.67it/s]\u001b[A\n",
      " 56%|█████████████████████████████████████████████▉                                    | 14/25 [00:02<00:01,  7.68it/s]\u001b[A\n",
      " 64%|████████████████████████████████████████████████████▍                             | 16/25 [00:02<00:00,  9.38it/s]\u001b[A\n",
      " 68%|███████████████████████████████████████████████████████▊                          | 17/25 [00:02<00:00,  8.89it/s]\u001b[A\n",
      " 72%|███████████████████████████████████████████████████████████                       | 18/25 [00:02<00:00,  8.54it/s]\u001b[A\n",
      "100%|██████████████████████████████████████████████████████████████████████████████████| 25/25 [00:02<00:00,  8.67it/s]\u001b[A\n",
      " 84%|███████████████████████████████████████████████████████████████████▏            | 168/200 [35:28<05:45, 10.80s/it]"
     ]
    },
    {
     "name": "stdout",
     "output_type": "stream",
     "text": [
      "Working on : \\\\merfish9.ucsd.edu\\volume1\\20230908_D106Luo\\DNA\\AnalysisDeconvolveCG\\SegmentationDAPI_CG\\Conv_zscan__1094--H1_B1_2_3--CYTO_segm.npz\n"
     ]
    },
    {
     "name": "stderr",
     "output_type": "stream",
     "text": [
      "\n",
      "  0%|                                                                                           | 0/25 [00:00<?, ?it/s]\u001b[A\n",
      "  4%|███▎                                                                               | 1/25 [00:00<00:10,  2.22it/s]\u001b[A\n",
      "  8%|██████▋                                                                            | 2/25 [00:00<00:06,  3.67it/s]\u001b[A\n",
      " 12%|█████████▉                                                                         | 3/25 [00:00<00:04,  4.59it/s]\u001b[A\n",
      " 16%|█████████████▎                                                                     | 4/25 [00:00<00:03,  5.44it/s]\u001b[A\n",
      " 24%|███████████████████▉                                                               | 6/25 [00:01<00:02,  7.65it/s]\u001b[A\n",
      " 28%|███████████████████████▏                                                           | 7/25 [00:01<00:02,  7.29it/s]\u001b[A\n",
      " 32%|██████████████████████████▌                                                        | 8/25 [00:01<00:02,  6.97it/s]\u001b[A\n",
      " 36%|█████████████████████████████▉                                                     | 9/25 [00:01<00:02,  7.06it/s]\u001b[A\n",
      " 44%|████████████████████████████████████                                              | 11/25 [00:01<00:01,  8.61it/s]\u001b[A\n",
      " 48%|███████████████████████████████████████▎                                          | 12/25 [00:01<00:01,  8.06it/s]\u001b[A\n",
      " 52%|██████████████████████████████████████████▋                                       | 13/25 [00:01<00:01,  7.67it/s]\u001b[A\n",
      " 56%|█████████████████████████████████████████████▉                                    | 14/25 [00:02<00:01,  7.68it/s]\u001b[A\n",
      " 64%|████████████████████████████████████████████████████▍                             | 16/25 [00:02<00:00,  9.42it/s]\u001b[A\n",
      " 68%|███████████████████████████████████████████████████████▊                          | 17/25 [00:02<00:00,  8.90it/s]\u001b[A\n",
      " 72%|███████████████████████████████████████████████████████████                       | 18/25 [00:02<00:00,  8.56it/s]\u001b[A\n",
      "100%|██████████████████████████████████████████████████████████████████████████████████| 25/25 [00:02<00:00,  9.17it/s]\u001b[A\n",
      " 84%|███████████████████████████████████████████████████████████████████▌            | 169/200 [35:38<05:27, 10.58s/it]"
     ]
    },
    {
     "name": "stdout",
     "output_type": "stream",
     "text": [
      "Working on : \\\\merfish9.ucsd.edu\\volume1\\20230908_D106Luo\\DNA\\AnalysisDeconvolveCG\\SegmentationDAPI_CG\\Conv_zscan__1095--H1_B1_2_3--CYTO_segm.npz\n"
     ]
    },
    {
     "name": "stderr",
     "output_type": "stream",
     "text": [
      "\n",
      "  0%|                                                                                           | 0/25 [00:00<?, ?it/s]\u001b[A\n",
      "  4%|███▎                                                                               | 1/25 [00:00<00:12,  1.95it/s]\u001b[A\n",
      "  8%|██████▋                                                                            | 2/25 [00:00<00:06,  3.40it/s]\u001b[A\n",
      " 12%|█████████▉                                                                         | 3/25 [00:00<00:05,  4.32it/s]\u001b[A\n",
      " 16%|█████████████▎                                                                     | 4/25 [00:00<00:04,  5.13it/s]\u001b[A\n",
      " 24%|███████████████████▉                                                               | 6/25 [00:01<00:02,  7.21it/s]\u001b[A\n",
      " 28%|███████████████████████▏                                                           | 7/25 [00:01<00:02,  6.97it/s]\u001b[A\n",
      " 32%|██████████████████████████▌                                                        | 8/25 [00:01<00:02,  6.80it/s]\u001b[A\n",
      " 36%|█████████████████████████████▉                                                     | 9/25 [00:01<00:02,  6.95it/s]\u001b[A\n",
      " 44%|████████████████████████████████████                                              | 11/25 [00:01<00:01,  8.49it/s]\u001b[A\n",
      " 48%|███████████████████████████████████████▎                                          | 12/25 [00:01<00:01,  7.99it/s]\u001b[A\n",
      " 52%|██████████████████████████████████████████▋                                       | 13/25 [00:02<00:01,  7.62it/s]\u001b[A\n",
      " 56%|█████████████████████████████████████████████▉                                    | 14/25 [00:02<00:01,  7.65it/s]\u001b[A\n",
      " 64%|████████████████████████████████████████████████████▍                             | 16/25 [00:02<00:00,  9.39it/s]\u001b[A\n",
      " 68%|███████████████████████████████████████████████████████▊                          | 17/25 [00:02<00:00,  8.93it/s]\u001b[A\n",
      " 72%|███████████████████████████████████████████████████████████                       | 18/25 [00:02<00:00,  8.56it/s]\u001b[A\n",
      "100%|██████████████████████████████████████████████████████████████████████████████████| 25/25 [00:02<00:00,  8.93it/s]\u001b[A\n",
      " 85%|████████████████████████████████████████████████████████████████████            | 170/200 [35:49<05:25, 10.86s/it]"
     ]
    },
    {
     "name": "stdout",
     "output_type": "stream",
     "text": [
      "Working on : \\\\merfish9.ucsd.edu\\volume1\\20230908_D106Luo\\DNA\\AnalysisDeconvolveCG\\SegmentationDAPI_CG\\Conv_zscan__1096--H1_B1_2_3--CYTO_segm.npz\n"
     ]
    },
    {
     "name": "stderr",
     "output_type": "stream",
     "text": [
      "\n",
      "  0%|                                                                                           | 0/25 [00:00<?, ?it/s]\u001b[A\n",
      "  4%|███▎                                                                               | 1/25 [00:00<00:11,  2.05it/s]\u001b[A\n",
      "  8%|██████▋                                                                            | 2/25 [00:00<00:06,  3.32it/s]\u001b[A\n",
      " 12%|█████████▉                                                                         | 3/25 [00:00<00:05,  4.28it/s]\u001b[A\n",
      " 16%|█████████████▎                                                                     | 4/25 [00:00<00:04,  5.11it/s]\u001b[A\n",
      " 24%|███████████████████▉                                                               | 6/25 [00:01<00:02,  7.32it/s]\u001b[A\n",
      " 28%|███████████████████████▏                                                           | 7/25 [00:01<00:02,  7.18it/s]\u001b[A\n",
      " 32%|██████████████████████████▌                                                        | 8/25 [00:01<00:02,  7.10it/s]\u001b[A\n",
      " 36%|█████████████████████████████▉                                                     | 9/25 [00:01<00:02,  7.16it/s]\u001b[A\n",
      " 44%|████████████████████████████████████                                              | 11/25 [00:01<00:01,  8.72it/s]\u001b[A\n",
      " 48%|███████████████████████████████████████▎                                          | 12/25 [00:01<00:01,  8.16it/s]\u001b[A\n",
      " 52%|██████████████████████████████████████████▋                                       | 13/25 [00:02<00:01,  7.72it/s]\u001b[A\n",
      " 56%|█████████████████████████████████████████████▉                                    | 14/25 [00:02<00:01,  7.43it/s]\u001b[A\n",
      " 64%|████████████████████████████████████████████████████▍                             | 16/25 [00:02<00:00,  9.15it/s]\u001b[A\n",
      " 68%|███████████████████████████████████████████████████████▊                          | 17/25 [00:02<00:00,  8.76it/s]\u001b[A\n",
      " 72%|███████████████████████████████████████████████████████████                       | 18/25 [00:02<00:00,  8.44it/s]\u001b[A\n",
      "100%|██████████████████████████████████████████████████████████████████████████████████| 25/25 [00:02<00:00,  8.96it/s]\u001b[A\n",
      " 86%|████████████████████████████████████████████████████████████████████▍           | 171/200 [36:02<05:25, 11.23s/it]"
     ]
    },
    {
     "name": "stdout",
     "output_type": "stream",
     "text": [
      "Working on : \\\\merfish9.ucsd.edu\\volume1\\20230908_D106Luo\\DNA\\AnalysisDeconvolveCG\\SegmentationDAPI_CG\\Conv_zscan__1097--H1_B1_2_3--CYTO_segm.npz\n"
     ]
    },
    {
     "name": "stderr",
     "output_type": "stream",
     "text": [
      "\n",
      "  0%|                                                                                           | 0/25 [00:00<?, ?it/s]\u001b[A\n",
      "  4%|███▎                                                                               | 1/25 [00:00<00:09,  2.44it/s]\u001b[A\n",
      "  8%|██████▋                                                                            | 2/25 [00:00<00:06,  3.46it/s]\u001b[A\n",
      " 12%|█████████▉                                                                         | 3/25 [00:00<00:04,  4.48it/s]\u001b[A\n",
      " 16%|█████████████▎                                                                     | 4/25 [00:00<00:03,  5.30it/s]\u001b[A\n",
      " 24%|███████████████████▉                                                               | 6/25 [00:01<00:02,  7.32it/s]\u001b[A\n",
      " 28%|███████████████████████▏                                                           | 7/25 [00:01<00:02,  7.04it/s]\u001b[A\n",
      " 32%|██████████████████████████▌                                                        | 8/25 [00:01<00:02,  6.84it/s]\u001b[A\n",
      " 36%|█████████████████████████████▉                                                     | 9/25 [00:01<00:02,  6.95it/s]\u001b[A\n",
      " 44%|████████████████████████████████████                                              | 11/25 [00:01<00:01,  8.46it/s]\u001b[A\n",
      " 48%|███████████████████████████████████████▎                                          | 12/25 [00:01<00:01,  7.97it/s]\u001b[A\n",
      " 52%|██████████████████████████████████████████▋                                       | 13/25 [00:01<00:01,  7.63it/s]\u001b[A\n",
      " 56%|█████████████████████████████████████████████▉                                    | 14/25 [00:02<00:01,  7.59it/s]\u001b[A\n",
      " 64%|████████████████████████████████████████████████████▍                             | 16/25 [00:02<00:00,  9.30it/s]\u001b[A\n",
      " 68%|███████████████████████████████████████████████████████▊                          | 17/25 [00:02<00:00,  8.86it/s]\u001b[A\n",
      " 72%|███████████████████████████████████████████████████████████                       | 18/25 [00:02<00:00,  8.51it/s]\u001b[A\n",
      "100%|██████████████████████████████████████████████████████████████████████████████████| 25/25 [00:02<00:00,  9.06it/s]\u001b[A\n",
      " 86%|████████████████████████████████████████████████████████████████████▊           | 172/200 [36:12<05:07, 10.98s/it]"
     ]
    },
    {
     "name": "stdout",
     "output_type": "stream",
     "text": [
      "Working on : \\\\merfish9.ucsd.edu\\volume1\\20230908_D106Luo\\DNA\\AnalysisDeconvolveCG\\SegmentationDAPI_CG\\Conv_zscan__1098--H1_B1_2_3--CYTO_segm.npz\n"
     ]
    },
    {
     "name": "stderr",
     "output_type": "stream",
     "text": [
      "\n",
      "  0%|                                                                                           | 0/25 [00:00<?, ?it/s]\u001b[A\n",
      "  4%|███▎                                                                               | 1/25 [00:00<00:11,  2.07it/s]\u001b[A\n",
      "  8%|██████▋                                                                            | 2/25 [00:00<00:06,  3.48it/s]\u001b[A\n",
      " 12%|█████████▉                                                                         | 3/25 [00:00<00:05,  4.11it/s]\u001b[A\n",
      " 16%|█████████████▎                                                                     | 4/25 [00:00<00:04,  4.77it/s]\u001b[A\n",
      " 24%|███████████████████▉                                                               | 6/25 [00:01<00:02,  6.80it/s]\u001b[A\n",
      " 28%|███████████████████████▏                                                           | 7/25 [00:01<00:02,  6.68it/s]\u001b[A\n",
      " 32%|██████████████████████████▌                                                        | 8/25 [00:01<00:02,  6.59it/s]\u001b[A\n",
      " 36%|█████████████████████████████▉                                                     | 9/25 [00:01<00:02,  6.83it/s]\u001b[A\n",
      " 44%|████████████████████████████████████                                              | 11/25 [00:01<00:01,  8.42it/s]\u001b[A\n",
      " 48%|███████████████████████████████████████▎                                          | 12/25 [00:01<00:01,  7.98it/s]\u001b[A\n",
      " 52%|██████████████████████████████████████████▋                                       | 13/25 [00:02<00:01,  7.62it/s]\u001b[A\n",
      " 56%|█████████████████████████████████████████████▉                                    | 14/25 [00:02<00:01,  7.59it/s]\u001b[A\n",
      " 64%|████████████████████████████████████████████████████▍                             | 16/25 [00:02<00:00,  9.29it/s]\u001b[A\n",
      " 68%|███████████████████████████████████████████████████████▊                          | 17/25 [00:02<00:00,  8.85it/s]\u001b[A\n",
      " 72%|███████████████████████████████████████████████████████████                       | 18/25 [00:02<00:00,  8.42it/s]\u001b[A\n",
      "100%|██████████████████████████████████████████████████████████████████████████████████| 25/25 [00:02<00:00,  8.81it/s]\u001b[A\n",
      " 86%|█████████████████████████████████████████████████████████████████████▏          | 173/200 [36:22<04:47, 10.65s/it]"
     ]
    },
    {
     "name": "stdout",
     "output_type": "stream",
     "text": [
      "Working on : \\\\merfish9.ucsd.edu\\volume1\\20230908_D106Luo\\DNA\\AnalysisDeconvolveCG\\SegmentationDAPI_CG\\Conv_zscan__1099--H1_B1_2_3--CYTO_segm.npz\n"
     ]
    },
    {
     "name": "stderr",
     "output_type": "stream",
     "text": [
      "\n",
      "  0%|                                                                                           | 0/25 [00:00<?, ?it/s]\u001b[A\n",
      "  4%|███▎                                                                               | 1/25 [00:00<00:12,  1.98it/s]\u001b[A\n",
      "  8%|██████▋                                                                            | 2/25 [00:00<00:07,  3.22it/s]\u001b[A\n",
      " 12%|█████████▉                                                                         | 3/25 [00:00<00:05,  4.21it/s]\u001b[A\n",
      " 16%|█████████████▎                                                                     | 4/25 [00:00<00:04,  5.03it/s]\u001b[A\n",
      " 24%|███████████████████▉                                                               | 6/25 [00:01<00:02,  7.10it/s]\u001b[A\n",
      " 28%|███████████████████████▏                                                           | 7/25 [00:01<00:02,  6.87it/s]\u001b[A\n",
      " 32%|██████████████████████████▌                                                        | 8/25 [00:01<00:02,  6.77it/s]\u001b[A\n",
      " 36%|█████████████████████████████▉                                                     | 9/25 [00:01<00:02,  6.87it/s]\u001b[A\n",
      " 44%|████████████████████████████████████                                              | 11/25 [00:01<00:01,  8.52it/s]\u001b[A\n",
      " 48%|███████████████████████████████████████▎                                          | 12/25 [00:01<00:01,  8.01it/s]\u001b[A\n",
      " 52%|██████████████████████████████████████████▋                                       | 13/25 [00:02<00:01,  7.57it/s]\u001b[A\n",
      " 56%|█████████████████████████████████████████████▉                                    | 14/25 [00:02<00:01,  7.56it/s]\u001b[A\n",
      " 64%|████████████████████████████████████████████████████▍                             | 16/25 [00:02<00:00,  9.33it/s]\u001b[A\n",
      " 68%|███████████████████████████████████████████████████████▊                          | 17/25 [00:02<00:00,  8.88it/s]\u001b[A\n",
      " 72%|███████████████████████████████████████████████████████████                       | 18/25 [00:02<00:00,  8.53it/s]\u001b[A\n",
      "100%|██████████████████████████████████████████████████████████████████████████████████| 25/25 [00:02<00:00,  8.85it/s]\u001b[A\n",
      " 87%|█████████████████████████████████████████████████████████████████████▌          | 174/200 [36:32<04:34, 10.57s/it]"
     ]
    },
    {
     "name": "stdout",
     "output_type": "stream",
     "text": [
      "Working on : \\\\merfish9.ucsd.edu\\volume1\\20230908_D106Luo\\DNA\\AnalysisDeconvolveCG\\SegmentationDAPI_CG\\Conv_zscan__1100--H1_B1_2_3--CYTO_segm.npz\n"
     ]
    },
    {
     "name": "stderr",
     "output_type": "stream",
     "text": [
      "\n",
      "  0%|                                                                                           | 0/25 [00:00<?, ?it/s]\u001b[A\n",
      "  4%|███▎                                                                               | 1/25 [00:00<00:09,  2.50it/s]\u001b[A\n",
      "  8%|██████▋                                                                            | 2/25 [00:00<00:08,  2.76it/s]\u001b[A\n",
      " 12%|█████████▉                                                                         | 3/25 [00:00<00:05,  3.72it/s]\u001b[A\n",
      " 16%|█████████████▎                                                                     | 4/25 [00:01<00:04,  4.62it/s]\u001b[A\n",
      " 24%|███████████████████▉                                                               | 6/25 [00:01<00:02,  6.82it/s]\u001b[A\n",
      " 28%|███████████████████████▏                                                           | 7/25 [00:01<00:02,  6.81it/s]\u001b[A\n",
      " 32%|██████████████████████████▌                                                        | 8/25 [00:01<00:02,  6.82it/s]\u001b[A\n",
      " 36%|█████████████████████████████▉                                                     | 9/25 [00:01<00:02,  6.93it/s]\u001b[A\n",
      " 44%|████████████████████████████████████                                              | 11/25 [00:01<00:01,  8.50it/s]\u001b[A\n",
      " 48%|███████████████████████████████████████▎                                          | 12/25 [00:01<00:01,  8.01it/s]\u001b[A\n",
      " 52%|██████████████████████████████████████████▋                                       | 13/25 [00:02<00:01,  7.65it/s]\u001b[A\n",
      " 56%|█████████████████████████████████████████████▉                                    | 14/25 [00:02<00:01,  7.64it/s]\u001b[A\n",
      " 64%|████████████████████████████████████████████████████▍                             | 16/25 [00:02<00:00,  9.37it/s]\u001b[A\n",
      " 68%|███████████████████████████████████████████████████████▊                          | 17/25 [00:02<00:00,  8.87it/s]\u001b[A\n",
      " 72%|███████████████████████████████████████████████████████████                       | 18/25 [00:02<00:00,  8.50it/s]\u001b[A\n",
      "100%|██████████████████████████████████████████████████████████████████████████████████| 25/25 [00:02<00:00,  8.75it/s]\u001b[A\n",
      " 88%|██████████████████████████████████████████████████████████████████████          | 175/200 [36:43<04:27, 10.69s/it]"
     ]
    },
    {
     "name": "stdout",
     "output_type": "stream",
     "text": [
      "Working on : \\\\merfish9.ucsd.edu\\volume1\\20230908_D106Luo\\DNA\\AnalysisDeconvolveCG\\SegmentationDAPI_CG\\Conv_zscan__1101--H1_B1_2_3--CYTO_segm.npz\n"
     ]
    },
    {
     "name": "stderr",
     "output_type": "stream",
     "text": [
      "\n",
      "  0%|                                                                                           | 0/25 [00:00<?, ?it/s]\u001b[A\n",
      "  4%|███▎                                                                               | 1/25 [00:00<00:09,  2.49it/s]\u001b[A\n",
      "  8%|██████▋                                                                            | 2/25 [00:00<00:07,  3.26it/s]\u001b[A\n",
      " 12%|█████████▉                                                                         | 3/25 [00:00<00:05,  4.24it/s]\u001b[A\n",
      " 16%|█████████████▎                                                                     | 4/25 [00:00<00:04,  5.00it/s]\u001b[A\n",
      " 24%|███████████████████▉                                                               | 6/25 [00:01<00:02,  7.04it/s]\u001b[A\n",
      " 28%|███████████████████████▏                                                           | 7/25 [00:01<00:02,  6.84it/s]\u001b[A\n",
      " 32%|██████████████████████████▌                                                        | 8/25 [00:01<00:02,  6.74it/s]\u001b[A\n",
      " 36%|█████████████████████████████▉                                                     | 9/25 [00:01<00:02,  6.92it/s]\u001b[A\n",
      " 44%|████████████████████████████████████                                              | 11/25 [00:01<00:01,  8.50it/s]\u001b[A\n",
      " 48%|███████████████████████████████████████▎                                          | 12/25 [00:01<00:01,  7.95it/s]\u001b[A\n",
      " 52%|██████████████████████████████████████████▋                                       | 13/25 [00:02<00:01,  7.60it/s]\u001b[A\n",
      " 56%|█████████████████████████████████████████████▉                                    | 14/25 [00:02<00:01,  7.60it/s]\u001b[A\n",
      " 64%|████████████████████████████████████████████████████▍                             | 16/25 [00:02<00:00,  9.27it/s]\u001b[A\n",
      " 68%|███████████████████████████████████████████████████████▊                          | 17/25 [00:02<00:00,  8.82it/s]\u001b[A\n",
      " 72%|███████████████████████████████████████████████████████████                       | 18/25 [00:02<00:00,  8.47it/s]\u001b[A\n",
      "100%|██████████████████████████████████████████████████████████████████████████████████| 25/25 [00:02<00:00,  8.93it/s]\u001b[A\n",
      " 88%|██████████████████████████████████████████████████████████████████████▍         | 176/200 [36:54<04:19, 10.82s/it]"
     ]
    },
    {
     "name": "stdout",
     "output_type": "stream",
     "text": [
      "Working on : \\\\merfish9.ucsd.edu\\volume1\\20230908_D106Luo\\DNA\\AnalysisDeconvolveCG\\SegmentationDAPI_CG\\Conv_zscan__1102--H1_B1_2_3--CYTO_segm.npz\n"
     ]
    },
    {
     "name": "stderr",
     "output_type": "stream",
     "text": [
      "\n",
      "  0%|                                                                                           | 0/25 [00:00<?, ?it/s]\u001b[A\n",
      "  4%|███▎                                                                               | 1/25 [00:00<00:11,  2.04it/s]\u001b[A\n",
      "  8%|██████▋                                                                            | 2/25 [00:00<00:09,  2.34it/s]\u001b[A\n",
      " 12%|█████████▉                                                                         | 3/25 [00:01<00:06,  3.27it/s]\u001b[A\n",
      " 16%|█████████████▎                                                                     | 4/25 [00:01<00:05,  4.13it/s]\u001b[A\n",
      " 24%|███████████████████▉                                                               | 6/25 [00:01<00:03,  6.21it/s]\u001b[A\n",
      " 28%|███████████████████████▏                                                           | 7/25 [00:01<00:02,  6.25it/s]\u001b[A\n",
      " 32%|██████████████████████████▌                                                        | 8/25 [00:01<00:02,  6.28it/s]\u001b[A\n",
      " 36%|█████████████████████████████▉                                                     | 9/25 [00:01<00:02,  6.51it/s]\u001b[A\n",
      " 44%|████████████████████████████████████                                              | 11/25 [00:01<00:01,  8.12it/s]\u001b[A\n",
      " 48%|███████████████████████████████████████▎                                          | 12/25 [00:02<00:01,  7.72it/s]\u001b[A\n",
      " 52%|██████████████████████████████████████████▋                                       | 13/25 [00:02<00:01,  7.46it/s]\u001b[A\n",
      " 56%|█████████████████████████████████████████████▉                                    | 14/25 [00:02<00:01,  7.48it/s]\u001b[A\n",
      " 64%|████████████████████████████████████████████████████▍                             | 16/25 [00:02<00:00,  9.17it/s]\u001b[A\n",
      " 68%|███████████████████████████████████████████████████████▊                          | 17/25 [00:02<00:00,  8.77it/s]\u001b[A\n",
      " 72%|███████████████████████████████████████████████████████████                       | 18/25 [00:02<00:00,  8.43it/s]\u001b[A\n",
      "100%|██████████████████████████████████████████████████████████████████████████████████| 25/25 [00:03<00:00,  8.21it/s]\u001b[A\n",
      " 88%|██████████████████████████████████████████████████████████████████████▊         | 177/200 [37:06<04:13, 11.04s/it]"
     ]
    },
    {
     "name": "stdout",
     "output_type": "stream",
     "text": [
      "Working on : \\\\merfish9.ucsd.edu\\volume1\\20230908_D106Luo\\DNA\\AnalysisDeconvolveCG\\SegmentationDAPI_CG\\Conv_zscan__1103--H1_B1_2_3--CYTO_segm.npz\n"
     ]
    },
    {
     "name": "stderr",
     "output_type": "stream",
     "text": [
      "\n",
      "  0%|                                                                                           | 0/25 [00:00<?, ?it/s]\u001b[A\n",
      "  4%|███▎                                                                               | 1/25 [00:00<00:10,  2.38it/s]\u001b[A\n",
      "  8%|██████▋                                                                            | 2/25 [00:00<00:06,  3.42it/s]\u001b[A\n",
      " 12%|█████████▉                                                                         | 3/25 [00:00<00:05,  4.15it/s]\u001b[A\n",
      " 16%|█████████████▎                                                                     | 4/25 [00:00<00:04,  4.97it/s]\u001b[A\n",
      " 24%|███████████████████▉                                                               | 6/25 [00:01<00:02,  7.08it/s]\u001b[A\n",
      " 28%|███████████████████████▏                                                           | 7/25 [00:01<00:02,  6.90it/s]\u001b[A\n",
      " 32%|██████████████████████████▌                                                        | 8/25 [00:01<00:02,  6.81it/s]\u001b[A\n",
      " 36%|█████████████████████████████▉                                                     | 9/25 [00:01<00:02,  6.98it/s]\u001b[A\n",
      " 44%|████████████████████████████████████                                              | 11/25 [00:01<00:01,  8.60it/s]\u001b[A\n",
      " 48%|███████████████████████████████████████▎                                          | 12/25 [00:01<00:01,  8.06it/s]\u001b[A\n",
      " 52%|██████████████████████████████████████████▋                                       | 13/25 [00:02<00:01,  7.68it/s]\u001b[A\n",
      " 56%|█████████████████████████████████████████████▉                                    | 14/25 [00:02<00:01,  7.64it/s]\u001b[A\n",
      " 64%|████████████████████████████████████████████████████▍                             | 16/25 [00:02<00:00,  9.34it/s]\u001b[A\n",
      " 68%|███████████████████████████████████████████████████████▊                          | 17/25 [00:02<00:00,  8.87it/s]\u001b[A\n",
      " 72%|███████████████████████████████████████████████████████████                       | 18/25 [00:02<00:00,  8.58it/s]\u001b[A\n",
      "100%|██████████████████████████████████████████████████████████████████████████████████| 25/25 [00:02<00:00,  8.98it/s]\u001b[A\n",
      " 89%|███████████████████████████████████████████████████████████████████████▏        | 178/200 [37:16<03:56, 10.77s/it]"
     ]
    },
    {
     "name": "stdout",
     "output_type": "stream",
     "text": [
      "Working on : \\\\merfish9.ucsd.edu\\volume1\\20230908_D106Luo\\DNA\\AnalysisDeconvolveCG\\SegmentationDAPI_CG\\Conv_zscan__1104--H1_B1_2_3--CYTO_segm.npz\n"
     ]
    },
    {
     "name": "stderr",
     "output_type": "stream",
     "text": [
      "\n",
      "  0%|                                                                                           | 0/25 [00:00<?, ?it/s]\u001b[A\n",
      "  4%|███▎                                                                               | 1/25 [00:00<00:09,  2.51it/s]\u001b[A\n",
      "  8%|██████▋                                                                            | 2/25 [00:00<00:06,  3.52it/s]\u001b[A\n",
      " 12%|█████████▉                                                                         | 3/25 [00:00<00:04,  4.44it/s]\u001b[A\n",
      " 16%|█████████████▎                                                                     | 4/25 [00:00<00:03,  5.28it/s]\u001b[A\n",
      " 24%|███████████████████▉                                                               | 6/25 [00:01<00:02,  7.35it/s]\u001b[A\n",
      " 28%|███████████████████████▏                                                           | 7/25 [00:01<00:02,  7.06it/s]\u001b[A\n",
      " 32%|██████████████████████████▌                                                        | 8/25 [00:01<00:02,  6.87it/s]\u001b[A\n",
      " 36%|█████████████████████████████▉                                                     | 9/25 [00:01<00:02,  6.93it/s]\u001b[A\n",
      " 44%|████████████████████████████████████                                              | 11/25 [00:01<00:01,  8.44it/s]\u001b[A\n",
      " 48%|███████████████████████████████████████▎                                          | 12/25 [00:01<00:01,  7.94it/s]\u001b[A\n",
      " 52%|██████████████████████████████████████████▋                                       | 13/25 [00:01<00:01,  7.60it/s]\u001b[A\n",
      " 56%|█████████████████████████████████████████████▉                                    | 14/25 [00:02<00:01,  7.59it/s]\u001b[A\n",
      " 64%|████████████████████████████████████████████████████▍                             | 16/25 [00:02<00:00,  9.28it/s]\u001b[A\n",
      " 68%|███████████████████████████████████████████████████████▊                          | 17/25 [00:02<00:00,  8.85it/s]\u001b[A\n",
      " 72%|███████████████████████████████████████████████████████████                       | 18/25 [00:02<00:00,  8.53it/s]\u001b[A\n",
      "100%|██████████████████████████████████████████████████████████████████████████████████| 25/25 [00:02<00:00,  9.08it/s]\u001b[A\n",
      " 90%|███████████████████████████████████████████████████████████████████████▌        | 179/200 [37:27<03:45, 10.74s/it]"
     ]
    },
    {
     "name": "stdout",
     "output_type": "stream",
     "text": [
      "Working on : \\\\merfish9.ucsd.edu\\volume1\\20230908_D106Luo\\DNA\\AnalysisDeconvolveCG\\SegmentationDAPI_CG\\Conv_zscan__1105--H1_B1_2_3--CYTO_segm.npz\n"
     ]
    },
    {
     "name": "stderr",
     "output_type": "stream",
     "text": [
      "\n",
      "  0%|                                                                                           | 0/25 [00:00<?, ?it/s]\u001b[A\n",
      "  4%|███▎                                                                               | 1/25 [00:00<00:10,  2.36it/s]\u001b[A\n",
      "  8%|██████▋                                                                            | 2/25 [00:00<00:06,  3.77it/s]\u001b[A\n",
      " 12%|█████████▉                                                                         | 3/25 [00:00<00:04,  4.69it/s]\u001b[A\n",
      " 16%|█████████████▎                                                                     | 4/25 [00:00<00:03,  5.40it/s]\u001b[A\n",
      " 24%|███████████████████▉                                                               | 6/25 [00:01<00:02,  7.41it/s]\u001b[A\n",
      " 28%|███████████████████████▏                                                           | 7/25 [00:01<00:02,  7.09it/s]\u001b[A\n",
      " 32%|██████████████████████████▌                                                        | 8/25 [00:01<00:02,  6.87it/s]\u001b[A\n",
      " 36%|█████████████████████████████▉                                                     | 9/25 [00:01<00:02,  6.98it/s]\u001b[A\n",
      " 44%|████████████████████████████████████                                              | 11/25 [00:01<00:01,  8.56it/s]\u001b[A\n",
      " 48%|███████████████████████████████████████▎                                          | 12/25 [00:01<00:01,  8.04it/s]\u001b[A\n",
      " 52%|██████████████████████████████████████████▋                                       | 13/25 [00:01<00:01,  7.68it/s]\u001b[A\n",
      " 56%|█████████████████████████████████████████████▉                                    | 14/25 [00:02<00:01,  7.63it/s]\u001b[A\n",
      " 64%|████████████████████████████████████████████████████▍                             | 16/25 [00:02<00:00,  9.36it/s]\u001b[A\n",
      " 68%|███████████████████████████████████████████████████████▊                          | 17/25 [00:02<00:00,  8.88it/s]\u001b[A\n",
      " 72%|███████████████████████████████████████████████████████████                       | 18/25 [00:02<00:00,  8.57it/s]\u001b[A\n",
      "100%|██████████████████████████████████████████████████████████████████████████████████| 25/25 [00:02<00:00,  9.16it/s]\u001b[A\n",
      " 90%|████████████████████████████████████████████████████████████████████████        | 180/200 [37:37<03:35, 10.75s/it]"
     ]
    },
    {
     "name": "stdout",
     "output_type": "stream",
     "text": [
      "Working on : \\\\merfish9.ucsd.edu\\volume1\\20230908_D106Luo\\DNA\\AnalysisDeconvolveCG\\SegmentationDAPI_CG\\Conv_zscan__1106--H1_B1_2_3--CYTO_segm.npz\n"
     ]
    },
    {
     "name": "stderr",
     "output_type": "stream",
     "text": [
      "\n",
      "  0%|                                                                                           | 0/25 [00:00<?, ?it/s]\u001b[A\n",
      "  4%|███▎                                                                               | 1/25 [00:00<00:08,  2.79it/s]\u001b[A\n",
      "  8%|██████▋                                                                            | 2/25 [00:00<00:05,  4.10it/s]\u001b[A\n",
      " 12%|█████████▉                                                                         | 3/25 [00:00<00:04,  4.86it/s]\u001b[A\n",
      " 16%|█████████████▎                                                                     | 4/25 [00:00<00:03,  5.55it/s]\u001b[A\n",
      " 24%|███████████████████▉                                                               | 6/25 [00:01<00:02,  7.54it/s]\u001b[A\n",
      " 28%|███████████████████████▏                                                           | 7/25 [00:01<00:02,  7.22it/s]\u001b[A\n",
      " 32%|██████████████████████████▌                                                        | 8/25 [00:01<00:02,  7.06it/s]\u001b[A\n",
      " 36%|█████████████████████████████▉                                                     | 9/25 [00:01<00:02,  7.24it/s]\u001b[A\n",
      " 44%|████████████████████████████████████                                              | 11/25 [00:01<00:01,  8.78it/s]\u001b[A\n",
      " 48%|███████████████████████████████████████▎                                          | 12/25 [00:01<00:01,  8.17it/s]\u001b[A\n",
      " 52%|██████████████████████████████████████████▋                                       | 13/25 [00:01<00:01,  7.73it/s]\u001b[A\n",
      " 56%|█████████████████████████████████████████████▉                                    | 14/25 [00:02<00:01,  7.72it/s]\u001b[A\n",
      " 64%|████████████████████████████████████████████████████▍                             | 16/25 [00:02<00:00,  9.41it/s]\u001b[A\n",
      " 68%|███████████████████████████████████████████████████████▊                          | 17/25 [00:02<00:00,  8.88it/s]\u001b[A\n",
      " 72%|███████████████████████████████████████████████████████████                       | 18/25 [00:02<00:00,  8.53it/s]\u001b[A\n",
      "100%|██████████████████████████████████████████████████████████████████████████████████| 25/25 [00:02<00:00,  9.38it/s]\u001b[A\n",
      " 90%|████████████████████████████████████████████████████████████████████████▍       | 181/200 [37:47<03:16, 10.36s/it]"
     ]
    },
    {
     "name": "stdout",
     "output_type": "stream",
     "text": [
      "Working on : \\\\merfish9.ucsd.edu\\volume1\\20230908_D106Luo\\DNA\\AnalysisDeconvolveCG\\SegmentationDAPI_CG\\Conv_zscan__1107--H1_B1_2_3--CYTO_segm.npz\n"
     ]
    },
    {
     "name": "stderr",
     "output_type": "stream",
     "text": [
      "\n",
      "  0%|                                                                                           | 0/25 [00:00<?, ?it/s]\u001b[A\n",
      "  4%|███▎                                                                               | 1/25 [00:00<00:08,  2.82it/s]\u001b[A\n",
      "  8%|██████▋                                                                            | 2/25 [00:00<00:08,  2.56it/s]\u001b[A\n",
      " 12%|█████████▉                                                                         | 3/25 [00:00<00:06,  3.40it/s]\u001b[A\n",
      " 16%|█████████████▎                                                                     | 4/25 [00:01<00:04,  4.23it/s]\u001b[A\n",
      " 24%|███████████████████▉                                                               | 6/25 [00:01<00:03,  6.31it/s]\u001b[A\n",
      " 28%|███████████████████████▏                                                           | 7/25 [00:01<00:02,  6.33it/s]\u001b[A\n",
      " 32%|██████████████████████████▌                                                        | 8/25 [00:01<00:02,  6.35it/s]\u001b[A\n",
      " 36%|█████████████████████████████▉                                                     | 9/25 [00:01<00:02,  6.60it/s]\u001b[A\n",
      " 44%|████████████████████████████████████                                              | 11/25 [00:01<00:01,  8.18it/s]\u001b[A\n",
      " 48%|███████████████████████████████████████▎                                          | 12/25 [00:02<00:01,  7.75it/s]\u001b[A\n",
      " 52%|██████████████████████████████████████████▋                                       | 13/25 [00:02<00:01,  7.55it/s]\u001b[A\n",
      " 56%|█████████████████████████████████████████████▉                                    | 14/25 [00:02<00:01,  7.56it/s]\u001b[A\n",
      " 64%|████████████████████████████████████████████████████▍                             | 16/25 [00:02<00:00,  9.26it/s]\u001b[A\n",
      " 68%|███████████████████████████████████████████████████████▊                          | 17/25 [00:02<00:00,  8.80it/s]\u001b[A\n",
      " 72%|███████████████████████████████████████████████████████████                       | 18/25 [00:02<00:00,  8.47it/s]\u001b[A\n",
      "100%|██████████████████████████████████████████████████████████████████████████████████| 25/25 [00:02<00:00,  8.47it/s]\u001b[A\n",
      " 91%|████████████████████████████████████████████████████████████████████████▊       | 182/200 [37:58<03:08, 10.46s/it]"
     ]
    },
    {
     "name": "stdout",
     "output_type": "stream",
     "text": [
      "Working on : \\\\merfish9.ucsd.edu\\volume1\\20230908_D106Luo\\DNA\\AnalysisDeconvolveCG\\SegmentationDAPI_CG\\Conv_zscan__1108--H1_B1_2_3--CYTO_segm.npz\n"
     ]
    },
    {
     "name": "stderr",
     "output_type": "stream",
     "text": [
      "\n",
      "  0%|                                                                                           | 0/25 [00:00<?, ?it/s]\u001b[A\n",
      "  4%|███▎                                                                               | 1/25 [00:00<00:08,  2.70it/s]\u001b[A\n",
      "  8%|██████▋                                                                            | 2/25 [00:00<00:05,  4.15it/s]\u001b[A\n",
      " 12%|█████████▉                                                                         | 3/25 [00:00<00:07,  3.08it/s]\u001b[A\n",
      " 16%|█████████████▎                                                                     | 4/25 [00:01<00:05,  4.05it/s]\u001b[A\n",
      " 24%|███████████████████▉                                                               | 6/25 [00:01<00:03,  6.24it/s]\u001b[A\n",
      " 28%|███████████████████████▏                                                           | 7/25 [00:01<00:02,  6.37it/s]\u001b[A\n",
      " 32%|██████████████████████████▌                                                        | 8/25 [00:01<00:02,  6.48it/s]\u001b[A\n",
      " 36%|█████████████████████████████▉                                                     | 9/25 [00:01<00:02,  6.76it/s]\u001b[A\n",
      " 44%|████████████████████████████████████                                              | 11/25 [00:01<00:01,  8.24it/s]\u001b[A\n",
      " 48%|███████████████████████████████████████▎                                          | 12/25 [00:02<00:01,  7.73it/s]\u001b[A\n",
      " 52%|██████████████████████████████████████████▋                                       | 13/25 [00:02<00:01,  7.44it/s]\u001b[A\n",
      " 56%|█████████████████████████████████████████████▉                                    | 14/25 [00:02<00:01,  7.46it/s]\u001b[A\n",
      " 64%|████████████████████████████████████████████████████▍                             | 16/25 [00:02<00:00,  9.23it/s]\u001b[A\n",
      " 68%|███████████████████████████████████████████████████████▊                          | 17/25 [00:02<00:00,  8.77it/s]\u001b[A\n",
      " 72%|███████████████████████████████████████████████████████████                       | 18/25 [00:02<00:00,  8.47it/s]\u001b[A\n",
      "100%|██████████████████████████████████████████████████████████████████████████████████| 25/25 [00:02<00:00,  8.60it/s]\u001b[A\n",
      " 92%|█████████████████████████████████████████████████████████████████████████▏      | 183/200 [38:08<02:57, 10.46s/it]"
     ]
    },
    {
     "name": "stdout",
     "output_type": "stream",
     "text": [
      "Working on : \\\\merfish9.ucsd.edu\\volume1\\20230908_D106Luo\\DNA\\AnalysisDeconvolveCG\\SegmentationDAPI_CG\\Conv_zscan__1109--H1_B1_2_3--CYTO_segm.npz\n"
     ]
    },
    {
     "name": "stderr",
     "output_type": "stream",
     "text": [
      "\n",
      "  0%|                                                                                           | 0/25 [00:00<?, ?it/s]\u001b[A\n",
      "  4%|███▎                                                                               | 1/25 [00:00<00:10,  2.36it/s]\u001b[A\n",
      "  8%|██████▋                                                                            | 2/25 [00:00<00:06,  3.61it/s]\u001b[A\n",
      " 12%|█████████▉                                                                         | 3/25 [00:00<00:05,  3.81it/s]\u001b[A\n",
      " 16%|█████████████▎                                                                     | 4/25 [00:00<00:04,  4.70it/s]\u001b[A\n",
      " 24%|███████████████████▉                                                               | 6/25 [00:01<00:02,  6.74it/s]\u001b[A\n",
      " 28%|███████████████████████▏                                                           | 7/25 [00:01<00:02,  6.64it/s]\u001b[A\n",
      " 32%|██████████████████████████▌                                                        | 8/25 [00:01<00:02,  6.63it/s]\u001b[A\n",
      " 36%|█████████████████████████████▉                                                     | 9/25 [00:01<00:02,  6.88it/s]\u001b[A\n",
      " 44%|████████████████████████████████████                                              | 11/25 [00:01<00:01,  8.46it/s]\u001b[A\n",
      " 48%|███████████████████████████████████████▎                                          | 12/25 [00:01<00:01,  7.99it/s]\u001b[A\n",
      " 52%|██████████████████████████████████████████▋                                       | 13/25 [00:02<00:01,  7.64it/s]\u001b[A\n",
      " 56%|█████████████████████████████████████████████▉                                    | 14/25 [00:02<00:01,  7.61it/s]\u001b[A\n",
      " 64%|████████████████████████████████████████████████████▍                             | 16/25 [00:02<00:00,  9.34it/s]\u001b[A\n",
      " 68%|███████████████████████████████████████████████████████▊                          | 17/25 [00:02<00:00,  8.89it/s]\u001b[A\n",
      " 72%|███████████████████████████████████████████████████████████                       | 18/25 [00:02<00:00,  8.53it/s]\u001b[A\n",
      "100%|██████████████████████████████████████████████████████████████████████████████████| 25/25 [00:02<00:00,  8.84it/s]\u001b[A\n",
      " 92%|█████████████████████████████████████████████████████████████████████████▌      | 184/200 [38:19<02:51, 10.70s/it]"
     ]
    },
    {
     "name": "stdout",
     "output_type": "stream",
     "text": [
      "Working on : \\\\merfish9.ucsd.edu\\volume1\\20230908_D106Luo\\DNA\\AnalysisDeconvolveCG\\SegmentationDAPI_CG\\Conv_zscan__1110--H1_B1_2_3--CYTO_segm.npz\n"
     ]
    },
    {
     "name": "stderr",
     "output_type": "stream",
     "text": [
      "\n",
      "  0%|                                                                                           | 0/25 [00:00<?, ?it/s]\u001b[A\n",
      "  4%|███▎                                                                               | 1/25 [00:00<00:09,  2.66it/s]\u001b[A\n",
      "  8%|██████▋                                                                            | 2/25 [00:00<00:09,  2.52it/s]\u001b[A\n",
      " 12%|█████████▉                                                                         | 3/25 [00:00<00:06,  3.44it/s]\u001b[A\n",
      " 16%|█████████████▎                                                                     | 4/25 [00:01<00:04,  4.38it/s]\u001b[A\n",
      " 24%|███████████████████▉                                                               | 6/25 [00:01<00:02,  6.43it/s]\u001b[A\n",
      " 28%|███████████████████████▏                                                           | 7/25 [00:01<00:02,  6.41it/s]\u001b[A\n",
      " 32%|██████████████████████████▌                                                        | 8/25 [00:01<00:02,  6.41it/s]\u001b[A\n",
      " 36%|█████████████████████████████▉                                                     | 9/25 [00:01<00:02,  6.59it/s]\u001b[A\n",
      " 44%|████████████████████████████████████                                              | 11/25 [00:01<00:01,  8.15it/s]\u001b[A\n",
      " 48%|███████████████████████████████████████▎                                          | 12/25 [00:02<00:01,  7.70it/s]\u001b[A\n",
      " 52%|██████████████████████████████████████████▋                                       | 13/25 [00:02<00:01,  7.45it/s]\u001b[A\n",
      " 56%|█████████████████████████████████████████████▉                                    | 14/25 [00:02<00:01,  7.48it/s]\u001b[A\n",
      " 64%|████████████████████████████████████████████████████▍                             | 16/25 [00:02<00:00,  9.23it/s]\u001b[A\n",
      " 68%|███████████████████████████████████████████████████████▊                          | 17/25 [00:02<00:00,  8.79it/s]\u001b[A\n",
      " 72%|███████████████████████████████████████████████████████████                       | 18/25 [00:02<00:00,  8.49it/s]\u001b[A\n",
      "100%|██████████████████████████████████████████████████████████████████████████████████| 25/25 [00:02<00:00,  8.47it/s]\u001b[A\n",
      " 92%|██████████████████████████████████████████████████████████████████████████      | 185/200 [38:30<02:39, 10.64s/it]"
     ]
    },
    {
     "name": "stdout",
     "output_type": "stream",
     "text": [
      "Working on : \\\\merfish9.ucsd.edu\\volume1\\20230908_D106Luo\\DNA\\AnalysisDeconvolveCG\\SegmentationDAPI_CG\\Conv_zscan__1111--H1_B1_2_3--CYTO_segm.npz\n"
     ]
    },
    {
     "name": "stderr",
     "output_type": "stream",
     "text": [
      "\n",
      "  0%|                                                                                           | 0/25 [00:00<?, ?it/s]\u001b[A\n",
      "  4%|███▎                                                                               | 1/25 [00:00<00:11,  2.07it/s]\u001b[A\n",
      "  8%|██████▋                                                                            | 2/25 [00:00<00:06,  3.37it/s]\u001b[A\n",
      " 12%|█████████▉                                                                         | 3/25 [00:00<00:05,  4.03it/s]\u001b[A\n",
      " 16%|█████████████▎                                                                     | 4/25 [00:00<00:04,  4.82it/s]\u001b[A\n",
      " 24%|███████████████████▉                                                               | 6/25 [00:01<00:02,  6.99it/s]\u001b[A\n",
      " 28%|███████████████████████▏                                                           | 7/25 [00:01<00:02,  6.95it/s]\u001b[A\n",
      " 32%|██████████████████████████▌                                                        | 8/25 [00:01<00:02,  6.88it/s]\u001b[A\n",
      " 36%|█████████████████████████████▉                                                     | 9/25 [00:01<00:02,  7.14it/s]\u001b[A\n",
      " 44%|████████████████████████████████████                                              | 11/25 [00:01<00:01,  8.64it/s]\u001b[A\n",
      " 48%|███████████████████████████████████████▎                                          | 12/25 [00:01<00:01,  8.11it/s]\u001b[A\n",
      " 52%|██████████████████████████████████████████▋                                       | 13/25 [00:02<00:01,  7.71it/s]\u001b[A\n",
      " 56%|█████████████████████████████████████████████▉                                    | 14/25 [00:02<00:01,  7.64it/s]\u001b[A\n",
      " 64%|████████████████████████████████████████████████████▍                             | 16/25 [00:02<00:00,  9.38it/s]\u001b[A\n",
      " 68%|███████████████████████████████████████████████████████▊                          | 17/25 [00:02<00:00,  8.94it/s]\u001b[A\n",
      " 72%|███████████████████████████████████████████████████████████                       | 18/25 [00:02<00:00,  8.59it/s]\u001b[A\n",
      "100%|██████████████████████████████████████████████████████████████████████████████████| 25/25 [00:02<00:00,  8.93it/s]\u001b[A\n",
      " 93%|██████████████████████████████████████████████████████████████████████████▍     | 186/200 [38:40<02:25, 10.42s/it]"
     ]
    },
    {
     "name": "stdout",
     "output_type": "stream",
     "text": [
      "Working on : \\\\merfish9.ucsd.edu\\volume1\\20230908_D106Luo\\DNA\\AnalysisDeconvolveCG\\SegmentationDAPI_CG\\Conv_zscan__1112--H1_B1_2_3--CYTO_segm.npz\n"
     ]
    },
    {
     "name": "stderr",
     "output_type": "stream",
     "text": [
      "\n",
      "  0%|                                                                                           | 0/25 [00:00<?, ?it/s]\u001b[A\n",
      "  4%|███▎                                                                               | 1/25 [00:00<00:10,  2.27it/s]\u001b[A\n",
      "  8%|██████▋                                                                            | 2/25 [00:00<00:07,  3.25it/s]\u001b[A\n",
      " 12%|█████████▉                                                                         | 3/25 [00:00<00:05,  4.18it/s]\u001b[A\n",
      " 16%|█████████████▎                                                                     | 4/25 [00:00<00:04,  4.98it/s]\u001b[A\n",
      " 24%|███████████████████▉                                                               | 6/25 [00:01<00:02,  6.99it/s]\u001b[A\n",
      " 28%|███████████████████████▏                                                           | 7/25 [00:01<00:02,  6.79it/s]\u001b[A\n",
      " 32%|██████████████████████████▌                                                        | 8/25 [00:01<00:02,  6.64it/s]\u001b[A\n",
      " 36%|█████████████████████████████▉                                                     | 9/25 [00:01<00:02,  6.78it/s]\u001b[A\n",
      " 44%|████████████████████████████████████                                              | 11/25 [00:01<00:01,  8.35it/s]\u001b[A\n",
      " 48%|███████████████████████████████████████▎                                          | 12/25 [00:01<00:01,  7.91it/s]\u001b[A\n",
      " 52%|██████████████████████████████████████████▋                                       | 13/25 [00:02<00:01,  7.58it/s]\u001b[A\n",
      " 56%|█████████████████████████████████████████████▉                                    | 14/25 [00:02<00:01,  7.58it/s]\u001b[A\n",
      " 64%|████████████████████████████████████████████████████▍                             | 16/25 [00:02<00:00,  9.23it/s]\u001b[A\n",
      " 68%|███████████████████████████████████████████████████████▊                          | 17/25 [00:02<00:00,  8.80it/s]\u001b[A\n",
      " 72%|███████████████████████████████████████████████████████████                       | 18/25 [00:02<00:00,  8.45it/s]\u001b[A\n",
      " 76%|██████████████████████████████████████████████████████████████▎                   | 19/25 [00:02<00:00,  8.50it/s]\u001b[A\n",
      "100%|██████████████████████████████████████████████████████████████████████████████████| 25/25 [00:02<00:00,  8.83it/s]\u001b[A\n",
      " 94%|██████████████████████████████████████████████████████████████████████████▊     | 187/200 [38:50<02:14, 10.36s/it]"
     ]
    },
    {
     "name": "stdout",
     "output_type": "stream",
     "text": [
      "Working on : \\\\merfish9.ucsd.edu\\volume1\\20230908_D106Luo\\DNA\\AnalysisDeconvolveCG\\SegmentationDAPI_CG\\Conv_zscan__1113--H1_B1_2_3--CYTO_segm.npz\n"
     ]
    },
    {
     "name": "stderr",
     "output_type": "stream",
     "text": [
      "\n",
      "  0%|                                                                                           | 0/25 [00:00<?, ?it/s]\u001b[A\n",
      "  4%|███▎                                                                               | 1/25 [00:00<00:09,  2.62it/s]\u001b[A\n",
      "  8%|██████▋                                                                            | 2/25 [00:00<00:05,  3.99it/s]\u001b[A\n",
      " 12%|█████████▉                                                                         | 3/25 [00:00<00:04,  4.78it/s]\u001b[A\n",
      " 16%|█████████████▎                                                                     | 4/25 [00:00<00:03,  5.47it/s]\u001b[A\n",
      " 24%|███████████████████▉                                                               | 6/25 [00:01<00:02,  7.49it/s]\u001b[A\n",
      " 28%|███████████████████████▏                                                           | 7/25 [00:01<00:02,  7.18it/s]\u001b[A\n",
      " 32%|██████████████████████████▌                                                        | 8/25 [00:01<00:02,  7.02it/s]\u001b[A\n",
      " 36%|█████████████████████████████▉                                                     | 9/25 [00:01<00:02,  7.18it/s]\u001b[A\n",
      " 44%|████████████████████████████████████                                              | 11/25 [00:01<00:01,  8.73it/s]\u001b[A\n",
      " 48%|███████████████████████████████████████▎                                          | 12/25 [00:01<00:01,  8.12it/s]\u001b[A\n",
      " 52%|██████████████████████████████████████████▋                                       | 13/25 [00:01<00:01,  7.75it/s]\u001b[A\n",
      " 56%|█████████████████████████████████████████████▉                                    | 14/25 [00:02<00:01,  7.70it/s]\u001b[A\n",
      " 64%|████████████████████████████████████████████████████▍                             | 16/25 [00:02<00:00,  9.40it/s]\u001b[A\n",
      " 68%|███████████████████████████████████████████████████████▊                          | 17/25 [00:02<00:00,  8.95it/s]\u001b[A\n",
      " 72%|███████████████████████████████████████████████████████████                       | 18/25 [00:02<00:00,  8.55it/s]\u001b[A\n",
      "100%|██████████████████████████████████████████████████████████████████████████████████| 25/25 [00:02<00:00,  9.32it/s]\u001b[A\n",
      " 94%|███████████████████████████████████████████████████████████████████████████▏    | 188/200 [39:00<02:04, 10.41s/it]"
     ]
    },
    {
     "name": "stdout",
     "output_type": "stream",
     "text": [
      "Working on : \\\\merfish9.ucsd.edu\\volume1\\20230908_D106Luo\\DNA\\AnalysisDeconvolveCG\\SegmentationDAPI_CG\\Conv_zscan__1114--H1_B1_2_3--CYTO_segm.npz\n"
     ]
    },
    {
     "name": "stderr",
     "output_type": "stream",
     "text": [
      "\n",
      "  0%|                                                                                           | 0/25 [00:00<?, ?it/s]\u001b[A\n",
      "  4%|███▎                                                                               | 1/25 [00:00<00:08,  2.67it/s]\u001b[A\n",
      "  8%|██████▋                                                                            | 2/25 [00:00<00:06,  3.36it/s]\u001b[A\n",
      " 12%|█████████▉                                                                         | 3/25 [00:00<00:06,  3.22it/s]\u001b[A\n",
      " 16%|█████████████▎                                                                     | 4/25 [00:01<00:05,  4.12it/s]\u001b[A\n",
      " 24%|███████████████████▉                                                               | 6/25 [00:01<00:03,  6.13it/s]\u001b[A\n",
      " 28%|███████████████████████▏                                                           | 7/25 [00:01<00:02,  6.19it/s]\u001b[A\n",
      " 32%|██████████████████████████▌                                                        | 8/25 [00:01<00:02,  6.24it/s]\u001b[A\n",
      " 36%|█████████████████████████████▉                                                     | 9/25 [00:01<00:02,  6.50it/s]\u001b[A\n",
      " 44%|████████████████████████████████████                                              | 11/25 [00:01<00:01,  8.13it/s]\u001b[A\n",
      " 48%|███████████████████████████████████████▎                                          | 12/25 [00:02<00:01,  7.73it/s]\u001b[A\n",
      " 52%|██████████████████████████████████████████▋                                       | 13/25 [00:02<00:01,  7.42it/s]\u001b[A\n",
      " 56%|█████████████████████████████████████████████▉                                    | 14/25 [00:02<00:01,  7.45it/s]\u001b[A\n",
      " 64%|████████████████████████████████████████████████████▍                             | 16/25 [00:02<00:00,  9.18it/s]\u001b[A\n",
      " 68%|███████████████████████████████████████████████████████▊                          | 17/25 [00:02<00:00,  8.80it/s]\u001b[A\n",
      " 72%|███████████████████████████████████████████████████████████                       | 18/25 [00:02<00:00,  8.45it/s]\u001b[A\n",
      "100%|██████████████████████████████████████████████████████████████████████████████████| 25/25 [00:02<00:00,  8.47it/s]\u001b[A\n",
      " 94%|███████████████████████████████████████████████████████████████████████████▌    | 189/200 [39:11<01:56, 10.57s/it]"
     ]
    },
    {
     "name": "stdout",
     "output_type": "stream",
     "text": [
      "Working on : \\\\merfish9.ucsd.edu\\volume1\\20230908_D106Luo\\DNA\\AnalysisDeconvolveCG\\SegmentationDAPI_CG\\Conv_zscan__1115--H1_B1_2_3--CYTO_segm.npz\n"
     ]
    },
    {
     "name": "stderr",
     "output_type": "stream",
     "text": [
      "\n",
      "  0%|                                                                                           | 0/25 [00:00<?, ?it/s]\u001b[A\n",
      "  4%|███▎                                                                               | 1/25 [00:00<00:11,  2.11it/s]\u001b[A\n",
      "  8%|██████▋                                                                            | 2/25 [00:00<00:06,  3.40it/s]\u001b[A\n",
      " 12%|█████████▉                                                                         | 3/25 [00:00<00:05,  3.90it/s]\u001b[A\n",
      " 16%|█████████████▎                                                                     | 4/25 [00:01<00:04,  4.64it/s]\u001b[A\n",
      " 24%|███████████████████▉                                                               | 6/25 [00:01<00:02,  6.73it/s]\u001b[A\n",
      " 28%|███████████████████████▏                                                           | 7/25 [00:01<00:02,  6.65it/s]\u001b[A\n",
      " 32%|██████████████████████████▌                                                        | 8/25 [00:01<00:02,  6.58it/s]\u001b[A\n",
      " 36%|█████████████████████████████▉                                                     | 9/25 [00:01<00:02,  6.79it/s]\u001b[A\n",
      " 44%|████████████████████████████████████                                              | 11/25 [00:01<00:01,  8.39it/s]\u001b[A\n",
      " 48%|███████████████████████████████████████▎                                          | 12/25 [00:01<00:01,  7.87it/s]\u001b[A\n",
      " 52%|██████████████████████████████████████████▋                                       | 13/25 [00:02<00:01,  7.57it/s]\u001b[A\n",
      " 56%|█████████████████████████████████████████████▉                                    | 14/25 [00:02<00:01,  7.57it/s]\u001b[A\n",
      " 64%|████████████████████████████████████████████████████▍                             | 16/25 [00:02<00:00,  9.34it/s]\u001b[A\n",
      " 68%|███████████████████████████████████████████████████████▊                          | 17/25 [00:02<00:00,  8.89it/s]\u001b[A\n",
      " 72%|███████████████████████████████████████████████████████████                       | 18/25 [00:02<00:00,  8.59it/s]\u001b[A\n",
      "100%|██████████████████████████████████████████████████████████████████████████████████| 25/25 [00:02<00:00,  8.76it/s]\u001b[A\n",
      " 95%|████████████████████████████████████████████████████████████████████████████    | 190/200 [39:22<01:46, 10.63s/it]"
     ]
    },
    {
     "name": "stdout",
     "output_type": "stream",
     "text": [
      "Working on : \\\\merfish9.ucsd.edu\\volume1\\20230908_D106Luo\\DNA\\AnalysisDeconvolveCG\\SegmentationDAPI_CG\\Conv_zscan__1116--H1_B1_2_3--CYTO_segm.npz\n"
     ]
    },
    {
     "name": "stderr",
     "output_type": "stream",
     "text": [
      "\n",
      "  0%|                                                                                           | 0/25 [00:00<?, ?it/s]\u001b[A\n",
      "  4%|███▎                                                                               | 1/25 [00:00<00:09,  2.62it/s]\u001b[A\n",
      "  8%|██████▋                                                                            | 2/25 [00:00<00:06,  3.77it/s]\u001b[A\n",
      " 12%|█████████▉                                                                         | 3/25 [00:00<00:06,  3.16it/s]\u001b[A\n",
      " 16%|█████████████▎                                                                     | 4/25 [00:01<00:05,  4.15it/s]\u001b[A\n",
      " 24%|███████████████████▉                                                               | 6/25 [00:01<00:03,  6.29it/s]\u001b[A\n",
      " 28%|███████████████████████▏                                                           | 7/25 [00:01<00:02,  6.39it/s]\u001b[A\n",
      " 32%|██████████████████████████▌                                                        | 8/25 [00:01<00:02,  6.48it/s]\u001b[A\n",
      " 36%|█████████████████████████████▉                                                     | 9/25 [00:01<00:02,  6.75it/s]\u001b[A\n",
      " 44%|████████████████████████████████████                                              | 11/25 [00:01<00:01,  8.18it/s]\u001b[A\n",
      " 48%|███████████████████████████████████████▎                                          | 12/25 [00:02<00:01,  7.71it/s]\u001b[A\n",
      " 52%|██████████████████████████████████████████▋                                       | 13/25 [00:02<00:01,  7.42it/s]\u001b[A\n",
      " 56%|█████████████████████████████████████████████▉                                    | 14/25 [00:02<00:01,  7.46it/s]\u001b[A\n",
      " 64%|████████████████████████████████████████████████████▍                             | 16/25 [00:02<00:00,  9.21it/s]\u001b[A\n",
      " 68%|███████████████████████████████████████████████████████▊                          | 17/25 [00:02<00:00,  8.78it/s]\u001b[A\n",
      " 72%|███████████████████████████████████████████████████████████                       | 18/25 [00:02<00:00,  8.46it/s]\u001b[A\n",
      "100%|██████████████████████████████████████████████████████████████████████████████████| 25/25 [00:02<00:00,  8.58it/s]\u001b[A\n",
      " 96%|████████████████████████████████████████████████████████████████████████████▍   | 191/200 [39:33<01:36, 10.74s/it]"
     ]
    },
    {
     "name": "stdout",
     "output_type": "stream",
     "text": [
      "Working on : \\\\merfish9.ucsd.edu\\volume1\\20230908_D106Luo\\DNA\\AnalysisDeconvolveCG\\SegmentationDAPI_CG\\Conv_zscan__1117--H1_B1_2_3--CYTO_segm.npz\n"
     ]
    },
    {
     "name": "stderr",
     "output_type": "stream",
     "text": [
      "\n",
      "  0%|                                                                                           | 0/25 [00:00<?, ?it/s]\u001b[A\n",
      "  4%|███▎                                                                               | 1/25 [00:00<00:11,  2.01it/s]\u001b[A\n",
      "  8%|██████▋                                                                            | 2/25 [00:00<00:07,  3.07it/s]\u001b[A\n",
      " 12%|█████████▉                                                                         | 3/25 [00:00<00:05,  4.06it/s]\u001b[A\n",
      " 16%|█████████████▎                                                                     | 4/25 [00:00<00:04,  4.94it/s]\u001b[A\n",
      " 24%|███████████████████▉                                                               | 6/25 [00:01<00:02,  7.01it/s]\u001b[A\n",
      " 28%|███████████████████████▏                                                           | 7/25 [00:01<00:02,  6.81it/s]\u001b[A\n",
      " 32%|██████████████████████████▌                                                        | 8/25 [00:01<00:02,  6.69it/s]\u001b[A\n",
      " 36%|█████████████████████████████▉                                                     | 9/25 [00:01<00:02,  6.83it/s]\u001b[A\n",
      " 44%|████████████████████████████████████                                              | 11/25 [00:01<00:01,  8.39it/s]\u001b[A\n",
      " 48%|███████████████████████████████████████▎                                          | 12/25 [00:01<00:01,  7.89it/s]\u001b[A\n",
      " 52%|██████████████████████████████████████████▋                                       | 13/25 [00:02<00:01,  7.56it/s]\u001b[A\n",
      " 56%|█████████████████████████████████████████████▉                                    | 14/25 [00:02<00:01,  7.58it/s]\u001b[A\n",
      " 64%|████████████████████████████████████████████████████▍                             | 16/25 [00:02<00:00,  9.26it/s]\u001b[A\n",
      " 68%|███████████████████████████████████████████████████████▊                          | 17/25 [00:02<00:00,  8.85it/s]\u001b[A\n",
      " 72%|███████████████████████████████████████████████████████████                       | 18/25 [00:02<00:00,  8.51it/s]\u001b[A\n",
      "100%|██████████████████████████████████████████████████████████████████████████████████| 25/25 [00:02<00:00,  8.76it/s]\u001b[A\n",
      " 96%|████████████████████████████████████████████████████████████████████████████▊   | 192/200 [39:45<01:27, 10.95s/it]"
     ]
    },
    {
     "name": "stdout",
     "output_type": "stream",
     "text": [
      "Working on : \\\\merfish9.ucsd.edu\\volume1\\20230908_D106Luo\\DNA\\AnalysisDeconvolveCG\\SegmentationDAPI_CG\\Conv_zscan__1118--H1_B1_2_3--CYTO_segm.npz\n"
     ]
    },
    {
     "name": "stderr",
     "output_type": "stream",
     "text": [
      "\n",
      "  0%|                                                                                           | 0/25 [00:00<?, ?it/s]\u001b[A\n",
      "  4%|███▎                                                                               | 1/25 [00:00<00:08,  2.93it/s]\u001b[A\n",
      "  8%|██████▋                                                                            | 2/25 [00:00<00:05,  4.15it/s]\u001b[A\n",
      " 12%|█████████▉                                                                         | 3/25 [00:00<00:04,  4.84it/s]\u001b[A\n",
      " 16%|█████████████▎                                                                     | 4/25 [00:00<00:03,  5.50it/s]\u001b[A\n",
      " 24%|███████████████████▉                                                               | 6/25 [00:01<00:02,  7.52it/s]\u001b[A\n",
      " 28%|███████████████████████▏                                                           | 7/25 [00:01<00:02,  7.17it/s]\u001b[A\n",
      " 32%|██████████████████████████▌                                                        | 8/25 [00:01<00:02,  6.95it/s]\u001b[A\n",
      " 36%|█████████████████████████████▉                                                     | 9/25 [00:01<00:02,  7.07it/s]\u001b[A\n",
      " 44%|████████████████████████████████████                                              | 11/25 [00:01<00:01,  8.62it/s]\u001b[A\n",
      " 48%|███████████████████████████████████████▎                                          | 12/25 [00:01<00:01,  8.08it/s]\u001b[A\n",
      " 52%|██████████████████████████████████████████▋                                       | 13/25 [00:01<00:01,  7.66it/s]\u001b[A\n",
      " 56%|█████████████████████████████████████████████▉                                    | 14/25 [00:02<00:01,  7.58it/s]\u001b[A\n",
      " 64%|████████████████████████████████████████████████████▍                             | 16/25 [00:02<00:00,  9.35it/s]\u001b[A\n",
      " 68%|███████████████████████████████████████████████████████▊                          | 17/25 [00:02<00:00,  8.87it/s]\u001b[A\n",
      " 72%|███████████████████████████████████████████████████████████                       | 18/25 [00:02<00:00,  8.34it/s]\u001b[A\n",
      "100%|██████████████████████████████████████████████████████████████████████████████████| 25/25 [00:02<00:00,  9.31it/s]\u001b[A\n",
      " 96%|█████████████████████████████████████████████████████████████████████████████▏  | 193/200 [39:56<01:17, 11.09s/it]"
     ]
    },
    {
     "name": "stdout",
     "output_type": "stream",
     "text": [
      "Working on : \\\\merfish9.ucsd.edu\\volume1\\20230908_D106Luo\\DNA\\AnalysisDeconvolveCG\\SegmentationDAPI_CG\\Conv_zscan__1119--H1_B1_2_3--CYTO_segm.npz\n"
     ]
    },
    {
     "name": "stderr",
     "output_type": "stream",
     "text": [
      "\n",
      "  0%|                                                                                           | 0/25 [00:00<?, ?it/s]\u001b[A\n",
      "  4%|███▎                                                                               | 1/25 [00:00<00:11,  2.04it/s]\u001b[A\n",
      "  8%|██████▋                                                                            | 2/25 [00:00<00:06,  3.46it/s]\u001b[A\n",
      " 12%|█████████▉                                                                         | 3/25 [00:00<00:06,  3.66it/s]\u001b[A\n",
      " 16%|█████████████▎                                                                     | 4/25 [00:01<00:04,  4.54it/s]\u001b[A\n",
      " 24%|███████████████████▉                                                               | 6/25 [00:01<00:02,  6.64it/s]\u001b[A\n",
      " 28%|███████████████████████▏                                                           | 7/25 [00:01<00:02,  6.55it/s]\u001b[A\n",
      " 32%|██████████████████████████▌                                                        | 8/25 [00:01<00:02,  6.49it/s]\u001b[A\n",
      " 36%|█████████████████████████████▉                                                     | 9/25 [00:01<00:02,  6.73it/s]\u001b[A\n",
      " 44%|████████████████████████████████████                                              | 11/25 [00:01<00:01,  8.32it/s]\u001b[A\n",
      " 48%|███████████████████████████████████████▎                                          | 12/25 [00:01<00:01,  7.86it/s]\u001b[A\n",
      " 52%|██████████████████████████████████████████▋                                       | 13/25 [00:02<00:01,  7.49it/s]\u001b[A\n",
      " 56%|█████████████████████████████████████████████▉                                    | 14/25 [00:02<00:01,  7.51it/s]\u001b[A\n",
      " 64%|████████████████████████████████████████████████████▍                             | 16/25 [00:02<00:00,  9.25it/s]\u001b[A\n",
      " 68%|███████████████████████████████████████████████████████▊                          | 17/25 [00:02<00:00,  8.81it/s]\u001b[A\n",
      " 72%|███████████████████████████████████████████████████████████                       | 18/25 [00:02<00:00,  8.46it/s]\u001b[A\n",
      "100%|██████████████████████████████████████████████████████████████████████████████████| 25/25 [00:02<00:00,  8.64it/s]\u001b[A\n",
      " 97%|█████████████████████████████████████████████████████████████████████████████▌  | 194/200 [40:08<01:07, 11.32s/it]"
     ]
    },
    {
     "name": "stdout",
     "output_type": "stream",
     "text": [
      "Working on : \\\\merfish9.ucsd.edu\\volume1\\20230908_D106Luo\\DNA\\AnalysisDeconvolveCG\\SegmentationDAPI_CG\\Conv_zscan__1120--H1_B1_2_3--CYTO_segm.npz\n"
     ]
    },
    {
     "name": "stderr",
     "output_type": "stream",
     "text": [
      "\n",
      "  0%|                                                                                           | 0/25 [00:00<?, ?it/s]\u001b[A\n",
      "  4%|███▎                                                                               | 1/25 [00:00<00:10,  2.19it/s]\u001b[A\n",
      "  8%|██████▋                                                                            | 2/25 [00:00<00:06,  3.46it/s]\u001b[A\n",
      " 12%|█████████▉                                                                         | 3/25 [00:00<00:04,  4.42it/s]\u001b[A\n",
      " 16%|█████████████▎                                                                     | 4/25 [00:00<00:04,  5.18it/s]\u001b[A\n",
      " 24%|███████████████████▉                                                               | 6/25 [00:01<00:02,  7.27it/s]\u001b[A\n",
      " 28%|███████████████████████▏                                                           | 7/25 [00:01<00:02,  7.00it/s]\u001b[A\n",
      " 32%|██████████████████████████▌                                                        | 8/25 [00:01<00:02,  6.83it/s]\u001b[A\n",
      " 36%|█████████████████████████████▉                                                     | 9/25 [00:01<00:02,  6.95it/s]\u001b[A\n",
      " 44%|████████████████████████████████████                                              | 11/25 [00:01<00:01,  8.52it/s]\u001b[A\n",
      " 48%|███████████████████████████████████████▎                                          | 12/25 [00:01<00:01,  8.01it/s]\u001b[A\n",
      " 52%|██████████████████████████████████████████▋                                       | 13/25 [00:02<00:01,  7.61it/s]\u001b[A\n",
      " 56%|█████████████████████████████████████████████▉                                    | 14/25 [00:02<00:01,  7.60it/s]\u001b[A\n",
      " 64%|████████████████████████████████████████████████████▍                             | 16/25 [00:02<00:00,  9.37it/s]\u001b[A\n",
      " 68%|███████████████████████████████████████████████████████▊                          | 17/25 [00:02<00:00,  8.89it/s]\u001b[A\n",
      " 72%|███████████████████████████████████████████████████████████                       | 18/25 [00:02<00:00,  8.54it/s]\u001b[A\n",
      "100%|██████████████████████████████████████████████████████████████████████████████████| 25/25 [00:02<00:00,  9.01it/s]\u001b[A\n",
      " 98%|██████████████████████████████████████████████████████████████████████████████  | 195/200 [40:18<00:54, 11.00s/it]"
     ]
    },
    {
     "name": "stdout",
     "output_type": "stream",
     "text": [
      "Working on : \\\\merfish9.ucsd.edu\\volume1\\20230908_D106Luo\\DNA\\AnalysisDeconvolveCG\\SegmentationDAPI_CG\\Conv_zscan__1121--H1_B1_2_3--CYTO_segm.npz\n"
     ]
    },
    {
     "name": "stderr",
     "output_type": "stream",
     "text": [
      "\n",
      "  0%|                                                                                           | 0/25 [00:00<?, ?it/s]\u001b[A\n",
      "  4%|███▎                                                                               | 1/25 [00:00<00:12,  1.98it/s]\u001b[A\n",
      "  8%|██████▋                                                                            | 2/25 [00:00<00:06,  3.44it/s]\u001b[A\n",
      " 12%|█████████▉                                                                         | 3/25 [00:01<00:07,  2.84it/s]\u001b[A\n",
      " 16%|█████████████▎                                                                     | 4/25 [00:01<00:05,  3.52it/s]\u001b[A\n",
      " 24%|███████████████████▉                                                               | 6/25 [00:01<00:03,  5.22it/s]\u001b[A\n",
      " 28%|███████████████████████▏                                                           | 7/25 [00:01<00:03,  5.46it/s]\u001b[A\n",
      " 32%|██████████████████████████▌                                                        | 8/25 [00:01<00:03,  5.67it/s]\u001b[A\n",
      " 36%|█████████████████████████████▉                                                     | 9/25 [00:01<00:02,  6.00it/s]\u001b[A\n",
      " 44%|████████████████████████████████████                                              | 11/25 [00:02<00:01,  7.60it/s]\u001b[A\n",
      " 48%|███████████████████████████████████████▎                                          | 12/25 [00:02<00:01,  7.33it/s]\u001b[A\n",
      " 52%|██████████████████████████████████████████▋                                       | 13/25 [00:02<00:01,  7.18it/s]\u001b[A\n",
      " 56%|█████████████████████████████████████████████▉                                    | 14/25 [00:02<00:01,  7.25it/s]\u001b[A\n",
      " 64%|████████████████████████████████████████████████████▍                             | 16/25 [00:02<00:00,  9.01it/s]\u001b[A\n",
      " 68%|███████████████████████████████████████████████████████▊                          | 17/25 [00:02<00:00,  8.64it/s]\u001b[A\n",
      " 72%|███████████████████████████████████████████████████████████                       | 18/25 [00:02<00:00,  8.36it/s]\u001b[A\n",
      "100%|██████████████████████████████████████████████████████████████████████████████████| 25/25 [00:03<00:00,  7.88it/s]\u001b[A\n",
      " 98%|██████████████████████████████████████████████████████████████████████████████▍ | 196/200 [40:29<00:43, 10.99s/it]"
     ]
    },
    {
     "name": "stdout",
     "output_type": "stream",
     "text": [
      "Working on : \\\\merfish9.ucsd.edu\\volume1\\20230908_D106Luo\\DNA\\AnalysisDeconvolveCG\\SegmentationDAPI_CG\\Conv_zscan__1122--H1_B1_2_3--CYTO_segm.npz\n"
     ]
    },
    {
     "name": "stderr",
     "output_type": "stream",
     "text": [
      "\n",
      "  0%|                                                                                           | 0/25 [00:00<?, ?it/s]\u001b[A\n",
      "  4%|███▎                                                                               | 1/25 [00:00<00:12,  1.97it/s]\u001b[A\n",
      "  8%|██████▋                                                                            | 2/25 [00:00<00:06,  3.29it/s]\u001b[A\n",
      " 12%|█████████▉                                                                         | 3/25 [00:01<00:07,  2.82it/s]\u001b[A\n",
      " 16%|█████████████▎                                                                     | 4/25 [00:01<00:05,  3.55it/s]\u001b[A\n",
      " 24%|███████████████████▉                                                               | 6/25 [00:01<00:03,  5.22it/s]\u001b[A\n",
      " 28%|███████████████████████▏                                                           | 7/25 [00:01<00:03,  5.52it/s]\u001b[A\n",
      " 32%|██████████████████████████▌                                                        | 8/25 [00:01<00:02,  5.83it/s]\u001b[A\n",
      " 36%|█████████████████████████████▉                                                     | 9/25 [00:01<00:02,  6.25it/s]\u001b[A\n",
      " 44%|████████████████████████████████████                                              | 11/25 [00:02<00:01,  7.92it/s]\u001b[A\n",
      " 48%|███████████████████████████████████████▎                                          | 12/25 [00:02<00:01,  7.54it/s]\u001b[A\n",
      " 52%|██████████████████████████████████████████▋                                       | 13/25 [00:02<00:01,  7.30it/s]\u001b[A\n",
      " 56%|█████████████████████████████████████████████▉                                    | 14/25 [00:02<00:01,  7.36it/s]\u001b[A\n",
      " 64%|████████████████████████████████████████████████████▍                             | 16/25 [00:02<00:00,  9.10it/s]\u001b[A\n",
      " 68%|███████████████████████████████████████████████████████▊                          | 17/25 [00:02<00:00,  8.70it/s]\u001b[A\n",
      " 72%|███████████████████████████████████████████████████████████                       | 18/25 [00:02<00:00,  8.39it/s]\u001b[A\n",
      "100%|██████████████████████████████████████████████████████████████████████████████████| 25/25 [00:03<00:00,  7.95it/s]\u001b[A\n",
      " 98%|██████████████████████████████████████████████████████████████████████████████▊ | 197/200 [40:40<00:32, 10.94s/it]"
     ]
    },
    {
     "name": "stdout",
     "output_type": "stream",
     "text": [
      "Working on : \\\\merfish9.ucsd.edu\\volume1\\20230908_D106Luo\\DNA\\AnalysisDeconvolveCG\\SegmentationDAPI_CG\\Conv_zscan__1123--H1_B1_2_3--CYTO_segm.npz\n"
     ]
    },
    {
     "name": "stderr",
     "output_type": "stream",
     "text": [
      "\n",
      "  0%|                                                                                           | 0/25 [00:00<?, ?it/s]\u001b[A\n",
      "  4%|███▎                                                                               | 1/25 [00:00<00:11,  2.09it/s]\u001b[A\n",
      "  8%|██████▋                                                                            | 2/25 [00:00<00:07,  3.19it/s]\u001b[A\n",
      " 12%|█████████▉                                                                         | 3/25 [00:00<00:06,  3.64it/s]\u001b[A\n",
      " 16%|█████████████▎                                                                     | 4/25 [00:01<00:04,  4.42it/s]\u001b[A\n",
      " 24%|███████████████████▉                                                               | 6/25 [00:01<00:02,  6.40it/s]\u001b[A\n",
      " 28%|███████████████████████▏                                                           | 7/25 [00:01<00:02,  6.36it/s]\u001b[A\n",
      " 32%|██████████████████████████▌                                                        | 8/25 [00:01<00:02,  6.36it/s]\u001b[A\n",
      " 36%|█████████████████████████████▉                                                     | 9/25 [00:01<00:02,  6.58it/s]\u001b[A\n",
      " 44%|████████████████████████████████████                                              | 11/25 [00:01<00:01,  8.20it/s]\u001b[A\n",
      " 48%|███████████████████████████████████████▎                                          | 12/25 [00:02<00:01,  7.78it/s]\u001b[A\n",
      " 52%|██████████████████████████████████████████▋                                       | 13/25 [00:02<00:01,  7.47it/s]\u001b[A\n",
      " 56%|█████████████████████████████████████████████▉                                    | 14/25 [00:02<00:01,  7.48it/s]\u001b[A\n",
      " 64%|████████████████████████████████████████████████████▍                             | 16/25 [00:02<00:00,  9.19it/s]\u001b[A\n",
      " 68%|███████████████████████████████████████████████████████▊                          | 17/25 [00:02<00:00,  8.75it/s]\u001b[A\n",
      " 72%|███████████████████████████████████████████████████████████                       | 18/25 [00:02<00:00,  8.44it/s]\u001b[A\n",
      "100%|██████████████████████████████████████████████████████████████████████████████████| 25/25 [00:02<00:00,  8.51it/s]\u001b[A\n",
      " 99%|███████████████████████████████████████████████████████████████████████████████▏| 198/200 [40:50<00:21, 10.83s/it]"
     ]
    },
    {
     "name": "stdout",
     "output_type": "stream",
     "text": [
      "Working on : \\\\merfish9.ucsd.edu\\volume1\\20230908_D106Luo\\DNA\\AnalysisDeconvolveCG\\SegmentationDAPI_CG\\Conv_zscan__1124--H1_B1_2_3--CYTO_segm.npz\n"
     ]
    },
    {
     "name": "stderr",
     "output_type": "stream",
     "text": [
      "\n",
      "  0%|                                                                                           | 0/25 [00:00<?, ?it/s]\u001b[A\n",
      "  4%|███▎                                                                               | 1/25 [00:00<00:12,  1.97it/s]\u001b[A\n",
      "  8%|██████▋                                                                            | 2/25 [00:00<00:07,  2.88it/s]\u001b[A\n",
      " 12%|█████████▉                                                                         | 3/25 [00:00<00:05,  3.70it/s]\u001b[A\n",
      " 16%|█████████████▎                                                                     | 4/25 [00:01<00:04,  4.55it/s]\u001b[A\n",
      " 24%|███████████████████▉                                                               | 6/25 [00:01<00:02,  6.63it/s]\u001b[A\n",
      " 28%|███████████████████████▏                                                           | 7/25 [00:01<00:02,  6.56it/s]\u001b[A\n",
      " 32%|██████████████████████████▌                                                        | 8/25 [00:01<00:02,  6.55it/s]\u001b[A\n",
      " 36%|█████████████████████████████▉                                                     | 9/25 [00:01<00:02,  6.76it/s]\u001b[A\n",
      " 44%|████████████████████████████████████                                              | 11/25 [00:01<00:01,  8.35it/s]\u001b[A\n",
      " 48%|███████████████████████████████████████▎                                          | 12/25 [00:02<00:01,  7.88it/s]\u001b[A\n",
      " 52%|██████████████████████████████████████████▋                                       | 13/25 [00:02<00:01,  7.56it/s]\u001b[A\n",
      " 56%|█████████████████████████████████████████████▉                                    | 14/25 [00:02<00:01,  7.53it/s]\u001b[A\n",
      " 64%|████████████████████████████████████████████████████▍                             | 16/25 [00:02<00:00,  9.25it/s]\u001b[A\n",
      " 68%|███████████████████████████████████████████████████████▊                          | 17/25 [00:02<00:00,  8.79it/s]\u001b[A\n",
      " 72%|███████████████████████████████████████████████████████████                       | 18/25 [00:02<00:00,  8.48it/s]\u001b[A\n",
      "100%|██████████████████████████████████████████████████████████████████████████████████| 25/25 [00:02<00:00,  8.57it/s]\u001b[A\n",
      "100%|███████████████████████████████████████████████████████████████████████████████▌| 199/200 [41:01<00:10, 10.86s/it]"
     ]
    },
    {
     "name": "stdout",
     "output_type": "stream",
     "text": [
      "Working on : \\\\merfish9.ucsd.edu\\volume1\\20230908_D106Luo\\DNA\\AnalysisDeconvolveCG\\SegmentationDAPI_CG\\Conv_zscan__1125--H1_B1_2_3--CYTO_segm.npz\n"
     ]
    },
    {
     "name": "stderr",
     "output_type": "stream",
     "text": [
      "\n",
      "  0%|                                                                                           | 0/25 [00:00<?, ?it/s]\u001b[A\n",
      "  4%|███▎                                                                               | 1/25 [00:00<00:08,  2.89it/s]\u001b[A\n",
      "  8%|██████▋                                                                            | 2/25 [00:00<00:08,  2.87it/s]\u001b[A\n",
      " 12%|█████████▉                                                                         | 3/25 [00:00<00:05,  3.92it/s]\u001b[A\n",
      " 16%|█████████████▎                                                                     | 4/25 [00:00<00:04,  4.82it/s]\u001b[A\n",
      " 24%|███████████████████▉                                                               | 6/25 [00:01<00:02,  7.05it/s]\u001b[A\n",
      " 28%|███████████████████████▏                                                           | 7/25 [00:01<00:02,  6.96it/s]\u001b[A\n",
      " 32%|██████████████████████████▌                                                        | 8/25 [00:01<00:02,  6.91it/s]\u001b[A\n",
      " 36%|█████████████████████████████▉                                                     | 9/25 [00:01<00:02,  6.96it/s]\u001b[A\n",
      " 44%|████████████████████████████████████                                              | 11/25 [00:01<00:01,  8.47it/s]\u001b[A\n",
      " 48%|███████████████████████████████████████▎                                          | 12/25 [00:01<00:01,  7.96it/s]\u001b[A\n",
      " 52%|██████████████████████████████████████████▋                                       | 13/25 [00:02<00:01,  7.61it/s]\u001b[A\n",
      " 56%|█████████████████████████████████████████████▉                                    | 14/25 [00:02<00:01,  7.63it/s]\u001b[A\n",
      " 64%|████████████████████████████████████████████████████▍                             | 16/25 [00:02<00:00,  9.36it/s]\u001b[A\n",
      " 68%|███████████████████████████████████████████████████████▊                          | 17/25 [00:02<00:00,  8.90it/s]\u001b[A\n",
      " 72%|███████████████████████████████████████████████████████████                       | 18/25 [00:02<00:00,  8.56it/s]\u001b[A\n",
      "100%|██████████████████████████████████████████████████████████████████████████████████| 25/25 [00:02<00:00,  8.91it/s]\u001b[A\n",
      "100%|████████████████████████████████████████████████████████████████████████████████| 200/200 [41:12<00:00, 12.36s/it]\n"
     ]
    }
   ],
   "source": [
    "for file in tqdm(files):\n",
    "    masks,tensor,cast = compute_mask(\"nuclei\",file,segm_folder,cell_diameter=20,\n",
    "                                 deconvolve=True,\n",
    "                                 save=True,\n",
    "                                 max_image = 11000,snorm=0,redo=True)"
   ]
  },
  {
   "cell_type": "code",
   "execution_count": null,
   "id": "0eb60f08-fa86-4eae-88d2-69bbf74e608a",
   "metadata": {},
   "outputs": [],
   "source": [
    "mask = r'\\\\merfish8\\merfish8v2\\20230801D104Myh67d80\\DNA_singleCy5\\AnalysisDeconvolveCG\\SegmentationDAPI_CG\\Conv_zscan__001--H1_R1--CYTO_segm.npz'\n",
    "\n",
    "image = read_im(r\"\\\\merfish8\\merfish8v2\\20230801D104Myh67d80\\DNA_singleCy5\\\")"
   ]
  }
 ],
 "metadata": {
  "kernelspec": {
   "display_name": "Python 3 (ipykernel)",
   "language": "python",
   "name": "python3"
  },
  "language_info": {
   "codemirror_mode": {
    "name": "ipython",
    "version": 3
   },
   "file_extension": ".py",
   "mimetype": "text/x-python",
   "name": "python",
   "nbconvert_exporter": "python",
   "pygments_lexer": "ipython3",
   "version": "3.10.9"
  }
 },
 "nbformat": 4,
 "nbformat_minor": 5
}
